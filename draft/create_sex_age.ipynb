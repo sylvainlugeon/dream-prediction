{
 "cells": [
  {
   "cell_type": "code",
   "execution_count": 91,
   "metadata": {},
   "outputs": [],
   "source": [
    "import numpy as np\n",
    "import pandas as pd\n",
    "from datetime import datetime"
   ]
  },
  {
   "cell_type": "code",
   "execution_count": 101,
   "metadata": {},
   "outputs": [],
   "source": [
    "#df_age = pd.read_csv('/mlodata1/lugeon/dream_data/chuv/metadata/subject_sex_age.csv')\n",
    "df_age = pd.read_csv('/mlodata1/lugeon/dream_data/chuv/metadata/raw/sex_age.csv')\n",
    "df_age.replace(np.nan, None, inplace=True)"
   ]
  },
  {
   "cell_type": "code",
   "execution_count": 102,
   "metadata": {},
   "outputs": [
    {
     "data": {
      "text/plain": [
       "True"
      ]
     },
     "execution_count": 102,
     "metadata": {},
     "output_type": "execute_result"
    }
   ],
   "source": [
    "'H035' in df_age.ID.values"
   ]
  },
  {
   "cell_type": "code",
   "execution_count": 103,
   "metadata": {},
   "outputs": [],
   "source": [
    "df_age['measure_date'] = df_age.apply(lambda row:\n",
    "    row['E1 date'] if row['E1 date'] else row['BL date'], axis=1)"
   ]
  },
  {
   "cell_type": "code",
   "execution_count": 105,
   "metadata": {},
   "outputs": [
    {
     "name": "stderr",
     "output_type": "stream",
     "text": [
      "/tmp/ipykernel_1136796/1746132909.py:1: FutureWarning: In a future version of pandas all arguments of DataFrame.dropna will be keyword-only.\n",
      "  df_age = df_age[['ID', 'Sex', 'DOB', 'measure_date']].dropna(0)\n"
     ]
    }
   ],
   "source": [
    "df_age = df_age[['ID', 'Sex', 'DOB', 'measure_date']].dropna(0)"
   ]
  },
  {
   "cell_type": "code",
   "execution_count": 107,
   "metadata": {},
   "outputs": [],
   "source": [
    "df_age['age'] = df_age.apply(lambda row: \n",
    "   (datetime.strptime(row.measure_date, \"%d.%m.%Y\") - \n",
    "    datetime.strptime(row.DOB, \"%d.%m.%Y\")).days // 365, axis=1)"
   ]
  },
  {
   "cell_type": "code",
   "execution_count": 108,
   "metadata": {},
   "outputs": [],
   "source": [
    "def encode_age(age):\n",
    "    if age < 25:\n",
    "        return '100'\n",
    "    elif 25 <= age < 35:\n",
    "        return '010'\n",
    "    else:\n",
    "        return '001'\n",
    "    \n",
    "def encode_sex(sex):\n",
    "    return '0' if sex == 'm' else '1'"
   ]
  },
  {
   "cell_type": "code",
   "execution_count": 109,
   "metadata": {},
   "outputs": [],
   "source": [
    "df_age['age_encoding'] = df_age.age.apply(encode_age)\n",
    "df_age['sex_encoding'] = df_age.Sex.apply(encode_sex)\n",
    "df_age.rename(columns={'ID': 'id'}, inplace=True)"
   ]
  },
  {
   "cell_type": "code",
   "execution_count": 111,
   "metadata": {},
   "outputs": [
    {
     "data": {
      "text/plain": [
       "001    17\n",
       "010    16\n",
       "100    15\n",
       "Name: age_encoding, dtype: int64"
      ]
     },
     "execution_count": 111,
     "metadata": {},
     "output_type": "execute_result"
    }
   ],
   "source": [
    "df_age.age_encoding.value_counts()"
   ]
  },
  {
   "cell_type": "code",
   "execution_count": 90,
   "metadata": {},
   "outputs": [],
   "source": [
    "df_age[['id', 'age_encoding', 'sex_encoding']].to_csv(\n",
    "    '/mlodata1/lugeon/dream_data/chuv/metadata/sex_age_encoding.txt', \n",
    "    sep=' ', index=None)"
   ]
  },
  {
   "cell_type": "code",
   "execution_count": 77,
   "metadata": {},
   "outputs": [],
   "source": [
    "df = pd.read_csv('/mlodata1/lugeon/dream_data/chuv/metadata/sex_age_encoding.txt', \n",
    "            sep=' ', \n",
    "            dtype='str')"
   ]
  },
  {
   "cell_type": "code",
   "execution_count": 51,
   "metadata": {},
   "outputs": [],
   "source": [
    "map = dict(\n",
    "    zip(df.id, \n",
    "        df.apply(lambda row: [int(d) for d in row.age_encoding + row.sex_encoding], \n",
    "                 axis=1)))"
   ]
  },
  {
   "cell_type": "code",
   "execution_count": 52,
   "metadata": {},
   "outputs": [
    {
     "data": {
      "text/plain": [
       "{'H009': [0, 1, 0, 1],\n",
       " 'H019': [0, 1, 0, 0],\n",
       " 'H021': [0, 0, 1, 1],\n",
       " 'H025': [0, 1, 0, 1],\n",
       " 'H026': [0, 0, 1, 1],\n",
       " 'H033': [0, 0, 1, 1],\n",
       " 'H050': [0, 0, 1, 1],\n",
       " 'H051': [0, 0, 1, 0],\n",
       " 'H054': [0, 0, 1, 1],\n",
       " 'H055': [0, 0, 1, 0],\n",
       " 'H057': [0, 1, 0, 1],\n",
       " 'H060': [0, 0, 1, 1],\n",
       " 'H061': [0, 0, 1, 0],\n",
       " 'H068': [0, 0, 1, 1],\n",
       " 'H071': [0, 1, 0, 1],\n",
       " 'H073': [0, 0, 1, 1],\n",
       " 'H077': [1, 0, 0, 0],\n",
       " 'H079': [1, 0, 0, 1],\n",
       " 'H081': [1, 0, 0, 1],\n",
       " 'H087': [1, 0, 0, 0],\n",
       " 'H088': [1, 0, 0, 1],\n",
       " 'H089': [0, 0, 1, 1],\n",
       " 'H090': [1, 0, 0, 1],\n",
       " 'H099': [0, 1, 0, 1],\n",
       " 'H100': [0, 1, 0, 1],\n",
       " 'H114': [1, 0, 0, 0],\n",
       " 'H115': [0, 1, 0, 1]}"
      ]
     },
     "execution_count": 52,
     "metadata": {},
     "output_type": "execute_result"
    }
   ],
   "source": [
    "map"
   ]
  },
  {
   "cell_type": "code",
   "execution_count": null,
   "metadata": {},
   "outputs": [],
   "source": []
  }
 ],
 "metadata": {
  "interpreter": {
   "hash": "57ad056f9be674611c76ca607e64a7703485de37232689043f87b90b104ba991"
  },
  "kernelspec": {
   "display_name": "Python 3.8.13 ('eeg-dream-conda': conda)",
   "language": "python",
   "name": "python3"
  },
  "language_info": {
   "codemirror_mode": {
    "name": "ipython",
    "version": 3
   },
   "file_extension": ".py",
   "mimetype": "text/x-python",
   "name": "python",
   "nbconvert_exporter": "python",
   "pygments_lexer": "ipython3",
   "version": "3.8.13"
  },
  "orig_nbformat": 4
 },
 "nbformat": 4,
 "nbformat_minor": 2
}
