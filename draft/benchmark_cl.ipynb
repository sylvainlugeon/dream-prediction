{
 "cells": [
  {
   "cell_type": "code",
   "execution_count": 1,
   "metadata": {},
   "outputs": [
    {
     "name": "stderr",
     "output_type": "stream",
     "text": [
      "/home/lugeon/miniconda3/envs/eeg-dream-conda/lib/python3.8/site-packages/tqdm/auto.py:22: TqdmWarning: IProgress not found. Please update jupyter and ipywidgets. See https://ipywidgets.readthedocs.io/en/stable/user_install.html\n",
      "  from .autonotebook import tqdm as notebook_tqdm\n"
     ]
    }
   ],
   "source": [
    "import numpy as np \n",
    "import torch\n",
    "from torch import nn\n",
    "import torch.nn.functional as F\n",
    "import sys\n",
    "import time\n",
    "\n",
    "sys.path.append('/home/lugeon/eeg_project/scripts')\n",
    "from training.representation.cl_transforms import identity, reverse, add_gaussian_noise, permute_frames, jitter_channels\n",
    "from training.representation.losses import ContrastiveLoss"
   ]
  },
  {
   "cell_type": "code",
   "execution_count": 13,
   "metadata": {},
   "outputs": [],
   "source": [
    "def permute_frames2(array: np.array):\n",
    "    \"\"\" Permute the frames independently for each video.\n",
    "\n",
    "    Args:\n",
    "        array (np.array): Input array of shape (batch_size x n_frames x n_channels x img_dim x img_dim)\n",
    "    \"\"\"\n",
    "    print(array.shape)\n",
    "    batch_size, n_frames, _, _, _ = array.shape\n",
    "\n",
    "    # one permutation per video\n",
    "    ix = np.arange(batch_size * n_frames).reshape(batch_size, n_frames)\n",
    "    np.apply_along_axis(np.random.shuffle, 1, ix)\n",
    "    print(ix.shape)\n",
    "    \n",
    "    # reshape and permute frames\n",
    "    per = array.reshape(batch_size * n_frames, -1)[ix.flatten()]\n",
    "    print(per.shape)\n",
    "    \n",
    "    return per.reshape(array.shape)"
   ]
  },
  {
   "cell_type": "code",
   "execution_count": 16,
   "metadata": {},
   "outputs": [
    {
     "name": "stdout",
     "output_type": "stream",
     "text": [
      "Identity transform time: 0.000 seconds\n",
      "Reverse transform time: 0.077 seconds\n",
      "Add noise transform time: 0.660 seconds\n",
      "(512, 10, 5, 32, 32)\n",
      "(512, 10)\n",
      "(5120, 5120)\n",
      "Permute transform time: 0.077 seconds\n",
      "Jitter channels transform time: 0.099 seconds\n",
      "Compute loss time: 0.068 seconds\n"
     ]
    }
   ],
   "source": [
    "loss = ContrastiveLoss()\n",
    "\n",
    "batch_size = 512\n",
    "n_frames = 10\n",
    "n_channels = 5\n",
    "image_dim = 32\n",
    "encoding_size = 1024\n",
    "\n",
    "video = np.random.rand(batch_size, n_frames, n_channels, image_dim, image_dim)\n",
    "\n",
    "t = time.time()\n",
    "identity(video)\n",
    "print(f'Identity transform time: {time.time() - t:.3f} seconds')\n",
    "\n",
    "t = time.time()\n",
    "reverse(video)\n",
    "print(f'Reverse transform time: {time.time() - t:.3f} seconds')\n",
    "\n",
    "t = time.time()\n",
    "add_gaussian_noise(video)\n",
    "print(f'Add noise transform time: {time.time() - t:.3f} seconds')\n",
    "\n",
    "t = time.time()\n",
    "permute_frames2(video)\n",
    "print(f'Permute transform time: {time.time() - t:.3f} seconds')\n",
    "\n",
    "t = time.time()\n",
    "jitter_channels(video)\n",
    "print(f'Jitter channels transform time: {time.time() - t:.3f} seconds')\n",
    "\n",
    "first = torch.rand(batch_size, encoding_size)\n",
    "second = torch.rand(batch_size, encoding_size)\n",
    "\n",
    "t = time.time()\n",
    "loss(first, second)\n",
    "print(f'Compute loss time: {time.time() - t:.3f} seconds')"
   ]
  },
  {
   "cell_type": "code",
   "execution_count": 3,
   "metadata": {},
   "outputs": [
    {
     "name": "stdout",
     "output_type": "stream",
     "text": [
      "(256, 20, 5, 32, 32)\n",
      "(256, 20)\n",
      "(5120, 5120)\n"
     ]
    },
    {
     "data": {
      "text/plain": [
       "(256, 20, 5, 32, 32)"
      ]
     },
     "execution_count": 3,
     "metadata": {},
     "output_type": "execute_result"
    }
   ],
   "source": [
    "permute_frames(video).shape"
   ]
  },
  {
   "cell_type": "code",
   "execution_count": null,
   "metadata": {},
   "outputs": [],
   "source": []
  }
 ],
 "metadata": {
  "interpreter": {
   "hash": "57ad056f9be674611c76ca607e64a7703485de37232689043f87b90b104ba991"
  },
  "kernelspec": {
   "display_name": "Python 3.8.13 ('eeg-dream-conda': conda)",
   "language": "python",
   "name": "python3"
  },
  "language_info": {
   "codemirror_mode": {
    "name": "ipython",
    "version": 3
   },
   "file_extension": ".py",
   "mimetype": "text/x-python",
   "name": "python",
   "nbconvert_exporter": "python",
   "pygments_lexer": "ipython3",
   "version": "3.8.13"
  },
  "orig_nbformat": 4
 },
 "nbformat": 4,
 "nbformat_minor": 2
}
