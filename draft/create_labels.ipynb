{
 "cells": [
  {
   "cell_type": "code",
   "execution_count": 1,
   "metadata": {},
   "outputs": [],
   "source": [
    "import pandas as pd\n",
    "import numpy as np\n",
    "import glob"
   ]
  },
  {
   "cell_type": "markdown",
   "metadata": {},
   "source": [
    "## Baseline"
   ]
  },
  {
   "cell_type": "code",
   "execution_count": 36,
   "metadata": {},
   "outputs": [
    {
     "name": "stdout",
     "output_type": "stream",
     "text": [
      "Number of trials: 161\n"
     ]
    }
   ],
   "source": [
    "n_trials = 0\n",
    "file_names = []\n",
    "\n",
    "root_dir = '/mlodata1/lugeon/dream_data/chuv/baseline'\n",
    "\n",
    "for file in glob.glob(f'{root_dir}/*/*.mat'):\n",
    "    file_names.append(file.split('/')[-1].split('.')[0])\n",
    "    n_trials += 1\n",
    "    \n",
    "print(f'Number of trials: {n_trials}')"
   ]
  },
  {
   "cell_type": "code",
   "execution_count": 37,
   "metadata": {},
   "outputs": [],
   "source": [
    "df_files = pd.DataFrame({'file_name': file_names})\n",
    "df_files['label'] = -1"
   ]
  },
  {
   "cell_type": "code",
   "execution_count": 38,
   "metadata": {},
   "outputs": [
    {
     "data": {
      "text/html": [
       "<div>\n",
       "<style scoped>\n",
       "    .dataframe tbody tr th:only-of-type {\n",
       "        vertical-align: middle;\n",
       "    }\n",
       "\n",
       "    .dataframe tbody tr th {\n",
       "        vertical-align: top;\n",
       "    }\n",
       "\n",
       "    .dataframe thead th {\n",
       "        text-align: right;\n",
       "    }\n",
       "</style>\n",
       "<table border=\"1\" class=\"dataframe\">\n",
       "  <thead>\n",
       "    <tr style=\"text-align: right;\">\n",
       "      <th></th>\n",
       "      <th>file_name</th>\n",
       "      <th>label</th>\n",
       "    </tr>\n",
       "  </thead>\n",
       "  <tbody>\n",
       "    <tr>\n",
       "      <th>0</th>\n",
       "      <td>NREM_c5</td>\n",
       "      <td>-1</td>\n",
       "    </tr>\n",
       "    <tr>\n",
       "      <th>1</th>\n",
       "      <td>NREM_c6</td>\n",
       "      <td>-1</td>\n",
       "    </tr>\n",
       "    <tr>\n",
       "      <th>2</th>\n",
       "      <td>REM_c1</td>\n",
       "      <td>-1</td>\n",
       "    </tr>\n",
       "    <tr>\n",
       "      <th>3</th>\n",
       "      <td>REM_c2</td>\n",
       "      <td>-1</td>\n",
       "    </tr>\n",
       "    <tr>\n",
       "      <th>4</th>\n",
       "      <td>REM_c3</td>\n",
       "      <td>-1</td>\n",
       "    </tr>\n",
       "  </tbody>\n",
       "</table>\n",
       "</div>"
      ],
      "text/plain": [
       "  file_name  label\n",
       "0   NREM_c5     -1\n",
       "1   NREM_c6     -1\n",
       "2    REM_c1     -1\n",
       "3    REM_c2     -1\n",
       "4    REM_c3     -1"
      ]
     },
     "execution_count": 38,
     "metadata": {},
     "output_type": "execute_result"
    }
   ],
   "source": [
    "df_files.head()"
   ]
  },
  {
   "cell_type": "code",
   "execution_count": 39,
   "metadata": {},
   "outputs": [],
   "source": [
    "df_files.to_csv(\n",
    "    '/mlodata1/lugeon/dream_data/chuv/metadata/baseline_labels_map.txt', \n",
    "    header=None, \n",
    "    sep=' ', \n",
    "    index=None,\n",
    "    float_format='%.0f')"
   ]
  },
  {
   "cell_type": "markdown",
   "metadata": {},
   "source": [
    "## Healthy"
   ]
  },
  {
   "cell_type": "code",
   "execution_count": 23,
   "metadata": {},
   "outputs": [
    {
     "name": "stdout",
     "output_type": "stream",
     "text": [
      "Number of H trials: 525\n"
     ]
    }
   ],
   "source": [
    "n_trials = 0\n",
    "file_names = []\n",
    "\n",
    "root_dir = '/mlodata1/lugeon/dream_data/chuv/raw'\n",
    "\n",
    "\n",
    "for file in glob.glob(f'{root_dir}/*/H*.mat'):\n",
    "    file_names.append(file.split('/')[-1])\n",
    "    n_trials += 1\n",
    "\n",
    "print(f'Number of H trials: {n_trials}')"
   ]
  },
  {
   "cell_type": "code",
   "execution_count": 25,
   "metadata": {},
   "outputs": [
    {
     "data": {
      "text/html": [
       "<div>\n",
       "<style scoped>\n",
       "    .dataframe tbody tr th:only-of-type {\n",
       "        vertical-align: middle;\n",
       "    }\n",
       "\n",
       "    .dataframe tbody tr th {\n",
       "        vertical-align: top;\n",
       "    }\n",
       "\n",
       "    .dataframe thead th {\n",
       "        text-align: right;\n",
       "    }\n",
       "</style>\n",
       "<table border=\"1\" class=\"dataframe\">\n",
       "  <thead>\n",
       "    <tr style=\"text-align: right;\">\n",
       "      <th></th>\n",
       "      <th>file_name</th>\n",
       "      <th>exp_name</th>\n",
       "      <th>split</th>\n",
       "      <th>patient</th>\n",
       "      <th>experiment</th>\n",
       "      <th>sleep_stage</th>\n",
       "      <th>trial</th>\n",
       "    </tr>\n",
       "  </thead>\n",
       "  <tbody>\n",
       "    <tr>\n",
       "      <th>0</th>\n",
       "      <td>H009_E1_NREM_S03.mat</td>\n",
       "      <td>H009_E1_NREM_S03</td>\n",
       "      <td>[H009, E1, NREM, S03]</td>\n",
       "      <td>H009</td>\n",
       "      <td>E1</td>\n",
       "      <td>NREM</td>\n",
       "      <td>S03</td>\n",
       "    </tr>\n",
       "    <tr>\n",
       "      <th>1</th>\n",
       "      <td>H009_E1_NREM_S05.mat</td>\n",
       "      <td>H009_E1_NREM_S05</td>\n",
       "      <td>[H009, E1, NREM, S05]</td>\n",
       "      <td>H009</td>\n",
       "      <td>E1</td>\n",
       "      <td>NREM</td>\n",
       "      <td>S05</td>\n",
       "    </tr>\n",
       "    <tr>\n",
       "      <th>2</th>\n",
       "      <td>H009_E1_NREM_S06.mat</td>\n",
       "      <td>H009_E1_NREM_S06</td>\n",
       "      <td>[H009, E1, NREM, S06]</td>\n",
       "      <td>H009</td>\n",
       "      <td>E1</td>\n",
       "      <td>NREM</td>\n",
       "      <td>S06</td>\n",
       "    </tr>\n",
       "    <tr>\n",
       "      <th>3</th>\n",
       "      <td>H009_E1_NREM_S07.mat</td>\n",
       "      <td>H009_E1_NREM_S07</td>\n",
       "      <td>[H009, E1, NREM, S07]</td>\n",
       "      <td>H009</td>\n",
       "      <td>E1</td>\n",
       "      <td>NREM</td>\n",
       "      <td>S07</td>\n",
       "    </tr>\n",
       "    <tr>\n",
       "      <th>4</th>\n",
       "      <td>H009_E1_NREM_S09.mat</td>\n",
       "      <td>H009_E1_NREM_S09</td>\n",
       "      <td>[H009, E1, NREM, S09]</td>\n",
       "      <td>H009</td>\n",
       "      <td>E1</td>\n",
       "      <td>NREM</td>\n",
       "      <td>S09</td>\n",
       "    </tr>\n",
       "  </tbody>\n",
       "</table>\n",
       "</div>"
      ],
      "text/plain": [
       "              file_name          exp_name                  split patient  \\\n",
       "0  H009_E1_NREM_S03.mat  H009_E1_NREM_S03  [H009, E1, NREM, S03]    H009   \n",
       "1  H009_E1_NREM_S05.mat  H009_E1_NREM_S05  [H009, E1, NREM, S05]    H009   \n",
       "2  H009_E1_NREM_S06.mat  H009_E1_NREM_S06  [H009, E1, NREM, S06]    H009   \n",
       "3  H009_E1_NREM_S07.mat  H009_E1_NREM_S07  [H009, E1, NREM, S07]    H009   \n",
       "4  H009_E1_NREM_S09.mat  H009_E1_NREM_S09  [H009, E1, NREM, S09]    H009   \n",
       "\n",
       "  experiment sleep_stage trial  \n",
       "0         E1        NREM   S03  \n",
       "1         E1        NREM   S05  \n",
       "2         E1        NREM   S06  \n",
       "3         E1        NREM   S07  \n",
       "4         E1        NREM   S09  "
      ]
     },
     "execution_count": 25,
     "metadata": {},
     "output_type": "execute_result"
    }
   ],
   "source": [
    "df_files = pd.DataFrame({'file_name': file_names})\n",
    "\n",
    "df_files['exp_name'] = df_files.file_name.apply(lambda f: f.split('.')[0])\n",
    "\n",
    "df_files['split'] = df_files.exp_name.apply(lambda f: f.split('_'))\n",
    "df_files['patient'] = df_files.split.apply(lambda l: l[0])\n",
    "df_files['experiment'] = df_files.split.apply(lambda l: l[1])\n",
    "df_files['sleep_stage'] = df_files.split.apply(lambda l: l[2])\n",
    "df_files['trial'] = df_files.split.apply(lambda l: l[3])\n",
    "\n",
    "df_files.split.apply(len).value_counts()\n",
    "\n",
    "df_files.head()"
   ]
  },
  {
   "cell_type": "code",
   "execution_count": 26,
   "metadata": {},
   "outputs": [
    {
     "data": {
      "text/html": [
       "<div>\n",
       "<style scoped>\n",
       "    .dataframe tbody tr th:only-of-type {\n",
       "        vertical-align: middle;\n",
       "    }\n",
       "\n",
       "    .dataframe tbody tr th {\n",
       "        vertical-align: top;\n",
       "    }\n",
       "\n",
       "    .dataframe thead th {\n",
       "        text-align: right;\n",
       "    }\n",
       "</style>\n",
       "<table border=\"1\" class=\"dataframe\">\n",
       "  <thead>\n",
       "    <tr style=\"text-align: right;\">\n",
       "      <th></th>\n",
       "      <th>Subject_id</th>\n",
       "      <th>Quest_number</th>\n",
       "      <th>Stage</th>\n",
       "      <th>CE</th>\n",
       "    </tr>\n",
       "  </thead>\n",
       "  <tbody>\n",
       "    <tr>\n",
       "      <th>0</th>\n",
       "      <td>H009_E1</td>\n",
       "      <td>1.0</td>\n",
       "      <td>3.0</td>\n",
       "      <td>1.0</td>\n",
       "    </tr>\n",
       "    <tr>\n",
       "      <th>1</th>\n",
       "      <td>H009_E1</td>\n",
       "      <td>2.0</td>\n",
       "      <td>3.0</td>\n",
       "      <td>1.0</td>\n",
       "    </tr>\n",
       "    <tr>\n",
       "      <th>2</th>\n",
       "      <td>H009_E1</td>\n",
       "      <td>3.0</td>\n",
       "      <td>3.0</td>\n",
       "      <td>1.0</td>\n",
       "    </tr>\n",
       "    <tr>\n",
       "      <th>3</th>\n",
       "      <td>H009_E1</td>\n",
       "      <td>4.0</td>\n",
       "      <td>4.0</td>\n",
       "      <td>2.0</td>\n",
       "    </tr>\n",
       "    <tr>\n",
       "      <th>4</th>\n",
       "      <td>H009_E1</td>\n",
       "      <td>5.0</td>\n",
       "      <td>2.0</td>\n",
       "      <td>1.0</td>\n",
       "    </tr>\n",
       "  </tbody>\n",
       "</table>\n",
       "</div>"
      ],
      "text/plain": [
       "  Subject_id  Quest_number  Stage   CE\n",
       "0    H009_E1           1.0    3.0  1.0\n",
       "1    H009_E1           2.0    3.0  1.0\n",
       "2    H009_E1           3.0    3.0  1.0\n",
       "3    H009_E1           4.0    4.0  2.0\n",
       "4    H009_E1           5.0    2.0  1.0"
      ]
     },
     "execution_count": 26,
     "metadata": {},
     "output_type": "execute_result"
    }
   ],
   "source": [
    "\n",
    "df_labels = pd.read_excel(\n",
    "    '/mlodata1/yuecetue/eeg-dreams/YuceturkThesis2020/Data/Dataset_info/Dream_labels.xlsx'\n",
    ")\n",
    "df_labels.head()"
   ]
  },
  {
   "cell_type": "code",
   "execution_count": 27,
   "metadata": {},
   "outputs": [
    {
     "data": {
      "text/html": [
       "<div>\n",
       "<style scoped>\n",
       "    .dataframe tbody tr th:only-of-type {\n",
       "        vertical-align: middle;\n",
       "    }\n",
       "\n",
       "    .dataframe tbody tr th {\n",
       "        vertical-align: top;\n",
       "    }\n",
       "\n",
       "    .dataframe thead th {\n",
       "        text-align: right;\n",
       "    }\n",
       "</style>\n",
       "<table border=\"1\" class=\"dataframe\">\n",
       "  <thead>\n",
       "    <tr style=\"text-align: right;\">\n",
       "      <th></th>\n",
       "      <th>file_name</th>\n",
       "      <th>exp_name</th>\n",
       "      <th>split</th>\n",
       "      <th>patient</th>\n",
       "      <th>experiment</th>\n",
       "      <th>sleep_stage</th>\n",
       "      <th>trial</th>\n",
       "      <th>Quest_number</th>\n",
       "      <th>Subject_id</th>\n",
       "      <th>Stage</th>\n",
       "      <th>CE</th>\n",
       "    </tr>\n",
       "  </thead>\n",
       "  <tbody>\n",
       "    <tr>\n",
       "      <th>0</th>\n",
       "      <td>H009_E1_NREM_S03.mat</td>\n",
       "      <td>H009_E1_NREM_S03</td>\n",
       "      <td>[H009, E1, NREM, S03]</td>\n",
       "      <td>H009</td>\n",
       "      <td>E1</td>\n",
       "      <td>NREM</td>\n",
       "      <td>S03</td>\n",
       "      <td>3.0</td>\n",
       "      <td>H009_E1</td>\n",
       "      <td>3.0</td>\n",
       "      <td>1.0</td>\n",
       "    </tr>\n",
       "    <tr>\n",
       "      <th>1</th>\n",
       "      <td>H009_E1_NREM_S05.mat</td>\n",
       "      <td>H009_E1_NREM_S05</td>\n",
       "      <td>[H009, E1, NREM, S05]</td>\n",
       "      <td>H009</td>\n",
       "      <td>E1</td>\n",
       "      <td>NREM</td>\n",
       "      <td>S05</td>\n",
       "      <td>5.0</td>\n",
       "      <td>H009_E1</td>\n",
       "      <td>2.0</td>\n",
       "      <td>1.0</td>\n",
       "    </tr>\n",
       "    <tr>\n",
       "      <th>2</th>\n",
       "      <td>H009_E1_NREM_S06.mat</td>\n",
       "      <td>H009_E1_NREM_S06</td>\n",
       "      <td>[H009, E1, NREM, S06]</td>\n",
       "      <td>H009</td>\n",
       "      <td>E1</td>\n",
       "      <td>NREM</td>\n",
       "      <td>S06</td>\n",
       "      <td>6.0</td>\n",
       "      <td>H009_E1</td>\n",
       "      <td>2.0</td>\n",
       "      <td>1.0</td>\n",
       "    </tr>\n",
       "    <tr>\n",
       "      <th>3</th>\n",
       "      <td>H009_E1_NREM_S07.mat</td>\n",
       "      <td>H009_E1_NREM_S07</td>\n",
       "      <td>[H009, E1, NREM, S07]</td>\n",
       "      <td>H009</td>\n",
       "      <td>E1</td>\n",
       "      <td>NREM</td>\n",
       "      <td>S07</td>\n",
       "      <td>7.0</td>\n",
       "      <td>H009_E1</td>\n",
       "      <td>2.0</td>\n",
       "      <td>1.0</td>\n",
       "    </tr>\n",
       "    <tr>\n",
       "      <th>4</th>\n",
       "      <td>H009_E1_NREM_S09.mat</td>\n",
       "      <td>H009_E1_NREM_S09</td>\n",
       "      <td>[H009, E1, NREM, S09]</td>\n",
       "      <td>H009</td>\n",
       "      <td>E1</td>\n",
       "      <td>NREM</td>\n",
       "      <td>S09</td>\n",
       "      <td>9.0</td>\n",
       "      <td>H009_E1</td>\n",
       "      <td>2.0</td>\n",
       "      <td>2.0</td>\n",
       "    </tr>\n",
       "  </tbody>\n",
       "</table>\n",
       "</div>"
      ],
      "text/plain": [
       "              file_name          exp_name                  split patient  \\\n",
       "0  H009_E1_NREM_S03.mat  H009_E1_NREM_S03  [H009, E1, NREM, S03]    H009   \n",
       "1  H009_E1_NREM_S05.mat  H009_E1_NREM_S05  [H009, E1, NREM, S05]    H009   \n",
       "2  H009_E1_NREM_S06.mat  H009_E1_NREM_S06  [H009, E1, NREM, S06]    H009   \n",
       "3  H009_E1_NREM_S07.mat  H009_E1_NREM_S07  [H009, E1, NREM, S07]    H009   \n",
       "4  H009_E1_NREM_S09.mat  H009_E1_NREM_S09  [H009, E1, NREM, S09]    H009   \n",
       "\n",
       "  experiment sleep_stage trial  Quest_number Subject_id  Stage   CE  \n",
       "0         E1        NREM   S03           3.0    H009_E1    3.0  1.0  \n",
       "1         E1        NREM   S05           5.0    H009_E1    2.0  1.0  \n",
       "2         E1        NREM   S06           6.0    H009_E1    2.0  1.0  \n",
       "3         E1        NREM   S07           7.0    H009_E1    2.0  1.0  \n",
       "4         E1        NREM   S09           9.0    H009_E1    2.0  2.0  "
      ]
     },
     "execution_count": 27,
     "metadata": {},
     "output_type": "execute_result"
    }
   ],
   "source": [
    "df_files['Quest_number'] = df_files.trial.apply(lambda t: int(t[1:]))\n",
    "df_files['Subject_id'] = df_files.apply(lambda row: f'{row.patient}_{row.experiment}', axis=1)\n",
    "\n",
    "df_merged = df_files.merge(df_labels, how='outer')\n",
    "df_merged.head()"
   ]
  },
  {
   "cell_type": "code",
   "execution_count": 28,
   "metadata": {},
   "outputs": [
    {
     "data": {
      "text/plain": [
       "(523, 11)"
      ]
     },
     "execution_count": 28,
     "metadata": {},
     "output_type": "execute_result"
    }
   ],
   "source": [
    "df_valid = df_merged[(df_merged.CE.notna()) & df_merged.file_name.notna()]\n",
    "\n",
    "# Number of trials with both data + label\n",
    "df_valid.shape"
   ]
  },
  {
   "cell_type": "code",
   "execution_count": 40,
   "metadata": {},
   "outputs": [],
   "source": [
    "df_valid[['exp_name', 'CE']].to_csv(\n",
    "    '/mlodata1/lugeon/dream_data/chuv/metadata/healthy_labels_map.txt', \n",
    "    header=None, \n",
    "    sep=' ', \n",
    "    index=None,\n",
    "    float_format='%.0f')"
   ]
  },
  {
   "cell_type": "code",
   "execution_count": 41,
   "metadata": {},
   "outputs": [],
   "source": [
    "n_samples = 10\n",
    "\n",
    "df_valid[['exp_name', 'CE']].sample(n_samples, random_state=42).to_csv(\n",
    "    '/mlodata1/lugeon/dream_data/chuv/metadata/healthy_labels_map_small.txt', \n",
    "    header=None, \n",
    "    sep=' ', \n",
    "    index=None,\n",
    "    float_format='%.0f')"
   ]
  },
  {
   "cell_type": "code",
   "execution_count": null,
   "metadata": {},
   "outputs": [],
   "source": []
  }
 ],
 "metadata": {
  "interpreter": {
   "hash": "6100b6c99c5621257705de38fb74c53fd7ef2fb2e79519b4643de6f5bcde3ed3"
  },
  "kernelspec": {
   "display_name": "Python 3.8.0 (conda)",
   "language": "python",
   "name": "python3"
  },
  "language_info": {
   "codemirror_mode": {
    "name": "ipython",
    "version": 3
   },
   "file_extension": ".py",
   "mimetype": "text/x-python",
   "name": "python",
   "nbconvert_exporter": "python",
   "pygments_lexer": "ipython3",
   "version": "3.8.13"
  },
  "orig_nbformat": 4
 },
 "nbformat": 4,
 "nbformat_minor": 2
}
