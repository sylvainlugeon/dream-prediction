{
 "cells": [
  {
   "cell_type": "code",
   "execution_count": 1,
   "metadata": {},
   "outputs": [
    {
     "name": "stderr",
     "output_type": "stream",
     "text": [
      "/mlodata1/lugeon/miniconda3/envs/eeg-dream-conda/lib/python3.8/site-packages/tqdm/auto.py:22: TqdmWarning: IProgress not found. Please update jupyter and ipywidgets. See https://ipywidgets.readthedocs.io/en/stable/user_install.html\n",
      "  from .autonotebook import tqdm as notebook_tqdm\n"
     ]
    }
   ],
   "source": [
    "sys.path.append('/mlodata1/lugeon/eeg_project/scripts')\n",
    "from training.representation import models"
   ]
  },
  {
   "cell_type": "code",
   "execution_count": 2,
   "metadata": {},
   "outputs": [
    {
     "data": {
      "text/plain": [
       "training.representation.models.adverserial.AdverserialAutoencoder"
      ]
     },
     "execution_count": 2,
     "metadata": {},
     "output_type": "execute_result"
    }
   ],
   "source": [
    "models.AdverserialAutoencoder"
   ]
  },
  {
   "cell_type": "code",
   "execution_count": 1,
   "metadata": {},
   "outputs": [
    {
     "name": "stderr",
     "output_type": "stream",
     "text": [
      "/mlodata1/lugeon/miniconda3/envs/eeg-dream-conda/lib/python3.8/site-packages/tqdm/auto.py:22: TqdmWarning: IProgress not found. Please update jupyter and ipywidgets. See https://ipywidgets.readthedocs.io/en/stable/user_install.html\n",
      "  from .autonotebook import tqdm as notebook_tqdm\n"
     ]
    },
    {
     "ename": "ImportError",
     "evalue": "cannot import name 'AdverserialAutoencoder' from 'training.representation.models.adverserial' (/mlodata1/lugeon/eeg_project/scripts/training/representation/models/adverserial.py)",
     "output_type": "error",
     "traceback": [
      "\u001b[0;31m---------------------------------------------------------------------------\u001b[0m",
      "\u001b[0;31mImportError\u001b[0m                               Traceback (most recent call last)",
      "\u001b[1;32m/mlodata1/lugeon/eeg_project/draft/draft.ipynb Cell 1'\u001b[0m in \u001b[0;36m<cell line: 16>\u001b[0;34m()\u001b[0m\n\u001b[1;32m     <a href='vscode-notebook-cell://ssh-remote%2Bk8s.iccluster.epfl.ch-95/mlodata1/lugeon/eeg_project/draft/draft.ipynb#ch0000000vscode-remote?line=12'>13</a>\u001b[0m sys\u001b[39m.\u001b[39mpath\u001b[39m.\u001b[39mappend(\u001b[39m'\u001b[39m\u001b[39m/mlodata1/lugeon/eeg_project/scripts\u001b[39m\u001b[39m'\u001b[39m)\n\u001b[1;32m     <a href='vscode-notebook-cell://ssh-remote%2Bk8s.iccluster.epfl.ch-95/mlodata1/lugeon/eeg_project/draft/draft.ipynb#ch0000000vscode-remote?line=14'>15</a>\u001b[0m \u001b[39mfrom\u001b[39;00m \u001b[39mtraining\u001b[39;00m\u001b[39m.\u001b[39;00m\u001b[39mdataset\u001b[39;00m\u001b[39m.\u001b[39;00m\u001b[39mdatasets\u001b[39;00m \u001b[39mimport\u001b[39;00m EEG_Image_Batch_Dataset\n\u001b[0;32m---> <a href='vscode-notebook-cell://ssh-remote%2Bk8s.iccluster.epfl.ch-95/mlodata1/lugeon/eeg_project/draft/draft.ipynb#ch0000000vscode-remote?line=15'>16</a>\u001b[0m \u001b[39mfrom\u001b[39;00m \u001b[39mtraining\u001b[39;00m\u001b[39m.\u001b[39;00m\u001b[39mrepresentation\u001b[39;00m \u001b[39mimport\u001b[39;00m models, losses\n",
      "File \u001b[0;32m/mlodata1/lugeon/eeg_project/scripts/training/representation/models/__init__.py:15\u001b[0m, in \u001b[0;36m<module>\u001b[0;34m\u001b[0m\n\u001b[1;32m      7\u001b[0m \u001b[39mfrom\u001b[39;00m \u001b[39m.\u001b[39;00m\u001b[39mtransformers\u001b[39;00m \u001b[39mimport\u001b[39;00m (\n\u001b[1;32m      8\u001b[0m     MaskedAutoEncoder\n\u001b[1;32m      9\u001b[0m )\n\u001b[1;32m     11\u001b[0m \u001b[39mfrom\u001b[39;00m \u001b[39m.\u001b[39;00m\u001b[39mfine_tuner\u001b[39;00m \u001b[39mimport\u001b[39;00m (\n\u001b[1;32m     12\u001b[0m     FineTuner\n\u001b[1;32m     13\u001b[0m )\n\u001b[0;32m---> 15\u001b[0m \u001b[39mfrom\u001b[39;00m \u001b[39m.\u001b[39;00m\u001b[39madverserial\u001b[39;00m \u001b[39mimport\u001b[39;00m (\n\u001b[1;32m     16\u001b[0m     AdverserialAutoencoder\n\u001b[1;32m     17\u001b[0m )\n",
      "\u001b[0;31mImportError\u001b[0m: cannot import name 'AdverserialAutoencoder' from 'training.representation.models.adverserial' (/mlodata1/lugeon/eeg_project/scripts/training/representation/models/adverserial.py)"
     ]
    }
   ],
   "source": [
    "import pandas as pd\n",
    "import numpy as np\n",
    "import h5py\n",
    "import sys \n",
    "import glob\n",
    "\n",
    "import matplotlib.pyplot as plt\n",
    "import scipy.io as sio\n",
    "from torch.utils.data import DataLoader\n",
    "import torch\n",
    "\n",
    "sys.path.append('/home/lugeon/eeg_project/scripts')\n",
    "sys.path.append('/mlodata1/lugeon/eeg_project/scripts')\n",
    "\n",
    "from training.dataset.datasets import EEG_Image_Batch_Dataset\n",
    "from training.representation import models, losses"
   ]
  },
  {
   "cell_type": "code",
   "execution_count": 2,
   "metadata": {},
   "outputs": [],
   "source": [
    "def change_val(d):\n",
    "    for k, v in d.items():\n",
    "        if isinstance(v, dict):\n",
    "            change_val(v)\n",
    "        else:\n",
    "            if k == 'weight':\n",
    "                d[k] = v + 1\n",
    "\n",
    "\n",
    "myd = {'r': 2, 'weight': 0, 'r2': {'weight': 10}}\n",
    "change_val(myd)"
   ]
  },
  {
   "cell_type": "code",
   "execution_count": 3,
   "metadata": {},
   "outputs": [
    {
     "data": {
      "text/plain": [
       "{'r': 2, 'weight': 1, 'r2': {'weight': 11}}"
      ]
     },
     "execution_count": 3,
     "metadata": {},
     "output_type": "execute_result"
    }
   ],
   "source": [
    "myd"
   ]
  },
  {
   "cell_type": "code",
   "execution_count": 19,
   "metadata": {},
   "outputs": [],
   "source": [
    "dataset = EEG_Image_Batch_Dataset(\n",
    "    hdf5_file='/mlodata1/lugeon/dream_data/processed/madison_20sec/dataset_nrem_binary.h5',\n",
    "    window=10,\n",
    "    slide=5,\n",
    "    shuffle=True,\n",
    "    batch_size=None,\n",
    "    transforms=None,\n",
    "    return_metadata=True,\n",
    "    output_type='label',\n",
    "    next_frame_index=None,\n",
    "    exclude_subject=[0, 1])\n",
    "\n",
    "loader = DataLoader(dataset, batch_size=None, shuffle=False)"
   ]
  },
  {
   "cell_type": "code",
   "execution_count": 20,
   "metadata": {},
   "outputs": [],
   "source": [
    "loader = DataLoader(dataset, batch_size=None, shuffle=False)\n",
    "\n",
    "labels = []\n",
    "subject_ids = []\n",
    "trial_ids = []\n",
    "frame_ids = []\n",
    "sleep_stages = []\n",
    "elapsed_times = []\n",
    "\n",
    "for input_batch, output_batch, metadata in loader:\n",
    "    \n",
    "    sid_batch, tid_batch, fid_batch, ss_batch, et_batch = metadata\n",
    "                        \n",
    "    labels.append(output_batch.cpu().detach().numpy())\n",
    "    subject_ids.append(sid_batch.cpu().detach().numpy())\n",
    "    trial_ids.append(tid_batch.cpu().detach().numpy())\n",
    "    frame_ids.append(fid_batch.cpu().detach().numpy())\n",
    "    sleep_stages.append(ss_batch.cpu().detach().numpy())\n",
    "    elapsed_times.append(et_batch.cpu().detach().numpy())\n",
    "    \n",
    "    del input_batch\n",
    "    del output_batch\n",
    "    del sid_batch\n",
    "    del ss_batch\n",
    "        \n",
    "y = np.concatenate(labels)\n",
    "s = np.concatenate(subject_ids)\n",
    "t = np.concatenate(trial_ids)\n",
    "f = np.concatenate(frame_ids)\n",
    "ss = np.concatenate(sleep_stages)\n",
    "et = np.concatenate(elapsed_times)"
   ]
  },
  {
   "cell_type": "code",
   "execution_count": 21,
   "metadata": {},
   "outputs": [
    {
     "data": {
      "text/plain": [
       "2    276\n",
       "3    228\n",
       "4    198\n",
       "5    282\n",
       "6    348\n",
       "dtype: int64"
      ]
     },
     "execution_count": 21,
     "metadata": {},
     "output_type": "execute_result"
    }
   ],
   "source": [
    "pd.Series(s).value_counts().sort_index()"
   ]
  },
  {
   "cell_type": "code",
   "execution_count": 2,
   "metadata": {},
   "outputs": [
    {
     "name": "stdout",
     "output_type": "stream",
     "text": [
      "H009_E1_NREM_S03.img\n",
      "H009_E1_NREM_S05.img\n",
      "H009_E1_NREM_S06.img\n",
      "H009_E1_NREM_S07.img\n",
      "H009_E1_NREM_S09.img\n",
      "H009_E1_REM_S04.img\n",
      "H009_E1_REM_S08.img\n",
      "H009_E1_REM_S12.img\n",
      "H009_E2_NREM_S01.img\n",
      "H009_E2_NREM_S07.img\n",
      "H009_E2_NREM_S08.img\n",
      "H009_E2_NREM_S09.img\n",
      "H009_E1_NREM_S01.img\n",
      "H009_E1_NREM_S02.img\n"
     ]
    }
   ],
   "source": [
    "with np.load('/mlodata1/lugeon/dream_data/processed/healthy/images/H009.npz') as images:\n",
    "    for k in images:\n",
    "        print(k)"
   ]
  },
  {
   "cell_type": "code",
   "execution_count": 4,
   "metadata": {},
   "outputs": [
    {
     "data": {
      "text/plain": [
       "(237, 5, 32, 32)"
      ]
     },
     "execution_count": 4,
     "metadata": {},
     "output_type": "execute_result"
    }
   ],
   "source": [
    "with np.load('/home/lugeon/eeg_project/H009.npz') as images:\n",
    "    h018 = images['H009_E1_REM_S12.img']\n",
    "\n",
    "h018.shape"
   ]
  },
  {
   "cell_type": "code",
   "execution_count": 5,
   "metadata": {},
   "outputs": [
    {
     "data": {
      "image/png": "[encoded data removed]",
      "text/plain": [
       "<Figure size 432x288 with 2 Axes>"
      ]
     },
     "metadata": {
      "needs_background": "light"
     },
     "output_type": "display_data"
    }
   ],
   "source": [
    "fig, ax = plt.subplots()\n",
    "shw = ax.imshow(h018[3, 4, :, :], cmap='bone', vmin=-2, vmax=2);\n",
    "bar = plt.colorbar(shw)"
   ]
  },
  {
   "cell_type": "code",
   "execution_count": null,
   "metadata": {},
   "outputs": [],
   "source": [
    "fig, ax = plt.subplots()\n",
    "shw = ax.imshow(h018[0, 1, :, :], cmap='bone', vmin=-2, vmax=2);\n",
    "bar = plt.colorbar(shw)"
   ]
  },
  {
   "cell_type": "code",
   "execution_count": null,
   "metadata": {},
   "outputs": [],
   "source": [
    "with h5py.File('/mlodata1/yuecetue/eeg-dreams/YuceturkThesis2020/Data/hdf5/32_32_FFT_data_all_bands_120s_20sbj_log_z-score_stages23') as f:\n",
    "    for k in f:\n",
    "        print(f[k])"
   ]
  },
  {
   "cell_type": "code",
   "execution_count": 4,
   "metadata": {},
   "outputs": [
    {
     "name": "stdout",
     "output_type": "stream",
     "text": [
      "<HDF5 dataset \"frame_id\": shape (46176,), type \"<f4\">\n",
      "<HDF5 dataset \"images\": shape (46176, 5, 32, 32), type \"<f4\">\n",
      "<HDF5 dataset \"labels\": shape (46176,), type \"<f4\">\n",
      "<HDF5 dataset \"sleep_cycle\": shape (46176,), type \"<f4\">\n",
      "<HDF5 dataset \"sleep_stage\": shape (46176,), type \"<f4\">\n",
      "<HDF5 dataset \"subject_id\": shape (46176,), type \"<f4\">\n",
      "<HDF5 dataset \"subject_name\": shape (1,), type \"|S4\">\n",
      "<HDF5 dataset \"trial_id\": shape (46176,), type \"<f4\">\n"
     ]
    }
   ],
   "source": [
    "with h5py.File('/mlodata1/lugeon/dream_data/processed/baseline/dataset_bis.h5') as f:\n",
    "    for k in f:\n",
    "        print(f[k])\n",
    "\n",
    "    frame_id = f['frame_id'][:]\n",
    "    subject_id = f['subject_id'][:]\n",
    "    trial_id = f['trial_id'][:]\n",
    "    images = f['images'][:]\n",
    "    labels = f['labels'][:]\n",
    "    sleep_cycle = f['sleep_cycle'][:]"
   ]
  },
  {
   "cell_type": "code",
   "execution_count": 8,
   "metadata": {},
   "outputs": [
    {
     "data": {
      "text/plain": [
       "2.0    14814\n",
       "3.0    10614\n",
       "4.0    10494\n",
       "1.0    10254\n",
       "dtype: int64"
      ]
     },
     "execution_count": 8,
     "metadata": {},
     "output_type": "execute_result"
    }
   ],
   "source": [
    "pd.DataFrame(sleep_cycle).value_counts()"
   ]
  },
  {
   "cell_type": "code",
   "execution_count": 12,
   "metadata": {},
   "outputs": [],
   "source": [
    "with h5py.File('/mlodata1/lugeon/dream_data/processed/healthy/dataset_small.h5') as f:\n",
    "\n",
    "    df = pd.DataFrame({\n",
    "                'sid': f['subject_id'][:], \n",
    "                'tid': f['trial_id'][:], \n",
    "                'fid': f['frame_id'][:],\n",
    "                'ss': f['sleep_stage'][:]\n",
    "                })"
   ]
  },
  {
   "cell_type": "code",
   "execution_count": 34,
   "metadata": {},
   "outputs": [
    {
     "name": "stdout",
     "output_type": "stream",
     "text": [
      "#refs#\n",
      "chanlocs\n",
      "condi\n",
      "datavr\n",
      "events\n",
      "numseg\n",
      "ordseg\n",
      "reactime\n",
      "srate\n",
      "stage\n",
      "subject\n"
     ]
    }
   ],
   "source": [
    "file_path = '/mlodata1/lugeon/dream_data/chuv/healthy/H009/H009_E1_NREM_S01.mat'\n",
    "with h5py.File(file_path,'r') as file:\n",
    "        for k in file:\n",
    "                print(k)\n",
    "        time_signal = np.array(file['subject'])"
   ]
  },
  {
   "cell_type": "code",
   "execution_count": 2,
   "metadata": {},
   "outputs": [
    {
     "data": {
      "text/plain": [
       "tensor([0.0341, 2.0136, 0.0437, 2.0085, 0.0713, 2.0199, 0.0541, 2.0203, 2.0593,\n",
       "        2.0386], grad_fn=<SliceBackward0>)"
      ]
     },
     "execution_count": 2,
     "metadata": {},
     "output_type": "execute_result"
    }
   ],
   "source": [
    "torch.manual_seed(0)\n",
    "\n",
    "ft = models.FineTuner(\n",
    "    result_dir='/home/lugeon/eeg_project/results/transformers/masked_auto_encoder_mask9',\n",
    "    encoding_dim=512,\n",
    "    n_classes=2,\n",
    "    dropout=0.8,\n",
    "    adverserial=True,\n",
    "    adv_strength=0.0,\n",
    "    n_adv_classes=7,\n",
    "    freeze=False)\n",
    "\n",
    "optim = torch.optim.Adam(ft.parameters(), lr = 1)\n",
    "out = ft.forward(torch.ones(7, 10, 5, 32, 32))\n",
    "loss = (out[0] - (torch.ones(7, 2) * 1000)).sum()\n",
    "loss.backward()\n",
    "optim.step()\n",
    "\n",
    "w = ft.model.encoder[0][0].fn[0].weight\n",
    "w[:10]"
   ]
  },
  {
   "cell_type": "code",
   "execution_count": 7,
   "metadata": {},
   "outputs": [],
   "source": [
    "def set_dropout(model, new_drop_rate):\n",
    "    for name, child in model.named_children():\n",
    "        if isinstance(child, torch.nn.Dropout):\n",
    "            child.p = new_drop_rate\n",
    "        set_dropout(child, new_drop_rate)\n",
    "        \n",
    "set_dropout(ft, new_drop_rate=0.2)"
   ]
  },
  {
   "cell_type": "code",
   "execution_count": 8,
   "metadata": {},
   "outputs": [
    {
     "data": {
      "text/plain": [
       "FineTuner(\n",
       "  (model): MaskedAutoEncoder(\n",
       "    (encoder): AttentionNet(\n",
       "      (0): AttentionBlock(\n",
       "        (0): ResidualAdd(\n",
       "          (fn): Sequential(\n",
       "            (0): LayerNorm((512,), eps=1e-05, elementwise_affine=True)\n",
       "            (1): MultiHeadAttention(\n",
       "              (qkv): Linear(in_features=512, out_features=1536, bias=True)\n",
       "              (att_drop): Dropout(p=0.2, inplace=False)\n",
       "              (projection): Linear(in_features=512, out_features=512, bias=True)\n",
       "            )\n",
       "            (2): Dropout(p=0.2, inplace=False)\n",
       "          )\n",
       "        )\n",
       "        (1): ResidualAdd(\n",
       "          (fn): Sequential(\n",
       "            (0): LayerNorm((512,), eps=1e-05, elementwise_affine=True)\n",
       "            (1): FeedForwardBlock(\n",
       "              (0): Linear(in_features=512, out_features=2048, bias=True)\n",
       "              (1): GELU()\n",
       "              (2): Dropout(p=0.2, inplace=False)\n",
       "              (3): Linear(in_features=2048, out_features=512, bias=True)\n",
       "            )\n",
       "            (2): Dropout(p=0.2, inplace=False)\n",
       "          )\n",
       "        )\n",
       "      )\n",
       "      (1): AttentionBlock(\n",
       "        (0): ResidualAdd(\n",
       "          (fn): Sequential(\n",
       "            (0): LayerNorm((512,), eps=1e-05, elementwise_affine=True)\n",
       "            (1): MultiHeadAttention(\n",
       "              (qkv): Linear(in_features=512, out_features=1536, bias=True)\n",
       "              (att_drop): Dropout(p=0.2, inplace=False)\n",
       "              (projection): Linear(in_features=512, out_features=512, bias=True)\n",
       "            )\n",
       "            (2): Dropout(p=0.2, inplace=False)\n",
       "          )\n",
       "        )\n",
       "        (1): ResidualAdd(\n",
       "          (fn): Sequential(\n",
       "            (0): LayerNorm((512,), eps=1e-05, elementwise_affine=True)\n",
       "            (1): FeedForwardBlock(\n",
       "              (0): Linear(in_features=512, out_features=2048, bias=True)\n",
       "              (1): GELU()\n",
       "              (2): Dropout(p=0.2, inplace=False)\n",
       "              (3): Linear(in_features=2048, out_features=512, bias=True)\n",
       "            )\n",
       "            (2): Dropout(p=0.2, inplace=False)\n",
       "          )\n",
       "        )\n",
       "      )\n",
       "      (2): AttentionBlock(\n",
       "        (0): ResidualAdd(\n",
       "          (fn): Sequential(\n",
       "            (0): LayerNorm((512,), eps=1e-05, elementwise_affine=True)\n",
       "            (1): MultiHeadAttention(\n",
       "              (qkv): Linear(in_features=512, out_features=1536, bias=True)\n",
       "              (att_drop): Dropout(p=0.2, inplace=False)\n",
       "              (projection): Linear(in_features=512, out_features=512, bias=True)\n",
       "            )\n",
       "            (2): Dropout(p=0.2, inplace=False)\n",
       "          )\n",
       "        )\n",
       "        (1): ResidualAdd(\n",
       "          (fn): Sequential(\n",
       "            (0): LayerNorm((512,), eps=1e-05, elementwise_affine=True)\n",
       "            (1): FeedForwardBlock(\n",
       "              (0): Linear(in_features=512, out_features=2048, bias=True)\n",
       "              (1): GELU()\n",
       "              (2): Dropout(p=0.2, inplace=False)\n",
       "              (3): Linear(in_features=2048, out_features=512, bias=True)\n",
       "            )\n",
       "            (2): Dropout(p=0.2, inplace=False)\n",
       "          )\n",
       "        )\n",
       "      )\n",
       "      (3): AttentionBlock(\n",
       "        (0): ResidualAdd(\n",
       "          (fn): Sequential(\n",
       "            (0): LayerNorm((512,), eps=1e-05, elementwise_affine=True)\n",
       "            (1): MultiHeadAttention(\n",
       "              (qkv): Linear(in_features=512, out_features=1536, bias=True)\n",
       "              (att_drop): Dropout(p=0.2, inplace=False)\n",
       "              (projection): Linear(in_features=512, out_features=512, bias=True)\n",
       "            )\n",
       "            (2): Dropout(p=0.2, inplace=False)\n",
       "          )\n",
       "        )\n",
       "        (1): ResidualAdd(\n",
       "          (fn): Sequential(\n",
       "            (0): LayerNorm((512,), eps=1e-05, elementwise_affine=True)\n",
       "            (1): FeedForwardBlock(\n",
       "              (0): Linear(in_features=512, out_features=2048, bias=True)\n",
       "              (1): GELU()\n",
       "              (2): Dropout(p=0.2, inplace=False)\n",
       "              (3): Linear(in_features=2048, out_features=512, bias=True)\n",
       "            )\n",
       "            (2): Dropout(p=0.2, inplace=False)\n",
       "          )\n",
       "        )\n",
       "      )\n",
       "      (4): AttentionBlock(\n",
       "        (0): ResidualAdd(\n",
       "          (fn): Sequential(\n",
       "            (0): LayerNorm((512,), eps=1e-05, elementwise_affine=True)\n",
       "            (1): MultiHeadAttention(\n",
       "              (qkv): Linear(in_features=512, out_features=1536, bias=True)\n",
       "              (att_drop): Dropout(p=0.2, inplace=False)\n",
       "              (projection): Linear(in_features=512, out_features=512, bias=True)\n",
       "            )\n",
       "            (2): Dropout(p=0.2, inplace=False)\n",
       "          )\n",
       "        )\n",
       "        (1): ResidualAdd(\n",
       "          (fn): Sequential(\n",
       "            (0): LayerNorm((512,), eps=1e-05, elementwise_affine=True)\n",
       "            (1): FeedForwardBlock(\n",
       "              (0): Linear(in_features=512, out_features=2048, bias=True)\n",
       "              (1): GELU()\n",
       "              (2): Dropout(p=0.2, inplace=False)\n",
       "              (3): Linear(in_features=2048, out_features=512, bias=True)\n",
       "            )\n",
       "            (2): Dropout(p=0.2, inplace=False)\n",
       "          )\n",
       "        )\n",
       "      )\n",
       "      (5): AttentionBlock(\n",
       "        (0): ResidualAdd(\n",
       "          (fn): Sequential(\n",
       "            (0): LayerNorm((512,), eps=1e-05, elementwise_affine=True)\n",
       "            (1): MultiHeadAttention(\n",
       "              (qkv): Linear(in_features=512, out_features=1536, bias=True)\n",
       "              (att_drop): Dropout(p=0.2, inplace=False)\n",
       "              (projection): Linear(in_features=512, out_features=512, bias=True)\n",
       "            )\n",
       "            (2): Dropout(p=0.2, inplace=False)\n",
       "          )\n",
       "        )\n",
       "        (1): ResidualAdd(\n",
       "          (fn): Sequential(\n",
       "            (0): LayerNorm((512,), eps=1e-05, elementwise_affine=True)\n",
       "            (1): FeedForwardBlock(\n",
       "              (0): Linear(in_features=512, out_features=2048, bias=True)\n",
       "              (1): GELU()\n",
       "              (2): Dropout(p=0.2, inplace=False)\n",
       "              (3): Linear(in_features=2048, out_features=512, bias=True)\n",
       "            )\n",
       "            (2): Dropout(p=0.2, inplace=False)\n",
       "          )\n",
       "        )\n",
       "      )\n",
       "      (6): AttentionBlock(\n",
       "        (0): ResidualAdd(\n",
       "          (fn): Sequential(\n",
       "            (0): LayerNorm((512,), eps=1e-05, elementwise_affine=True)\n",
       "            (1): MultiHeadAttention(\n",
       "              (qkv): Linear(in_features=512, out_features=1536, bias=True)\n",
       "              (att_drop): Dropout(p=0.2, inplace=False)\n",
       "              (projection): Linear(in_features=512, out_features=512, bias=True)\n",
       "            )\n",
       "            (2): Dropout(p=0.2, inplace=False)\n",
       "          )\n",
       "        )\n",
       "        (1): ResidualAdd(\n",
       "          (fn): Sequential(\n",
       "            (0): LayerNorm((512,), eps=1e-05, elementwise_affine=True)\n",
       "            (1): FeedForwardBlock(\n",
       "              (0): Linear(in_features=512, out_features=2048, bias=True)\n",
       "              (1): GELU()\n",
       "              (2): Dropout(p=0.2, inplace=False)\n",
       "              (3): Linear(in_features=2048, out_features=512, bias=True)\n",
       "            )\n",
       "            (2): Dropout(p=0.2, inplace=False)\n",
       "          )\n",
       "        )\n",
       "      )\n",
       "      (7): AttentionBlock(\n",
       "        (0): ResidualAdd(\n",
       "          (fn): Sequential(\n",
       "            (0): LayerNorm((512,), eps=1e-05, elementwise_affine=True)\n",
       "            (1): MultiHeadAttention(\n",
       "              (qkv): Linear(in_features=512, out_features=1536, bias=True)\n",
       "              (att_drop): Dropout(p=0.2, inplace=False)\n",
       "              (projection): Linear(in_features=512, out_features=512, bias=True)\n",
       "            )\n",
       "            (2): Dropout(p=0.2, inplace=False)\n",
       "          )\n",
       "        )\n",
       "        (1): ResidualAdd(\n",
       "          (fn): Sequential(\n",
       "            (0): LayerNorm((512,), eps=1e-05, elementwise_affine=True)\n",
       "            (1): FeedForwardBlock(\n",
       "              (0): Linear(in_features=512, out_features=2048, bias=True)\n",
       "              (1): GELU()\n",
       "              (2): Dropout(p=0.2, inplace=False)\n",
       "              (3): Linear(in_features=2048, out_features=512, bias=True)\n",
       "            )\n",
       "            (2): Dropout(p=0.2, inplace=False)\n",
       "          )\n",
       "        )\n",
       "      )\n",
       "    )\n",
       "    (decoder): AttentionNet(\n",
       "      (0): AttentionBlock(\n",
       "        (0): ResidualAdd(\n",
       "          (fn): Sequential(\n",
       "            (0): LayerNorm((512,), eps=1e-05, elementwise_affine=True)\n",
       "            (1): MultiHeadAttention(\n",
       "              (qkv): Linear(in_features=512, out_features=1536, bias=True)\n",
       "              (att_drop): Dropout(p=0.2, inplace=False)\n",
       "              (projection): Linear(in_features=512, out_features=512, bias=True)\n",
       "            )\n",
       "            (2): Dropout(p=0.2, inplace=False)\n",
       "          )\n",
       "        )\n",
       "        (1): ResidualAdd(\n",
       "          (fn): Sequential(\n",
       "            (0): LayerNorm((512,), eps=1e-05, elementwise_affine=True)\n",
       "            (1): FeedForwardBlock(\n",
       "              (0): Linear(in_features=512, out_features=2048, bias=True)\n",
       "              (1): GELU()\n",
       "              (2): Dropout(p=0.2, inplace=False)\n",
       "              (3): Linear(in_features=2048, out_features=512, bias=True)\n",
       "            )\n",
       "            (2): Dropout(p=0.2, inplace=False)\n",
       "          )\n",
       "        )\n",
       "      )\n",
       "      (1): AttentionBlock(\n",
       "        (0): ResidualAdd(\n",
       "          (fn): Sequential(\n",
       "            (0): LayerNorm((512,), eps=1e-05, elementwise_affine=True)\n",
       "            (1): MultiHeadAttention(\n",
       "              (qkv): Linear(in_features=512, out_features=1536, bias=True)\n",
       "              (att_drop): Dropout(p=0.2, inplace=False)\n",
       "              (projection): Linear(in_features=512, out_features=512, bias=True)\n",
       "            )\n",
       "            (2): Dropout(p=0.2, inplace=False)\n",
       "          )\n",
       "        )\n",
       "        (1): ResidualAdd(\n",
       "          (fn): Sequential(\n",
       "            (0): LayerNorm((512,), eps=1e-05, elementwise_affine=True)\n",
       "            (1): FeedForwardBlock(\n",
       "              (0): Linear(in_features=512, out_features=2048, bias=True)\n",
       "              (1): GELU()\n",
       "              (2): Dropout(p=0.2, inplace=False)\n",
       "              (3): Linear(in_features=2048, out_features=512, bias=True)\n",
       "            )\n",
       "            (2): Dropout(p=0.2, inplace=False)\n",
       "          )\n",
       "        )\n",
       "      )\n",
       "    )\n",
       "    (pos_adder): PositionalAdder()\n",
       "    (patch_transform): PatchTransform(\n",
       "      (projection): Conv3d(5, 512, kernel_size=(2, 4, 4), stride=(2, 4, 4))\n",
       "    )\n",
       "    (pixel_transform): PixelTransform(\n",
       "      (projection): Conv2d(1, 160, kernel_size=(1, 512), stride=(1, 1))\n",
       "    )\n",
       "  )\n",
       "  (clf): Linear(in_features=512, out_features=2, bias=True)\n",
       "  (dropout): Dropout(p=0.2, inplace=False)\n",
       "  (adv_clf): Linear(in_features=512, out_features=7, bias=True)\n",
       ")"
      ]
     },
     "execution_count": 8,
     "metadata": {},
     "output_type": "execute_result"
    }
   ],
   "source": [
    "ft"
   ]
  },
  {
   "cell_type": "code",
   "execution_count": 71,
   "metadata": {},
   "outputs": [],
   "source": [
    "ch1 = '/home/lugeon/eeg_project/scripts/training/representation/result/arch_comparison/next_frame_baseline/checkpoint.pt'\n",
    "ch2 = '/home/lugeon/eeg_project/scripts/training/representation/result/evaluate/baseline/0/checkpoint.pt'"
   ]
  },
  {
   "cell_type": "code",
   "execution_count": 72,
   "metadata": {},
   "outputs": [
    {
     "data": {
      "text/plain": [
       "tensor([[-3.3087e-05,  2.3708e-03, -3.6374e-03,  ..., -4.2212e-03,\n",
       "         -4.2731e-03,  1.7014e-03],\n",
       "        [ 2.8183e-03,  3.3636e-03,  5.4030e-04,  ...,  3.8198e-03,\n",
       "         -2.3750e-03,  4.1322e-03],\n",
       "        [-1.2480e-03,  3.3899e-03, -3.1663e-03,  ...,  1.5401e-03,\n",
       "          2.5765e-03, -1.7713e-03],\n",
       "        ...,\n",
       "        [-3.4439e-03, -1.7843e-03,  1.3494e-03,  ..., -1.3713e-03,\n",
       "         -9.1726e-04, -5.6303e-04],\n",
       "        [-1.6230e-04,  4.2410e-03, -3.6021e-03,  ..., -2.1716e-03,\n",
       "         -3.3971e-03, -1.1198e-03],\n",
       "        [-2.7684e-03, -2.7571e-03, -3.2507e-03,  ...,  3.0038e-03,\n",
       "          2.3743e-03,  4.2741e-03]], device='cuda:0')"
      ]
     },
     "execution_count": 72,
     "metadata": {},
     "output_type": "execute_result"
    }
   ],
   "source": [
    "torch.load(ch1)['encoder.1.weight']"
   ]
  },
  {
   "cell_type": "code",
   "execution_count": 74,
   "metadata": {},
   "outputs": [
    {
     "data": {
      "text/plain": [
       "tensor([[-3.3087e-05,  2.3708e-03, -3.6374e-03,  ..., -4.2212e-03,\n",
       "         -4.2731e-03,  1.7014e-03],\n",
       "        [ 2.8183e-03,  3.3636e-03,  5.4030e-04,  ...,  3.8198e-03,\n",
       "         -2.3750e-03,  4.1322e-03],\n",
       "        [-1.2480e-03,  3.3899e-03, -3.1663e-03,  ...,  1.5401e-03,\n",
       "          2.5765e-03, -1.7713e-03],\n",
       "        ...,\n",
       "        [-3.4439e-03, -1.7843e-03,  1.3494e-03,  ..., -1.3713e-03,\n",
       "         -9.1726e-04, -5.6303e-04],\n",
       "        [-1.6230e-04,  4.2410e-03, -3.6021e-03,  ..., -2.1716e-03,\n",
       "         -3.3971e-03, -1.1198e-03],\n",
       "        [-2.7684e-03, -2.7571e-03, -3.2507e-03,  ...,  3.0038e-03,\n",
       "          2.3743e-03,  4.2741e-03]], device='cuda:0')"
      ]
     },
     "execution_count": 74,
     "metadata": {},
     "output_type": "execute_result"
    }
   ],
   "source": [
    "torch.load(ch2)['model.encoder.1.weight']"
   ]
  },
  {
   "cell_type": "code",
   "execution_count": null,
   "metadata": {},
   "outputs": [],
   "source": []
  },
  {
   "cell_type": "code",
   "execution_count": null,
   "metadata": {},
   "outputs": [],
   "source": []
  },
  {
   "cell_type": "code",
   "execution_count": null,
   "metadata": {},
   "outputs": [],
   "source": []
  },
  {
   "cell_type": "code",
   "execution_count": null,
   "metadata": {},
   "outputs": [],
   "source": []
  },
  {
   "cell_type": "code",
   "execution_count": null,
   "metadata": {},
   "outputs": [],
   "source": []
  },
  {
   "cell_type": "code",
   "execution_count": null,
   "metadata": {},
   "outputs": [],
   "source": []
  },
  {
   "cell_type": "code",
   "execution_count": null,
   "metadata": {},
   "outputs": [],
   "source": []
  },
  {
   "cell_type": "code",
   "execution_count": null,
   "metadata": {},
   "outputs": [],
   "source": []
  },
  {
   "cell_type": "code",
   "execution_count": null,
   "metadata": {},
   "outputs": [],
   "source": []
  },
  {
   "cell_type": "code",
   "execution_count": null,
   "metadata": {},
   "outputs": [],
   "source": []
  }
 ],
 "metadata": {
  "kernelspec": {
   "display_name": "Python 3.8.13 64-bit ('eeg-dream-conda')",
   "language": "python",
   "name": "python3"
  },
  "language_info": {
   "codemirror_mode": {
    "name": "ipython",
    "version": 3
   },
   "file_extension": ".py",
   "mimetype": "text/x-python",
   "name": "python",
   "nbconvert_exporter": "python",
   "pygments_lexer": "ipython3",
   "version": "3.8.13"
  },
  "orig_nbformat": 4,
  "vscode": {
   "interpreter": {
    "hash": "e0c3161eab2e75dfcb96e4a863b884d85431a87580826b5743bc70e49f36ae89"
   }
  }
 },
 "nbformat": 4,
 "nbformat_minor": 2
}
