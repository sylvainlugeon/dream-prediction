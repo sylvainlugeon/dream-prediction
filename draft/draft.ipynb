{
 "cells": [
  {
   "cell_type": "code",
   "execution_count": 1,
   "metadata": {},
   "outputs": [],
   "source": [
    "import pandas as pd\n",
    "import numpy as np\n",
    "import h5py\n",
    "import sys \n",
    "import glob\n",
    "\n",
    "import matplotlib.pyplot as plt\n",
    "import scipy.io as sio\n",
    "\n",
    "sys.path.append('/home/lugeon/eeg_project/scripts')\n"
   ]
  },
  {
   "cell_type": "code",
   "execution_count": 2,
   "metadata": {},
   "outputs": [
    {
     "name": "stdout",
     "output_type": "stream",
     "text": [
      "H009_E1_NREM_S03.img\n",
      "H009_E1_NREM_S05.img\n",
      "H009_E1_NREM_S06.img\n",
      "H009_E1_NREM_S07.img\n",
      "H009_E1_NREM_S09.img\n",
      "H009_E1_REM_S04.img\n",
      "H009_E1_REM_S08.img\n",
      "H009_E1_REM_S12.img\n",
      "H009_E2_NREM_S01.img\n",
      "H009_E2_NREM_S07.img\n",
      "H009_E2_NREM_S08.img\n",
      "H009_E2_NREM_S09.img\n",
      "H009_E1_NREM_S01.img\n",
      "H009_E1_NREM_S02.img\n"
     ]
    }
   ],
   "source": [
    "with np.load('/mlodata1/lugeon/dream_data/processed/healthy/images/H009.npz') as images:\n",
    "    for k in images:\n",
    "        print(k)"
   ]
  },
  {
   "cell_type": "code",
   "execution_count": 4,
   "metadata": {},
   "outputs": [
    {
     "data": {
      "text/plain": [
       "(237, 5, 32, 32)"
      ]
     },
     "execution_count": 4,
     "metadata": {},
     "output_type": "execute_result"
    }
   ],
   "source": [
    "with np.load('/home/lugeon/eeg_project/H009.npz') as images:\n",
    "    h018 = images['H009_E1_REM_S12.img']\n",
    "\n",
    "h018.shape"
   ]
  },
  {
   "cell_type": "code",
   "execution_count": 5,
   "metadata": {},
   "outputs": [
    {
     "data": {
      "image/png": "[encoded data removed]",
      "text/plain": [
       "<Figure size 432x288 with 2 Axes>"
      ]
     },
     "metadata": {
      "needs_background": "light"
     },
     "output_type": "display_data"
    }
   ],
   "source": [
    "fig, ax = plt.subplots()\n",
    "shw = ax.imshow(h018[3, 4, :, :], cmap='bone', vmin=-2, vmax=2);\n",
    "bar = plt.colorbar(shw)"
   ]
  },
  {
   "cell_type": "code",
   "execution_count": null,
   "metadata": {},
   "outputs": [],
   "source": [
    "fig, ax = plt.subplots()\n",
    "shw = ax.imshow(h018[0, 1, :, :], cmap='bone', vmin=-2, vmax=2);\n",
    "bar = plt.colorbar(shw)"
   ]
  },
  {
   "cell_type": "code",
   "execution_count": null,
   "metadata": {},
   "outputs": [],
   "source": [
    "with h5py.File('/mlodata1/yuecetue/eeg-dreams/YuceturkThesis2020/Data/hdf5/32_32_FFT_data_all_bands_120s_20sbj_log_z-score_stages23') as f:\n",
    "    for k in f:\n",
    "        print(f[k])"
   ]
  },
  {
   "cell_type": "code",
   "execution_count": 4,
   "metadata": {},
   "outputs": [
    {
     "name": "stdout",
     "output_type": "stream",
     "text": [
      "<HDF5 dataset \"frame_id\": shape (46176,), type \"<f4\">\n",
      "<HDF5 dataset \"images\": shape (46176, 5, 32, 32), type \"<f4\">\n",
      "<HDF5 dataset \"labels\": shape (46176,), type \"<f4\">\n",
      "<HDF5 dataset \"sleep_cycle\": shape (46176,), type \"<f4\">\n",
      "<HDF5 dataset \"sleep_stage\": shape (46176,), type \"<f4\">\n",
      "<HDF5 dataset \"subject_id\": shape (46176,), type \"<f4\">\n",
      "<HDF5 dataset \"subject_name\": shape (1,), type \"|S4\">\n",
      "<HDF5 dataset \"trial_id\": shape (46176,), type \"<f4\">\n"
     ]
    }
   ],
   "source": [
    "with h5py.File('/mlodata1/lugeon/dream_data/processed/baseline/dataset_bis.h5') as f:\n",
    "    for k in f:\n",
    "        print(f[k])\n",
    "\n",
    "    frame_id = f['frame_id'][:]\n",
    "    subject_id = f['subject_id'][:]\n",
    "    trial_id = f['trial_id'][:]\n",
    "    images = f['images'][:]\n",
    "    labels = f['labels'][:]\n",
    "    sleep_cycle = f['sleep_cycle'][:]"
   ]
  },
  {
   "cell_type": "code",
   "execution_count": 8,
   "metadata": {},
   "outputs": [
    {
     "data": {
      "text/plain": [
       "2.0    14814\n",
       "3.0    10614\n",
       "4.0    10494\n",
       "1.0    10254\n",
       "dtype: int64"
      ]
     },
     "execution_count": 8,
     "metadata": {},
     "output_type": "execute_result"
    }
   ],
   "source": [
    "pd.DataFrame(sleep_cycle).value_counts()"
   ]
  },
  {
   "cell_type": "code",
   "execution_count": 12,
   "metadata": {},
   "outputs": [],
   "source": [
    "with h5py.File('/mlodata1/lugeon/dream_data/processed/healthy/dataset_small.h5') as f:\n",
    "\n",
    "    df = pd.DataFrame({\n",
    "                'sid': f['subject_id'][:], \n",
    "                'tid': f['trial_id'][:], \n",
    "                'fid': f['frame_id'][:],\n",
    "                'ss': f['sleep_stage'][:]\n",
    "                })"
   ]
  },
  {
   "cell_type": "code",
   "execution_count": 34,
   "metadata": {},
   "outputs": [
    {
     "name": "stdout",
     "output_type": "stream",
     "text": [
      "#refs#\n",
      "chanlocs\n",
      "condi\n",
      "datavr\n",
      "events\n",
      "numseg\n",
      "ordseg\n",
      "reactime\n",
      "srate\n",
      "stage\n",
      "subject\n"
     ]
    }
   ],
   "source": [
    "file_path = '/mlodata1/lugeon/dream_data/chuv/healthy/H009/H009_E1_NREM_S01.mat'\n",
    "with h5py.File(file_path,'r') as file:\n",
    "        for k in file:\n",
    "                print(k)\n",
    "        time_signal = np.array(file['subject'])"
   ]
  },
  {
   "cell_type": "code",
   "execution_count": 35,
   "metadata": {},
   "outputs": [
    {
     "data": {
      "text/plain": [
       "array([[72],\n",
       "       [48],\n",
       "       [48],\n",
       "       [57]], dtype=uint16)"
      ]
     },
     "execution_count": 35,
     "metadata": {},
     "output_type": "execute_result"
    }
   ],
   "source": [
    "time_signal"
   ]
  },
  {
   "cell_type": "code",
   "execution_count": 14,
   "metadata": {},
   "outputs": [
    {
     "data": {
      "text/plain": [
       "(257, 60000)"
      ]
     },
     "execution_count": 14,
     "metadata": {},
     "output_type": "execute_result"
    }
   ],
   "source": [
    "file_path = '/mlodata1/lugeon/dream_data/chuv/healthy/M001/M001_E10_NREM_S4.mat'\n",
    "sio.loadmat(file_path)['datavr_2min'].shape"
   ]
  },
  {
   "cell_type": "code",
   "execution_count": 6,
   "metadata": {},
   "outputs": [
    {
     "data": {
      "text/plain": [
       "array([ 0,  1,  2,  3,  4,  5,  6,  7,  8,  9, 20])"
      ]
     },
     "execution_count": 6,
     "metadata": {},
     "output_type": "execute_result"
    }
   ],
   "source": [
    "np.append(np.arange(10), 20)"
   ]
  },
  {
   "cell_type": "code",
   "execution_count": 2,
   "metadata": {},
   "outputs": [
    {
     "name": "stderr",
     "output_type": "stream",
     "text": [
      "/home/lugeon/miniconda3/envs/eeg-dream-conda/lib/python3.8/site-packages/tqdm/auto.py:22: TqdmWarning: IProgress not found. Please update jupyter and ipywidgets. See https://ipywidgets.readthedocs.io/en/stable/user_install.html\n",
      "  from .autonotebook import tqdm as notebook_tqdm\n"
     ]
    }
   ],
   "source": [
    "import torch\n",
    "from torch import nn\n",
    "import importlib\n",
    "sys.path.append('/home/lugeon/eeg_project/scripts')\n",
    "from training.representation import models"
   ]
  },
  {
   "cell_type": "code",
   "execution_count": 3,
   "metadata": {},
   "outputs": [
    {
     "data": {
      "text/plain": [
       "<module 'training.representation.models' from '/home/lugeon/eeg_project/scripts/training/representation/models/__init__.py'>"
      ]
     },
     "execution_count": 3,
     "metadata": {},
     "output_type": "execute_result"
    }
   ],
   "source": [
    "importlib.reload(models)"
   ]
  },
  {
   "cell_type": "code",
   "execution_count": 5,
   "metadata": {},
   "outputs": [],
   "source": [
    "mae = models.MaskedAutoEncoder(\n",
    "    in_channels = 1,\n",
    "    space_dim = 2,\n",
    "    time_dim = 2,\n",
    "    space_patch_size = 1, \n",
    "    time_patch_size = 1,\n",
    "    emb_size = 512, \n",
    "    masking_ratio = 0.5,\n",
    "    encoder_depth = 8, \n",
    "    decoder_depth = 2,\n",
    ")\n",
    "\n",
    "device = torch.device('cpu')"
   ]
  },
  {
   "cell_type": "code",
   "execution_count": 6,
   "metadata": {},
   "outputs": [
    {
     "data": {
      "text/plain": [
       "tensor([[[[[1.0000e+00, 1.0000e+01],\n",
       "           [1.0000e+02, 1.0000e+03]]],\n",
       "\n",
       "\n",
       "         [[[1.0000e+04, 1.0000e+05],\n",
       "           [1.0000e+06, 1.0000e+07]]]],\n",
       "\n",
       "\n",
       "\n",
       "        [[[[1.0000e+00, 1.0000e+01],\n",
       "           [1.0000e+02, 1.0000e+03]]],\n",
       "\n",
       "\n",
       "         [[[1.0000e+04, 1.0000e+05],\n",
       "           [1.0000e+06, 1.0000e+07]]]]])"
      ]
     },
     "execution_count": 6,
     "metadata": {},
     "output_type": "execute_result"
    }
   ],
   "source": [
    "input = (torch.ones(8) * 10 ** torch.arange(8)).view(2, 1, 2, 2).unsqueeze(0).repeat(2, 1, 1, 1, 1)\n",
    "input"
   ]
  },
  {
   "cell_type": "code",
   "execution_count": 87,
   "metadata": {},
   "outputs": [
    {
     "ename": "RuntimeError",
     "evalue": "The size of tensor a (8) must match the size of tensor b (2) at non-singleton dimension 1",
     "output_type": "error",
     "traceback": [
      "\u001b[0;31m---------------------------------------------------------------------------\u001b[0m",
      "\u001b[0;31mRuntimeError\u001b[0m                              Traceback (most recent call last)",
      "\u001b[1;32m/home/lugeon/eeg_project/draft/draft.ipynb Cell 19'\u001b[0m in \u001b[0;36m<cell line: 1>\u001b[0;34m()\u001b[0m\n\u001b[0;32m----> <a href='vscode-notebook-cell://ssh-remote%2Bk8s.iccluster.epfl.ch-4/home/lugeon/eeg_project/draft/draft.ipynb#ch0000050vscode-remote?line=0'>1</a>\u001b[0m idx \u001b[39m+\u001b[39;49m torch\u001b[39m.\u001b[39;49marange(batch_size) \u001b[39m*\u001b[39;49m n_patches\n",
      "\u001b[0;31mRuntimeError\u001b[0m: The size of tensor a (8) must match the size of tensor b (2) at non-singleton dimension 1"
     ]
    }
   ],
   "source": [
    "idx + torch.arange(n_patches)"
   ]
  },
  {
   "cell_type": "code",
   "execution_count": 103,
   "metadata": {},
   "outputs": [],
   "source": [
    "batch_size = 2\n",
    "n_patches = 8\n",
    "masking_ratio = 0.5\n",
    "patches = mae.patch_encoder(input)\n",
    "\n",
    "# shuffle patches independently for each element in the batch\n",
    "r = torch.rand(batch_size, n_patches)\n",
    "idx = torch.argsort(torch.rand(*r.shape), dim=-1)\n",
    "offset = (torch.arange(batch_size) * n_patches).unsqueeze(1).repeat(1, n_patches)\n",
    "idx += offset\n",
    "\n",
    "idx = torch.flatten(idx)\n",
    "\n",
    "shuffled = torch.flatten(patches, 0, 1)[idx, :] \\\n",
    "    .view(batch_size, n_patches, -1)\n",
    "                \n",
    "# keep only first patches \n",
    "n_masked = int(n_patches * masking_ratio)\n",
    "keep = n_patches - n_masked\n",
    "masked = shuffled[:, :keep, :]\n",
    "\n",
    "n_masked = int(n_patches * masking_ratio)\n",
    "mask_tokens = (torch.ones(1, 1, 512) * 1e10).repeat(batch_size, n_masked, 1)\n",
    "shuffled = torch.cat((masked, mask_tokens), dim=1) # (batch_size, n_patches, emb_size)\n",
    "shuffled = torch.flatten(shuffled, 0, 1)"
   ]
  },
  {
   "cell_type": "code",
   "execution_count": 104,
   "metadata": {},
   "outputs": [
    {
     "name": "stdout",
     "output_type": "stream",
     "text": [
      "[ 41494.38     -379.2755 -99437.055    9309.795 ]\n",
      "[ 4149394.5     -37973.652 -9943713.      930912.   ]\n",
      "[ 415.3789     -3.331728 -994.2929     93.77302 ]\n",
      "[ 414939.84     -3796.9463 -994371.2      93091.81  ]\n",
      "[1.e+10 1.e+10 1.e+10 1.e+10]\n",
      "[1.e+10 1.e+10 1.e+10 1.e+10]\n",
      "[1.e+10 1.e+10 1.e+10 1.e+10]\n",
      "[1.e+10 1.e+10 1.e+10 1.e+10]\n",
      "[ 41494.38     -379.2755 -99437.055    9309.795 ]\n",
      "[ 0.8544283   0.46188664 -0.91600645  0.77498114]\n",
      "[ 4.1933430e+01  8.5942864e-02 -9.9358765e+01  9.9910030e+00]\n",
      "[ 414939.84     -3796.9463 -994371.2      93091.81  ]\n",
      "[1.e+10 1.e+10 1.e+10 1.e+10]\n",
      "[1.e+10 1.e+10 1.e+10 1.e+10]\n",
      "[1.e+10 1.e+10 1.e+10 1.e+10]\n",
      "[1.e+10 1.e+10 1.e+10 1.e+10]\n"
     ]
    }
   ],
   "source": [
    "for b in shuffled:\n",
    "    print(b[:4].detach().numpy())"
   ]
  },
  {
   "cell_type": "code",
   "execution_count": 105,
   "metadata": {},
   "outputs": [],
   "source": [
    "# unshuffle the patches w.r.t to shuffling indices\n",
    "unshuffled = torch.zeros_like(shuffled)\n",
    "unshuffled[idx] = shuffled"
   ]
  },
  {
   "cell_type": "code",
   "execution_count": 107,
   "metadata": {},
   "outputs": [
    {
     "name": "stdout",
     "output_type": "stream",
     "text": [
      "[1.e+10 1.e+10 1.e+10 1.e+10]\n",
      "[1.e+10 1.e+10 1.e+10 1.e+10]\n",
      "[1.e+10 1.e+10 1.e+10 1.e+10]\n",
      "[ 415.3789     -3.331728 -994.2929     93.77302 ]\n",
      "[1.e+10 1.e+10 1.e+10 1.e+10]\n",
      "[ 41494.38     -379.2755 -99437.055    9309.795 ]\n",
      "[ 414939.84     -3796.9463 -994371.2      93091.81  ]\n",
      "[ 4149394.5     -37973.652 -9943713.      930912.   ]\n",
      "[ 0.8544283   0.46188664 -0.91600645  0.77498114]\n",
      "[1.e+10 1.e+10 1.e+10 1.e+10]\n",
      "[ 4.1933430e+01  8.5942864e-02 -9.9358765e+01  9.9910030e+00]\n",
      "[1.e+10 1.e+10 1.e+10 1.e+10]\n",
      "[1.e+10 1.e+10 1.e+10 1.e+10]\n",
      "[ 41494.38     -379.2755 -99437.055    9309.795 ]\n",
      "[ 414939.84     -3796.9463 -994371.2      93091.81  ]\n",
      "[1.e+10 1.e+10 1.e+10 1.e+10]\n"
     ]
    }
   ],
   "source": [
    "for b in unshuffled:\n",
    "    print(b[:4].detach().numpy())"
   ]
  },
  {
   "cell_type": "code",
   "execution_count": 108,
   "metadata": {},
   "outputs": [],
   "source": [
    "unshuffled = unshuffled.view(batch_size, n_patches, -1)\n",
    "\n",
    "output = mae.patch_decoder(unshuffled)"
   ]
  },
  {
   "cell_type": "code",
   "execution_count": 110,
   "metadata": {},
   "outputs": [
    {
     "data": {
      "text/plain": [
       "tensor([[[[[ 3.8937e+09,  3.8937e+09],\n",
       "           [ 3.8937e+09, -1.5263e+02]]],\n",
       "\n",
       "\n",
       "         [[[ 3.8937e+09, -1.5234e+04],\n",
       "           [-1.5234e+05, -1.5234e+06]]]],\n",
       "\n",
       "\n",
       "\n",
       "        [[[[-4.4033e-01,  3.8937e+09],\n",
       "           [-1.5522e+01,  3.8937e+09]]],\n",
       "\n",
       "\n",
       "         [[[ 3.8937e+09, -1.5234e+04],\n",
       "           [-1.5234e+05,  3.8937e+09]]]]], grad_fn=<PermuteBackward0>)"
      ]
     },
     "execution_count": 110,
     "metadata": {},
     "output_type": "execute_result"
    }
   ],
   "source": [
    "output"
   ]
  },
  {
   "cell_type": "code",
   "execution_count": 111,
   "metadata": {},
   "outputs": [
    {
     "data": {
      "text/plain": [
       "tensor([[[[[1.0000e+00, 1.0000e+01],\n",
       "           [1.0000e+02, 1.0000e+03]]],\n",
       "\n",
       "\n",
       "         [[[1.0000e+04, 1.0000e+05],\n",
       "           [1.0000e+06, 1.0000e+07]]]],\n",
       "\n",
       "\n",
       "\n",
       "        [[[[1.0000e+00, 1.0000e+01],\n",
       "           [1.0000e+02, 1.0000e+03]]],\n",
       "\n",
       "\n",
       "         [[[1.0000e+04, 1.0000e+05],\n",
       "           [1.0000e+06, 1.0000e+07]]]]])"
      ]
     },
     "execution_count": 111,
     "metadata": {},
     "output_type": "execute_result"
    }
   ],
   "source": [
    "input"
   ]
  },
  {
   "cell_type": "code",
   "execution_count": 62,
   "metadata": {},
   "outputs": [
    {
     "data": {
      "text/plain": [
       "tensor([[[ True,  True,  True,  ...,  True,  True,  True],\n",
       "         [False, False, False,  ..., False, False, False],\n",
       "         [False, False, False,  ..., False, False, False],\n",
       "         ...,\n",
       "         [ True,  True,  True,  ...,  True,  True,  True],\n",
       "         [False, False, False,  ..., False, False, False],\n",
       "         [ True,  True,  True,  ...,  True,  True,  True]],\n",
       "\n",
       "        [[False, False, False,  ..., False, False, False],\n",
       "         [False, False, False,  ..., False, False, False],\n",
       "         [False, False, False,  ..., False, False, False],\n",
       "         ...,\n",
       "         [False, False, False,  ..., False, False, False],\n",
       "         [False, False, False,  ..., False, False, False],\n",
       "         [False, False, False,  ..., False, False, False]]])"
      ]
     },
     "execution_count": 62,
     "metadata": {},
     "output_type": "execute_result"
    }
   ],
   "source": [
    "(unshuffled == patches)"
   ]
  },
  {
   "cell_type": "code",
   "execution_count": 7,
   "metadata": {},
   "outputs": [],
   "source": [
    "patches = mae.patch_encoder(input)\n",
    "output = mae.patch_decoder(patches)"
   ]
  },
  {
   "cell_type": "code",
   "execution_count": 8,
   "metadata": {},
   "outputs": [
    {
     "data": {
      "text/plain": [
       "tensor([[[[[-1.0688e-01,  1.6107e+00],\n",
       "           [ 1.8787e+01,  1.9055e+02]]],\n",
       "\n",
       "\n",
       "         [[[ 1.9082e+03,  1.9084e+04],\n",
       "           [ 1.9085e+05,  1.9085e+06]]]],\n",
       "\n",
       "\n",
       "\n",
       "        [[[[-1.0688e-01,  1.6107e+00],\n",
       "           [ 1.8787e+01,  1.9055e+02]]],\n",
       "\n",
       "\n",
       "         [[[ 1.9082e+03,  1.9084e+04],\n",
       "           [ 1.9085e+05,  1.9085e+06]]]]], grad_fn=<PermuteBackward0>)"
      ]
     },
     "execution_count": 8,
     "metadata": {},
     "output_type": "execute_result"
    }
   ],
   "source": [
    "output"
   ]
  },
  {
   "cell_type": "code",
   "execution_count": 9,
   "metadata": {},
   "outputs": [
    {
     "data": {
      "text/plain": [
       "tensor([[[[[1.0000e+00, 1.0000e+01],\n",
       "           [1.0000e+02, 1.0000e+03]]],\n",
       "\n",
       "\n",
       "         [[[1.0000e+04, 1.0000e+05],\n",
       "           [1.0000e+06, 1.0000e+07]]]],\n",
       "\n",
       "\n",
       "\n",
       "        [[[[1.0000e+00, 1.0000e+01],\n",
       "           [1.0000e+02, 1.0000e+03]]],\n",
       "\n",
       "\n",
       "         [[[1.0000e+04, 1.0000e+05],\n",
       "           [1.0000e+06, 1.0000e+07]]]]])"
      ]
     },
     "execution_count": 9,
     "metadata": {},
     "output_type": "execute_result"
    }
   ],
   "source": [
    "input"
   ]
  },
  {
   "cell_type": "code",
   "execution_count": 7,
   "metadata": {},
   "outputs": [],
   "source": [
    "\n",
    "input = torch.ones(128, 10, 5, 32, 32).to(device)\n",
    "mae.to(device)\n",
    "\n",
    "output = mae(input)"
   ]
  },
  {
   "cell_type": "code",
   "execution_count": 9,
   "metadata": {},
   "outputs": [],
   "source": [
    "patches, idx = mae.encode(input, return_idx=True)"
   ]
  },
  {
   "cell_type": "code",
   "execution_count": 13,
   "metadata": {},
   "outputs": [
    {
     "data": {
      "text/plain": [
       "torch.Size([40960])"
      ]
     },
     "execution_count": 13,
     "metadata": {},
     "output_type": "execute_result"
    }
   ],
   "source": [
    "idx.shape"
   ]
  },
  {
   "cell_type": "code",
   "execution_count": 8,
   "metadata": {},
   "outputs": [
    {
     "data": {
      "text/plain": [
       "torch.Size([128, 10, 5, 32, 32])"
      ]
     },
     "execution_count": 8,
     "metadata": {},
     "output_type": "execute_result"
    }
   ],
   "source": [
    "output.shape"
   ]
  },
  {
   "cell_type": "code",
   "execution_count": 176,
   "metadata": {},
   "outputs": [],
   "source": [
    "video_patch_encoder = masked_autoencoder.VideoPatchEncoding(\n",
    "    in_channels = 5, \n",
    "    space_patch_size = 4, \n",
    "    time_patch_size = 2,\n",
    "    emb_size = 512)\n",
    "\n",
    "pos_adder = masked_autoencoder.PositionalAdder(emb_size=512, time_n_patches=5, space_n_patches=64)\n",
    "ts_pos = pos_adder.time_space_positions\n",
    "\n",
    "transformer_encoder = masked_autoencoder.AttentionNet(emb_size=512, depth=8)"
   ]
  },
  {
   "cell_type": "code",
   "execution_count": 177,
   "metadata": {},
   "outputs": [
    {
     "data": {
      "text/plain": [
       "VideoPatchEncoding(\n",
       "  (projection): Conv3d(5, 512, kernel_size=(2, 4, 4), stride=(2, 4, 4))\n",
       ")"
      ]
     },
     "execution_count": 177,
     "metadata": {},
     "output_type": "execute_result"
    }
   ],
   "source": [
    "video_patch_encoder.to(device)"
   ]
  },
  {
   "cell_type": "code",
   "execution_count": 116,
   "metadata": {},
   "outputs": [],
   "source": [
    "input = torch.ones(7, 10, 5, 32, 32)\n",
    "\n",
    "patches = video_patch_encoder(input)\n",
    "patches_pos = pos_adder(patches)\n",
    "\n",
    "output = transformer_encoder(patches_pos)"
   ]
  },
  {
   "cell_type": "code",
   "execution_count": 117,
   "metadata": {},
   "outputs": [
    {
     "data": {
      "text/plain": [
       "torch.Size([7, 320, 512])"
      ]
     },
     "execution_count": 117,
     "metadata": {},
     "output_type": "execute_result"
    }
   ],
   "source": [
    "output.size()"
   ]
  },
  {
   "cell_type": "code",
   "execution_count": 118,
   "metadata": {},
   "outputs": [
    {
     "data": {
      "text/plain": [
       "torch.Size([7, 320, 512])"
      ]
     },
     "execution_count": 118,
     "metadata": {},
     "output_type": "execute_result"
    }
   ],
   "source": [
    "patches_pos.shape"
   ]
  },
  {
   "cell_type": "code",
   "execution_count": 121,
   "metadata": {},
   "outputs": [],
   "source": [
    "video_patch_encoder = masked_autoencoder.VideoPatchEncoding(\n",
    "    in_channels = 5, \n",
    "    space_patch_size = 4, \n",
    "    time_patch_size = 2,\n",
    "    emb_size = 512)\n",
    "\n",
    "pos_adder = masked_autoencoder.PositionalAdder(512, 5, 64)\n",
    "\n",
    "video_patch_decoder = masked_autoencoder.VideoPatchDecoding(\n",
    "    emb_size = 512,\n",
    "    in_channels = 5, \n",
    "    space_dim = 32,\n",
    "    time_dim = 10,\n",
    "    space_patch_size = 4, \n",
    "    time_patch_size= 2,\n",
    ")"
   ]
  },
  {
   "cell_type": "code",
   "execution_count": 123,
   "metadata": {},
   "outputs": [
    {
     "ename": "RuntimeError",
     "evalue": "view size is not compatible with input tensor's size and stride (at least one dimension spans across two contiguous subspaces). Use .reshape(...) instead.",
     "output_type": "error",
     "traceback": [
      "\u001b[0;31m---------------------------------------------------------------------------\u001b[0m",
      "\u001b[0;31mRuntimeError\u001b[0m                              Traceback (most recent call last)",
      "\u001b[1;32m/home/lugeon/eeg_project/draft/draft.ipynb Cell 23'\u001b[0m in \u001b[0;36m<cell line: 3>\u001b[0;34m()\u001b[0m\n\u001b[1;32m      <a href='vscode-notebook-cell://ssh-remote%2Bk8s.iccluster.epfl.ch-4/home/lugeon/eeg_project/draft/draft.ipynb#ch0000048vscode-remote?line=0'>1</a>\u001b[0m x \u001b[39m=\u001b[39m video_patch_encoder(\u001b[39minput\u001b[39m)\n\u001b[1;32m      <a href='vscode-notebook-cell://ssh-remote%2Bk8s.iccluster.epfl.ch-4/home/lugeon/eeg_project/draft/draft.ipynb#ch0000048vscode-remote?line=1'>2</a>\u001b[0m x \u001b[39m=\u001b[39m pos_adder(x)\n\u001b[0;32m----> <a href='vscode-notebook-cell://ssh-remote%2Bk8s.iccluster.epfl.ch-4/home/lugeon/eeg_project/draft/draft.ipynb#ch0000048vscode-remote?line=2'>3</a>\u001b[0m x \u001b[39m=\u001b[39m video_patch_decoder(x)\n",
      "File \u001b[0;32m~/miniconda3/envs/eeg-dream-conda/lib/python3.8/site-packages/torch/nn/modules/module.py:1110\u001b[0m, in \u001b[0;36mModule._call_impl\u001b[0;34m(self, *input, **kwargs)\u001b[0m\n\u001b[1;32m   <a href='file:///home/lugeon/miniconda3/envs/eeg-dream-conda/lib/python3.8/site-packages/torch/nn/modules/module.py?line=1105'>1106</a>\u001b[0m \u001b[39m# If we don't have any hooks, we want to skip the rest of the logic in\u001b[39;00m\n\u001b[1;32m   <a href='file:///home/lugeon/miniconda3/envs/eeg-dream-conda/lib/python3.8/site-packages/torch/nn/modules/module.py?line=1106'>1107</a>\u001b[0m \u001b[39m# this function, and just call forward.\u001b[39;00m\n\u001b[1;32m   <a href='file:///home/lugeon/miniconda3/envs/eeg-dream-conda/lib/python3.8/site-packages/torch/nn/modules/module.py?line=1107'>1108</a>\u001b[0m \u001b[39mif\u001b[39;00m \u001b[39mnot\u001b[39;00m (\u001b[39mself\u001b[39m\u001b[39m.\u001b[39m_backward_hooks \u001b[39mor\u001b[39;00m \u001b[39mself\u001b[39m\u001b[39m.\u001b[39m_forward_hooks \u001b[39mor\u001b[39;00m \u001b[39mself\u001b[39m\u001b[39m.\u001b[39m_forward_pre_hooks \u001b[39mor\u001b[39;00m _global_backward_hooks\n\u001b[1;32m   <a href='file:///home/lugeon/miniconda3/envs/eeg-dream-conda/lib/python3.8/site-packages/torch/nn/modules/module.py?line=1108'>1109</a>\u001b[0m         \u001b[39mor\u001b[39;00m _global_forward_hooks \u001b[39mor\u001b[39;00m _global_forward_pre_hooks):\n\u001b[0;32m-> <a href='file:///home/lugeon/miniconda3/envs/eeg-dream-conda/lib/python3.8/site-packages/torch/nn/modules/module.py?line=1109'>1110</a>\u001b[0m     \u001b[39mreturn\u001b[39;00m forward_call(\u001b[39m*\u001b[39;49m\u001b[39minput\u001b[39;49m, \u001b[39m*\u001b[39;49m\u001b[39m*\u001b[39;49mkwargs)\n\u001b[1;32m   <a href='file:///home/lugeon/miniconda3/envs/eeg-dream-conda/lib/python3.8/site-packages/torch/nn/modules/module.py?line=1110'>1111</a>\u001b[0m \u001b[39m# Do not call functions when jit is used\u001b[39;00m\n\u001b[1;32m   <a href='file:///home/lugeon/miniconda3/envs/eeg-dream-conda/lib/python3.8/site-packages/torch/nn/modules/module.py?line=1111'>1112</a>\u001b[0m full_backward_hooks, non_full_backward_hooks \u001b[39m=\u001b[39m [], []\n",
      "File \u001b[0;32m~/eeg_project/scripts/training/representation/masked_autoencoder.py:69\u001b[0m, in \u001b[0;36mVideoPatchDecoding.forward\u001b[0;34m(self, x)\u001b[0m\n\u001b[1;32m     <a href='file:///home/lugeon/eeg_project/scripts/training/representation/masked_autoencoder.py?line=65'>66</a>\u001b[0m x \u001b[39m=\u001b[39m x\u001b[39m.\u001b[39mpermute(\u001b[39m0\u001b[39m, \u001b[39m2\u001b[39m, \u001b[39m1\u001b[39m) \u001b[39m# (batch_size x n_patches x n_pixels)\u001b[39;00m\n\u001b[1;32m     <a href='file:///home/lugeon/eeg_project/scripts/training/representation/masked_autoencoder.py?line=67'>68</a>\u001b[0m batch_size \u001b[39m=\u001b[39m x\u001b[39m.\u001b[39msize(\u001b[39m0\u001b[39m)\n\u001b[0;32m---> <a href='file:///home/lugeon/eeg_project/scripts/training/representation/masked_autoencoder.py?line=68'>69</a>\u001b[0m x \u001b[39m=\u001b[39m x\u001b[39m.\u001b[39;49mview(batch_size, \u001b[39mself\u001b[39;49m\u001b[39m.\u001b[39;49min_channels, \u001b[39mself\u001b[39;49m\u001b[39m.\u001b[39;49mtime_dim, \u001b[39mself\u001b[39;49m\u001b[39m.\u001b[39;49mspace_dim, \u001b[39mself\u001b[39;49m\u001b[39m.\u001b[39;49mspace_dim) \n\u001b[1;32m     <a href='file:///home/lugeon/eeg_project/scripts/training/representation/masked_autoencoder.py?line=69'>70</a>\u001b[0m x \u001b[39m=\u001b[39m x\u001b[39m.\u001b[39mpermute(\u001b[39m0\u001b[39m, \u001b[39m2\u001b[39m, \u001b[39m1\u001b[39m, \u001b[39m3\u001b[39m, \u001b[39m4\u001b[39m) \u001b[39m# (batch_size, time, n_channels, x, y)\u001b[39;00m\n\u001b[1;32m     <a href='file:///home/lugeon/eeg_project/scripts/training/representation/masked_autoencoder.py?line=70'>71</a>\u001b[0m \u001b[39mreturn\u001b[39;00m x\n",
      "\u001b[0;31mRuntimeError\u001b[0m: view size is not compatible with input tensor's size and stride (at least one dimension spans across two contiguous subspaces). Use .reshape(...) instead."
     ]
    }
   ],
   "source": [
    "x = video_patch_encoder(input)\n",
    "x = pos_adder(x)\n",
    "x = video_patch_decoder(x)"
   ]
  },
  {
   "cell_type": "code",
   "execution_count": null,
   "metadata": {},
   "outputs": [],
   "source": []
  }
 ],
 "metadata": {
  "interpreter": {
   "hash": "57ad056f9be674611c76ca607e64a7703485de37232689043f87b90b104ba991"
  },
  "kernelspec": {
   "display_name": "Python 3 (ipykernel)",
   "language": "python",
   "name": "python3"
  },
  "language_info": {
   "codemirror_mode": {
    "name": "ipython",
    "version": 3
   },
   "file_extension": ".py",
   "mimetype": "text/x-python",
   "name": "python",
   "nbconvert_exporter": "python",
   "pygments_lexer": "ipython3",
   "version": "3.8.13"
  },
  "orig_nbformat": 4
 },
 "nbformat": 4,
 "nbformat_minor": 2
}
