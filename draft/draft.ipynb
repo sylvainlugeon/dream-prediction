{
 "cells": [
  {
   "cell_type": "code",
   "execution_count": 1,
   "metadata": {},
   "outputs": [
    {
     "name": "stderr",
     "output_type": "stream",
     "text": [
      "/home/lugeon/miniconda3/envs/eeg-dream-conda/lib/python3.8/site-packages/tqdm/auto.py:22: TqdmWarning: IProgress not found. Please update jupyter and ipywidgets. See https://ipywidgets.readthedocs.io/en/stable/user_install.html\n",
      "  from .autonotebook import tqdm as notebook_tqdm\n"
     ]
    }
   ],
   "source": [
    "import pandas as pd\n",
    "import numpy as np\n",
    "import h5py\n",
    "import sys \n",
    "import glob\n",
    "\n",
    "import matplotlib.pyplot as plt\n",
    "import scipy.io as sio\n",
    "\n",
    "sys.path.append('/home/lugeon/eeg_project/scripts')\n",
    "from training.dataset.datasets import EEG_Image_Batch_Dataset"
   ]
  },
  {
   "cell_type": "code",
   "execution_count": null,
   "metadata": {},
   "outputs": [],
   "source": [
    "from training.representation import models, losses"
   ]
  },
  {
   "cell_type": "code",
   "execution_count": null,
   "metadata": {},
   "outputs": [],
   "source": [
    "loss = losses.AdverserialLoss()"
   ]
  },
  {
   "cell_type": "code",
   "execution_count": 2,
   "metadata": {},
   "outputs": [
    {
     "name": "stdout",
     "output_type": "stream",
     "text": [
      "H009_E1_NREM_S03.img\n",
      "H009_E1_NREM_S05.img\n",
      "H009_E1_NREM_S06.img\n",
      "H009_E1_NREM_S07.img\n",
      "H009_E1_NREM_S09.img\n",
      "H009_E1_REM_S04.img\n",
      "H009_E1_REM_S08.img\n",
      "H009_E1_REM_S12.img\n",
      "H009_E2_NREM_S01.img\n",
      "H009_E2_NREM_S07.img\n",
      "H009_E2_NREM_S08.img\n",
      "H009_E2_NREM_S09.img\n",
      "H009_E1_NREM_S01.img\n",
      "H009_E1_NREM_S02.img\n"
     ]
    }
   ],
   "source": [
    "with np.load('/mlodata1/lugeon/dream_data/processed/healthy/images/H009.npz') as images:\n",
    "    for k in images:\n",
    "        print(k)"
   ]
  },
  {
   "cell_type": "code",
   "execution_count": 4,
   "metadata": {},
   "outputs": [
    {
     "data": {
      "text/plain": [
       "(237, 5, 32, 32)"
      ]
     },
     "execution_count": 4,
     "metadata": {},
     "output_type": "execute_result"
    }
   ],
   "source": [
    "with np.load('/home/lugeon/eeg_project/H009.npz') as images:\n",
    "    h018 = images['H009_E1_REM_S12.img']\n",
    "\n",
    "h018.shape"
   ]
  },
  {
   "cell_type": "code",
   "execution_count": 5,
   "metadata": {},
   "outputs": [
    {
     "data": {
      "image/png": "[encoded data removed]",
      "text/plain": [
       "<Figure size 432x288 with 2 Axes>"
      ]
     },
     "metadata": {
      "needs_background": "light"
     },
     "output_type": "display_data"
    }
   ],
   "source": [
    "fig, ax = plt.subplots()\n",
    "shw = ax.imshow(h018[3, 4, :, :], cmap='bone', vmin=-2, vmax=2);\n",
    "bar = plt.colorbar(shw)"
   ]
  },
  {
   "cell_type": "code",
   "execution_count": null,
   "metadata": {},
   "outputs": [],
   "source": [
    "fig, ax = plt.subplots()\n",
    "shw = ax.imshow(h018[0, 1, :, :], cmap='bone', vmin=-2, vmax=2);\n",
    "bar = plt.colorbar(shw)"
   ]
  },
  {
   "cell_type": "code",
   "execution_count": null,
   "metadata": {},
   "outputs": [],
   "source": [
    "with h5py.File('/mlodata1/yuecetue/eeg-dreams/YuceturkThesis2020/Data/hdf5/32_32_FFT_data_all_bands_120s_20sbj_log_z-score_stages23') as f:\n",
    "    for k in f:\n",
    "        print(f[k])"
   ]
  },
  {
   "cell_type": "code",
   "execution_count": 4,
   "metadata": {},
   "outputs": [
    {
     "name": "stdout",
     "output_type": "stream",
     "text": [
      "<HDF5 dataset \"frame_id\": shape (46176,), type \"<f4\">\n",
      "<HDF5 dataset \"images\": shape (46176, 5, 32, 32), type \"<f4\">\n",
      "<HDF5 dataset \"labels\": shape (46176,), type \"<f4\">\n",
      "<HDF5 dataset \"sleep_cycle\": shape (46176,), type \"<f4\">\n",
      "<HDF5 dataset \"sleep_stage\": shape (46176,), type \"<f4\">\n",
      "<HDF5 dataset \"subject_id\": shape (46176,), type \"<f4\">\n",
      "<HDF5 dataset \"subject_name\": shape (1,), type \"|S4\">\n",
      "<HDF5 dataset \"trial_id\": shape (46176,), type \"<f4\">\n"
     ]
    }
   ],
   "source": [
    "with h5py.File('/mlodata1/lugeon/dream_data/processed/baseline/dataset_bis.h5') as f:\n",
    "    for k in f:\n",
    "        print(f[k])\n",
    "\n",
    "    frame_id = f['frame_id'][:]\n",
    "    subject_id = f['subject_id'][:]\n",
    "    trial_id = f['trial_id'][:]\n",
    "    images = f['images'][:]\n",
    "    labels = f['labels'][:]\n",
    "    sleep_cycle = f['sleep_cycle'][:]"
   ]
  },
  {
   "cell_type": "code",
   "execution_count": 8,
   "metadata": {},
   "outputs": [
    {
     "data": {
      "text/plain": [
       "2.0    14814\n",
       "3.0    10614\n",
       "4.0    10494\n",
       "1.0    10254\n",
       "dtype: int64"
      ]
     },
     "execution_count": 8,
     "metadata": {},
     "output_type": "execute_result"
    }
   ],
   "source": [
    "pd.DataFrame(sleep_cycle).value_counts()"
   ]
  },
  {
   "cell_type": "code",
   "execution_count": 12,
   "metadata": {},
   "outputs": [],
   "source": [
    "with h5py.File('/mlodata1/lugeon/dream_data/processed/healthy/dataset_small.h5') as f:\n",
    "\n",
    "    df = pd.DataFrame({\n",
    "                'sid': f['subject_id'][:], \n",
    "                'tid': f['trial_id'][:], \n",
    "                'fid': f['frame_id'][:],\n",
    "                'ss': f['sleep_stage'][:]\n",
    "                })"
   ]
  },
  {
   "cell_type": "code",
   "execution_count": 34,
   "metadata": {},
   "outputs": [
    {
     "name": "stdout",
     "output_type": "stream",
     "text": [
      "#refs#\n",
      "chanlocs\n",
      "condi\n",
      "datavr\n",
      "events\n",
      "numseg\n",
      "ordseg\n",
      "reactime\n",
      "srate\n",
      "stage\n",
      "subject\n"
     ]
    }
   ],
   "source": [
    "file_path = '/mlodata1/lugeon/dream_data/chuv/healthy/H009/H009_E1_NREM_S01.mat'\n",
    "with h5py.File(file_path,'r') as file:\n",
    "        for k in file:\n",
    "                print(k)\n",
    "        time_signal = np.array(file['subject'])"
   ]
  },
  {
   "cell_type": "code",
   "execution_count": 35,
   "metadata": {},
   "outputs": [
    {
     "data": {
      "text/plain": [
       "array([[72],\n",
       "       [48],\n",
       "       [48],\n",
       "       [57]], dtype=uint16)"
      ]
     },
     "execution_count": 35,
     "metadata": {},
     "output_type": "execute_result"
    }
   ],
   "source": [
    "time_signal"
   ]
  },
  {
   "cell_type": "code",
   "execution_count": 14,
   "metadata": {},
   "outputs": [
    {
     "data": {
      "text/plain": [
       "(257, 60000)"
      ]
     },
     "execution_count": 14,
     "metadata": {},
     "output_type": "execute_result"
    }
   ],
   "source": [
    "file_path = '/mlodata1/lugeon/dream_data/chuv/healthy/M001/M001_E10_NREM_S4.mat'\n",
    "sio.loadmat(file_path)['datavr_2min'].shape"
   ]
  },
  {
   "cell_type": "code",
   "execution_count": 6,
   "metadata": {},
   "outputs": [
    {
     "data": {
      "text/plain": [
       "array([ 0,  1,  2,  3,  4,  5,  6,  7,  8,  9, 20])"
      ]
     },
     "execution_count": 6,
     "metadata": {},
     "output_type": "execute_result"
    }
   ],
   "source": [
    "np.append(np.arange(10), 20)"
   ]
  },
  {
   "cell_type": "code",
   "execution_count": 3,
   "metadata": {},
   "outputs": [
    {
     "name": "stderr",
     "output_type": "stream",
     "text": [
      "/home/lugeon/miniconda3/envs/eeg-dream-conda/lib/python3.8/site-packages/tqdm/auto.py:22: TqdmWarning: IProgress not found. Please update jupyter and ipywidgets. See https://ipywidgets.readthedocs.io/en/stable/user_install.html\n",
      "  from .autonotebook import tqdm as notebook_tqdm\n"
     ]
    }
   ],
   "source": [
    "import torch\n",
    "from torch import nn\n",
    "import importlib\n",
    "sys.path.append('/home/lugeon/eeg_project/scripts')\n",
    "from training.representation import models"
   ]
  },
  {
   "cell_type": "code",
   "execution_count": 3,
   "metadata": {},
   "outputs": [
    {
     "data": {
      "text/plain": [
       "<module 'training.representation.models' from '/home/lugeon/eeg_project/scripts/training/representation/models/__init__.py'>"
      ]
     },
     "execution_count": 3,
     "metadata": {},
     "output_type": "execute_result"
    }
   ],
   "source": [
    "importlib.reload(models)"
   ]
  },
  {
   "cell_type": "code",
   "execution_count": 7,
   "metadata": {},
   "outputs": [],
   "source": [
    "result_dir = '/home/lugeon/eeg_project/scripts/training/representation/result'\n",
    "#model_name = 'arch_comparison/next_frame_vgg_maxpool'\n",
    "model_name = 'transformers/masked_auto_encoder_mask9'\n",
    "encoder_model_dir = f'{result_dir}/{model_name}'\n",
    "\n",
    "d = torch.load(encoder_model_dir + '/checkpoint.pt')"
   ]
  },
  {
   "cell_type": "code",
   "execution_count": 13,
   "metadata": {},
   "outputs": [],
   "source": [
    "d_ = {k.replace('patch_encoder', 'patch_transform').replace('patch_decoder', 'pixel_transform'):v for k, v in d.items()}"
   ]
  },
  {
   "cell_type": "code",
   "execution_count": null,
   "metadata": {},
   "outputs": [],
   "source": [
    "torch.save(d_, encoder_model_dir + '/checkpoint.pt')"
   ]
  },
  {
   "cell_type": "code",
   "execution_count": 14,
   "metadata": {},
   "outputs": [
    {
     "data": {
      "text/plain": [
       "dict_keys(['mask_token', 'encoder.0.0.fn.0.weight', 'encoder.0.0.fn.0.bias', 'encoder.0.0.fn.1.qkv.weight', 'encoder.0.0.fn.1.qkv.bias', 'encoder.0.0.fn.1.projection.weight', 'encoder.0.0.fn.1.projection.bias', 'encoder.0.1.fn.0.weight', 'encoder.0.1.fn.0.bias', 'encoder.0.1.fn.1.0.weight', 'encoder.0.1.fn.1.0.bias', 'encoder.0.1.fn.1.3.weight', 'encoder.0.1.fn.1.3.bias', 'encoder.1.0.fn.0.weight', 'encoder.1.0.fn.0.bias', 'encoder.1.0.fn.1.qkv.weight', 'encoder.1.0.fn.1.qkv.bias', 'encoder.1.0.fn.1.projection.weight', 'encoder.1.0.fn.1.projection.bias', 'encoder.1.1.fn.0.weight', 'encoder.1.1.fn.0.bias', 'encoder.1.1.fn.1.0.weight', 'encoder.1.1.fn.1.0.bias', 'encoder.1.1.fn.1.3.weight', 'encoder.1.1.fn.1.3.bias', 'encoder.2.0.fn.0.weight', 'encoder.2.0.fn.0.bias', 'encoder.2.0.fn.1.qkv.weight', 'encoder.2.0.fn.1.qkv.bias', 'encoder.2.0.fn.1.projection.weight', 'encoder.2.0.fn.1.projection.bias', 'encoder.2.1.fn.0.weight', 'encoder.2.1.fn.0.bias', 'encoder.2.1.fn.1.0.weight', 'encoder.2.1.fn.1.0.bias', 'encoder.2.1.fn.1.3.weight', 'encoder.2.1.fn.1.3.bias', 'encoder.3.0.fn.0.weight', 'encoder.3.0.fn.0.bias', 'encoder.3.0.fn.1.qkv.weight', 'encoder.3.0.fn.1.qkv.bias', 'encoder.3.0.fn.1.projection.weight', 'encoder.3.0.fn.1.projection.bias', 'encoder.3.1.fn.0.weight', 'encoder.3.1.fn.0.bias', 'encoder.3.1.fn.1.0.weight', 'encoder.3.1.fn.1.0.bias', 'encoder.3.1.fn.1.3.weight', 'encoder.3.1.fn.1.3.bias', 'encoder.4.0.fn.0.weight', 'encoder.4.0.fn.0.bias', 'encoder.4.0.fn.1.qkv.weight', 'encoder.4.0.fn.1.qkv.bias', 'encoder.4.0.fn.1.projection.weight', 'encoder.4.0.fn.1.projection.bias', 'encoder.4.1.fn.0.weight', 'encoder.4.1.fn.0.bias', 'encoder.4.1.fn.1.0.weight', 'encoder.4.1.fn.1.0.bias', 'encoder.4.1.fn.1.3.weight', 'encoder.4.1.fn.1.3.bias', 'encoder.5.0.fn.0.weight', 'encoder.5.0.fn.0.bias', 'encoder.5.0.fn.1.qkv.weight', 'encoder.5.0.fn.1.qkv.bias', 'encoder.5.0.fn.1.projection.weight', 'encoder.5.0.fn.1.projection.bias', 'encoder.5.1.fn.0.weight', 'encoder.5.1.fn.0.bias', 'encoder.5.1.fn.1.0.weight', 'encoder.5.1.fn.1.0.bias', 'encoder.5.1.fn.1.3.weight', 'encoder.5.1.fn.1.3.bias', 'encoder.6.0.fn.0.weight', 'encoder.6.0.fn.0.bias', 'encoder.6.0.fn.1.qkv.weight', 'encoder.6.0.fn.1.qkv.bias', 'encoder.6.0.fn.1.projection.weight', 'encoder.6.0.fn.1.projection.bias', 'encoder.6.1.fn.0.weight', 'encoder.6.1.fn.0.bias', 'encoder.6.1.fn.1.0.weight', 'encoder.6.1.fn.1.0.bias', 'encoder.6.1.fn.1.3.weight', 'encoder.6.1.fn.1.3.bias', 'encoder.7.0.fn.0.weight', 'encoder.7.0.fn.0.bias', 'encoder.7.0.fn.1.qkv.weight', 'encoder.7.0.fn.1.qkv.bias', 'encoder.7.0.fn.1.projection.weight', 'encoder.7.0.fn.1.projection.bias', 'encoder.7.1.fn.0.weight', 'encoder.7.1.fn.0.bias', 'encoder.7.1.fn.1.0.weight', 'encoder.7.1.fn.1.0.bias', 'encoder.7.1.fn.1.3.weight', 'encoder.7.1.fn.1.3.bias', 'decoder.0.0.fn.0.weight', 'decoder.0.0.fn.0.bias', 'decoder.0.0.fn.1.qkv.weight', 'decoder.0.0.fn.1.qkv.bias', 'decoder.0.0.fn.1.projection.weight', 'decoder.0.0.fn.1.projection.bias', 'decoder.0.1.fn.0.weight', 'decoder.0.1.fn.0.bias', 'decoder.0.1.fn.1.0.weight', 'decoder.0.1.fn.1.0.bias', 'decoder.0.1.fn.1.3.weight', 'decoder.0.1.fn.1.3.bias', 'decoder.1.0.fn.0.weight', 'decoder.1.0.fn.0.bias', 'decoder.1.0.fn.1.qkv.weight', 'decoder.1.0.fn.1.qkv.bias', 'decoder.1.0.fn.1.projection.weight', 'decoder.1.0.fn.1.projection.bias', 'decoder.1.1.fn.0.weight', 'decoder.1.1.fn.0.bias', 'decoder.1.1.fn.1.0.weight', 'decoder.1.1.fn.1.0.bias', 'decoder.1.1.fn.1.3.weight', 'decoder.1.1.fn.1.3.bias', 'pos_adder.time_space_positions', 'patch_transform.projection.weight', 'patch_transform.projection.bias', 'pixel_transform.projection.weight', 'pixel_transform.projection.bias'])"
      ]
     },
     "execution_count": 14,
     "metadata": {},
     "output_type": "execute_result"
    }
   ],
   "source": [
    "d_.keys()"
   ]
  },
  {
   "cell_type": "code",
   "execution_count": 1,
   "metadata": {},
   "outputs": [],
   "source": [
    "d = {'1': 1, '2': 2}"
   ]
  },
  {
   "cell_type": "code",
   "execution_count": 3,
   "metadata": {},
   "outputs": [
    {
     "data": {
      "text/plain": [
       "True"
      ]
     },
     "execution_count": 3,
     "metadata": {},
     "output_type": "execute_result"
    }
   ],
   "source": [
    "'1' in d.keys()"
   ]
  },
  {
   "cell_type": "code",
   "execution_count": 17,
   "metadata": {},
   "outputs": [
    {
     "data": {
      "text/plain": [
       "4"
      ]
     },
     "execution_count": 17,
     "metadata": {},
     "output_type": "execute_result"
    }
   ],
   "source": [
    "torch.arange(5)[[0, 4]].sum().item()"
   ]
  },
  {
   "cell_type": "code",
   "execution_count": 21,
   "metadata": {},
   "outputs": [
    {
     "data": {
      "text/plain": [
       "tensor([1, 2])"
      ]
     },
     "execution_count": 21,
     "metadata": {},
     "output_type": "execute_result"
    }
   ],
   "source": [
    "torch.stack((torch.tensor(1), torch.tensor(2)))"
   ]
  },
  {
   "cell_type": "code",
   "execution_count": 5,
   "metadata": {},
   "outputs": [
    {
     "data": {
      "text/plain": [
       "'0.12'"
      ]
     },
     "execution_count": 5,
     "metadata": {},
     "output_type": "execute_result"
    }
   ],
   "source": [
    "n = '.2f'\n",
    "f'{0.1234:{n}}'"
   ]
  },
  {
   "cell_type": "code",
   "execution_count": 12,
   "metadata": {},
   "outputs": [
    {
     "data": {
      "text/plain": [
       "'[0.12, 0.57]'"
      ]
     },
     "execution_count": 12,
     "metadata": {},
     "output_type": "execute_result"
    }
   ],
   "source": [
    "f\"[{', '.join([f'{e:.2f}' for e in [0.1234, 0.5678]])}]\""
   ]
  },
  {
   "cell_type": "code",
   "execution_count": null,
   "metadata": {},
   "outputs": [],
   "source": []
  }
 ],
 "metadata": {
  "interpreter": {
   "hash": "57ad056f9be674611c76ca607e64a7703485de37232689043f87b90b104ba991"
  },
  "kernelspec": {
   "display_name": "Python 3 (ipykernel)",
   "language": "python",
   "name": "python3"
  },
  "language_info": {
   "codemirror_mode": {
    "name": "ipython",
    "version": 3
   },
   "file_extension": ".py",
   "mimetype": "text/x-python",
   "name": "python",
   "nbconvert_exporter": "python",
   "pygments_lexer": "ipython3",
   "version": "3.8.13"
  },
  "orig_nbformat": 4
 },
 "nbformat": 4,
 "nbformat_minor": 2
}
