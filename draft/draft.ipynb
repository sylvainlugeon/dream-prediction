{
 "cells": [
  {
   "cell_type": "code",
   "execution_count": 5,
   "metadata": {},
   "outputs": [],
   "source": [
    "import pandas as pd\n",
    "import numpy as np\n",
    "import h5py\n",
    "import sys \n",
    "import glob\n",
    "\n",
    "import matplotlib.pyplot as plt\n",
    "import scipy.io\n",
    "\n",
    "sys.path.append('/home/lugeon/eeg_project/scripts')\n"
   ]
  },
  {
   "cell_type": "code",
   "execution_count": 2,
   "metadata": {},
   "outputs": [
    {
     "name": "stdout",
     "output_type": "stream",
     "text": [
      "H009_E1_NREM_S03.img\n",
      "H009_E1_NREM_S05.img\n",
      "H009_E1_NREM_S06.img\n",
      "H009_E1_NREM_S07.img\n",
      "H009_E1_NREM_S09.img\n",
      "H009_E1_REM_S04.img\n",
      "H009_E1_REM_S08.img\n",
      "H009_E1_REM_S12.img\n",
      "H009_E2_NREM_S01.img\n",
      "H009_E2_NREM_S07.img\n",
      "H009_E2_NREM_S08.img\n",
      "H009_E2_NREM_S09.img\n",
      "H009_E1_NREM_S01.img\n",
      "H009_E1_NREM_S02.img\n"
     ]
    }
   ],
   "source": [
    "with np.load('/mlodata1/lugeon/dream_data/processed/healthy/images/H009.npz') as images:\n",
    "    for k in images:\n",
    "        print(k)"
   ]
  },
  {
   "cell_type": "code",
   "execution_count": 3,
   "metadata": {},
   "outputs": [
    {
     "data": {
      "text/plain": [
       "(237, 5, 32, 32)"
      ]
     },
     "execution_count": 3,
     "metadata": {},
     "output_type": "execute_result"
    }
   ],
   "source": [
    "with np.load('/mlodata1/lugeon/dream_data/processed/healthy/images/H009.npz') as images:\n",
    "    h018 = images['H009_E1_REM_S12.img']\n",
    "\n",
    "h018.shape"
   ]
  },
  {
   "cell_type": "code",
   "execution_count": 15,
   "metadata": {},
   "outputs": [
    {
     "data": {
      "image/png": "[encoded data removed]",
      "text/plain": [
       "<Figure size 432x288 with 2 Axes>"
      ]
     },
     "metadata": {
      "needs_background": "light"
     },
     "output_type": "display_data"
    }
   ],
   "source": [
    "fig, ax = plt.subplots()\n",
    "shw = ax.imshow(h018[1, 2, :, :], cmap='bone', vmin=-2, vmax=2);\n",
    "bar = plt.colorbar(shw)"
   ]
  },
  {
   "cell_type": "code",
   "execution_count": 6,
   "metadata": {},
   "outputs": [
    {
     "data": {
      "image/png": "[encoded data removed]",
      "text/plain": [
       "<Figure size 432x288 with 2 Axes>"
      ]
     },
     "metadata": {
      "needs_background": "light"
     },
     "output_type": "display_data"
    }
   ],
   "source": [
    "fig, ax = plt.subplots()\n",
    "shw = ax.imshow(h018[0, 1, :, :], cmap='bone', vmin=-2, vmax=2);\n",
    "bar = plt.colorbar(shw)"
   ]
  },
  {
   "cell_type": "code",
   "execution_count": 7,
   "metadata": {},
   "outputs": [
    {
     "name": "stdout",
     "output_type": "stream",
     "text": [
      "<HDF5 dataset \"fileindexes\": shape (94326,), type \"<f4\">\n",
      "<HDF5 dataset \"images\": shape (94326, 5, 32, 32), type \"<f4\">\n",
      "<HDF5 dataset \"labels\": shape (94326,), type \"<f4\">\n",
      "<HDF5 dataset \"subfileindexes\": shape (94326,), type \"<f4\">\n",
      "<HDF5 dataset \"subjects\": shape (94326,), type \"|S4\">\n"
     ]
    }
   ],
   "source": [
    "with h5py.File('/mlodata1/yuecetue/eeg-dreams/YuceturkThesis2020/Data/hdf5/32_32_FFT_data_all_bands_120s_20sbj_log_z-score_stages23') as f:\n",
    "    for k in f:\n",
    "        print(f[k])"
   ]
  },
  {
   "cell_type": "code",
   "execution_count": 3,
   "metadata": {},
   "outputs": [
    {
     "name": "stdout",
     "output_type": "stream",
     "text": [
      "<HDF5 dataset \"frame_id\": shape (2370,), type \"<f4\">\n",
      "<HDF5 dataset \"images\": shape (2370, 5, 32, 32), type \"<f4\">\n",
      "<HDF5 dataset \"labels\": shape (2370,), type \"<f4\">\n",
      "<HDF5 dataset \"subject_id\": shape (2370,), type \"<f4\">\n",
      "<HDF5 dataset \"subject_name\": shape (20,), type \"|S4\">\n",
      "<HDF5 dataset \"trial_id\": shape (2370,), type \"<f4\">\n"
     ]
    }
   ],
   "source": [
    "with h5py.File('/mlodata1/lugeon/dream_data/processed/healthy/dataset_small.h5') as f:\n",
    "    for k in f:\n",
    "        print(f[k])\n",
    "\n",
    "    frame_id = f['frame_id'][:]\n",
    "    subject_id = f['subject_id'][:]\n",
    "    trial_id = f['trial_id'][:]\n",
    "    images = f['images'][:]\n",
    "    labels = f['labels'][:]"
   ]
  },
  {
   "cell_type": "code",
   "execution_count": 10,
   "metadata": {},
   "outputs": [],
   "source": [
    "with h5py.File('/mlodata1/lugeon/dream_data/processed/healthy/dataset_small.h5') as f:\n",
    "\n",
    "    df = pd.DataFrame({\n",
    "                'sid': f['subject_id'][:], \n",
    "                'tid': f['trial_id'][:], \n",
    "                'fid': f['frame_id'][:]\n",
    "                })"
   ]
  },
  {
   "cell_type": "code",
   "execution_count": 11,
   "metadata": {},
   "outputs": [
    {
     "data": {
      "text/plain": [
       "(2370, 3)"
      ]
     },
     "execution_count": 11,
     "metadata": {},
     "output_type": "execute_result"
    }
   ],
   "source": [
    "df.shape"
   ]
  },
  {
   "cell_type": "code",
   "execution_count": 19,
   "metadata": {},
   "outputs": [],
   "source": [
    "sys.path.append('/home/lugeon/eeg_project/scripts')\n",
    "from training.representation.dataset import EEG_Image_Batch_Dataset"
   ]
  },
  {
   "cell_type": "code",
   "execution_count": 67,
   "metadata": {},
   "outputs": [],
   "source": [
    "import numpy as np\n",
    "\n",
    "def identity(array):\n",
    "    return array\n",
    "\n",
    "def reverse(array):\n",
    "    return array[:, ::-1]\n",
    "\n",
    "def add_gaussian_noise(array, mean=0, std=1):\n",
    "    return array + np.random.normal(mean, std, array.shape)\n",
    "\n",
    "def permute_frames(array):\n",
    "    return np.stack([np.random.permutation(vid) for vid in array])\n",
    "\n",
    "def jitter_channels(array, low=0.5, high=2):\n",
    "    \"\"\" Randomly multiply the amplitude of the channels, independently for each video.\n",
    "\n",
    "    Args:\n",
    "        array (_type_): _description_\n",
    "        low (float, optional): _description_. Defaults to 0.5.\n",
    "        high (int, optional): _description_. Defaults to 2.\n",
    "\n",
    "    Returns:\n",
    "        _type_: _description_\n",
    "    \"\"\"\n",
    "    n_channels = array.shape[2]\n",
    "    jittered = [\n",
    "        np.swapaxes(\n",
    "            np.swapaxes(vid, -1, 1) * np.random.uniform(low, high, n_channels), \n",
    "            -1, 1) \n",
    "        for vid in array\n",
    "        ] # swap axes, broadcast, swap back\n",
    "    \n",
    "    return np.stack(jittered)"
   ]
  },
  {
   "cell_type": "code",
   "execution_count": 17,
   "metadata": {},
   "outputs": [
    {
     "data": {
      "text/plain": [
       "array([[[[ 1, -1],\n",
       "         [ 1, -1]],\n",
       "\n",
       "        [[ 2, -2],\n",
       "         [ 2, -2]]],\n",
       "\n",
       "\n",
       "       [[[ 3, -3],\n",
       "         [ 3, -3]],\n",
       "\n",
       "        [[ 4, -4],\n",
       "         [ 4, -4]]]])"
      ]
     },
     "execution_count": 17,
     "metadata": {},
     "output_type": "execute_result"
    }
   ],
   "source": [
    "test_array = np.array([\n",
    "    [\n",
    "        [[1, -1], [1, -1]], # frame\n",
    "        [[2, -2], [2, -2]]\n",
    "    ],\n",
    "    [\n",
    "        [[3, -3], [3, -3]], \n",
    "        [[4, -4], [4, -4]]\n",
    "    ]\n",
    "])\n",
    "test_array"
   ]
  },
  {
   "cell_type": "code",
   "execution_count": 28,
   "metadata": {},
   "outputs": [
    {
     "data": {
      "text/plain": [
       "array([[[[ 2, -2],\n",
       "         [ 2, -2]],\n",
       "\n",
       "        [[ 1, -1],\n",
       "         [ 1, -1]]],\n",
       "\n",
       "\n",
       "       [[[ 3, -3],\n",
       "         [ 3, -3]],\n",
       "\n",
       "        [[ 4, -4],\n",
       "         [ 4, -4]]]])"
      ]
     },
     "execution_count": 28,
     "metadata": {},
     "output_type": "execute_result"
    }
   ],
   "source": [
    "batch_size, n_frames, _, _,  = test_array.shape\n",
    "\n",
    "# one permutation per video\n",
    "ix = np.arange(batch_size * n_frames).reshape(batch_size, n_frames)\n",
    "np.apply_along_axis(np.random.shuffle, 1, ix)\n",
    "\n",
    "# reshape and permute frames\n",
    "per = test_array.reshape(batch_size * n_frames, -1)[ix.flatten(), :]\n",
    "\n",
    "per.reshape(test_array.shape)"
   ]
  },
  {
   "cell_type": "code",
   "execution_count": 16,
   "metadata": {},
   "outputs": [
    {
     "data": {
      "text/plain": [
       "array([[ 1, -1,  1, -1],\n",
       "       [ 2, -2,  2, -2],\n",
       "       [ 3, -3,  3, -3],\n",
       "       [ 4, -4,  4, -4]])"
      ]
     },
     "execution_count": 16,
     "metadata": {},
     "output_type": "execute_result"
    }
   ],
   "source": [
    "per = test_array.reshape(batch_size * n_frames, -1)\n",
    "per"
   ]
  },
  {
   "cell_type": "code",
   "execution_count": 42,
   "metadata": {},
   "outputs": [
    {
     "data": {
      "text/plain": [
       "array([[[[ 0.80363034, -0.80363034],\n",
       "         [ 0.98629269, -0.98629269]],\n",
       "\n",
       "        [[ 1.60726068, -1.60726068],\n",
       "         [ 1.97258537, -1.97258537]]],\n",
       "\n",
       "\n",
       "       [[[ 1.51557317, -1.51557317],\n",
       "         [ 2.21595764, -2.21595764]],\n",
       "\n",
       "        [[ 2.02076423, -2.02076423],\n",
       "         [ 2.95461018, -2.95461018]]]])"
      ]
     },
     "execution_count": 42,
     "metadata": {},
     "output_type": "execute_result"
    }
   ],
   "source": [
    "(test_array.swapaxes(1, 2).T * r).T.swapaxes(1, 2)"
   ]
  },
  {
   "cell_type": "code",
   "execution_count": 54,
   "metadata": {},
   "outputs": [],
   "source": [
    "import yaml\n",
    "\n",
    "txt = \"\"\" \n",
    "      - f: add_gaussian_noise\n",
    "        kwargs:\n",
    "          mean: 0\n",
    "          std: 5\n",
    "      - f: jitter_channels\n",
    "        kwargs:\n",
    "          low: 0.2\n",
    "          high: 4\n",
    "\"\"\"\n",
    "\n",
    "transforms = yaml.load(txt, Loader=yaml.FullLoader)"
   ]
  },
  {
   "cell_type": "code",
   "execution_count": 61,
   "metadata": {},
   "outputs": [
    {
     "data": {
      "text/plain": [
       "[{'f': 'add_gaussian_noise', 'kwargs': {}},\n",
       " {'f': 'jitter_channels', 'kwargs': {'low': 0.2, 'high': 4}}]"
      ]
     },
     "execution_count": 61,
     "metadata": {},
     "output_type": "execute_result"
    }
   ],
   "source": [
    "txt = \"\"\" \n",
    "- f: add_gaussian_noise\n",
    "  kwargs: {}\n",
    "  \n",
    "- f: jitter_channels\n",
    "  kwargs:\n",
    "    low: 0.2\n",
    "    high: 4\n",
    "\"\"\"\n",
    "\n",
    "yaml.load(txt, Loader=yaml.FullLoader)"
   ]
  },
  {
   "cell_type": "code",
   "execution_count": 51,
   "metadata": {},
   "outputs": [
    {
     "data": {
      "text/plain": [
       "[{'name': 'add_gaussian_noise', 'kwargs': {'mean': 0, 'std': 5}},\n",
       " {'name': 'jitter_channels', 'kwargs': {'low': 0.2, 'high': 4}}]"
      ]
     },
     "execution_count": 51,
     "metadata": {},
     "output_type": "execute_result"
    }
   ],
   "source": [
    "transforms"
   ]
  },
  {
   "cell_type": "code",
   "execution_count": 52,
   "metadata": {},
   "outputs": [],
   "source": [
    "sys.path.append('/home/lugeon/eeg_project/scripts')\n",
    "from training.representation import cl_transforms"
   ]
  },
  {
   "cell_type": "code",
   "execution_count": 56,
   "metadata": {},
   "outputs": [],
   "source": [
    "for t in transforms:\n",
    "    t['f'] = getattr(cl_transforms, t['f'])"
   ]
  },
  {
   "cell_type": "code",
   "execution_count": 57,
   "metadata": {},
   "outputs": [
    {
     "data": {
      "text/plain": [
       "[{'f': <function training.representation.cl_transforms.add_gaussian_noise(array: <built-in function array>, mean: float = 0, std: float = 1)>,\n",
       "  'kwargs': {'mean': 0, 'std': 5}},\n",
       " {'f': <function training.representation.cl_transforms.jitter_channels(array: <built-in function array>, low: float = 0.5, high: float = 2)>,\n",
       "  'kwargs': {'low': 0.2, 'high': 4}}]"
      ]
     },
     "execution_count": 57,
     "metadata": {},
     "output_type": "execute_result"
    }
   ],
   "source": [
    "transforms"
   ]
  },
  {
   "cell_type": "code",
   "execution_count": 31,
   "metadata": {},
   "outputs": [],
   "source": [
    "hdf5_file = '/mlodata1/lugeon/dream_data/processed/healthy/dataset_small.h5'\n",
    "\n",
    "dataset = EEG_Image_Batch_Dataset(hdf5_file, \n",
    "                                  window=20, \n",
    "                                  slide=5, \n",
    "                                  batch_size=64, \n",
    "                                  shuffle=False, \n",
    "                                  output_type='transform',\n",
    "                                  transforms = [identity, reverse])"
   ]
  },
  {
   "cell_type": "code",
   "execution_count": 32,
   "metadata": {},
   "outputs": [],
   "source": [
    "input, output = dataset[0]"
   ]
  },
  {
   "cell_type": "code",
   "execution_count": 33,
   "metadata": {},
   "outputs": [
    {
     "data": {
      "text/plain": [
       "(64, 20, 5, 32, 32)"
      ]
     },
     "execution_count": 33,
     "metadata": {},
     "output_type": "execute_result"
    }
   ],
   "source": [
    "input.shape"
   ]
  },
  {
   "cell_type": "code",
   "execution_count": 37,
   "metadata": {},
   "outputs": [
    {
     "data": {
      "text/plain": [
       "True"
      ]
     },
     "execution_count": 37,
     "metadata": {},
     "output_type": "execute_result"
    }
   ],
   "source": [
    "(input[0][::-1, :] == output[0][:]).all()"
   ]
  },
  {
   "cell_type": "code",
   "execution_count": 13,
   "metadata": {},
   "outputs": [
    {
     "data": {
      "text/plain": [
       "(1896,)"
      ]
     },
     "execution_count": 13,
     "metadata": {},
     "output_type": "execute_result"
    }
   ],
   "source": [
    "dataset[0][1].shape"
   ]
  },
  {
   "cell_type": "code",
   "execution_count": 42,
   "metadata": {},
   "outputs": [
    {
     "data": {
      "text/plain": [
       "8"
      ]
     },
     "execution_count": 42,
     "metadata": {},
     "output_type": "execute_result"
    }
   ],
   "source": [
    "len(dataset)"
   ]
  },
  {
   "cell_type": "code",
   "execution_count": 43,
   "metadata": {},
   "outputs": [
    {
     "data": {
      "text/plain": [
       "19.0    474\n",
       "0.0     237\n",
       "3.0     237\n",
       "4.0     237\n",
       "5.0     237\n",
       "7.0     237\n",
       "11.0    237\n",
       "15.0    237\n",
       "18.0    237\n",
       "Name: sid, dtype: int64"
      ]
     },
     "execution_count": 43,
     "metadata": {},
     "output_type": "execute_result"
    }
   ],
   "source": [
    "df.sid.value_counts()"
   ]
  },
  {
   "cell_type": "code",
   "execution_count": 3,
   "metadata": {},
   "outputs": [
    {
     "data": {
      "text/html": [
       "<div>\n",
       "<style scoped>\n",
       "    .dataframe tbody tr th:only-of-type {\n",
       "        vertical-align: middle;\n",
       "    }\n",
       "\n",
       "    .dataframe tbody tr th {\n",
       "        vertical-align: top;\n",
       "    }\n",
       "\n",
       "    .dataframe thead th {\n",
       "        text-align: right;\n",
       "    }\n",
       "</style>\n",
       "<table border=\"1\" class=\"dataframe\">\n",
       "  <thead>\n",
       "    <tr style=\"text-align: right;\">\n",
       "      <th></th>\n",
       "      <th>file_path</th>\n",
       "      <th>file_name</th>\n",
       "      <th>subject</th>\n",
       "      <th>stage</th>\n",
       "      <th>trial_num</th>\n",
       "    </tr>\n",
       "  </thead>\n",
       "  <tbody>\n",
       "    <tr>\n",
       "      <th>0</th>\n",
       "      <td>H009/REM_c3.mat</td>\n",
       "      <td>REM_c3.mat</td>\n",
       "      <td>H009</td>\n",
       "      <td>REM</td>\n",
       "      <td>c3.mat</td>\n",
       "    </tr>\n",
       "    <tr>\n",
       "      <th>1</th>\n",
       "      <td>H009/REM_c4.mat</td>\n",
       "      <td>REM_c4.mat</td>\n",
       "      <td>H009</td>\n",
       "      <td>REM</td>\n",
       "      <td>c4.mat</td>\n",
       "    </tr>\n",
       "    <tr>\n",
       "      <th>2</th>\n",
       "      <td>H009/NREM_c1.mat</td>\n",
       "      <td>NREM_c1.mat</td>\n",
       "      <td>H009</td>\n",
       "      <td>NREM</td>\n",
       "      <td>c1.mat</td>\n",
       "    </tr>\n",
       "    <tr>\n",
       "      <th>3</th>\n",
       "      <td>H009/NREM_c2.mat</td>\n",
       "      <td>NREM_c2.mat</td>\n",
       "      <td>H009</td>\n",
       "      <td>NREM</td>\n",
       "      <td>c2.mat</td>\n",
       "    </tr>\n",
       "    <tr>\n",
       "      <th>4</th>\n",
       "      <td>H009/NREM_c3.mat</td>\n",
       "      <td>NREM_c3.mat</td>\n",
       "      <td>H009</td>\n",
       "      <td>NREM</td>\n",
       "      <td>c3.mat</td>\n",
       "    </tr>\n",
       "    <tr>\n",
       "      <th>...</th>\n",
       "      <td>...</td>\n",
       "      <td>...</td>\n",
       "      <td>...</td>\n",
       "      <td>...</td>\n",
       "      <td>...</td>\n",
       "    </tr>\n",
       "    <tr>\n",
       "      <th>156</th>\n",
       "      <td>H061/REM_c1.mat</td>\n",
       "      <td>REM_c1.mat</td>\n",
       "      <td>H061</td>\n",
       "      <td>REM</td>\n",
       "      <td>c1.mat</td>\n",
       "    </tr>\n",
       "    <tr>\n",
       "      <th>157</th>\n",
       "      <td>H061/REM_c2.mat</td>\n",
       "      <td>REM_c2.mat</td>\n",
       "      <td>H061</td>\n",
       "      <td>REM</td>\n",
       "      <td>c2.mat</td>\n",
       "    </tr>\n",
       "    <tr>\n",
       "      <th>158</th>\n",
       "      <td>H061/REM_c3.mat</td>\n",
       "      <td>REM_c3.mat</td>\n",
       "      <td>H061</td>\n",
       "      <td>REM</td>\n",
       "      <td>c3.mat</td>\n",
       "    </tr>\n",
       "    <tr>\n",
       "      <th>159</th>\n",
       "      <td>H061/REM_c4.mat</td>\n",
       "      <td>REM_c4.mat</td>\n",
       "      <td>H061</td>\n",
       "      <td>REM</td>\n",
       "      <td>c4.mat</td>\n",
       "    </tr>\n",
       "    <tr>\n",
       "      <th>160</th>\n",
       "      <td>H061/REM_c5.mat</td>\n",
       "      <td>REM_c5.mat</td>\n",
       "      <td>H061</td>\n",
       "      <td>REM</td>\n",
       "      <td>c5.mat</td>\n",
       "    </tr>\n",
       "  </tbody>\n",
       "</table>\n",
       "<p>161 rows × 5 columns</p>\n",
       "</div>"
      ],
      "text/plain": [
       "            file_path    file_name subject stage trial_num\n",
       "0     H009/REM_c3.mat   REM_c3.mat    H009   REM    c3.mat\n",
       "1     H009/REM_c4.mat   REM_c4.mat    H009   REM    c4.mat\n",
       "2    H009/NREM_c1.mat  NREM_c1.mat    H009  NREM    c1.mat\n",
       "3    H009/NREM_c2.mat  NREM_c2.mat    H009  NREM    c2.mat\n",
       "4    H009/NREM_c3.mat  NREM_c3.mat    H009  NREM    c3.mat\n",
       "..                ...          ...     ...   ...       ...\n",
       "156   H061/REM_c1.mat   REM_c1.mat    H061   REM    c1.mat\n",
       "157   H061/REM_c2.mat   REM_c2.mat    H061   REM    c2.mat\n",
       "158   H061/REM_c3.mat   REM_c3.mat    H061   REM    c3.mat\n",
       "159   H061/REM_c4.mat   REM_c4.mat    H061   REM    c4.mat\n",
       "160   H061/REM_c5.mat   REM_c5.mat    H061   REM    c5.mat\n",
       "\n",
       "[161 rows x 5 columns]"
      ]
     },
     "execution_count": 3,
     "metadata": {},
     "output_type": "execute_result"
    }
   ],
   "source": [
    "pd.read_csv('/mlodata1/lugeon/dream_data/chuv/baseline/rawdb_info.csv')"
   ]
  },
  {
   "cell_type": "code",
   "execution_count": 7,
   "metadata": {},
   "outputs": [
    {
     "name": "stdout",
     "output_type": "stream",
     "text": [
      "cepo\n",
      "cpoints\n",
      "id_epo1\n",
      "id_epo2\n",
      "orig_fs\n",
      "pt_arousals\n",
      "scoring\n"
     ]
    }
   ],
   "source": [
    "with h5py.File('/mlodata1/lugeon/dream_data/chuv/baseline/Info/H009/INFO_NREM_c1.mat') as f:\n",
    "    for k in f:\n",
    "        print(k)"
   ]
  },
  {
   "cell_type": "code",
   "execution_count": 10,
   "metadata": {},
   "outputs": [],
   "source": [
    "with h5py.File('/mlodata1/lugeon/dream_data/chuv/baseline/Info/H009/INFO_NREM_c1.mat') as f:\n",
    "    scoring = f['scoring'][:]"
   ]
  },
  {
   "cell_type": "code",
   "execution_count": 12,
   "metadata": {},
   "outputs": [
    {
     "data": {
      "text/plain": [
       "(863, 1)"
      ]
     },
     "execution_count": 12,
     "metadata": {},
     "output_type": "execute_result"
    }
   ],
   "source": [
    "scoring.shape"
   ]
  },
  {
   "cell_type": "code",
   "execution_count": 14,
   "metadata": {},
   "outputs": [],
   "source": [
    "import torch\n",
    "sys.path.append('/home/lugeon/eeg_project/scripts')\n",
    "from training.representation.models import ContrastiveResNet18\n",
    "\n",
    "cl = ContrastiveResNet18(\n",
    "    dropout=0.5,\n",
    "    encoding_dim=100,\n",
    "    projection_dim=32,\n",
    "    time_filter_dim=5,\n",
    "    n_time_filters=64,\n",
    "    n_channels=5,\n",
    "    n_frames=20,\n",
    ")"
   ]
  },
  {
   "cell_type": "code",
   "execution_count": 2,
   "metadata": {},
   "outputs": [],
   "source": [
    "toy_input = torch.ones(64, 20, 5, 32, 32)"
   ]
  },
  {
   "cell_type": "code",
   "execution_count": 3,
   "metadata": {},
   "outputs": [
    {
     "data": {
      "text/plain": [
       "torch.Size([64, 32])"
      ]
     },
     "execution_count": 3,
     "metadata": {},
     "output_type": "execute_result"
    }
   ],
   "source": [
    "cl(toy_input).size()"
   ]
  },
  {
   "cell_type": "code",
   "execution_count": 5,
   "metadata": {},
   "outputs": [
    {
     "data": {
      "text/plain": [
       "torch.Size([64, 100])"
      ]
     },
     "execution_count": 5,
     "metadata": {},
     "output_type": "execute_result"
    }
   ],
   "source": [
    "cl.encode(toy_input).size()"
   ]
  },
  {
   "cell_type": "code",
   "execution_count": 16,
   "metadata": {},
   "outputs": [],
   "source": [
    "from training.representation import losses"
   ]
  },
  {
   "cell_type": "code",
   "execution_count": 17,
   "metadata": {},
   "outputs": [],
   "source": [
    "loss_function = getattr(losses, 'ContrastiveLoss', None)"
   ]
  },
  {
   "cell_type": "code",
   "execution_count": 18,
   "metadata": {},
   "outputs": [
    {
     "data": {
      "text/plain": [
       "training.representation.losses.ContrastiveLoss"
      ]
     },
     "execution_count": 18,
     "metadata": {},
     "output_type": "execute_result"
    }
   ],
   "source": [
    "loss_function"
   ]
  },
  {
   "cell_type": "code",
   "execution_count": null,
   "metadata": {},
   "outputs": [],
   "source": []
  }
 ],
 "metadata": {
  "interpreter": {
   "hash": "3181a1f52a8ac05e52e8949548542be8ab703861c0abf09683b338a9940a266f"
  },
  "kernelspec": {
   "display_name": "Python 3.8.5 ('eeg-env': venv)",
   "language": "python",
   "name": "python3"
  },
  "language_info": {
   "codemirror_mode": {
    "name": "ipython",
    "version": 3
   },
   "file_extension": ".py",
   "mimetype": "text/x-python",
   "name": "python",
   "nbconvert_exporter": "python",
   "pygments_lexer": "ipython3",
   "version": "3.8.13"
  },
  "orig_nbformat": 4
 },
 "nbformat": 4,
 "nbformat_minor": 2
}
