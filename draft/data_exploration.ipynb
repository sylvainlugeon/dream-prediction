{
 "cells": [
  {
   "cell_type": "code",
   "execution_count": 19,
   "metadata": {},
   "outputs": [],
   "source": [
    "import pandas as pd \n",
    "import numpy as np \n",
    "import glob\n",
    "import h5py\n",
    "import tqdm\n",
    "\n",
    "import matplotlib.pyplot as plt\n",
    "import scipy.io as sio\n",
    "sys.path.append('/home/lugeon/eeg_project/scripts')"
   ]
  },
  {
   "cell_type": "code",
   "execution_count": 20,
   "metadata": {},
   "outputs": [],
   "source": [
    "data_folder = '/mlodata1/yuecetue/eeg-dreams/YuceturkThesis2020/Data'\n",
    "raw_data_folder = data_folder + '/CHUV/raw'"
   ]
  },
  {
   "cell_type": "markdown",
   "metadata": {},
   "source": [
    "### Exploration of trials data and samples"
   ]
  },
  {
   "cell_type": "markdown",
   "metadata": {},
   "source": [
    "#### H patients"
   ]
  },
  {
   "cell_type": "code",
   "execution_count": 21,
   "metadata": {},
   "outputs": [
    {
     "name": "stdout",
     "output_type": "stream",
     "text": [
      "/mlodata1/yuecetue/eeg-dreams/YuceturkThesis2020/Data/CHUV/raw/H009\n",
      "/mlodata1/yuecetue/eeg-dreams/YuceturkThesis2020/Data/CHUV/raw/H018\n",
      "/mlodata1/yuecetue/eeg-dreams/YuceturkThesis2020/Data/CHUV/raw/H019\n",
      "/mlodata1/yuecetue/eeg-dreams/YuceturkThesis2020/Data/CHUV/raw/H021\n",
      "/mlodata1/yuecetue/eeg-dreams/YuceturkThesis2020/Data/CHUV/raw/H025\n",
      "/mlodata1/yuecetue/eeg-dreams/YuceturkThesis2020/Data/CHUV/raw/H026\n",
      "/mlodata1/yuecetue/eeg-dreams/YuceturkThesis2020/Data/CHUV/raw/H033\n",
      "/mlodata1/yuecetue/eeg-dreams/YuceturkThesis2020/Data/CHUV/raw/H035\n",
      "/mlodata1/yuecetue/eeg-dreams/YuceturkThesis2020/Data/CHUV/raw/H048\n",
      "/mlodata1/yuecetue/eeg-dreams/YuceturkThesis2020/Data/CHUV/raw/H050\n",
      "/mlodata1/yuecetue/eeg-dreams/YuceturkThesis2020/Data/CHUV/raw/H051\n",
      "/mlodata1/yuecetue/eeg-dreams/YuceturkThesis2020/Data/CHUV/raw/H054\n",
      "/mlodata1/yuecetue/eeg-dreams/YuceturkThesis2020/Data/CHUV/raw/H055\n",
      "/mlodata1/yuecetue/eeg-dreams/YuceturkThesis2020/Data/CHUV/raw/H057\n",
      "/mlodata1/yuecetue/eeg-dreams/YuceturkThesis2020/Data/CHUV/raw/H060\n",
      "/mlodata1/yuecetue/eeg-dreams/YuceturkThesis2020/Data/CHUV/raw/H089\n",
      "/mlodata1/yuecetue/eeg-dreams/YuceturkThesis2020/Data/CHUV/raw/H099\n",
      "/mlodata1/yuecetue/eeg-dreams/YuceturkThesis2020/Data/CHUV/raw/H100\n",
      "/mlodata1/yuecetue/eeg-dreams/YuceturkThesis2020/Data/CHUV/raw/H061\n",
      "/mlodata1/yuecetue/eeg-dreams/YuceturkThesis2020/Data/CHUV/raw/H068\n",
      "\n",
      "Number of H patients: 20\n"
     ]
    }
   ],
   "source": [
    "n_patients = 0\n",
    "\n",
    "for file in glob.glob(f'{raw_data_folder}/H*'):\n",
    "    print(file)\n",
    "    n_patients += 1\n",
    "\n",
    "print()\n",
    "print(f'Number of H patients: {n_patients}')"
   ]
  },
  {
   "cell_type": "code",
   "execution_count": 22,
   "metadata": {},
   "outputs": [
    {
     "name": "stdout",
     "output_type": "stream",
     "text": [
      "Number of H trials: 525\n"
     ]
    }
   ],
   "source": [
    "n_trials = 0\n",
    "file_names = []\n",
    "\n",
    "for file in glob.glob(f'{raw_data_folder}/*/H*.mat'):\n",
    "    file_names.append(file.split('/')[-1].split('.')[0])\n",
    "    n_trials += 1\n",
    "\n",
    "print(f'Number of H trials: {n_trials}')"
   ]
  },
  {
   "cell_type": "code",
   "execution_count": 63,
   "metadata": {},
   "outputs": [],
   "source": [
    "with open('temp/h_data.txt', 'w') as file:\n",
    "    for filename in sorted(glob.glob(f'{raw_data_folder}/*/H*.mat')):\n",
    "        name = filename.split('/')[-1]\n",
    "        file.write(f'{name}\\n')"
   ]
  },
  {
   "cell_type": "code",
   "execution_count": 24,
   "metadata": {},
   "outputs": [
    {
     "data": {
      "text/plain": [
       "4    524\n",
       "5      1\n",
       "Name: split, dtype: int64"
      ]
     },
     "execution_count": 24,
     "metadata": {},
     "output_type": "execute_result"
    }
   ],
   "source": [
    "df_files = pd.DataFrame({'file_name': file_names})\n",
    "\n",
    "df_files['split'] = df_files.file_name.apply(lambda f: f.split('_'))\n",
    "df_files['patient'] = df_files.split.apply(lambda l: l[0])\n",
    "df_files['experiment'] = df_files.split.apply(lambda l: l[1])\n",
    "df_files['sleep_stage'] = df_files.split.apply(lambda l: l[2])\n",
    "df_files['trial'] = df_files.split.apply(lambda l: l[3])\n",
    "\n",
    "df_files.split.apply(len).value_counts()"
   ]
  },
  {
   "cell_type": "code",
   "execution_count": 25,
   "metadata": {},
   "outputs": [
    {
     "data": {
      "text/html": [
       "<div>\n",
       "<style scoped>\n",
       "    .dataframe tbody tr th:only-of-type {\n",
       "        vertical-align: middle;\n",
       "    }\n",
       "\n",
       "    .dataframe tbody tr th {\n",
       "        vertical-align: top;\n",
       "    }\n",
       "\n",
       "    .dataframe thead th {\n",
       "        text-align: right;\n",
       "    }\n",
       "</style>\n",
       "<table border=\"1\" class=\"dataframe\">\n",
       "  <thead>\n",
       "    <tr style=\"text-align: right;\">\n",
       "      <th></th>\n",
       "      <th>file_name</th>\n",
       "      <th>split</th>\n",
       "      <th>patient</th>\n",
       "      <th>experiment</th>\n",
       "      <th>sleep_stage</th>\n",
       "      <th>trial</th>\n",
       "    </tr>\n",
       "  </thead>\n",
       "  <tbody>\n",
       "    <tr>\n",
       "      <th>325</th>\n",
       "      <td>H055_E1_NREM_S02_old</td>\n",
       "      <td>[H055, E1, NREM, S02, old]</td>\n",
       "      <td>H055</td>\n",
       "      <td>E1</td>\n",
       "      <td>NREM</td>\n",
       "      <td>S02</td>\n",
       "    </tr>\n",
       "  </tbody>\n",
       "</table>\n",
       "</div>"
      ],
      "text/plain": [
       "                file_name                       split patient experiment  \\\n",
       "325  H055_E1_NREM_S02_old  [H055, E1, NREM, S02, old]    H055         E1   \n",
       "\n",
       "    sleep_stage trial  \n",
       "325        NREM   S02  "
      ]
     },
     "execution_count": 25,
     "metadata": {},
     "output_type": "execute_result"
    }
   ],
   "source": [
    "# There is one trial with unusual file name, it is from 'old' data\n",
    "df_files[df_files.split.apply(len) == 5]"
   ]
  },
  {
   "cell_type": "code",
   "execution_count": 26,
   "metadata": {},
   "outputs": [
    {
     "data": {
      "text/html": [
       "<div>\n",
       "<style scoped>\n",
       "    .dataframe tbody tr th:only-of-type {\n",
       "        vertical-align: middle;\n",
       "    }\n",
       "\n",
       "    .dataframe tbody tr th {\n",
       "        vertical-align: top;\n",
       "    }\n",
       "\n",
       "    .dataframe thead th {\n",
       "        text-align: right;\n",
       "    }\n",
       "</style>\n",
       "<table border=\"1\" class=\"dataframe\">\n",
       "  <thead>\n",
       "    <tr style=\"text-align: right;\">\n",
       "      <th></th>\n",
       "      <th>file_name</th>\n",
       "      <th>split</th>\n",
       "      <th>patient</th>\n",
       "      <th>experiment</th>\n",
       "      <th>sleep_stage</th>\n",
       "      <th>trial</th>\n",
       "    </tr>\n",
       "  </thead>\n",
       "  <tbody>\n",
       "    <tr>\n",
       "      <th>308</th>\n",
       "      <td>H055_E1_NREM_S02</td>\n",
       "      <td>[H055, E1, NREM, S02]</td>\n",
       "      <td>H055</td>\n",
       "      <td>E1</td>\n",
       "      <td>NREM</td>\n",
       "      <td>S02</td>\n",
       "    </tr>\n",
       "  </tbody>\n",
       "</table>\n",
       "</div>"
      ],
      "text/plain": [
       "            file_name                  split patient experiment sleep_stage  \\\n",
       "308  H055_E1_NREM_S02  [H055, E1, NREM, S02]    H055         E1        NREM   \n",
       "\n",
       "    trial  \n",
       "308   S02  "
      ]
     },
     "execution_count": 26,
     "metadata": {},
     "output_type": "execute_result"
    }
   ],
   "source": [
    "# There exist a newer version of the data \n",
    "df_files[df_files.file_name == 'H055_E1_NREM_S02']"
   ]
  },
  {
   "cell_type": "code",
   "execution_count": 27,
   "metadata": {},
   "outputs": [],
   "source": [
    "# Drop old data\n",
    "df_files.drop(df_files[df_files.file_name == 'H055_E1_NREM_S02_old'].index, inplace=True)"
   ]
  },
  {
   "cell_type": "code",
   "execution_count": 28,
   "metadata": {},
   "outputs": [
    {
     "data": {
      "text/plain": [
       "H021    40\n",
       "H099    33\n",
       "H048    33\n",
       "H026    32\n",
       "H068    31\n",
       "H089    31\n",
       "H060    31\n",
       "H050    29\n",
       "H061    29\n",
       "H051    29\n",
       "H033    29\n",
       "H100    27\n",
       "H018    25\n",
       "H054    25\n",
       "H025    22\n",
       "H019    19\n",
       "H055    18\n",
       "H057    17\n",
       "H009    14\n",
       "H035    10\n",
       "Name: patient, dtype: int64"
      ]
     },
     "execution_count": 28,
     "metadata": {},
     "output_type": "execute_result"
    }
   ],
   "source": [
    "df_files.patient.value_counts()"
   ]
  },
  {
   "cell_type": "code",
   "execution_count": 29,
   "metadata": {},
   "outputs": [
    {
     "data": {
      "text/plain": [
       "E1    275\n",
       "E2    249\n",
       "Name: experiment, dtype: int64"
      ]
     },
     "execution_count": 29,
     "metadata": {},
     "output_type": "execute_result"
    }
   ],
   "source": [
    "df_files.experiment.value_counts()"
   ]
  },
  {
   "cell_type": "code",
   "execution_count": 30,
   "metadata": {},
   "outputs": [
    {
     "data": {
      "text/plain": [
       "NREM    401\n",
       "REM     123\n",
       "Name: sleep_stage, dtype: int64"
      ]
     },
     "execution_count": 30,
     "metadata": {},
     "output_type": "execute_result"
    }
   ],
   "source": [
    "df_files.sleep_stage.value_counts()"
   ]
  },
  {
   "cell_type": "code",
   "execution_count": 31,
   "metadata": {},
   "outputs": [
    {
     "data": {
      "text/plain": [
       "S07    38\n",
       "S09    38\n",
       "S08    38\n",
       "S01    38\n",
       "S04    36\n",
       "S02    36\n",
       "S05    35\n",
       "S06    35\n",
       "S03    34\n",
       "S12    32\n",
       "S10    32\n",
       "S11    31\n",
       "S13    28\n",
       "S14    25\n",
       "S15    15\n",
       "S16    12\n",
       "S17    10\n",
       "S18     6\n",
       "S19     2\n",
       "S21     1\n",
       "S22     1\n",
       "S20     1\n",
       "Name: trial, dtype: int64"
      ]
     },
     "execution_count": 31,
     "metadata": {},
     "output_type": "execute_result"
    }
   ],
   "source": [
    "df_files.trial.value_counts()"
   ]
  },
  {
   "cell_type": "code",
   "execution_count": 32,
   "metadata": {},
   "outputs": [
    {
     "data": {
      "text/plain": [
       "(  Subject_id  Quest_number  Stage   CE\n",
       " 0    H009_E1           1.0    3.0  1.0\n",
       " 1    H009_E1           2.0    3.0  1.0\n",
       " 2    H009_E1           3.0    3.0  1.0\n",
       " 3    H009_E1           4.0    4.0  2.0\n",
       " 4    H009_E1           5.0    2.0  1.0,\n",
       " (527, 4))"
      ]
     },
     "execution_count": 32,
     "metadata": {},
     "output_type": "execute_result"
    }
   ],
   "source": [
    "df_labels = pd.read_excel(f'{data_folder}/Dataset_info/Dream_labels.xlsx')\n",
    "df_labels.head(), df_labels.shape"
   ]
  },
  {
   "cell_type": "code",
   "execution_count": 33,
   "metadata": {},
   "outputs": [],
   "source": [
    "df_files['Quest_number'] = df_files.trial.apply(lambda t: int(t[1:]))\n",
    "df_files['Subject_id'] = df_files.apply(lambda row: f'{row.patient}_{row.experiment}', axis=1)\n",
    "\n",
    "df_merged = df_files.merge(df_labels, how='outer')"
   ]
  },
  {
   "cell_type": "code",
   "execution_count": 34,
   "metadata": {},
   "outputs": [
    {
     "data": {
      "text/html": [
       "<div>\n",
       "<style scoped>\n",
       "    .dataframe tbody tr th:only-of-type {\n",
       "        vertical-align: middle;\n",
       "    }\n",
       "\n",
       "    .dataframe tbody tr th {\n",
       "        vertical-align: top;\n",
       "    }\n",
       "\n",
       "    .dataframe thead th {\n",
       "        text-align: right;\n",
       "    }\n",
       "</style>\n",
       "<table border=\"1\" class=\"dataframe\">\n",
       "  <thead>\n",
       "    <tr style=\"text-align: right;\">\n",
       "      <th></th>\n",
       "      <th>file_name</th>\n",
       "      <th>split</th>\n",
       "      <th>patient</th>\n",
       "      <th>experiment</th>\n",
       "      <th>sleep_stage</th>\n",
       "      <th>trial</th>\n",
       "      <th>Quest_number</th>\n",
       "      <th>Subject_id</th>\n",
       "      <th>Stage</th>\n",
       "      <th>CE</th>\n",
       "    </tr>\n",
       "  </thead>\n",
       "  <tbody>\n",
       "    <tr>\n",
       "      <th>524</th>\n",
       "      <td>NaN</td>\n",
       "      <td>NaN</td>\n",
       "      <td>NaN</td>\n",
       "      <td>NaN</td>\n",
       "      <td>NaN</td>\n",
       "      <td>NaN</td>\n",
       "      <td>3.0</td>\n",
       "      <td>H060_E2</td>\n",
       "      <td>3.0</td>\n",
       "      <td>2.0</td>\n",
       "    </tr>\n",
       "    <tr>\n",
       "      <th>525</th>\n",
       "      <td>NaN</td>\n",
       "      <td>NaN</td>\n",
       "      <td>NaN</td>\n",
       "      <td>NaN</td>\n",
       "      <td>NaN</td>\n",
       "      <td>NaN</td>\n",
       "      <td>6.0</td>\n",
       "      <td>H061_E1</td>\n",
       "      <td>2.0</td>\n",
       "      <td>2.0</td>\n",
       "    </tr>\n",
       "    <tr>\n",
       "      <th>526</th>\n",
       "      <td>NaN</td>\n",
       "      <td>NaN</td>\n",
       "      <td>NaN</td>\n",
       "      <td>NaN</td>\n",
       "      <td>NaN</td>\n",
       "      <td>NaN</td>\n",
       "      <td>10.0</td>\n",
       "      <td>H061_E1</td>\n",
       "      <td>4.0</td>\n",
       "      <td>2.0</td>\n",
       "    </tr>\n",
       "    <tr>\n",
       "      <th>527</th>\n",
       "      <td>NaN</td>\n",
       "      <td>NaN</td>\n",
       "      <td>NaN</td>\n",
       "      <td>NaN</td>\n",
       "      <td>NaN</td>\n",
       "      <td>NaN</td>\n",
       "      <td>6.0</td>\n",
       "      <td>H089_E1</td>\n",
       "      <td>2.0</td>\n",
       "      <td>1.0</td>\n",
       "    </tr>\n",
       "    <tr>\n",
       "      <th>528</th>\n",
       "      <td>NaN</td>\n",
       "      <td>NaN</td>\n",
       "      <td>NaN</td>\n",
       "      <td>NaN</td>\n",
       "      <td>NaN</td>\n",
       "      <td>NaN</td>\n",
       "      <td>3.0</td>\n",
       "      <td>H100_E2</td>\n",
       "      <td>2.0</td>\n",
       "      <td>0.0</td>\n",
       "    </tr>\n",
       "  </tbody>\n",
       "</table>\n",
       "</div>"
      ],
      "text/plain": [
       "    file_name split patient experiment sleep_stage trial  Quest_number  \\\n",
       "524       NaN   NaN     NaN        NaN         NaN   NaN           3.0   \n",
       "525       NaN   NaN     NaN        NaN         NaN   NaN           6.0   \n",
       "526       NaN   NaN     NaN        NaN         NaN   NaN          10.0   \n",
       "527       NaN   NaN     NaN        NaN         NaN   NaN           6.0   \n",
       "528       NaN   NaN     NaN        NaN         NaN   NaN           3.0   \n",
       "\n",
       "    Subject_id  Stage   CE  \n",
       "524    H060_E2    3.0  2.0  \n",
       "525    H061_E1    2.0  2.0  \n",
       "526    H061_E1    4.0  2.0  \n",
       "527    H089_E1    2.0  1.0  \n",
       "528    H100_E2    2.0  0.0  "
      ]
     },
     "execution_count": 34,
     "metadata": {},
     "output_type": "execute_result"
    }
   ],
   "source": [
    "# 5 trials without data\n",
    "df_merged[df_merged.file_name.isna()]"
   ]
  },
  {
   "cell_type": "code",
   "execution_count": 67,
   "metadata": {},
   "outputs": [],
   "source": [
    "df_merged[df_merged.file_name.isna()][['Quest_number', 'Subject_id', 'Stage', 'CE']].reset_index(drop=True).to_csv('temp/h_data_missing.csv')"
   ]
  },
  {
   "cell_type": "code",
   "execution_count": 35,
   "metadata": {},
   "outputs": [
    {
     "data": {
      "text/html": [
       "<div>\n",
       "<style scoped>\n",
       "    .dataframe tbody tr th:only-of-type {\n",
       "        vertical-align: middle;\n",
       "    }\n",
       "\n",
       "    .dataframe tbody tr th {\n",
       "        vertical-align: top;\n",
       "    }\n",
       "\n",
       "    .dataframe thead th {\n",
       "        text-align: right;\n",
       "    }\n",
       "</style>\n",
       "<table border=\"1\" class=\"dataframe\">\n",
       "  <thead>\n",
       "    <tr style=\"text-align: right;\">\n",
       "      <th></th>\n",
       "      <th>file_name</th>\n",
       "      <th>split</th>\n",
       "      <th>patient</th>\n",
       "      <th>experiment</th>\n",
       "      <th>sleep_stage</th>\n",
       "      <th>trial</th>\n",
       "      <th>Quest_number</th>\n",
       "      <th>Subject_id</th>\n",
       "      <th>Stage</th>\n",
       "      <th>CE</th>\n",
       "    </tr>\n",
       "  </thead>\n",
       "  <tbody>\n",
       "    <tr>\n",
       "      <th>112</th>\n",
       "      <td>H025_E2_NREM_S08</td>\n",
       "      <td>[H025, E2, NREM, S08]</td>\n",
       "      <td>H025</td>\n",
       "      <td>E2</td>\n",
       "      <td>NREM</td>\n",
       "      <td>S08</td>\n",
       "      <td>8.0</td>\n",
       "      <td>H025_E2</td>\n",
       "      <td>NaN</td>\n",
       "      <td>NaN</td>\n",
       "    </tr>\n",
       "    <tr>\n",
       "      <th>341</th>\n",
       "      <td>H057_E1_NREM_S12</td>\n",
       "      <td>[H057, E1, NREM, S12]</td>\n",
       "      <td>H057</td>\n",
       "      <td>E1</td>\n",
       "      <td>NREM</td>\n",
       "      <td>S12</td>\n",
       "      <td>12.0</td>\n",
       "      <td>H057_E1</td>\n",
       "      <td>NaN</td>\n",
       "      <td>NaN</td>\n",
       "    </tr>\n",
       "  </tbody>\n",
       "</table>\n",
       "</div>"
      ],
      "text/plain": [
       "            file_name                  split patient experiment sleep_stage  \\\n",
       "112  H025_E2_NREM_S08  [H025, E2, NREM, S08]    H025         E2        NREM   \n",
       "341  H057_E1_NREM_S12  [H057, E1, NREM, S12]    H057         E1        NREM   \n",
       "\n",
       "    trial  Quest_number Subject_id  Stage  CE  \n",
       "112   S08           8.0    H025_E2    NaN NaN  \n",
       "341   S12          12.0    H057_E1    NaN NaN  "
      ]
     },
     "execution_count": 35,
     "metadata": {},
     "output_type": "execute_result"
    }
   ],
   "source": [
    "# 2 trials without label\n",
    "df_merged[df_merged.CE.isna()]"
   ]
  },
  {
   "cell_type": "code",
   "execution_count": 36,
   "metadata": {},
   "outputs": [
    {
     "data": {
      "text/plain": [
       "(522, 10)"
      ]
     },
     "execution_count": 36,
     "metadata": {},
     "output_type": "execute_result"
    }
   ],
   "source": [
    "df_valid = df_merged[(df_merged.CE.notna()) & df_merged.file_name.notna()]\n",
    "\n",
    "# Number of trials with both data + label\n",
    "df_valid.shape"
   ]
  },
  {
   "cell_type": "code",
   "execution_count": 37,
   "metadata": {},
   "outputs": [
    {
     "name": "stdout",
     "output_type": "stream",
     "text": [
      "    Subject_id  Quest_number  Stage   CE  Segment excluded\n",
      "159    H025_E2             8      2  2.0                 1\n",
      "    Subject_id  Quest_number  Stage  CE  Segment excluded\n",
      "353    H057_E1            12      3 NaN                 1\n"
     ]
    }
   ],
   "source": [
    "# Maybe the labels are in another file..\n",
    "df_labels_2 = pd.read_excel(f'{data_folder}/Dataset_info/Dream_reports_healthy.xlsx')\n",
    "\n",
    "print(df_labels_2[(df_labels_2.Subject_id == 'H025_E2') & (df_labels_2.Quest_number == 8)])\n",
    "print(df_labels_2[(df_labels_2.Subject_id == 'H057_E1') & (df_labels_2.Quest_number == 12)])\n",
    "\n",
    "# But there seem to be excluded"
   ]
  },
  {
   "cell_type": "code",
   "execution_count": 38,
   "metadata": {},
   "outputs": [],
   "source": [
    "if False:\n",
    "    \n",
    "    sampling_frequency = 500\n",
    "    recording_time = {}\n",
    "\n",
    "    for patient in df_valid.patient.drop_duplicates():\n",
    "        recording_time[patient] = []\n",
    "\n",
    "    for file_name, patient in tqdm.tqdm(zip(df_valid.file_name, df_valid.patient)):\n",
    "        with h5py.File(f'{raw_data_folder}/{patient}/{file_name}.mat','r') as file:\n",
    "            signal_data = np.array(file['datavr'])\n",
    "            recording_time[patient].append(signal_data.shape[0] / sampling_frequency)"
   ]
  },
  {
   "cell_type": "code",
   "execution_count": 39,
   "metadata": {},
   "outputs": [
    {
     "data": {
      "text/plain": [
       "2.0    0.423372\n",
       "3.0    0.339080\n",
       "4.0    0.235632\n",
       "1.0    0.001916\n",
       "Name: Stage, dtype: float64"
      ]
     },
     "execution_count": 39,
     "metadata": {},
     "output_type": "execute_result"
    }
   ],
   "source": [
    "# Stages of sleeping\n",
    "# 1 -> NREM N1\n",
    "# 2 -> NREM N2\n",
    "# 3 -> NREM N3\n",
    "# 4 -> REM\n",
    "df_valid.Stage.value_counts() / df_valid.shape[0]"
   ]
  },
  {
   "cell_type": "code",
   "execution_count": 40,
   "metadata": {},
   "outputs": [
    {
     "data": {
      "text/plain": [
       "2.0    0.448276\n",
       "1.0    0.369732\n",
       "0.0    0.181992\n",
       "Name: CE, dtype: float64"
      ]
     },
     "execution_count": 40,
     "metadata": {},
     "output_type": "execute_result"
    }
   ],
   "source": [
    "# Labels\n",
    "# 0 -> NE\n",
    "# 1 -> DE\n",
    "# 2 -> DEWR\n",
    "df_valid.CE.value_counts() / df_valid.shape[0]"
   ]
  },
  {
   "cell_type": "code",
   "execution_count": 41,
   "metadata": {},
   "outputs": [
    {
     "data": {
      "text/html": [
       "<div>\n",
       "<style scoped>\n",
       "    .dataframe tbody tr th:only-of-type {\n",
       "        vertical-align: middle;\n",
       "    }\n",
       "\n",
       "    .dataframe tbody tr th {\n",
       "        vertical-align: top;\n",
       "    }\n",
       "\n",
       "    .dataframe thead th {\n",
       "        text-align: right;\n",
       "    }\n",
       "</style>\n",
       "<table border=\"1\" class=\"dataframe\">\n",
       "  <thead>\n",
       "    <tr style=\"text-align: right;\">\n",
       "      <th></th>\n",
       "      <th>file_name</th>\n",
       "      <th>split</th>\n",
       "      <th>patient</th>\n",
       "      <th>experiment</th>\n",
       "      <th>sleep_stage</th>\n",
       "      <th>trial</th>\n",
       "      <th>Quest_number</th>\n",
       "      <th>Subject_id</th>\n",
       "      <th>Stage</th>\n",
       "      <th>CE</th>\n",
       "    </tr>\n",
       "  </thead>\n",
       "  <tbody>\n",
       "    <tr>\n",
       "      <th>0</th>\n",
       "      <td>H009_E1_NREM_S03</td>\n",
       "      <td>[H009, E1, NREM, S03]</td>\n",
       "      <td>H009</td>\n",
       "      <td>E1</td>\n",
       "      <td>NREM</td>\n",
       "      <td>S03</td>\n",
       "      <td>3.0</td>\n",
       "      <td>H009_E1</td>\n",
       "      <td>3.0</td>\n",
       "      <td>1.0</td>\n",
       "    </tr>\n",
       "    <tr>\n",
       "      <th>1</th>\n",
       "      <td>H009_E1_NREM_S05</td>\n",
       "      <td>[H009, E1, NREM, S05]</td>\n",
       "      <td>H009</td>\n",
       "      <td>E1</td>\n",
       "      <td>NREM</td>\n",
       "      <td>S05</td>\n",
       "      <td>5.0</td>\n",
       "      <td>H009_E1</td>\n",
       "      <td>2.0</td>\n",
       "      <td>1.0</td>\n",
       "    </tr>\n",
       "    <tr>\n",
       "      <th>2</th>\n",
       "      <td>H009_E1_NREM_S06</td>\n",
       "      <td>[H009, E1, NREM, S06]</td>\n",
       "      <td>H009</td>\n",
       "      <td>E1</td>\n",
       "      <td>NREM</td>\n",
       "      <td>S06</td>\n",
       "      <td>6.0</td>\n",
       "      <td>H009_E1</td>\n",
       "      <td>2.0</td>\n",
       "      <td>1.0</td>\n",
       "    </tr>\n",
       "    <tr>\n",
       "      <th>3</th>\n",
       "      <td>H009_E1_NREM_S07</td>\n",
       "      <td>[H009, E1, NREM, S07]</td>\n",
       "      <td>H009</td>\n",
       "      <td>E1</td>\n",
       "      <td>NREM</td>\n",
       "      <td>S07</td>\n",
       "      <td>7.0</td>\n",
       "      <td>H009_E1</td>\n",
       "      <td>2.0</td>\n",
       "      <td>1.0</td>\n",
       "    </tr>\n",
       "    <tr>\n",
       "      <th>4</th>\n",
       "      <td>H009_E1_NREM_S09</td>\n",
       "      <td>[H009, E1, NREM, S09]</td>\n",
       "      <td>H009</td>\n",
       "      <td>E1</td>\n",
       "      <td>NREM</td>\n",
       "      <td>S09</td>\n",
       "      <td>9.0</td>\n",
       "      <td>H009_E1</td>\n",
       "      <td>2.0</td>\n",
       "      <td>2.0</td>\n",
       "    </tr>\n",
       "    <tr>\n",
       "      <th>...</th>\n",
       "      <td>...</td>\n",
       "      <td>...</td>\n",
       "      <td>...</td>\n",
       "      <td>...</td>\n",
       "      <td>...</td>\n",
       "      <td>...</td>\n",
       "      <td>...</td>\n",
       "      <td>...</td>\n",
       "      <td>...</td>\n",
       "      <td>...</td>\n",
       "    </tr>\n",
       "    <tr>\n",
       "      <th>524</th>\n",
       "      <td>NaN</td>\n",
       "      <td>NaN</td>\n",
       "      <td>NaN</td>\n",
       "      <td>NaN</td>\n",
       "      <td>NaN</td>\n",
       "      <td>NaN</td>\n",
       "      <td>3.0</td>\n",
       "      <td>H060_E2</td>\n",
       "      <td>3.0</td>\n",
       "      <td>2.0</td>\n",
       "    </tr>\n",
       "    <tr>\n",
       "      <th>525</th>\n",
       "      <td>NaN</td>\n",
       "      <td>NaN</td>\n",
       "      <td>NaN</td>\n",
       "      <td>NaN</td>\n",
       "      <td>NaN</td>\n",
       "      <td>NaN</td>\n",
       "      <td>6.0</td>\n",
       "      <td>H061_E1</td>\n",
       "      <td>2.0</td>\n",
       "      <td>2.0</td>\n",
       "    </tr>\n",
       "    <tr>\n",
       "      <th>526</th>\n",
       "      <td>NaN</td>\n",
       "      <td>NaN</td>\n",
       "      <td>NaN</td>\n",
       "      <td>NaN</td>\n",
       "      <td>NaN</td>\n",
       "      <td>NaN</td>\n",
       "      <td>10.0</td>\n",
       "      <td>H061_E1</td>\n",
       "      <td>4.0</td>\n",
       "      <td>2.0</td>\n",
       "    </tr>\n",
       "    <tr>\n",
       "      <th>527</th>\n",
       "      <td>NaN</td>\n",
       "      <td>NaN</td>\n",
       "      <td>NaN</td>\n",
       "      <td>NaN</td>\n",
       "      <td>NaN</td>\n",
       "      <td>NaN</td>\n",
       "      <td>6.0</td>\n",
       "      <td>H089_E1</td>\n",
       "      <td>2.0</td>\n",
       "      <td>1.0</td>\n",
       "    </tr>\n",
       "    <tr>\n",
       "      <th>528</th>\n",
       "      <td>NaN</td>\n",
       "      <td>NaN</td>\n",
       "      <td>NaN</td>\n",
       "      <td>NaN</td>\n",
       "      <td>NaN</td>\n",
       "      <td>NaN</td>\n",
       "      <td>3.0</td>\n",
       "      <td>H100_E2</td>\n",
       "      <td>2.0</td>\n",
       "      <td>0.0</td>\n",
       "    </tr>\n",
       "  </tbody>\n",
       "</table>\n",
       "<p>529 rows × 10 columns</p>\n",
       "</div>"
      ],
      "text/plain": [
       "            file_name                  split patient experiment sleep_stage  \\\n",
       "0    H009_E1_NREM_S03  [H009, E1, NREM, S03]    H009         E1        NREM   \n",
       "1    H009_E1_NREM_S05  [H009, E1, NREM, S05]    H009         E1        NREM   \n",
       "2    H009_E1_NREM_S06  [H009, E1, NREM, S06]    H009         E1        NREM   \n",
       "3    H009_E1_NREM_S07  [H009, E1, NREM, S07]    H009         E1        NREM   \n",
       "4    H009_E1_NREM_S09  [H009, E1, NREM, S09]    H009         E1        NREM   \n",
       "..                ...                    ...     ...        ...         ...   \n",
       "524               NaN                    NaN     NaN        NaN         NaN   \n",
       "525               NaN                    NaN     NaN        NaN         NaN   \n",
       "526               NaN                    NaN     NaN        NaN         NaN   \n",
       "527               NaN                    NaN     NaN        NaN         NaN   \n",
       "528               NaN                    NaN     NaN        NaN         NaN   \n",
       "\n",
       "    trial  Quest_number Subject_id  Stage   CE  \n",
       "0     S03           3.0    H009_E1    3.0  1.0  \n",
       "1     S05           5.0    H009_E1    2.0  1.0  \n",
       "2     S06           6.0    H009_E1    2.0  1.0  \n",
       "3     S07           7.0    H009_E1    2.0  1.0  \n",
       "4     S09           9.0    H009_E1    2.0  2.0  \n",
       "..    ...           ...        ...    ...  ...  \n",
       "524   NaN           3.0    H060_E2    3.0  2.0  \n",
       "525   NaN           6.0    H061_E1    2.0  2.0  \n",
       "526   NaN          10.0    H061_E1    4.0  2.0  \n",
       "527   NaN           6.0    H089_E1    2.0  1.0  \n",
       "528   NaN           3.0    H100_E2    2.0  0.0  \n",
       "\n",
       "[529 rows x 10 columns]"
      ]
     },
     "execution_count": 41,
     "metadata": {},
     "output_type": "execute_result"
    }
   ],
   "source": [
    "df_merged"
   ]
  },
  {
   "cell_type": "markdown",
   "metadata": {},
   "source": [
    "#### M patients"
   ]
  },
  {
   "cell_type": "code",
   "execution_count": 69,
   "metadata": {},
   "outputs": [
    {
     "name": "stdout",
     "output_type": "stream",
     "text": [
      "/mlodata1/yuecetue/eeg-dreams/YuceturkThesis2020/Data/CHUV/raw/M001\n",
      "/mlodata1/yuecetue/eeg-dreams/YuceturkThesis2020/Data/CHUV/raw/M002\n",
      "/mlodata1/yuecetue/eeg-dreams/YuceturkThesis2020/Data/CHUV/raw/M003\n",
      "/mlodata1/yuecetue/eeg-dreams/YuceturkThesis2020/Data/CHUV/raw/M004\n",
      "/mlodata1/yuecetue/eeg-dreams/YuceturkThesis2020/Data/CHUV/raw/M005\n",
      "/mlodata1/yuecetue/eeg-dreams/YuceturkThesis2020/Data/CHUV/raw/M006\n",
      "/mlodata1/yuecetue/eeg-dreams/YuceturkThesis2020/Data/CHUV/raw/M007\n",
      "\n",
      "Number of M patients: 7\n"
     ]
    }
   ],
   "source": [
    "n_patients = 0\n",
    "\n",
    "for file in glob.glob(f'{raw_data_folder}/M*'):\n",
    "    print(file)\n",
    "    n_patients += 1\n",
    "\n",
    "print()\n",
    "print(f'Number of M patients: {n_patients}')"
   ]
  },
  {
   "cell_type": "code",
   "execution_count": 70,
   "metadata": {},
   "outputs": [
    {
     "name": "stdout",
     "output_type": "stream",
     "text": [
      "Number of M trials: 784\n"
     ]
    }
   ],
   "source": [
    "n_trials = 0\n",
    "file_names = []\n",
    "\n",
    "for file in glob.glob(f'{raw_data_folder}/*/M*.mat'):\n",
    "    file_names.append(file.split('/')[-1].split('.')[0])\n",
    "    n_trials += 1\n",
    "\n",
    "print(f'Number of M trials: {n_trials}')"
   ]
  },
  {
   "cell_type": "code",
   "execution_count": 71,
   "metadata": {},
   "outputs": [],
   "source": [
    "with open('temp/m_data.txt', 'w') as file:\n",
    "    for filename in sorted(glob.glob(f'{raw_data_folder}/*/M*.mat')):\n",
    "        name = filename.split('/')[-1]\n",
    "        file.write(f'{name}\\n')"
   ]
  },
  {
   "cell_type": "code",
   "execution_count": 72,
   "metadata": {},
   "outputs": [
    {
     "data": {
      "text/html": [
       "<div>\n",
       "<style scoped>\n",
       "    .dataframe tbody tr th:only-of-type {\n",
       "        vertical-align: middle;\n",
       "    }\n",
       "\n",
       "    .dataframe tbody tr th {\n",
       "        vertical-align: top;\n",
       "    }\n",
       "\n",
       "    .dataframe thead th {\n",
       "        text-align: right;\n",
       "    }\n",
       "</style>\n",
       "<table border=\"1\" class=\"dataframe\">\n",
       "  <thead>\n",
       "    <tr style=\"text-align: right;\">\n",
       "      <th></th>\n",
       "      <th>file_name</th>\n",
       "      <th>split</th>\n",
       "      <th>patient</th>\n",
       "      <th>experiment</th>\n",
       "      <th>sleep_stage</th>\n",
       "      <th>trial</th>\n",
       "    </tr>\n",
       "  </thead>\n",
       "  <tbody>\n",
       "    <tr>\n",
       "      <th>0</th>\n",
       "      <td>M001_E10_NREM_S1</td>\n",
       "      <td>[M001, E10, NREM, S1]</td>\n",
       "      <td>M001</td>\n",
       "      <td>E10</td>\n",
       "      <td>NREM</td>\n",
       "      <td>S1</td>\n",
       "    </tr>\n",
       "    <tr>\n",
       "      <th>1</th>\n",
       "      <td>M001_E10_NREM_S2</td>\n",
       "      <td>[M001, E10, NREM, S2]</td>\n",
       "      <td>M001</td>\n",
       "      <td>E10</td>\n",
       "      <td>NREM</td>\n",
       "      <td>S2</td>\n",
       "    </tr>\n",
       "    <tr>\n",
       "      <th>2</th>\n",
       "      <td>M001_E10_NREM_S4</td>\n",
       "      <td>[M001, E10, NREM, S4]</td>\n",
       "      <td>M001</td>\n",
       "      <td>E10</td>\n",
       "      <td>NREM</td>\n",
       "      <td>S4</td>\n",
       "    </tr>\n",
       "    <tr>\n",
       "      <th>3</th>\n",
       "      <td>M001_E10_NREM_S6</td>\n",
       "      <td>[M001, E10, NREM, S6]</td>\n",
       "      <td>M001</td>\n",
       "      <td>E10</td>\n",
       "      <td>NREM</td>\n",
       "      <td>S6</td>\n",
       "    </tr>\n",
       "    <tr>\n",
       "      <th>4</th>\n",
       "      <td>M001_E10_REM_S3</td>\n",
       "      <td>[M001, E10, REM, S3]</td>\n",
       "      <td>M001</td>\n",
       "      <td>E10</td>\n",
       "      <td>REM</td>\n",
       "      <td>S3</td>\n",
       "    </tr>\n",
       "  </tbody>\n",
       "</table>\n",
       "</div>"
      ],
      "text/plain": [
       "          file_name                  split patient experiment sleep_stage  \\\n",
       "0  M001_E10_NREM_S1  [M001, E10, NREM, S1]    M001        E10        NREM   \n",
       "1  M001_E10_NREM_S2  [M001, E10, NREM, S2]    M001        E10        NREM   \n",
       "2  M001_E10_NREM_S4  [M001, E10, NREM, S4]    M001        E10        NREM   \n",
       "3  M001_E10_NREM_S6  [M001, E10, NREM, S6]    M001        E10        NREM   \n",
       "4   M001_E10_REM_S3   [M001, E10, REM, S3]    M001        E10         REM   \n",
       "\n",
       "  trial  \n",
       "0    S1  \n",
       "1    S2  \n",
       "2    S4  \n",
       "3    S6  \n",
       "4    S3  "
      ]
     },
     "execution_count": 72,
     "metadata": {},
     "output_type": "execute_result"
    }
   ],
   "source": [
    "m_files = pd.DataFrame({'file_name': file_names})\n",
    "\n",
    "m_files['split'] = m_files.file_name.apply(lambda f: f.split('_'))\n",
    "m_files['patient'] = m_files.split.apply(lambda l: l[0])\n",
    "m_files['experiment'] = m_files.split.apply(lambda l: l[1])\n",
    "m_files['sleep_stage'] = m_files.split.apply(lambda l: l[2])\n",
    "m_files['trial'] = m_files.split.apply(lambda l: l[3])\n",
    "\n",
    "m_files.head()"
   ]
  },
  {
   "cell_type": "code",
   "execution_count": 73,
   "metadata": {},
   "outputs": [
    {
     "data": {
      "text/plain": [
       "4    784\n",
       "Name: split, dtype: int64"
      ]
     },
     "execution_count": 73,
     "metadata": {},
     "output_type": "execute_result"
    }
   ],
   "source": [
    "m_files.split.apply(len).value_counts()"
   ]
  },
  {
   "cell_type": "code",
   "execution_count": 74,
   "metadata": {},
   "outputs": [],
   "source": [
    "m_labels = pd.read_excel(f'{data_folder}/Dataset_info/Madison_labels.xlsx')\n",
    "m_labels.rename(columns={'Unnamed: 0': 'Subject_id'}, inplace=True)"
   ]
  },
  {
   "cell_type": "code",
   "execution_count": 75,
   "metadata": {},
   "outputs": [
    {
     "data": {
      "text/plain": [
       "(  Subject_id  Quest_number  Stage   CE\n",
       " 0    M001_E1           1.0    0.0  0.0\n",
       " 1    M001_E1           2.0    2.0  2.0\n",
       " 2    M001_E1           3.0    0.0  2.0\n",
       " 3    M001_E1           4.0    2.0  2.0\n",
       " 4    M001_E1           5.0    0.0  2.0,\n",
       " (795, 4))"
      ]
     },
     "execution_count": 75,
     "metadata": {},
     "output_type": "execute_result"
    }
   ],
   "source": [
    "m_labels.head(), m_labels.shape"
   ]
  },
  {
   "cell_type": "code",
   "execution_count": 76,
   "metadata": {},
   "outputs": [
    {
     "data": {
      "text/plain": [
       "file_name       11\n",
       "split           11\n",
       "patient         11\n",
       "experiment      11\n",
       "sleep_stage     11\n",
       "trial           11\n",
       "Quest_number     0\n",
       "Subject_id       0\n",
       "Stage            0\n",
       "CE               0\n",
       "dtype: int64"
      ]
     },
     "execution_count": 76,
     "metadata": {},
     "output_type": "execute_result"
    }
   ],
   "source": [
    "m_files['Quest_number'] = m_files.trial.apply(lambda t: int(t[1:]))\n",
    "m_files['Subject_id'] = m_files.apply(lambda row: f'{row.patient}_{row.experiment}', axis=1)\n",
    "\n",
    "m_merged = m_files.merge(m_labels, how='outer')\n",
    "\n",
    "m_merged.isna().sum()"
   ]
  },
  {
   "cell_type": "code",
   "execution_count": 77,
   "metadata": {},
   "outputs": [],
   "source": [
    "m_merged[m_merged.file_name.isna()][['Quest_number', 'Subject_id', 'Stage', 'CE']].reset_index(drop=True).to_csv('temp/m_data_missing.csv')"
   ]
  },
  {
   "cell_type": "code",
   "execution_count": 29,
   "metadata": {},
   "outputs": [
    {
     "data": {
      "text/plain": [
       "(784, 10)"
      ]
     },
     "execution_count": 29,
     "metadata": {},
     "output_type": "execute_result"
    }
   ],
   "source": [
    "# 784 trials with data + labels\n",
    "m_valid = m_merged[m_merged.file_name.notna()]\n",
    "m_valid.shape"
   ]
  },
  {
   "cell_type": "code",
   "execution_count": 30,
   "metadata": {},
   "outputs": [
    {
     "data": {
      "text/plain": [
       "{'__header__': b'MATLAB 5.0 MAT-file, Platform: PCWIN64, Created on: Mon May 11 18:46:33 2020',\n",
       " '__version__': '1.0',\n",
       " '__globals__': [],\n",
       " 'chanlocs': array([[nan]]),\n",
       " 'datavr_2min': array([[19.108366 , 14.476612 , 15.880455 , ...,  8.616664 , 17.811193 ,\n",
       "         12.5544195],\n",
       "        [16.30928  , 11.74499  , 12.751625 , ...,  6.50291  , 14.731307 ,\n",
       "          9.74994  ],\n",
       "        [14.549137 , 11.425933 , 11.290257 , ...,  7.271951 , 12.117438 ,\n",
       "          7.941881 ],\n",
       "        ...,\n",
       "        [29.40664  , 26.687326 , 27.536587 , ...,  3.2959204,  8.945313 ,\n",
       "          3.1859741],\n",
       "        [29.665884 , 26.503073 , 27.61386  , ...,  1.5830936,  8.182848 ,\n",
       "          2.4125326],\n",
       "        [ 0.       ,  0.       ,  0.       , ...,  0.       ,  0.       ,\n",
       "          0.       ]], dtype=float32),\n",
       " 'srate': array([[500]], dtype=uint16)}"
      ]
     },
     "execution_count": 30,
     "metadata": {},
     "output_type": "execute_result"
    }
   ],
   "source": [
    "# Check content of one M file\n",
    "mat = sio.loadmat(f'{raw_data_folder}/M001/M001_E10_NREM_S1.mat')\n",
    "mat"
   ]
  },
  {
   "cell_type": "code",
   "execution_count": 31,
   "metadata": {},
   "outputs": [
    {
     "data": {
      "text/plain": [
       "(257, 60000)"
      ]
     },
     "execution_count": 31,
     "metadata": {},
     "output_type": "execute_result"
    }
   ],
   "source": [
    "mat['datavr_2min'].shape"
   ]
  },
  {
   "cell_type": "code",
   "execution_count": 32,
   "metadata": {},
   "outputs": [
    {
     "data": {
      "text/plain": [
       "120.0"
      ]
     },
     "execution_count": 32,
     "metadata": {},
     "output_type": "execute_result"
    }
   ],
   "source": [
    "mat['datavr_2min'].shape[1] / 500 # 120 seconds"
   ]
  },
  {
   "cell_type": "code",
   "execution_count": 33,
   "metadata": {},
   "outputs": [
    {
     "data": {
      "text/html": [
       "<div>\n",
       "<style scoped>\n",
       "    .dataframe tbody tr th:only-of-type {\n",
       "        vertical-align: middle;\n",
       "    }\n",
       "\n",
       "    .dataframe tbody tr th {\n",
       "        vertical-align: top;\n",
       "    }\n",
       "\n",
       "    .dataframe thead th {\n",
       "        text-align: right;\n",
       "    }\n",
       "</style>\n",
       "<table border=\"1\" class=\"dataframe\">\n",
       "  <thead>\n",
       "    <tr style=\"text-align: right;\">\n",
       "      <th></th>\n",
       "      <th>file_name</th>\n",
       "      <th>split</th>\n",
       "      <th>patient</th>\n",
       "      <th>experiment</th>\n",
       "      <th>sleep_stage</th>\n",
       "      <th>trial</th>\n",
       "      <th>Quest_number</th>\n",
       "      <th>Subject_id</th>\n",
       "      <th>Stage</th>\n",
       "      <th>CE</th>\n",
       "    </tr>\n",
       "  </thead>\n",
       "  <tbody>\n",
       "    <tr>\n",
       "      <th>0</th>\n",
       "      <td>M001_E10_NREM_S1</td>\n",
       "      <td>[M001, E10, NREM, S1]</td>\n",
       "      <td>M001</td>\n",
       "      <td>E10</td>\n",
       "      <td>NREM</td>\n",
       "      <td>S1</td>\n",
       "      <td>1.0</td>\n",
       "      <td>M001_E10</td>\n",
       "      <td>3.0</td>\n",
       "      <td>2.0</td>\n",
       "    </tr>\n",
       "    <tr>\n",
       "      <th>1</th>\n",
       "      <td>M001_E10_NREM_S2</td>\n",
       "      <td>[M001, E10, NREM, S2]</td>\n",
       "      <td>M001</td>\n",
       "      <td>E10</td>\n",
       "      <td>NREM</td>\n",
       "      <td>S2</td>\n",
       "      <td>2.0</td>\n",
       "      <td>M001_E10</td>\n",
       "      <td>3.0</td>\n",
       "      <td>0.0</td>\n",
       "    </tr>\n",
       "    <tr>\n",
       "      <th>2</th>\n",
       "      <td>M001_E10_NREM_S4</td>\n",
       "      <td>[M001, E10, NREM, S4]</td>\n",
       "      <td>M001</td>\n",
       "      <td>E10</td>\n",
       "      <td>NREM</td>\n",
       "      <td>S4</td>\n",
       "      <td>4.0</td>\n",
       "      <td>M001_E10</td>\n",
       "      <td>3.0</td>\n",
       "      <td>0.0</td>\n",
       "    </tr>\n",
       "    <tr>\n",
       "      <th>3</th>\n",
       "      <td>M001_E10_NREM_S6</td>\n",
       "      <td>[M001, E10, NREM, S6]</td>\n",
       "      <td>M001</td>\n",
       "      <td>E10</td>\n",
       "      <td>NREM</td>\n",
       "      <td>S6</td>\n",
       "      <td>6.0</td>\n",
       "      <td>M001_E10</td>\n",
       "      <td>3.0</td>\n",
       "      <td>2.0</td>\n",
       "    </tr>\n",
       "    <tr>\n",
       "      <th>4</th>\n",
       "      <td>M001_E10_REM_S3</td>\n",
       "      <td>[M001, E10, REM, S3]</td>\n",
       "      <td>M001</td>\n",
       "      <td>E10</td>\n",
       "      <td>REM</td>\n",
       "      <td>S3</td>\n",
       "      <td>3.0</td>\n",
       "      <td>M001_E10</td>\n",
       "      <td>4.0</td>\n",
       "      <td>2.0</td>\n",
       "    </tr>\n",
       "    <tr>\n",
       "      <th>...</th>\n",
       "      <td>...</td>\n",
       "      <td>...</td>\n",
       "      <td>...</td>\n",
       "      <td>...</td>\n",
       "      <td>...</td>\n",
       "      <td>...</td>\n",
       "      <td>...</td>\n",
       "      <td>...</td>\n",
       "      <td>...</td>\n",
       "      <td>...</td>\n",
       "    </tr>\n",
       "    <tr>\n",
       "      <th>779</th>\n",
       "      <td>M007_E6_NREM_S7</td>\n",
       "      <td>[M007, E6, NREM, S7]</td>\n",
       "      <td>M007</td>\n",
       "      <td>E6</td>\n",
       "      <td>NREM</td>\n",
       "      <td>S7</td>\n",
       "      <td>7.0</td>\n",
       "      <td>M007_E6</td>\n",
       "      <td>2.0</td>\n",
       "      <td>0.0</td>\n",
       "    </tr>\n",
       "    <tr>\n",
       "      <th>780</th>\n",
       "      <td>M007_E6_NREM_S9</td>\n",
       "      <td>[M007, E6, NREM, S9]</td>\n",
       "      <td>M007</td>\n",
       "      <td>E6</td>\n",
       "      <td>NREM</td>\n",
       "      <td>S9</td>\n",
       "      <td>9.0</td>\n",
       "      <td>M007_E6</td>\n",
       "      <td>3.0</td>\n",
       "      <td>0.0</td>\n",
       "    </tr>\n",
       "    <tr>\n",
       "      <th>781</th>\n",
       "      <td>M007_E6_REM_S12</td>\n",
       "      <td>[M007, E6, REM, S12]</td>\n",
       "      <td>M007</td>\n",
       "      <td>E6</td>\n",
       "      <td>REM</td>\n",
       "      <td>S12</td>\n",
       "      <td>12.0</td>\n",
       "      <td>M007_E6</td>\n",
       "      <td>4.0</td>\n",
       "      <td>2.0</td>\n",
       "    </tr>\n",
       "    <tr>\n",
       "      <th>782</th>\n",
       "      <td>M007_E6_REM_S15</td>\n",
       "      <td>[M007, E6, REM, S15]</td>\n",
       "      <td>M007</td>\n",
       "      <td>E6</td>\n",
       "      <td>REM</td>\n",
       "      <td>S15</td>\n",
       "      <td>15.0</td>\n",
       "      <td>M007_E6</td>\n",
       "      <td>4.0</td>\n",
       "      <td>2.0</td>\n",
       "    </tr>\n",
       "    <tr>\n",
       "      <th>783</th>\n",
       "      <td>M007_E6_REM_S8</td>\n",
       "      <td>[M007, E6, REM, S8]</td>\n",
       "      <td>M007</td>\n",
       "      <td>E6</td>\n",
       "      <td>REM</td>\n",
       "      <td>S8</td>\n",
       "      <td>8.0</td>\n",
       "      <td>M007_E6</td>\n",
       "      <td>4.0</td>\n",
       "      <td>2.0</td>\n",
       "    </tr>\n",
       "  </tbody>\n",
       "</table>\n",
       "<p>784 rows × 10 columns</p>\n",
       "</div>"
      ],
      "text/plain": [
       "            file_name                  split patient experiment sleep_stage  \\\n",
       "0    M001_E10_NREM_S1  [M001, E10, NREM, S1]    M001        E10        NREM   \n",
       "1    M001_E10_NREM_S2  [M001, E10, NREM, S2]    M001        E10        NREM   \n",
       "2    M001_E10_NREM_S4  [M001, E10, NREM, S4]    M001        E10        NREM   \n",
       "3    M001_E10_NREM_S6  [M001, E10, NREM, S6]    M001        E10        NREM   \n",
       "4     M001_E10_REM_S3   [M001, E10, REM, S3]    M001        E10         REM   \n",
       "..                ...                    ...     ...        ...         ...   \n",
       "779   M007_E6_NREM_S7   [M007, E6, NREM, S7]    M007         E6        NREM   \n",
       "780   M007_E6_NREM_S9   [M007, E6, NREM, S9]    M007         E6        NREM   \n",
       "781   M007_E6_REM_S12   [M007, E6, REM, S12]    M007         E6         REM   \n",
       "782   M007_E6_REM_S15   [M007, E6, REM, S15]    M007         E6         REM   \n",
       "783    M007_E6_REM_S8    [M007, E6, REM, S8]    M007         E6         REM   \n",
       "\n",
       "    trial  Quest_number Subject_id  Stage   CE  \n",
       "0      S1           1.0   M001_E10    3.0  2.0  \n",
       "1      S2           2.0   M001_E10    3.0  0.0  \n",
       "2      S4           4.0   M001_E10    3.0  0.0  \n",
       "3      S6           6.0   M001_E10    3.0  2.0  \n",
       "4      S3           3.0   M001_E10    4.0  2.0  \n",
       "..    ...           ...        ...    ...  ...  \n",
       "779    S7           7.0    M007_E6    2.0  0.0  \n",
       "780    S9           9.0    M007_E6    3.0  0.0  \n",
       "781   S12          12.0    M007_E6    4.0  2.0  \n",
       "782   S15          15.0    M007_E6    4.0  2.0  \n",
       "783    S8           8.0    M007_E6    4.0  2.0  \n",
       "\n",
       "[784 rows x 10 columns]"
      ]
     },
     "execution_count": 33,
     "metadata": {},
     "output_type": "execute_result"
    }
   ],
   "source": [
    "m_valid"
   ]
  },
  {
   "cell_type": "code",
   "execution_count": 34,
   "metadata": {},
   "outputs": [
    {
     "data": {
      "text/plain": [
       "NREM    610\n",
       "REM     134\n",
       "WAKE     40\n",
       "Name: sleep_stage, dtype: int64"
      ]
     },
     "execution_count": 34,
     "metadata": {},
     "output_type": "execute_result"
    }
   ],
   "source": [
    "m_valid.sleep_stage.value_counts()"
   ]
  },
  {
   "cell_type": "code",
   "execution_count": 35,
   "metadata": {},
   "outputs": [
    {
     "data": {
      "text/plain": [
       "2.0    0.427296\n",
       "3.0    0.329082\n",
       "4.0    0.170918\n",
       "0.0    0.051020\n",
       "1.0    0.021684\n",
       "Name: Stage, dtype: float64"
      ]
     },
     "execution_count": 35,
     "metadata": {},
     "output_type": "execute_result"
    }
   ],
   "source": [
    "m_valid.Stage.value_counts() / m_valid.shape[0]"
   ]
  },
  {
   "cell_type": "markdown",
   "metadata": {},
   "source": [
    "#### Baseline"
   ]
  },
  {
   "cell_type": "code",
   "execution_count": 56,
   "metadata": {},
   "outputs": [
    {
     "data": {
      "text/html": [
       "<div>\n",
       "<style scoped>\n",
       "    .dataframe tbody tr th:only-of-type {\n",
       "        vertical-align: middle;\n",
       "    }\n",
       "\n",
       "    .dataframe tbody tr th {\n",
       "        vertical-align: top;\n",
       "    }\n",
       "\n",
       "    .dataframe thead th {\n",
       "        text-align: right;\n",
       "    }\n",
       "</style>\n",
       "<table border=\"1\" class=\"dataframe\">\n",
       "  <thead>\n",
       "    <tr style=\"text-align: right;\">\n",
       "      <th></th>\n",
       "      <th>file_path</th>\n",
       "      <th>file_name</th>\n",
       "      <th>subject</th>\n",
       "      <th>stage</th>\n",
       "      <th>trial_num</th>\n",
       "    </tr>\n",
       "  </thead>\n",
       "  <tbody>\n",
       "    <tr>\n",
       "      <th>0</th>\n",
       "      <td>H009/REM_c3.mat</td>\n",
       "      <td>REM_c3.mat</td>\n",
       "      <td>H009</td>\n",
       "      <td>REM</td>\n",
       "      <td>c3.mat</td>\n",
       "    </tr>\n",
       "    <tr>\n",
       "      <th>1</th>\n",
       "      <td>H009/REM_c4.mat</td>\n",
       "      <td>REM_c4.mat</td>\n",
       "      <td>H009</td>\n",
       "      <td>REM</td>\n",
       "      <td>c4.mat</td>\n",
       "    </tr>\n",
       "    <tr>\n",
       "      <th>2</th>\n",
       "      <td>H009/NREM_c1.mat</td>\n",
       "      <td>NREM_c1.mat</td>\n",
       "      <td>H009</td>\n",
       "      <td>NREM</td>\n",
       "      <td>c1.mat</td>\n",
       "    </tr>\n",
       "    <tr>\n",
       "      <th>3</th>\n",
       "      <td>H009/NREM_c2.mat</td>\n",
       "      <td>NREM_c2.mat</td>\n",
       "      <td>H009</td>\n",
       "      <td>NREM</td>\n",
       "      <td>c2.mat</td>\n",
       "    </tr>\n",
       "    <tr>\n",
       "      <th>4</th>\n",
       "      <td>H009/NREM_c3.mat</td>\n",
       "      <td>NREM_c3.mat</td>\n",
       "      <td>H009</td>\n",
       "      <td>NREM</td>\n",
       "      <td>c3.mat</td>\n",
       "    </tr>\n",
       "    <tr>\n",
       "      <th>...</th>\n",
       "      <td>...</td>\n",
       "      <td>...</td>\n",
       "      <td>...</td>\n",
       "      <td>...</td>\n",
       "      <td>...</td>\n",
       "    </tr>\n",
       "    <tr>\n",
       "      <th>156</th>\n",
       "      <td>H061/REM_c1.mat</td>\n",
       "      <td>REM_c1.mat</td>\n",
       "      <td>H061</td>\n",
       "      <td>REM</td>\n",
       "      <td>c1.mat</td>\n",
       "    </tr>\n",
       "    <tr>\n",
       "      <th>157</th>\n",
       "      <td>H061/REM_c2.mat</td>\n",
       "      <td>REM_c2.mat</td>\n",
       "      <td>H061</td>\n",
       "      <td>REM</td>\n",
       "      <td>c2.mat</td>\n",
       "    </tr>\n",
       "    <tr>\n",
       "      <th>158</th>\n",
       "      <td>H061/REM_c3.mat</td>\n",
       "      <td>REM_c3.mat</td>\n",
       "      <td>H061</td>\n",
       "      <td>REM</td>\n",
       "      <td>c3.mat</td>\n",
       "    </tr>\n",
       "    <tr>\n",
       "      <th>159</th>\n",
       "      <td>H061/REM_c4.mat</td>\n",
       "      <td>REM_c4.mat</td>\n",
       "      <td>H061</td>\n",
       "      <td>REM</td>\n",
       "      <td>c4.mat</td>\n",
       "    </tr>\n",
       "    <tr>\n",
       "      <th>160</th>\n",
       "      <td>H061/REM_c5.mat</td>\n",
       "      <td>REM_c5.mat</td>\n",
       "      <td>H061</td>\n",
       "      <td>REM</td>\n",
       "      <td>c5.mat</td>\n",
       "    </tr>\n",
       "  </tbody>\n",
       "</table>\n",
       "<p>161 rows × 5 columns</p>\n",
       "</div>"
      ],
      "text/plain": [
       "            file_path    file_name subject stage trial_num\n",
       "0     H009/REM_c3.mat   REM_c3.mat    H009   REM    c3.mat\n",
       "1     H009/REM_c4.mat   REM_c4.mat    H009   REM    c4.mat\n",
       "2    H009/NREM_c1.mat  NREM_c1.mat    H009  NREM    c1.mat\n",
       "3    H009/NREM_c2.mat  NREM_c2.mat    H009  NREM    c2.mat\n",
       "4    H009/NREM_c3.mat  NREM_c3.mat    H009  NREM    c3.mat\n",
       "..                ...          ...     ...   ...       ...\n",
       "156   H061/REM_c1.mat   REM_c1.mat    H061   REM    c1.mat\n",
       "157   H061/REM_c2.mat   REM_c2.mat    H061   REM    c2.mat\n",
       "158   H061/REM_c3.mat   REM_c3.mat    H061   REM    c3.mat\n",
       "159   H061/REM_c4.mat   REM_c4.mat    H061   REM    c4.mat\n",
       "160   H061/REM_c5.mat   REM_c5.mat    H061   REM    c5.mat\n",
       "\n",
       "[161 rows x 5 columns]"
      ]
     },
     "execution_count": 56,
     "metadata": {},
     "output_type": "execute_result"
    }
   ],
   "source": [
    "pd.read_csv(f'{data_folder}/CHUV/DataBaseline/rawdb_info.csv')"
   ]
  },
  {
   "cell_type": "code",
   "execution_count": 47,
   "metadata": {},
   "outputs": [
    {
     "name": "stdout",
     "output_type": "stream",
     "text": [
      "\n",
      "Number of baseline patients: 14\n"
     ]
    }
   ],
   "source": [
    "n_patients = 0\n",
    "\n",
    "for file in glob.glob(f'{data_folder}/CHUV/DataBaseline/H*'):\n",
    "    n_patients += 1\n",
    "\n",
    "print()\n",
    "print(f'Number of baseline patients: {n_patients}')"
   ]
  },
  {
   "cell_type": "code",
   "execution_count": 54,
   "metadata": {},
   "outputs": [
    {
     "name": "stdout",
     "output_type": "stream",
     "text": [
      "Number of baseline trials: 161\n"
     ]
    }
   ],
   "source": [
    "n_trials = 0\n",
    "file_names = []\n",
    "\n",
    "for file in glob.glob(f'{data_folder}/CHUV/DataBaseline/H*/*.mat'):\n",
    "    file_names.append(file.split('/')[-1].split('.')[0])\n",
    "    n_trials += 1\n",
    "\n",
    "print(f'Number of baseline trials: {n_trials}')"
   ]
  },
  {
   "cell_type": "code",
   "execution_count": 61,
   "metadata": {},
   "outputs": [],
   "source": [
    "with open('temp/baseline_h_data.txt', 'w') as file:\n",
    "    for filename in sorted(glob.glob(f'{data_folder}/CHUV/DataBaseline/H*/*.mat')):\n",
    "        name = filename.split('/')[-2:]\n",
    "        file.write(f'{name[0]}/{name[1]}\\n')"
   ]
  },
  {
   "cell_type": "code",
   "execution_count": 49,
   "metadata": {},
   "outputs": [
    {
     "data": {
      "text/plain": [
       "(540000, 257)"
      ]
     },
     "execution_count": 49,
     "metadata": {},
     "output_type": "execute_result"
    }
   ],
   "source": [
    "# Content of one baseline file\n",
    "with h5py.File(f'{data_folder}/CHUV/DataBaseline/H009/REM_c3.mat','r') as file:\n",
    "    signal_data = np.array(file['datavr'])\n",
    "\n",
    "signal_data.shape"
   ]
  },
  {
   "cell_type": "code",
   "execution_count": 52,
   "metadata": {},
   "outputs": [
    {
     "data": {
      "text/plain": [
       "18.0"
      ]
     },
     "execution_count": 52,
     "metadata": {},
     "output_type": "execute_result"
    }
   ],
   "source": [
    "signal_data.shape[0] / 500 / 60 # 18 minutes"
   ]
  },
  {
   "cell_type": "code",
   "execution_count": 53,
   "metadata": {},
   "outputs": [
    {
     "name": "stderr",
     "output_type": "stream",
     "text": [
      "100%|██████████| 8/8 [06:40<00:00, 50.04s/it]\n"
     ]
    },
    {
     "data": {
      "text/plain": [
       "385.0"
      ]
     },
     "execution_count": 53,
     "metadata": {},
     "output_type": "execute_result"
    }
   ],
   "source": [
    "n_samples = 0\n",
    "\n",
    "for file_path in tqdm.tqdm(glob.glob(f'{data_folder}/CHUV/DataBaseline/H009/*.mat')):\n",
    "    with h5py.File(file_path,'r') as file:\n",
    "        signal_data = np.array(file['datavr'])\n",
    "        n_samples += signal_data.shape[0]\n",
    "\n",
    "n_samples / 500 / 60 # length in minutes for one baseline subject"
   ]
  },
  {
   "cell_type": "code",
   "execution_count": 40,
   "metadata": {},
   "outputs": [
    {
     "name": "stdout",
     "output_type": "stream",
     "text": [
      "cepo\n",
      "cpoints\n",
      "id_epo\n",
      "orig_fs\n",
      "pt_arousals\n",
      "scoring\n"
     ]
    }
   ],
   "source": [
    "# There is also a file containing other info about baseline recording\n",
    "with h5py.File(f'{data_folder}/CHUV/DataBaseline/Info/H009/INFO_REM_c3.mat','r') as file:\n",
    "    for k, v in file.items():\n",
    "        print(k)"
   ]
  },
  {
   "cell_type": "markdown",
   "metadata": {},
   "source": [
    "### Further exploration of raw data file"
   ]
  },
  {
   "cell_type": "code",
   "execution_count": 41,
   "metadata": {},
   "outputs": [
    {
     "name": "stdout",
     "output_type": "stream",
     "text": [
      "#refs#\n",
      "chanlocs\n",
      "condi\n",
      "datavr\n",
      "events\n",
      "numseg\n",
      "ordseg\n",
      "reactime\n",
      "srate\n",
      "stage\n",
      "subject\n"
     ]
    }
   ],
   "source": [
    "import h5py\n",
    "\n",
    "file_path = f'{raw_data_folder}/H009/H009_E1_NREM_S01.mat'\n",
    "with h5py.File(file_path,'r') as file:\n",
    "    for k, v in file.items():\n",
    "        print(k)"
   ]
  },
  {
   "cell_type": "code",
   "execution_count": 42,
   "metadata": {},
   "outputs": [],
   "source": [
    "with h5py.File(file_path,'r') as file:\n",
    "    signal_data = np.array(file['datavr'])"
   ]
  },
  {
   "cell_type": "code",
   "execution_count": 43,
   "metadata": {},
   "outputs": [
    {
     "data": {
      "text/plain": [
       "(394125, 257)"
      ]
     },
     "execution_count": 43,
     "metadata": {},
     "output_type": "execute_result"
    }
   ],
   "source": [
    "signal_data.shape"
   ]
  },
  {
   "cell_type": "code",
   "execution_count": 44,
   "metadata": {},
   "outputs": [
    {
     "data": {
      "text/plain": [
       "(0.2243921, 27.815733)"
      ]
     },
     "execution_count": 44,
     "metadata": {},
     "output_type": "execute_result"
    }
   ],
   "source": [
    "signal_data[:, 0].mean(), signal_data[:, 0].std()"
   ]
  },
  {
   "cell_type": "code",
   "execution_count": 45,
   "metadata": {},
   "outputs": [
    {
     "data": {
      "image/png": "[encoded data removed]",
      "text/plain": [
       "<Figure size 432x288 with 1 Axes>"
      ]
     },
     "metadata": {
      "needs_background": "light"
     },
     "output_type": "display_data"
    }
   ],
   "source": [
    "plt.hist(signal_data[:, 0], bins=100);"
   ]
  },
  {
   "cell_type": "code",
   "execution_count": 46,
   "metadata": {},
   "outputs": [
    {
     "data": {
      "image/png": "[encoded data removed]",
      "text/plain": [
       "<Figure size 432x288 with 1 Axes>"
      ]
     },
     "metadata": {
      "needs_background": "light"
     },
     "output_type": "display_data"
    }
   ],
   "source": [
    "sampling_frequency = 500\n",
    "signal = signal_data[:sampling_frequency * 2, 0]\n",
    "\n",
    "ps = np.abs(np.fft.rfft(signal))**2\n",
    "\n",
    "time_step = 1 / sampling_frequency\n",
    "freqs = np.fft.rfftfreq(signal.size, time_step)\n",
    "\n",
    "plt.plot(freqs, ps);"
   ]
  },
  {
   "cell_type": "code",
   "execution_count": 47,
   "metadata": {},
   "outputs": [],
   "source": [
    "real_fft = np.abs(np.fft.rfft(signal))\n",
    "complex_fft = np.abs(np.fft.fft(signal))"
   ]
  },
  {
   "cell_type": "code",
   "execution_count": 48,
   "metadata": {},
   "outputs": [
    {
     "data": {
      "text/plain": [
       "(253880.05075708264, 253878.7674220712)"
      ]
     },
     "execution_count": 48,
     "metadata": {},
     "output_type": "execute_result"
    }
   ],
   "source": [
    "2 * real_fft[1:].sum() + real_fft[0], complex_fft.sum()"
   ]
  },
  {
   "cell_type": "markdown",
   "metadata": {},
   "source": [
    "### Comparison with existing data"
   ]
  },
  {
   "cell_type": "code",
   "execution_count": 49,
   "metadata": {},
   "outputs": [],
   "source": [
    "from preprocessing.frequency_transform import compute_bandwidths_power"
   ]
  },
  {
   "cell_type": "code",
   "execution_count": 50,
   "metadata": {},
   "outputs": [
    {
     "name": "stdout",
     "output_type": "stream",
     "text": [
      "__header__\n",
      "__version__\n",
      "__globals__\n",
      "alpha\n",
      "beta\n",
      "delta\n",
      "gamma\n",
      "rest\n",
      "theta\n"
     ]
    }
   ],
   "source": [
    "fft_data = sio.loadmat(f'{data_folder}/FFT_all_bands_120s/H009_FFT/H009_E1_NREM_S01_FFT.mat')\n",
    "for k, v in fft_data.items():\n",
    "    print(k)"
   ]
  },
  {
   "cell_type": "code",
   "execution_count": 51,
   "metadata": {},
   "outputs": [
    {
     "data": {
      "text/plain": [
       "(array([[ 70.03540039,  54.10562515,  26.66328239, ...,  98.33313751,\n",
       "          85.58564758, 155.87760925],\n",
       "        [ 84.72238159,  69.39164734,  47.78038788, ..., 105.12575531,\n",
       "         113.3421936 , 163.82183838],\n",
       "        [103.04844666,  79.75418854,  68.64001465, ..., 105.89842987,\n",
       "         154.28872681, 176.68569946],\n",
       "        ...,\n",
       "        [ 51.48116684,  52.13946915,  45.64640045, ..., 107.45292664,\n",
       "         138.48443604, 108.14183044],\n",
       "        [ 38.30952454,  34.35255432,  28.58793831, ...,  69.69562531,\n",
       "          97.65805054,  83.32487488],\n",
       "        [155.80851746,  79.09558105, 120.78317261, ..., 233.45315552,\n",
       "         402.22149658, 417.32052612]]),\n",
       " (257, 237))"
      ]
     },
     "execution_count": 51,
     "metadata": {},
     "output_type": "execute_result"
    }
   ],
   "source": [
    "fft_data['delta'], fft_data['delta'].shape"
   ]
  },
  {
   "cell_type": "code",
   "execution_count": 52,
   "metadata": {},
   "outputs": [
    {
     "data": {
      "text/plain": [
       "(237, 256, 1)"
      ]
     },
     "execution_count": 52,
     "metadata": {},
     "output_type": "execute_result"
    }
   ],
   "source": [
    "time_period = 120\n",
    "sampling_frequency = 500\n",
    "\n",
    "time_window = 2\n",
    "time_shift = .5\n",
    "\n",
    "bandwiths = np.array([\n",
    "    [1, 4]\n",
    "])\n",
    "\n",
    "eeg_power = compute_bandwidths_power(signal_data, sampling_frequency, time_period, time_window, time_shift, bandwiths)\n",
    "eeg_power.shape"
   ]
  },
  {
   "cell_type": "code",
   "execution_count": 53,
   "metadata": {},
   "outputs": [
    {
     "data": {
      "text/plain": [
       "array([[ 70.0478204 ,  54.18062688,  26.7485976 , ...,  97.97971129,\n",
       "         85.2308798 , 155.38274645],\n",
       "       [ 84.84533528,  69.60938264,  48.04652812, ..., 105.10672241,\n",
       "        113.53858222, 163.92818408],\n",
       "       [103.24880539,  80.07914123,  69.06882373, ..., 106.38020443,\n",
       "        155.15035795, 177.47143698],\n",
       "       ...,\n",
       "       [ 37.9508243 ,  38.1264379 ,  35.22826   , ...,  75.73853365,\n",
       "         99.49108342,  82.25947262],\n",
       "       [ 51.05797293,  51.79019696,  45.33440864, ..., 106.37207647,\n",
       "        136.81105489, 106.62719415],\n",
       "       [ 37.92575146,  34.0388442 ,  28.26321573, ...,  68.8241211 ,\n",
       "         96.24480916,  82.00289727]])"
      ]
     },
     "execution_count": 53,
     "metadata": {},
     "output_type": "execute_result"
    }
   ],
   "source": [
    "eeg_power[:, :, 0].T"
   ]
  },
  {
   "cell_type": "code",
   "execution_count": null,
   "metadata": {},
   "outputs": [],
   "source": []
  }
 ],
 "metadata": {
  "kernelspec": {
   "display_name": "Python 3.8.5 64-bit ('eeg-env')",
   "metadata": {
    "interpreter": {
     "hash": "2cc9e2ffa5ac2a6f4868d5387a8e9bce3eecbd05a64bcd1bfbc83b0eadcba3ce"
    }
   },
   "name": "python3"
  },
  "language_info": {
   "codemirror_mode": {
    "name": "ipython",
    "version": 3
   },
   "file_extension": ".py",
   "mimetype": "text/x-python",
   "name": "python",
   "nbconvert_exporter": "python",
   "pygments_lexer": "ipython3",
   "version": "3.8.5"
  },
  "orig_nbformat": 2
 },
 "nbformat": 4,
 "nbformat_minor": 2
}
