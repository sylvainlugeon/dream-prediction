{
 "cells": [
  {
   "cell_type": "code",
   "execution_count": 1,
   "metadata": {},
   "outputs": [],
   "source": [
    "import pandas as pd\n",
    "import numpy as np\n",
    "import glob\n",
    "import matplotlib.pyplot as plt"
   ]
  },
  {
   "cell_type": "markdown",
   "metadata": {},
   "source": [
    "## Baseline"
   ]
  },
  {
   "cell_type": "code",
   "execution_count": 27,
   "metadata": {},
   "outputs": [
    {
     "name": "stdout",
     "output_type": "stream",
     "text": [
      "Number of trials: 161\n"
     ]
    }
   ],
   "source": [
    "n_trials = 0\n",
    "file_names = []\n",
    "\n",
    "root_dir = '/mlodata1/lugeon/dream_data/chuv/baseline'\n",
    "\n",
    "for file in glob.glob(f'{root_dir}/*/*.mat'):\n",
    "    file_names.append(file.split('/')[-1].split('.')[0])\n",
    "    n_trials += 1\n",
    "    \n",
    "print(f'Number of trials: {n_trials}')"
   ]
  },
  {
   "cell_type": "code",
   "execution_count": 28,
   "metadata": {},
   "outputs": [],
   "source": [
    "df_files = pd.DataFrame({'file_name': file_names})\n",
    "df_files['label'] = -1\n",
    "df_files['sleep_cycle'] = df_files.file_name.apply(lambda f: int(f.split('_c')[-1]))\n",
    "df_files['sleep_stage'] = df_files.file_name.apply(lambda f: 2 if 'NREM' in f else 4)\n",
    "df_files['elapsed_time'] = -1"
   ]
  },
  {
   "cell_type": "code",
   "execution_count": 29,
   "metadata": {},
   "outputs": [
    {
     "data": {
      "text/html": [
       "<div>\n",
       "<style scoped>\n",
       "    .dataframe tbody tr th:only-of-type {\n",
       "        vertical-align: middle;\n",
       "    }\n",
       "\n",
       "    .dataframe tbody tr th {\n",
       "        vertical-align: top;\n",
       "    }\n",
       "\n",
       "    .dataframe thead th {\n",
       "        text-align: right;\n",
       "    }\n",
       "</style>\n",
       "<table border=\"1\" class=\"dataframe\">\n",
       "  <thead>\n",
       "    <tr style=\"text-align: right;\">\n",
       "      <th></th>\n",
       "      <th>file_name</th>\n",
       "      <th>label</th>\n",
       "      <th>sleep_cycle</th>\n",
       "      <th>sleep_stage</th>\n",
       "      <th>elapsed_time</th>\n",
       "    </tr>\n",
       "  </thead>\n",
       "  <tbody>\n",
       "    <tr>\n",
       "      <th>0</th>\n",
       "      <td>NREM_c5</td>\n",
       "      <td>-1</td>\n",
       "      <td>5</td>\n",
       "      <td>2</td>\n",
       "      <td>-1</td>\n",
       "    </tr>\n",
       "    <tr>\n",
       "      <th>1</th>\n",
       "      <td>NREM_c6</td>\n",
       "      <td>-1</td>\n",
       "      <td>6</td>\n",
       "      <td>2</td>\n",
       "      <td>-1</td>\n",
       "    </tr>\n",
       "    <tr>\n",
       "      <th>2</th>\n",
       "      <td>REM_c1</td>\n",
       "      <td>-1</td>\n",
       "      <td>1</td>\n",
       "      <td>4</td>\n",
       "      <td>-1</td>\n",
       "    </tr>\n",
       "    <tr>\n",
       "      <th>3</th>\n",
       "      <td>REM_c2</td>\n",
       "      <td>-1</td>\n",
       "      <td>2</td>\n",
       "      <td>4</td>\n",
       "      <td>-1</td>\n",
       "    </tr>\n",
       "    <tr>\n",
       "      <th>4</th>\n",
       "      <td>REM_c3</td>\n",
       "      <td>-1</td>\n",
       "      <td>3</td>\n",
       "      <td>4</td>\n",
       "      <td>-1</td>\n",
       "    </tr>\n",
       "  </tbody>\n",
       "</table>\n",
       "</div>"
      ],
      "text/plain": [
       "  file_name  label  sleep_cycle  sleep_stage  elapsed_time\n",
       "0   NREM_c5     -1            5            2            -1\n",
       "1   NREM_c6     -1            6            2            -1\n",
       "2    REM_c1     -1            1            4            -1\n",
       "3    REM_c2     -1            2            4            -1\n",
       "4    REM_c3     -1            3            4            -1"
      ]
     },
     "execution_count": 29,
     "metadata": {},
     "output_type": "execute_result"
    }
   ],
   "source": [
    "df_files.head()"
   ]
  },
  {
   "cell_type": "code",
   "execution_count": 30,
   "metadata": {},
   "outputs": [],
   "source": [
    "df_files.to_csv(\n",
    "    '/mlodata1/lugeon/dream_data/chuv/metadata/baseline_metadata.txt', \n",
    "    header=True, \n",
    "    sep=' ', \n",
    "    index=None,\n",
    "    float_format='%.0f')"
   ]
  },
  {
   "cell_type": "code",
   "execution_count": 31,
   "metadata": {},
   "outputs": [
    {
     "data": {
      "text/html": [
       "<div>\n",
       "<style scoped>\n",
       "    .dataframe tbody tr th:only-of-type {\n",
       "        vertical-align: middle;\n",
       "    }\n",
       "\n",
       "    .dataframe tbody tr th {\n",
       "        vertical-align: top;\n",
       "    }\n",
       "\n",
       "    .dataframe thead th {\n",
       "        text-align: right;\n",
       "    }\n",
       "</style>\n",
       "<table border=\"1\" class=\"dataframe\">\n",
       "  <thead>\n",
       "    <tr style=\"text-align: right;\">\n",
       "      <th></th>\n",
       "      <th>file_name</th>\n",
       "      <th>label</th>\n",
       "      <th>sleep_cycle</th>\n",
       "      <th>sleep_stage</th>\n",
       "      <th>elapsed_time</th>\n",
       "    </tr>\n",
       "  </thead>\n",
       "  <tbody>\n",
       "    <tr>\n",
       "      <th>0</th>\n",
       "      <td>NREM_c5</td>\n",
       "      <td>-1</td>\n",
       "      <td>5</td>\n",
       "      <td>2</td>\n",
       "      <td>-1</td>\n",
       "    </tr>\n",
       "    <tr>\n",
       "      <th>1</th>\n",
       "      <td>NREM_c6</td>\n",
       "      <td>-1</td>\n",
       "      <td>6</td>\n",
       "      <td>2</td>\n",
       "      <td>-1</td>\n",
       "    </tr>\n",
       "    <tr>\n",
       "      <th>2</th>\n",
       "      <td>REM_c1</td>\n",
       "      <td>-1</td>\n",
       "      <td>1</td>\n",
       "      <td>4</td>\n",
       "      <td>-1</td>\n",
       "    </tr>\n",
       "    <tr>\n",
       "      <th>3</th>\n",
       "      <td>REM_c2</td>\n",
       "      <td>-1</td>\n",
       "      <td>2</td>\n",
       "      <td>4</td>\n",
       "      <td>-1</td>\n",
       "    </tr>\n",
       "    <tr>\n",
       "      <th>4</th>\n",
       "      <td>REM_c3</td>\n",
       "      <td>-1</td>\n",
       "      <td>3</td>\n",
       "      <td>4</td>\n",
       "      <td>-1</td>\n",
       "    </tr>\n",
       "    <tr>\n",
       "      <th>...</th>\n",
       "      <td>...</td>\n",
       "      <td>...</td>\n",
       "      <td>...</td>\n",
       "      <td>...</td>\n",
       "      <td>...</td>\n",
       "    </tr>\n",
       "    <tr>\n",
       "      <th>156</th>\n",
       "      <td>REM_c2</td>\n",
       "      <td>-1</td>\n",
       "      <td>2</td>\n",
       "      <td>4</td>\n",
       "      <td>-1</td>\n",
       "    </tr>\n",
       "    <tr>\n",
       "      <th>157</th>\n",
       "      <td>REM_c3</td>\n",
       "      <td>-1</td>\n",
       "      <td>3</td>\n",
       "      <td>4</td>\n",
       "      <td>-1</td>\n",
       "    </tr>\n",
       "    <tr>\n",
       "      <th>158</th>\n",
       "      <td>REM_c4</td>\n",
       "      <td>-1</td>\n",
       "      <td>4</td>\n",
       "      <td>4</td>\n",
       "      <td>-1</td>\n",
       "    </tr>\n",
       "    <tr>\n",
       "      <th>159</th>\n",
       "      <td>NREM_c1</td>\n",
       "      <td>-1</td>\n",
       "      <td>1</td>\n",
       "      <td>2</td>\n",
       "      <td>-1</td>\n",
       "    </tr>\n",
       "    <tr>\n",
       "      <th>160</th>\n",
       "      <td>NREM_c2</td>\n",
       "      <td>-1</td>\n",
       "      <td>2</td>\n",
       "      <td>2</td>\n",
       "      <td>-1</td>\n",
       "    </tr>\n",
       "  </tbody>\n",
       "</table>\n",
       "<p>161 rows × 5 columns</p>\n",
       "</div>"
      ],
      "text/plain": [
       "    file_name  label  sleep_cycle  sleep_stage  elapsed_time\n",
       "0     NREM_c5     -1            5            2            -1\n",
       "1     NREM_c6     -1            6            2            -1\n",
       "2      REM_c1     -1            1            4            -1\n",
       "3      REM_c2     -1            2            4            -1\n",
       "4      REM_c3     -1            3            4            -1\n",
       "..        ...    ...          ...          ...           ...\n",
       "156    REM_c2     -1            2            4            -1\n",
       "157    REM_c3     -1            3            4            -1\n",
       "158    REM_c4     -1            4            4            -1\n",
       "159   NREM_c1     -1            1            2            -1\n",
       "160   NREM_c2     -1            2            2            -1\n",
       "\n",
       "[161 rows x 5 columns]"
      ]
     },
     "execution_count": 31,
     "metadata": {},
     "output_type": "execute_result"
    }
   ],
   "source": [
    "pd.read_csv('/mlodata1/lugeon/dream_data/chuv/metadata/baseline_metadata.txt', sep=' ', header=0)"
   ]
  },
  {
   "cell_type": "markdown",
   "metadata": {},
   "source": [
    "## Healthy"
   ]
  },
  {
   "cell_type": "code",
   "execution_count": 71,
   "metadata": {},
   "outputs": [
    {
     "name": "stdout",
     "output_type": "stream",
     "text": [
      "Number of H trials: 525\n"
     ]
    }
   ],
   "source": [
    "n_trials = 0\n",
    "file_names = []\n",
    "\n",
    "root_dir = '/mlodata1/lugeon/dream_data/chuv/healthy'\n",
    "\n",
    "\n",
    "for file in glob.glob(f'{root_dir}/*/H*.mat'):\n",
    "    file_names.append(file.split('/')[-1].split('.')[0])\n",
    "    n_trials += 1\n",
    "\n",
    "print(f'Number of H trials: {n_trials}')"
   ]
  },
  {
   "cell_type": "code",
   "execution_count": 72,
   "metadata": {},
   "outputs": [
    {
     "data": {
      "text/html": [
       "<div>\n",
       "<style scoped>\n",
       "    .dataframe tbody tr th:only-of-type {\n",
       "        vertical-align: middle;\n",
       "    }\n",
       "\n",
       "    .dataframe tbody tr th {\n",
       "        vertical-align: top;\n",
       "    }\n",
       "\n",
       "    .dataframe thead th {\n",
       "        text-align: right;\n",
       "    }\n",
       "</style>\n",
       "<table border=\"1\" class=\"dataframe\">\n",
       "  <thead>\n",
       "    <tr style=\"text-align: right;\">\n",
       "      <th></th>\n",
       "      <th>file_name</th>\n",
       "      <th>split</th>\n",
       "      <th>subject</th>\n",
       "      <th>experiment</th>\n",
       "      <th>trial</th>\n",
       "      <th>sleep_cycle</th>\n",
       "    </tr>\n",
       "  </thead>\n",
       "  <tbody>\n",
       "    <tr>\n",
       "      <th>0</th>\n",
       "      <td>H009_E1_NREM_S03</td>\n",
       "      <td>[H009, E1, NREM, S03]</td>\n",
       "      <td>H009</td>\n",
       "      <td>E1</td>\n",
       "      <td>3</td>\n",
       "      <td>-1</td>\n",
       "    </tr>\n",
       "    <tr>\n",
       "      <th>1</th>\n",
       "      <td>H009_E1_NREM_S05</td>\n",
       "      <td>[H009, E1, NREM, S05]</td>\n",
       "      <td>H009</td>\n",
       "      <td>E1</td>\n",
       "      <td>5</td>\n",
       "      <td>-1</td>\n",
       "    </tr>\n",
       "    <tr>\n",
       "      <th>2</th>\n",
       "      <td>H009_E1_NREM_S06</td>\n",
       "      <td>[H009, E1, NREM, S06]</td>\n",
       "      <td>H009</td>\n",
       "      <td>E1</td>\n",
       "      <td>6</td>\n",
       "      <td>-1</td>\n",
       "    </tr>\n",
       "    <tr>\n",
       "      <th>3</th>\n",
       "      <td>H009_E1_NREM_S07</td>\n",
       "      <td>[H009, E1, NREM, S07]</td>\n",
       "      <td>H009</td>\n",
       "      <td>E1</td>\n",
       "      <td>7</td>\n",
       "      <td>-1</td>\n",
       "    </tr>\n",
       "    <tr>\n",
       "      <th>4</th>\n",
       "      <td>H009_E1_NREM_S09</td>\n",
       "      <td>[H009, E1, NREM, S09]</td>\n",
       "      <td>H009</td>\n",
       "      <td>E1</td>\n",
       "      <td>9</td>\n",
       "      <td>-1</td>\n",
       "    </tr>\n",
       "  </tbody>\n",
       "</table>\n",
       "</div>"
      ],
      "text/plain": [
       "          file_name                  split subject experiment  trial  \\\n",
       "0  H009_E1_NREM_S03  [H009, E1, NREM, S03]    H009         E1      3   \n",
       "1  H009_E1_NREM_S05  [H009, E1, NREM, S05]    H009         E1      5   \n",
       "2  H009_E1_NREM_S06  [H009, E1, NREM, S06]    H009         E1      6   \n",
       "3  H009_E1_NREM_S07  [H009, E1, NREM, S07]    H009         E1      7   \n",
       "4  H009_E1_NREM_S09  [H009, E1, NREM, S09]    H009         E1      9   \n",
       "\n",
       "   sleep_cycle  \n",
       "0           -1  \n",
       "1           -1  \n",
       "2           -1  \n",
       "3           -1  \n",
       "4           -1  "
      ]
     },
     "execution_count": 72,
     "metadata": {},
     "output_type": "execute_result"
    }
   ],
   "source": [
    "df_files = pd.DataFrame({'file_name': file_names})\n",
    "\n",
    "df_files['split'] = df_files.file_name.apply(lambda f: f.split('_'))\n",
    "df_files['subject'] = df_files.split.apply(lambda l: l[0])\n",
    "df_files['experiment'] = df_files.split.apply(lambda l: l[1])\n",
    "df_files['trial'] = df_files.split.apply(lambda l: int(l[3][1:]))\n",
    "df_files['sleep_cycle'] = -1\n",
    "\n",
    "df_files.split.apply(len).value_counts()\n",
    "\n",
    "df_files.head()"
   ]
  },
  {
   "cell_type": "code",
   "execution_count": 73,
   "metadata": {},
   "outputs": [],
   "source": [
    "df_trial = pd.read_csv(\n",
    "    '/mlodata1/lugeon/dream_data/chuv/metadata/original/time_since_light_off.csv',\n",
    "    names=['subject_id', 'trial', 'elapsed_time', 'sleep_stage', 'label'],\n",
    "    header=0)\n",
    "\n",
    "df_trial['subject'] = df_trial.subject_id.apply(lambda s: s.split('_')[0])\n",
    "df_trial['experiment'] = df_trial.subject_id.apply(lambda s: s.split('_')[-1])"
   ]
  },
  {
   "cell_type": "code",
   "execution_count": 74,
   "metadata": {},
   "outputs": [
    {
     "data": {
      "text/html": [
       "<div>\n",
       "<style scoped>\n",
       "    .dataframe tbody tr th:only-of-type {\n",
       "        vertical-align: middle;\n",
       "    }\n",
       "\n",
       "    .dataframe tbody tr th {\n",
       "        vertical-align: top;\n",
       "    }\n",
       "\n",
       "    .dataframe thead th {\n",
       "        text-align: right;\n",
       "    }\n",
       "</style>\n",
       "<table border=\"1\" class=\"dataframe\">\n",
       "  <thead>\n",
       "    <tr style=\"text-align: right;\">\n",
       "      <th></th>\n",
       "      <th>subject_id</th>\n",
       "      <th>trial</th>\n",
       "      <th>elapsed_time</th>\n",
       "      <th>sleep_stage</th>\n",
       "      <th>label</th>\n",
       "      <th>subject</th>\n",
       "      <th>experiment</th>\n",
       "    </tr>\n",
       "  </thead>\n",
       "  <tbody>\n",
       "    <tr>\n",
       "      <th>0</th>\n",
       "      <td>M001_E1</td>\n",
       "      <td>2</td>\n",
       "      <td>38.0</td>\n",
       "      <td>2</td>\n",
       "      <td>2.0</td>\n",
       "      <td>M001</td>\n",
       "      <td>E1</td>\n",
       "    </tr>\n",
       "    <tr>\n",
       "      <th>1</th>\n",
       "      <td>M001_E1</td>\n",
       "      <td>4</td>\n",
       "      <td>86.0</td>\n",
       "      <td>2</td>\n",
       "      <td>2.0</td>\n",
       "      <td>M001</td>\n",
       "      <td>E1</td>\n",
       "    </tr>\n",
       "    <tr>\n",
       "      <th>2</th>\n",
       "      <td>M001_E1</td>\n",
       "      <td>8</td>\n",
       "      <td>170.0</td>\n",
       "      <td>2</td>\n",
       "      <td>2.0</td>\n",
       "      <td>M001</td>\n",
       "      <td>E1</td>\n",
       "    </tr>\n",
       "    <tr>\n",
       "      <th>3</th>\n",
       "      <td>M001_E1</td>\n",
       "      <td>9</td>\n",
       "      <td>193.0</td>\n",
       "      <td>2</td>\n",
       "      <td>2.0</td>\n",
       "      <td>M001</td>\n",
       "      <td>E1</td>\n",
       "    </tr>\n",
       "    <tr>\n",
       "      <th>4</th>\n",
       "      <td>M001_E1</td>\n",
       "      <td>10</td>\n",
       "      <td>208.0</td>\n",
       "      <td>2</td>\n",
       "      <td>2.0</td>\n",
       "      <td>M001</td>\n",
       "      <td>E1</td>\n",
       "    </tr>\n",
       "    <tr>\n",
       "      <th>...</th>\n",
       "      <td>...</td>\n",
       "      <td>...</td>\n",
       "      <td>...</td>\n",
       "      <td>...</td>\n",
       "      <td>...</td>\n",
       "      <td>...</td>\n",
       "      <td>...</td>\n",
       "    </tr>\n",
       "    <tr>\n",
       "      <th>1172</th>\n",
       "      <td>H100_E2</td>\n",
       "      <td>15</td>\n",
       "      <td>376.0</td>\n",
       "      <td>2</td>\n",
       "      <td>1.0</td>\n",
       "      <td>H100</td>\n",
       "      <td>E2</td>\n",
       "    </tr>\n",
       "    <tr>\n",
       "      <th>1173</th>\n",
       "      <td>H100_E2</td>\n",
       "      <td>16</td>\n",
       "      <td>394.0</td>\n",
       "      <td>2</td>\n",
       "      <td>2.0</td>\n",
       "      <td>H100</td>\n",
       "      <td>E2</td>\n",
       "    </tr>\n",
       "    <tr>\n",
       "      <th>1174</th>\n",
       "      <td>H100_E2</td>\n",
       "      <td>1</td>\n",
       "      <td>19.0</td>\n",
       "      <td>3</td>\n",
       "      <td>2.0</td>\n",
       "      <td>H100</td>\n",
       "      <td>E2</td>\n",
       "    </tr>\n",
       "    <tr>\n",
       "      <th>1175</th>\n",
       "      <td>H100_E2</td>\n",
       "      <td>2</td>\n",
       "      <td>40.0</td>\n",
       "      <td>3</td>\n",
       "      <td>2.0</td>\n",
       "      <td>H100</td>\n",
       "      <td>E2</td>\n",
       "    </tr>\n",
       "    <tr>\n",
       "      <th>1176</th>\n",
       "      <td>H100_E2</td>\n",
       "      <td>4</td>\n",
       "      <td>75.0</td>\n",
       "      <td>3</td>\n",
       "      <td>2.0</td>\n",
       "      <td>H100</td>\n",
       "      <td>E2</td>\n",
       "    </tr>\n",
       "  </tbody>\n",
       "</table>\n",
       "<p>1177 rows × 7 columns</p>\n",
       "</div>"
      ],
      "text/plain": [
       "     subject_id  trial  elapsed_time  sleep_stage  label subject experiment\n",
       "0       M001_E1      2          38.0            2    2.0    M001         E1\n",
       "1       M001_E1      4          86.0            2    2.0    M001         E1\n",
       "2       M001_E1      8         170.0            2    2.0    M001         E1\n",
       "3       M001_E1      9         193.0            2    2.0    M001         E1\n",
       "4       M001_E1     10         208.0            2    2.0    M001         E1\n",
       "...         ...    ...           ...          ...    ...     ...        ...\n",
       "1172    H100_E2     15         376.0            2    1.0    H100         E2\n",
       "1173    H100_E2     16         394.0            2    2.0    H100         E2\n",
       "1174    H100_E2      1          19.0            3    2.0    H100         E2\n",
       "1175    H100_E2      2          40.0            3    2.0    H100         E2\n",
       "1176    H100_E2      4          75.0            3    2.0    H100         E2\n",
       "\n",
       "[1177 rows x 7 columns]"
      ]
     },
     "execution_count": 74,
     "metadata": {},
     "output_type": "execute_result"
    }
   ],
   "source": [
    "df_trial"
   ]
  },
  {
   "cell_type": "code",
   "execution_count": 75,
   "metadata": {},
   "outputs": [
    {
     "data": {
      "text/html": [
       "<div>\n",
       "<style scoped>\n",
       "    .dataframe tbody tr th:only-of-type {\n",
       "        vertical-align: middle;\n",
       "    }\n",
       "\n",
       "    .dataframe tbody tr th {\n",
       "        vertical-align: top;\n",
       "    }\n",
       "\n",
       "    .dataframe thead th {\n",
       "        text-align: right;\n",
       "    }\n",
       "</style>\n",
       "<table border=\"1\" class=\"dataframe\">\n",
       "  <thead>\n",
       "    <tr style=\"text-align: right;\">\n",
       "      <th></th>\n",
       "      <th>file_name</th>\n",
       "      <th>split</th>\n",
       "      <th>subject</th>\n",
       "      <th>experiment</th>\n",
       "      <th>trial</th>\n",
       "      <th>sleep_cycle</th>\n",
       "      <th>subject_id</th>\n",
       "      <th>elapsed_time</th>\n",
       "      <th>sleep_stage</th>\n",
       "      <th>label</th>\n",
       "    </tr>\n",
       "  </thead>\n",
       "  <tbody>\n",
       "    <tr>\n",
       "      <th>0</th>\n",
       "      <td>H009_E1_NREM_S03</td>\n",
       "      <td>[H009, E1, NREM, S03]</td>\n",
       "      <td>H009</td>\n",
       "      <td>E1</td>\n",
       "      <td>3</td>\n",
       "      <td>-1.0</td>\n",
       "      <td>H009_E1</td>\n",
       "      <td>50.0</td>\n",
       "      <td>3</td>\n",
       "      <td>1.0</td>\n",
       "    </tr>\n",
       "    <tr>\n",
       "      <th>1</th>\n",
       "      <td>H009_E1_NREM_S05</td>\n",
       "      <td>[H009, E1, NREM, S05]</td>\n",
       "      <td>H009</td>\n",
       "      <td>E1</td>\n",
       "      <td>5</td>\n",
       "      <td>-1.0</td>\n",
       "      <td>H009_E1</td>\n",
       "      <td>154.0</td>\n",
       "      <td>2</td>\n",
       "      <td>1.0</td>\n",
       "    </tr>\n",
       "    <tr>\n",
       "      <th>2</th>\n",
       "      <td>H009_E1_NREM_S06</td>\n",
       "      <td>[H009, E1, NREM, S06]</td>\n",
       "      <td>H009</td>\n",
       "      <td>E1</td>\n",
       "      <td>6</td>\n",
       "      <td>-1.0</td>\n",
       "      <td>H009_E1</td>\n",
       "      <td>169.0</td>\n",
       "      <td>2</td>\n",
       "      <td>1.0</td>\n",
       "    </tr>\n",
       "    <tr>\n",
       "      <th>3</th>\n",
       "      <td>H009_E1_NREM_S07</td>\n",
       "      <td>[H009, E1, NREM, S07]</td>\n",
       "      <td>H009</td>\n",
       "      <td>E1</td>\n",
       "      <td>7</td>\n",
       "      <td>-1.0</td>\n",
       "      <td>H009_E1</td>\n",
       "      <td>193.0</td>\n",
       "      <td>2</td>\n",
       "      <td>1.0</td>\n",
       "    </tr>\n",
       "    <tr>\n",
       "      <th>4</th>\n",
       "      <td>H009_E1_NREM_S09</td>\n",
       "      <td>[H009, E1, NREM, S09]</td>\n",
       "      <td>H009</td>\n",
       "      <td>E1</td>\n",
       "      <td>9</td>\n",
       "      <td>-1.0</td>\n",
       "      <td>H009_E1</td>\n",
       "      <td>323.0</td>\n",
       "      <td>2</td>\n",
       "      <td>2.0</td>\n",
       "    </tr>\n",
       "  </tbody>\n",
       "</table>\n",
       "</div>"
      ],
      "text/plain": [
       "          file_name                  split subject experiment  trial  \\\n",
       "0  H009_E1_NREM_S03  [H009, E1, NREM, S03]    H009         E1      3   \n",
       "1  H009_E1_NREM_S05  [H009, E1, NREM, S05]    H009         E1      5   \n",
       "2  H009_E1_NREM_S06  [H009, E1, NREM, S06]    H009         E1      6   \n",
       "3  H009_E1_NREM_S07  [H009, E1, NREM, S07]    H009         E1      7   \n",
       "4  H009_E1_NREM_S09  [H009, E1, NREM, S09]    H009         E1      9   \n",
       "\n",
       "   sleep_cycle subject_id  elapsed_time  sleep_stage  label  \n",
       "0         -1.0    H009_E1          50.0            3    1.0  \n",
       "1         -1.0    H009_E1         154.0            2    1.0  \n",
       "2         -1.0    H009_E1         169.0            2    1.0  \n",
       "3         -1.0    H009_E1         193.0            2    1.0  \n",
       "4         -1.0    H009_E1         323.0            2    2.0  "
      ]
     },
     "execution_count": 75,
     "metadata": {},
     "output_type": "execute_result"
    }
   ],
   "source": [
    "df_merged = df_files.merge(df_trial, how='outer')\n",
    "df_merged.head()"
   ]
  },
  {
   "cell_type": "code",
   "execution_count": 76,
   "metadata": {},
   "outputs": [
    {
     "data": {
      "text/plain": [
       "(524, 10)"
      ]
     },
     "execution_count": 76,
     "metadata": {},
     "output_type": "execute_result"
    }
   ],
   "source": [
    "df_valid = df_merged[(df_merged.label.notna()) & df_merged.file_name.notna()]\n",
    "\n",
    "# Number of trials with both data + label\n",
    "df_valid.shape"
   ]
  },
  {
   "cell_type": "code",
   "execution_count": 77,
   "metadata": {},
   "outputs": [
    {
     "data": {
      "text/plain": [
       "file_name       0\n",
       "split           0\n",
       "subject         0\n",
       "experiment      0\n",
       "trial           0\n",
       "sleep_cycle     0\n",
       "subject_id      0\n",
       "elapsed_time    0\n",
       "sleep_stage     0\n",
       "label           0\n",
       "dtype: int64"
      ]
     },
     "execution_count": 77,
     "metadata": {},
     "output_type": "execute_result"
    }
   ],
   "source": [
    "df_valid.isna().sum()"
   ]
  },
  {
   "cell_type": "code",
   "execution_count": 78,
   "metadata": {},
   "outputs": [
    {
     "data": {
      "text/plain": [
       "2    224\n",
       "3    177\n",
       "4    123\n",
       "Name: sleep_stage, dtype: int64"
      ]
     },
     "execution_count": 78,
     "metadata": {},
     "output_type": "execute_result"
    }
   ],
   "source": [
    "df_valid.sleep_stage.value_counts()"
   ]
  },
  {
   "cell_type": "code",
   "execution_count": 79,
   "metadata": {},
   "outputs": [],
   "source": [
    "features_name = ['file_name', 'label', 'sleep_cycle', 'sleep_stage', 'elapsed_time']\n",
    "\n",
    "df_valid[features_name].to_csv(\n",
    "    '/mlodata1/lugeon/dream_data/chuv/metadata/healthy_metadata.txt', \n",
    "    sep=' ', \n",
    "    index=None,\n",
    "    float_format='%.0f')"
   ]
  },
  {
   "cell_type": "code",
   "execution_count": 80,
   "metadata": {},
   "outputs": [],
   "source": [
    "n_samples = 10\n",
    "\n",
    "df_valid[features_name].sample(n_samples, random_state=42).to_csv(\n",
    "    '/mlodata1/lugeon/dream_data/chuv/metadata/healthy_metadata_small.txt', \n",
    "    sep=' ', \n",
    "    index=None,\n",
    "    float_format='%.0f')"
   ]
  },
  {
   "cell_type": "code",
   "execution_count": 81,
   "metadata": {},
   "outputs": [
    {
     "name": "stderr",
     "output_type": "stream",
     "text": [
      "/tmp/ipykernel_1263873/1160626768.py:3: SettingWithCopyWarning: \n",
      "A value is trying to be set on a copy of a slice from a DataFrame\n",
      "\n",
      "See the caveats in the documentation: https://pandas.pydata.org/pandas-docs/stable/user_guide/indexing.html#returning-a-view-versus-a-copy\n",
      "  df_binary.label.replace(2, 1, inplace=True)\n"
     ]
    },
    {
     "data": {
      "text/plain": [
       "sleep_stage  label\n",
       "2            0.0      43\n",
       "             1.0      81\n",
       "3            0.0      40\n",
       "             1.0      76\n",
       "Name: file_name, dtype: int64"
      ]
     },
     "execution_count": 81,
     "metadata": {},
     "output_type": "execute_result"
    }
   ],
   "source": [
    "mask = df_valid.label.apply(lambda l: l in {0, 2}) & df_valid.sleep_stage.apply(lambda s: s in {2, 3})\n",
    "df_binary = df_valid[mask]\n",
    "df_binary.label.replace(2, 1, inplace=True)\n",
    "df_binary.groupby(['sleep_stage', 'label']).file_name.count()"
   ]
  },
  {
   "cell_type": "code",
   "execution_count": 83,
   "metadata": {},
   "outputs": [],
   "source": [
    "df_binary[features_name].to_csv(\n",
    "    '/mlodata1/lugeon/dream_data/chuv/metadata/healthy_metadata_nrem_binary.txt', \n",
    "    sep=' ', \n",
    "    index=None,\n",
    "    float_format='%.0f')"
   ]
  },
  {
   "cell_type": "code",
   "execution_count": 86,
   "metadata": {},
   "outputs": [
    {
     "data": {
      "text/plain": [
       "array([1.44578313, 0.76433121])"
      ]
     },
     "execution_count": 86,
     "metadata": {},
     "output_type": "execute_result"
    }
   ],
   "source": [
    "# weight for balanced training\n",
    "df_binary.shape[0] / (2 * np.bincount(df_binary.label))"
   ]
  },
  {
   "cell_type": "markdown",
   "metadata": {},
   "source": [
    "## Madison"
   ]
  },
  {
   "cell_type": "code",
   "execution_count": 87,
   "metadata": {},
   "outputs": [
    {
     "name": "stdout",
     "output_type": "stream",
     "text": [
      "Number of M trials: 784\n"
     ]
    }
   ],
   "source": [
    "n_trials = 0\n",
    "file_names = []\n",
    "\n",
    "root_dir = '/mlodata1/lugeon/dream_data/chuv/madison'\n",
    "\n",
    "\n",
    "for file in glob.glob(f'{root_dir}/*/M*.mat'):\n",
    "    file_names.append(file.split('/')[-1].split('.')[0])\n",
    "    n_trials += 1\n",
    "\n",
    "print(f'Number of M trials: {n_trials}')"
   ]
  },
  {
   "cell_type": "code",
   "execution_count": 88,
   "metadata": {},
   "outputs": [
    {
     "data": {
      "text/html": [
       "<div>\n",
       "<style scoped>\n",
       "    .dataframe tbody tr th:only-of-type {\n",
       "        vertical-align: middle;\n",
       "    }\n",
       "\n",
       "    .dataframe tbody tr th {\n",
       "        vertical-align: top;\n",
       "    }\n",
       "\n",
       "    .dataframe thead th {\n",
       "        text-align: right;\n",
       "    }\n",
       "</style>\n",
       "<table border=\"1\" class=\"dataframe\">\n",
       "  <thead>\n",
       "    <tr style=\"text-align: right;\">\n",
       "      <th></th>\n",
       "      <th>file_name</th>\n",
       "      <th>split</th>\n",
       "      <th>subject</th>\n",
       "      <th>experiment</th>\n",
       "      <th>trial</th>\n",
       "      <th>sleep_cycle</th>\n",
       "    </tr>\n",
       "  </thead>\n",
       "  <tbody>\n",
       "    <tr>\n",
       "      <th>0</th>\n",
       "      <td>M001_E10_NREM_S1</td>\n",
       "      <td>[M001, E10, NREM, S1]</td>\n",
       "      <td>M001</td>\n",
       "      <td>E10</td>\n",
       "      <td>1</td>\n",
       "      <td>-1</td>\n",
       "    </tr>\n",
       "    <tr>\n",
       "      <th>1</th>\n",
       "      <td>M001_E10_NREM_S2</td>\n",
       "      <td>[M001, E10, NREM, S2]</td>\n",
       "      <td>M001</td>\n",
       "      <td>E10</td>\n",
       "      <td>2</td>\n",
       "      <td>-1</td>\n",
       "    </tr>\n",
       "    <tr>\n",
       "      <th>2</th>\n",
       "      <td>M001_E10_NREM_S4</td>\n",
       "      <td>[M001, E10, NREM, S4]</td>\n",
       "      <td>M001</td>\n",
       "      <td>E10</td>\n",
       "      <td>4</td>\n",
       "      <td>-1</td>\n",
       "    </tr>\n",
       "    <tr>\n",
       "      <th>3</th>\n",
       "      <td>M001_E10_NREM_S6</td>\n",
       "      <td>[M001, E10, NREM, S6]</td>\n",
       "      <td>M001</td>\n",
       "      <td>E10</td>\n",
       "      <td>6</td>\n",
       "      <td>-1</td>\n",
       "    </tr>\n",
       "    <tr>\n",
       "      <th>4</th>\n",
       "      <td>M001_E10_REM_S3</td>\n",
       "      <td>[M001, E10, REM, S3]</td>\n",
       "      <td>M001</td>\n",
       "      <td>E10</td>\n",
       "      <td>3</td>\n",
       "      <td>-1</td>\n",
       "    </tr>\n",
       "  </tbody>\n",
       "</table>\n",
       "</div>"
      ],
      "text/plain": [
       "          file_name                  split subject experiment  trial  \\\n",
       "0  M001_E10_NREM_S1  [M001, E10, NREM, S1]    M001        E10      1   \n",
       "1  M001_E10_NREM_S2  [M001, E10, NREM, S2]    M001        E10      2   \n",
       "2  M001_E10_NREM_S4  [M001, E10, NREM, S4]    M001        E10      4   \n",
       "3  M001_E10_NREM_S6  [M001, E10, NREM, S6]    M001        E10      6   \n",
       "4   M001_E10_REM_S3   [M001, E10, REM, S3]    M001        E10      3   \n",
       "\n",
       "   sleep_cycle  \n",
       "0           -1  \n",
       "1           -1  \n",
       "2           -1  \n",
       "3           -1  \n",
       "4           -1  "
      ]
     },
     "execution_count": 88,
     "metadata": {},
     "output_type": "execute_result"
    }
   ],
   "source": [
    "df_files = pd.DataFrame({'file_name': file_names})\n",
    "\n",
    "df_files['split'] = df_files.file_name.apply(lambda f: f.split('_'))\n",
    "df_files['subject'] = df_files.split.apply(lambda l: l[0])\n",
    "df_files['experiment'] = df_files.split.apply(lambda l: l[1])\n",
    "df_files['trial'] = df_files.split.apply(lambda l: int(l[3][1:]))\n",
    "df_files['sleep_cycle'] = -1\n",
    "\n",
    "df_files.split.apply(len).value_counts()\n",
    "\n",
    "df_files.head()"
   ]
  },
  {
   "cell_type": "code",
   "execution_count": 89,
   "metadata": {},
   "outputs": [],
   "source": [
    "df_trial = pd.read_csv(\n",
    "    '/mlodata1/lugeon/dream_data/chuv/metadata/original/time_since_light_off.csv',\n",
    "    names=['subject_id', 'trial', 'elapsed_time', 'sleep_stage', 'label'],\n",
    "    header=0)\n",
    "\n",
    "df_trial['subject'] = df_trial.subject_id.apply(lambda s: s.split('_')[0])\n",
    "df_trial['experiment'] = df_trial.subject_id.apply(lambda s: s.split('_')[-1])"
   ]
  },
  {
   "cell_type": "code",
   "execution_count": 90,
   "metadata": {},
   "outputs": [],
   "source": [
    "df_merged = df_files.merge(df_trial, how='outer')"
   ]
  },
  {
   "cell_type": "code",
   "execution_count": 91,
   "metadata": {},
   "outputs": [
    {
     "data": {
      "text/plain": [
       "(593, 10)"
      ]
     },
     "execution_count": 91,
     "metadata": {},
     "output_type": "execute_result"
    }
   ],
   "source": [
    "df_valid = df_merged[(df_merged.label.notna()) & df_merged.file_name.notna()]\n",
    "\n",
    "# Number of trials with both data + label\n",
    "df_valid.shape"
   ]
  },
  {
   "cell_type": "code",
   "execution_count": 92,
   "metadata": {},
   "outputs": [
    {
     "data": {
      "text/plain": [
       "file_name       0\n",
       "split           0\n",
       "subject         0\n",
       "experiment      0\n",
       "trial           0\n",
       "sleep_cycle     0\n",
       "subject_id      0\n",
       "elapsed_time    0\n",
       "sleep_stage     0\n",
       "label           0\n",
       "dtype: int64"
      ]
     },
     "execution_count": 92,
     "metadata": {},
     "output_type": "execute_result"
    }
   ],
   "source": [
    "df_valid.isna().sum()"
   ]
  },
  {
   "cell_type": "code",
   "execution_count": 93,
   "metadata": {},
   "outputs": [
    {
     "data": {
      "text/plain": [
       "sleep_stage  label\n",
       "2.0          0.0       73\n",
       "             1.0      129\n",
       "             2.0      133\n",
       "3.0          0.0       95\n",
       "             1.0      100\n",
       "             2.0       63\n",
       "Name: file_name, dtype: int64"
      ]
     },
     "execution_count": 93,
     "metadata": {},
     "output_type": "execute_result"
    }
   ],
   "source": [
    "df_valid.groupby(['sleep_stage', 'label']).file_name.count()"
   ]
  },
  {
   "cell_type": "code",
   "execution_count": 94,
   "metadata": {},
   "outputs": [],
   "source": [
    "features_name = ['file_name', 'label', 'sleep_cycle', 'sleep_stage', 'elapsed_time']\n",
    "\n",
    "df_valid[features_name].to_csv(\n",
    "    '/mlodata1/lugeon/dream_data/chuv/metadata/madison_metadata.txt', \n",
    "    sep=' ', \n",
    "    index=None,\n",
    "    float_format='%.0f')"
   ]
  },
  {
   "cell_type": "code",
   "execution_count": 95,
   "metadata": {},
   "outputs": [
    {
     "name": "stderr",
     "output_type": "stream",
     "text": [
      "/tmp/ipykernel_1263873/1160626768.py:3: SettingWithCopyWarning: \n",
      "A value is trying to be set on a copy of a slice from a DataFrame\n",
      "\n",
      "See the caveats in the documentation: https://pandas.pydata.org/pandas-docs/stable/user_guide/indexing.html#returning-a-view-versus-a-copy\n",
      "  df_binary.label.replace(2, 1, inplace=True)\n"
     ]
    },
    {
     "data": {
      "text/plain": [
       "sleep_stage  label\n",
       "2.0          0.0       73\n",
       "             1.0      133\n",
       "3.0          0.0       95\n",
       "             1.0       63\n",
       "Name: file_name, dtype: int64"
      ]
     },
     "execution_count": 95,
     "metadata": {},
     "output_type": "execute_result"
    }
   ],
   "source": [
    "mask = df_valid.label.apply(lambda l: l in {0, 2}) & df_valid.sleep_stage.apply(lambda s: s in {2, 3})\n",
    "df_binary = df_valid[mask]\n",
    "df_binary.label.replace(2, 1, inplace=True)\n",
    "df_binary.groupby(['sleep_stage', 'label']).file_name.count()"
   ]
  },
  {
   "cell_type": "code",
   "execution_count": 96,
   "metadata": {},
   "outputs": [],
   "source": [
    "df_binary[features_name].to_csv(\n",
    "    '/mlodata1/lugeon/dream_data/chuv/metadata/madison_metadata_nrem_binary.txt', \n",
    "    sep=' ', \n",
    "    index=None,\n",
    "    float_format='%.0f')"
   ]
  },
  {
   "cell_type": "code",
   "execution_count": 97,
   "metadata": {},
   "outputs": [
    {
     "data": {
      "text/plain": [
       "array([1.08333333, 0.92857143])"
      ]
     },
     "execution_count": 97,
     "metadata": {},
     "output_type": "execute_result"
    }
   ],
   "source": [
    "# weight for balanced training\n",
    "df_binary.shape[0] / (2 * np.bincount(df_binary.label))"
   ]
  },
  {
   "cell_type": "code",
   "execution_count": null,
   "metadata": {},
   "outputs": [],
   "source": []
  }
 ],
 "metadata": {
  "kernelspec": {
   "display_name": "Python 3.8.13 64-bit ('eeg-dream-conda')",
   "language": "python",
   "name": "python3"
  },
  "language_info": {
   "codemirror_mode": {
    "name": "ipython",
    "version": 3
   },
   "file_extension": ".py",
   "mimetype": "text/x-python",
   "name": "python",
   "nbconvert_exporter": "python",
   "pygments_lexer": "ipython3",
   "version": "3.8.13"
  },
  "orig_nbformat": 4,
  "vscode": {
   "interpreter": {
    "hash": "e0c3161eab2e75dfcb96e4a863b884d85431a87580826b5743bc70e49f36ae89"
   }
  }
 },
 "nbformat": 4,
 "nbformat_minor": 2
}
