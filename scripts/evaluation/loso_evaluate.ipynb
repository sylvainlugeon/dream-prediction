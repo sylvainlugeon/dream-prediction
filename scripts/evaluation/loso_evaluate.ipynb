{
 "cells": [
  {
   "cell_type": "code",
   "execution_count": null,
   "metadata": {},
   "outputs": [],
   "source": [
    "import pandas as pd\n",
    "import numpy as np\n",
    "import sys\n",
    "import h5py\n",
    "import yaml\n",
    "import matplotlib.pyplot as plt\n",
    "from sklearn.metrics import roc_curve, auc\n",
    "from sklearn.metrics import balanced_accuracy_score\n",
    "\n",
    "sys.path.append('/home/lugeon/eeg_project/scripts')\n",
    "\n",
    "import seaborn as sns\n",
    "sns.set_context(\"paper\")\n",
    "sns.set(font_scale = 1.6)\n",
    "sns.set_style(\"white\", {\n",
    "    \"font.family\": \"sans-serif\",\n",
    "    \"font.serif\": ['Helvetica'],\n",
    "    \"font.scale\": 2\n",
    "})\n",
    "sns.set_style(\"ticks\", {\"xtick.major.size\": 4,\n",
    "                        \"ytick.major.size\": 4})"
   ]
  },
  {
   "cell_type": "code",
   "execution_count": 11,
   "metadata": {},
   "outputs": [
    {
     "data": {
      "text/html": [
       "<div>\n",
       "<style scoped>\n",
       "    .dataframe tbody tr th:only-of-type {\n",
       "        vertical-align: middle;\n",
       "    }\n",
       "\n",
       "    .dataframe tbody tr th {\n",
       "        vertical-align: top;\n",
       "    }\n",
       "\n",
       "    .dataframe thead th {\n",
       "        text-align: right;\n",
       "    }\n",
       "</style>\n",
       "<table border=\"1\" class=\"dataframe\">\n",
       "  <thead>\n",
       "    <tr style=\"text-align: right;\">\n",
       "      <th></th>\n",
       "      <th>sid</th>\n",
       "      <th>tid</th>\n",
       "      <th>fid</th>\n",
       "      <th>ss</th>\n",
       "      <th>et</th>\n",
       "      <th>label</th>\n",
       "      <th>score</th>\n",
       "      <th>pred</th>\n",
       "    </tr>\n",
       "  </thead>\n",
       "  <tbody>\n",
       "    <tr>\n",
       "      <th>0</th>\n",
       "      <td>0</td>\n",
       "      <td>79</td>\n",
       "      <td>20</td>\n",
       "      <td>3</td>\n",
       "      <td>303</td>\n",
       "      <td>1</td>\n",
       "      <td>0.509008</td>\n",
       "      <td>1</td>\n",
       "    </tr>\n",
       "    <tr>\n",
       "      <th>1</th>\n",
       "      <td>0</td>\n",
       "      <td>68</td>\n",
       "      <td>10</td>\n",
       "      <td>2</td>\n",
       "      <td>148</td>\n",
       "      <td>0</td>\n",
       "      <td>0.731559</td>\n",
       "      <td>1</td>\n",
       "    </tr>\n",
       "    <tr>\n",
       "      <th>2</th>\n",
       "      <td>0</td>\n",
       "      <td>72</td>\n",
       "      <td>5</td>\n",
       "      <td>2</td>\n",
       "      <td>280</td>\n",
       "      <td>1</td>\n",
       "      <td>0.996440</td>\n",
       "      <td>1</td>\n",
       "    </tr>\n",
       "    <tr>\n",
       "      <th>3</th>\n",
       "      <td>0</td>\n",
       "      <td>89</td>\n",
       "      <td>10</td>\n",
       "      <td>3</td>\n",
       "      <td>285</td>\n",
       "      <td>1</td>\n",
       "      <td>0.103928</td>\n",
       "      <td>0</td>\n",
       "    </tr>\n",
       "    <tr>\n",
       "      <th>4</th>\n",
       "      <td>0</td>\n",
       "      <td>45</td>\n",
       "      <td>10</td>\n",
       "      <td>2</td>\n",
       "      <td>119</td>\n",
       "      <td>1</td>\n",
       "      <td>0.901464</td>\n",
       "      <td>1</td>\n",
       "    </tr>\n",
       "  </tbody>\n",
       "</table>\n",
       "</div>"
      ],
      "text/plain": [
       "   sid  tid  fid  ss   et  label     score  pred\n",
       "0    0   79   20   3  303      1  0.509008     1\n",
       "1    0   68   10   2  148      0  0.731559     1\n",
       "2    0   72    5   2  280      1  0.996440     1\n",
       "3    0   89   10   3  285      1  0.103928     0\n",
       "4    0   45   10   2  119      1  0.901464     1"
      ]
     },
     "execution_count": 11,
     "metadata": {},
     "output_type": "execute_result"
    }
   ],
   "source": [
    "result_dir = '/home/lugeon/eeg_project/results/loso_ft/autoencoder'\n",
    "df_path = f'{result_dir}/res.csv'\n",
    "df = pd.read_csv(df_path)\n",
    "df['pred'] = (df.score >= 0.5).astype(int)\n",
    "df.head()"
   ]
  },
  {
   "cell_type": "code",
   "execution_count": 12,
   "metadata": {},
   "outputs": [],
   "source": [
    "with open(f'{result_dir}/train_config.yaml') as file:\n",
    "        config = yaml.load(file, Loader=yaml.FullLoader)\n",
    "        \n",
    "with h5py.File(config['data']['dset_kwargs']['hdf5_file'], 'r') as f:\n",
    "        subjects = [s.decode('utf-8') for s in f['subject_name'][:]]"
   ]
  },
  {
   "cell_type": "code",
   "execution_count": 13,
   "metadata": {},
   "outputs": [],
   "source": [
    "balanced_acc = df.groupby('sid').apply(lambda g: balanced_accuracy_score(g.label, g.pred))\n",
    "\n",
    "rates = df.groupby('sid').apply(lambda g: roc_curve(g.label, g.score))\n",
    "rates = rates.apply(lambda r: [r[0].tolist(), r[1].tolist()])\n",
    "\n",
    "# mean area under the ROC curve\n",
    "aucs = [auc(fpr, tpr) for (fpr, tpr) in rates]"
   ]
  },
  {
   "cell_type": "code",
   "execution_count": 14,
   "metadata": {},
   "outputs": [
    {
     "name": "stdout",
     "output_type": "stream",
     "text": [
      "LOSO Balanced Acc: 61.59 +/- 5.73\n",
      "LOSO AUC-ROC: 65.69 +/- 7.32\n"
     ]
    }
   ],
   "source": [
    "print(f'LOSO Balanced Acc: {np.mean(balanced_acc) * 100 :.2f} +/- {np.std(balanced_acc) * 100:.2f}')\n",
    "print(f'LOSO AUC-ROC: {np.mean(aucs) * 100 :.2f} +/- {np.std(aucs) * 100:.2f}')"
   ]
  },
  {
   "cell_type": "code",
   "execution_count": 15,
   "metadata": {},
   "outputs": [
    {
     "data": {
      "image/png": "[encoded data removed]",
      "text/plain": [
       "<Figure size 576x576 with 1 Axes>"
      ]
     },
     "metadata": {},
     "output_type": "display_data"
    }
   ],
   "source": [
    "fig, ax = plt.subplots(figsize=(8, 8)) \n",
    "cmap = plt.get_cmap('tab20')\n",
    "\n",
    "i = 0\n",
    "for r, sname in zip(rates, subjects):\n",
    "    fpr, tpr = r\n",
    "    if fpr is not None:\n",
    "        ax.plot(fpr, tpr, label=sname, color=cmap(i))\n",
    "    i += 1\n",
    "    \n",
    "ax.plot([0, 1], [0, 1], label='Random', linestyle='--', color='black', zorder=0)\n",
    "\n",
    "plt.legend(bbox_to_anchor=[1.35, 1])\n",
    "\n",
    "plt.xlabel('False Positive Rate')\n",
    "plt.ylabel('True Positive Rate')\n",
    "\n",
    "ax.spines['right'].set_visible(False)\n",
    "ax.spines['top'].set_visible(False)\n",
    "\n",
    "plt.savefig('roc.png', bbox_inches='tight')\n",
    "\n",
    "plt.show()"
   ]
  },
  {
   "cell_type": "code",
   "execution_count": 16,
   "metadata": {},
   "outputs": [
    {
     "name": "stdout",
     "output_type": "stream",
     "text": [
      "Trial majority accuracy: 60.70 +/- 6.46\n"
     ]
    }
   ],
   "source": [
    "trial_preds = df.groupby(['sid', 'tid']).pred.apply(\n",
    "    lambda p: sum(p) / len(p)\n",
    "    ).to_frame().reset_index().rename(columns={'pred': 'majority_score'})\n",
    "\n",
    "trial_preds = trial_preds.merge(\n",
    "    df[['sid', 'tid', 'label', 'et', 'ss']].drop_duplicates(['sid', 'tid']), \n",
    "    how='left', on=['sid', 'tid'])\n",
    "\n",
    "trial_preds['majority_pred'] = (trial_preds.majority_score >= 0.5).astype(int)\n",
    "trial_preds['correct'] = trial_preds.majority_pred == trial_preds.label\n",
    "\n",
    "majority_acc = trial_preds.groupby('sid').apply(lambda g: balanced_accuracy_score(g.label, g.majority_pred))\n",
    "print(f'Trial majority accuracy: {np.mean(majority_acc) * 100 :.2f} +/- {np.std(majority_acc) * 100:.2f}')"
   ]
  },
  {
   "cell_type": "code",
   "execution_count": 26,
   "metadata": {},
   "outputs": [],
   "source": [
    "baccs = []\n",
    "support = []\n",
    "for treshold in [0.5, 0.4, 0.3, 0.2, 0.1, 0.05]:\n",
    "    mask = (0.5 - abs(0.5 - df.score)) <= treshold\n",
    "    df_th = df[mask]\n",
    "    bacc = df_th.groupby('sid').apply(lambda g: balanced_accuracy_score(g.label, g.pred))\n",
    "    support.append(df_th.shape[0])\n",
    "    baccs.append(bacc.mean())"
   ]
  },
  {
   "cell_type": "code",
   "execution_count": 27,
   "metadata": {},
   "outputs": [
    {
     "data": {
      "text/plain": [
       "[2184, 1948, 1653, 1350, 944, 678]"
      ]
     },
     "execution_count": 27,
     "metadata": {},
     "output_type": "execute_result"
    }
   ],
   "source": [
    "support"
   ]
  },
  {
   "cell_type": "code",
   "execution_count": 28,
   "metadata": {},
   "outputs": [
    {
     "data": {
      "text/plain": [
       "[0.615894826838388,\n",
       " 0.629585250747377,\n",
       " 0.6376661161939309,\n",
       " 0.6527176411810752,\n",
       " 0.6183987600385061,\n",
       " 0.6007904245956832]"
      ]
     },
     "execution_count": 28,
     "metadata": {},
     "output_type": "execute_result"
    }
   ],
   "source": [
    "baccs"
   ]
  },
  {
   "cell_type": "markdown",
   "metadata": {},
   "source": [
    "### Error distribution"
   ]
  },
  {
   "cell_type": "code",
   "execution_count": 56,
   "metadata": {},
   "outputs": [
    {
     "data": {
      "text/plain": [
       "2    0.577093\n",
       "3    0.422907\n",
       "Name: ss, dtype: float64"
      ]
     },
     "execution_count": 56,
     "metadata": {},
     "output_type": "execute_result"
    }
   ],
   "source": [
    "correct_trials = trial_preds[trial_preds.correct]\n",
    "correct_ss_dist = correct_trials.ss.value_counts()\n",
    "correct_ss_dist /= correct_ss_dist.sum()\n",
    "correct_ss_dist.sort_index()"
   ]
  },
  {
   "cell_type": "code",
   "execution_count": 57,
   "metadata": {},
   "outputs": [
    {
     "data": {
      "text/plain": [
       "2    0.547445\n",
       "3    0.452555\n",
       "Name: ss, dtype: float64"
      ]
     },
     "execution_count": 57,
     "metadata": {},
     "output_type": "execute_result"
    }
   ],
   "source": [
    "incorrect_trials = trial_preds[~trial_preds.correct]\n",
    "incorrect_ss_dist = incorrect_trials.ss.value_counts()\n",
    "incorrect_ss_dist /= incorrect_ss_dist.sum()\n",
    "incorrect_ss_dist.sort_index()"
   ]
  },
  {
   "cell_type": "code",
   "execution_count": null,
   "metadata": {},
   "outputs": [],
   "source": []
  }
 ],
 "metadata": {
  "interpreter": {
   "hash": "e0c3161eab2e75dfcb96e4a863b884d85431a87580826b5743bc70e49f36ae89"
  },
  "kernelspec": {
   "display_name": "Python 3.8.13 64-bit ('eeg-dream-conda')",
   "language": "python",
   "name": "python3"
  },
  "language_info": {
   "codemirror_mode": {
    "name": "ipython",
    "version": 3
   },
   "file_extension": ".py",
   "mimetype": "text/x-python",
   "name": "python",
   "nbconvert_exporter": "python",
   "pygments_lexer": "ipython3",
   "version": "3.8.13"
  },
  "orig_nbformat": 4
 },
 "nbformat": 4,
 "nbformat_minor": 2
}
