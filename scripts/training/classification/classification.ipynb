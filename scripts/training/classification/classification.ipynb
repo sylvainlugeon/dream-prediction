{
 "cells": [
  {
   "cell_type": "code",
   "execution_count": 1,
   "metadata": {},
   "outputs": [
    {
     "name": "stderr",
     "output_type": "stream",
     "text": [
      "/mlodata1/lugeon/miniconda3/envs/eeg-dream-conda/lib/python3.8/site-packages/tqdm/auto.py:22: TqdmWarning: IProgress not found. Please update jupyter and ipywidgets. See https://ipywidgets.readthedocs.io/en/stable/user_install.html\n",
      "  from .autonotebook import tqdm as notebook_tqdm\n"
     ]
    }
   ],
   "source": [
    "import pandas as pd\n",
    "import numpy as np\n",
    "import sys\n",
    "import h5py\n",
    "import yaml\n",
    "import torch\n",
    "from tqdm import tqdm\n",
    "import importlib\n",
    "import matplotlib.pyplot as plt\n",
    "\n",
    "from torch.utils.data import DataLoader\n",
    "from sklearn.ensemble import RandomForestClassifier\n",
    "from sklearn.linear_model import LogisticRegression\n",
    "from sklearn.metrics import roc_curve, auc\n",
    "from sklearn.metrics import precision_recall_fscore_support\n",
    "from sklearn.metrics import balanced_accuracy_score\n",
    "\n",
    "\n",
    "sys.path.append('/home/lugeon/eeg_project/scripts')\n",
    "sys.path.append('/mlodata1/lugeon/eeg_project/scripts')\n",
    "\n",
    "from training.dataset import datasets\n",
    "from training.representation import models\n",
    "\n",
    "import seaborn as sns\n",
    "sns.set_context(\"paper\")\n",
    "sns.set(font_scale = 1.6)\n",
    "sns.set_style(\"white\", {\n",
    "    \"font.family\": \"sans-serif\",\n",
    "    \"font.serif\": ['Helvetica'],\n",
    "    \"font.scale\": 2\n",
    "})\n",
    "sns.set_style(\"ticks\", {\"xtick.major.size\": 4,\n",
    "                        \"ytick.major.size\": 4})"
   ]
  },
  {
   "cell_type": "code",
   "execution_count": 2,
   "metadata": {},
   "outputs": [
    {
     "data": {
      "text/plain": [
       "<module 'training.dataset.datasets' from '/mlodata1/lugeon/eeg_project/scripts/training/dataset/datasets.py'>"
      ]
     },
     "execution_count": 2,
     "metadata": {},
     "output_type": "execute_result"
    }
   ],
   "source": [
    "importlib.reload(models)\n",
    "importlib.reload(datasets)"
   ]
  },
  {
   "cell_type": "code",
   "execution_count": 3,
   "metadata": {},
   "outputs": [
    {
     "data": {
      "image/png": "[encoded data removed]",
      "text/plain": [
       "<Figure size 432x288 with 1 Axes>"
      ]
     },
     "metadata": {},
     "output_type": "display_data"
    }
   ],
   "source": [
    "from matplotlib import colors\n",
    "palette = ['#264653', '#2A9D8F','#E9C46A', '#F4A261', '#E76F51']\n",
    "cmap = colors.ListedColormap(palette)\n",
    "\n",
    "plt.imshow(np.arange(len(palette)).reshape(1, -1), aspect='auto', cmap=cmap,origin=\"lower\")\n",
    "plt.show()"
   ]
  },
  {
   "cell_type": "code",
   "execution_count": 5,
   "metadata": {},
   "outputs": [
    {
     "data": {
      "text/plain": [
       "<training.dataset.datasets.EEG_Image_Batch_Dataset at 0x7fe3bba10f40>"
      ]
     },
     "execution_count": 5,
     "metadata": {},
     "output_type": "execute_result"
    }
   ],
   "source": [
    "#hdf5_file = '/home/lugeon/eeg_project/dataset_healthy.h5'\n",
    "#hdf5_file = '/mlodata1/lugeon/dream_data/processed/healthy/dataset.h5'\n",
    "hdf5_file = '/mlodata1/lugeon/dream_data/processed/madison_20sec/dataset_nrem_binary.h5'\n",
    "\n",
    "\n",
    "dataset = datasets.EEG_Image_Batch_Dataset(hdf5_file, \n",
    "                                           window=1, \n",
    "                                           slide=1, \n",
    "                                           batch_size=128, \n",
    "                                           shuffle=True, \n",
    "                                           return_metadata=True,\n",
    "                                           exclude_subject=[],\n",
    "                                           output_type='label')\n",
    "\n",
    "with h5py.File(dataset.hdf5_file, 'r') as f:\n",
    "    subjects = [s.decode('utf-8') for s in f['subject_name'][:]]\n",
    "    \n",
    "dataset"
   ]
  },
  {
   "cell_type": "code",
   "execution_count": 7,
   "metadata": {},
   "outputs": [],
   "source": [
    "device = torch.device('cuda:0')\n",
    "\n",
    "result_dir = '/mlodata1/lugeon/eeg_project/results'\n",
    "#model_name = 'arch_comparison/next_frame_vgg_maxpool'\n",
    "#model_name = 'arch_comparison/next_frame_baseline'\n",
    "#model_name = 'transformers/masked_auto_encoder_mask9'\n",
    "model_name = 'transformers/autoencoder_1frame_mask5'\n",
    "#model_name = 'cnn/next_frame_vgg_maxpool_index1'\n",
    "\n",
    "\n",
    "encoder_model_dir = f'{result_dir}/{model_name}'\n",
    "\n",
    "with open(f'{encoder_model_dir}/train_config.yaml') as file:\n",
    "        config = yaml.load(file, Loader=yaml.FullLoader)\n",
    "\n",
    "# get model from model name\n",
    "model_function = getattr(models, config['model']['name'])\n",
    "model = model_function(**config['model']['kwargs'])\n",
    "\n",
    "model.load_state_dict(torch.load(f'{encoder_model_dir}/checkpoint.pt'))\n",
    "\n",
    "if isinstance(model, models.MaskedAutoEncoder):\n",
    "    model.masking_ratio = 0.\n",
    "\n",
    "model.to(device)\n",
    "model.eval();"
   ]
  },
  {
   "cell_type": "markdown",
   "metadata": {},
   "source": [
    "## Dream classification"
   ]
  },
  {
   "cell_type": "code",
   "execution_count": 8,
   "metadata": {},
   "outputs": [
    {
     "name": "stderr",
     "output_type": "stream",
     "text": [
      "100%|███████████████████████████████| 106/106 [00:26<00:00,  3.97it/s]\n"
     ]
    }
   ],
   "source": [
    "loader = DataLoader(dataset, batch_size=None, shuffle=False)\n",
    "\n",
    "encodings = []\n",
    "preds = []\n",
    "labels = []\n",
    "subject_ids = []\n",
    "trial_ids = []\n",
    "frame_ids = []\n",
    "sleep_stages = []\n",
    "elapsed_times = []\n",
    "\n",
    "with torch.no_grad():\n",
    "    for input_batch, output_batch, metadata in tqdm(loader, ncols=70):\n",
    "        \n",
    "        sid_batch, tid_batch, fid_batch, ss_batch, et_batch = metadata\n",
    "                            \n",
    "        # send to device\n",
    "        input_batch = input_batch.to(device) \n",
    "                    \n",
    "        # forward pass\n",
    "        encoding_batch = model.encode(input_batch)\n",
    "        preds_batch = model.forward(input_batch)\n",
    "        \n",
    "        if isinstance(model, models.MaskedAutoEncoder) or (\n",
    "            isinstance(model, models.FineTuner) and isinstance(model.model, models.MaskedAutoEncoder)\n",
    "        ):\n",
    "            encoding_batch = encoding_batch.mean(1) # mean across patches\n",
    "        if isinstance(model, models.FineTuner):\n",
    "            if model.adverserial:\n",
    "                preds_batch = preds_batch[0]\n",
    "        \n",
    "        encodings.append(encoding_batch.cpu().detach().numpy())\n",
    "        preds.append(preds_batch.cpu().detach().numpy())\n",
    "        labels.append(output_batch.cpu().detach().numpy())\n",
    "        subject_ids.append(sid_batch.cpu().detach().numpy())\n",
    "        trial_ids.append(tid_batch.cpu().detach().numpy())\n",
    "        frame_ids.append(fid_batch.cpu().detach().numpy())\n",
    "        sleep_stages.append(ss_batch.cpu().detach().numpy())\n",
    "        elapsed_times.append(et_batch.cpu().detach().numpy())\n",
    "        \n",
    "        del input_batch\n",
    "        del output_batch\n",
    "        del sid_batch\n",
    "        del ss_batch\n",
    "        del encoding_batch\n",
    "        del preds_batch\n",
    "        \n",
    "x = np.concatenate(encodings)\n",
    "p = np.concatenate(preds)\n",
    "y = np.concatenate(labels)\n",
    "s = np.concatenate(subject_ids)\n",
    "t = np.concatenate(trial_ids)\n",
    "f = np.concatenate(frame_ids)\n",
    "ss = np.concatenate(sleep_stages)\n",
    "et = np.concatenate(elapsed_times)"
   ]
  },
  {
   "cell_type": "code",
   "execution_count": 9,
   "metadata": {},
   "outputs": [
    {
     "data": {
      "image/png": "[encoded data removed]",
      "text/plain": [
       "<Figure size 432x288 with 1 Axes>"
      ]
     },
     "metadata": {},
     "output_type": "display_data"
    }
   ],
   "source": [
    "plt.hist(x[:, 0], bins=50);"
   ]
  },
  {
   "cell_type": "code",
   "execution_count": 10,
   "metadata": {},
   "outputs": [
    {
     "data": {
      "text/plain": [
       "(0.23311643, 0.993744)"
      ]
     },
     "execution_count": 10,
     "metadata": {},
     "output_type": "execute_result"
    }
   ],
   "source": [
    "np.mean(x), np.std(x)"
   ]
  },
  {
   "cell_type": "code",
   "execution_count": 11,
   "metadata": {},
   "outputs": [],
   "source": [
    "add_sex_age = False\n",
    "add_time = False\n",
    "\n",
    "if add_sex_age:\n",
    "    \n",
    "    df = pd.read_csv(\n",
    "        '/mlodata1/lugeon/dream_data/chuv/metadata/sex_age_encoding.txt', \n",
    "        sep=' ', \n",
    "        dtype='str')\n",
    "    \n",
    "    map = dict(zip(\n",
    "        df.id, \n",
    "        df.apply(lambda row: [int(d) for d in row.age_encoding + row.sex_encoding], \n",
    "                 axis=1)))\n",
    "    \n",
    "    missing_subject = set(subjects).difference(set(map.keys()))\n",
    "    \n",
    "    add_features = [\n",
    "        map[subjects[int(id)]] if subjects[int(id)] not in missing_subject \n",
    "        else 4*[0] \n",
    "        for id in s]\n",
    "    \n",
    "    x = np.hstack((x, add_features))\n",
    "    \n",
    "if add_time:\n",
    "    minutes_in_a_day = 60 * 24\n",
    "    et_norm = et * 2 * np.pi / minutes_in_a_day\n",
    "    x = np.hstack((x, np.cos(et_norm)[:, np.newaxis], np.sin(et_norm)[:, np.newaxis]))"
   ]
  },
  {
   "cell_type": "code",
   "execution_count": 12,
   "metadata": {},
   "outputs": [
    {
     "name": "stderr",
     "output_type": "stream",
     "text": [
      "/mlodata1/lugeon/miniconda3/envs/eeg-dream-conda/lib/python3.8/site-packages/sklearn/manifold/_t_sne.py:780: FutureWarning: The default initialization in TSNE will change from 'random' to 'pca' in 1.2.\n",
      "  warnings.warn(\n",
      "/mlodata1/lugeon/miniconda3/envs/eeg-dream-conda/lib/python3.8/site-packages/sklearn/manifold/_t_sne.py:790: FutureWarning: The default learning rate in TSNE will change from 200.0 to 'auto' in 1.2.\n",
      "  warnings.warn(\n"
     ]
    },
    {
     "data": {
      "image/png": "[encoded data removed]",
      "text/plain": [
       "<Figure size 432x432 with 1 Axes>"
      ]
     },
     "metadata": {},
     "output_type": "display_data"
    },
    {
     "data": {
      "image/png": "[encoded data removed]",
      "text/plain": [
       "<Figure size 432x432 with 1 Axes>"
      ]
     },
     "metadata": {},
     "output_type": "display_data"
    }
   ],
   "source": [
    "from sklearn.manifold import TSNE\n",
    "\n",
    "n_samples = 1_000\n",
    "sample_ix = np.random.choice(x.shape[0], n_samples, replace=False)\n",
    "sampled_x = x[sample_ix]\n",
    "sampled_y = y[sample_ix]\n",
    "sampled_s = s[sample_ix]\n",
    "#sampled_p = p[sample_ix]\n",
    "\n",
    "reducer = TSNE(n_components=2)\n",
    "projection = reducer.fit_transform(sampled_x)\n",
    "\n",
    "fig, ax = plt.subplots(figsize=(6, 6)) \n",
    "for i, sname in enumerate(subjects):\n",
    "    mask = sampled_s == i\n",
    "    subject_projection = projection[mask]\n",
    "    \n",
    "    plt.scatter(subject_projection[:, 0], subject_projection[:, 1], s=10, alpha=0.7)\n",
    "    plt.title('By subjects')\n",
    "plt.show()\n",
    "\n",
    "fig, ax = plt.subplots(figsize=(6, 6)) \n",
    "for i in [0, 1]:\n",
    "    mask = sampled_y == i\n",
    "    label_projection = projection[mask]\n",
    "    plt.scatter(label_projection[:, 0], label_projection[:, 1], s=10, alpha=0.7, label=i)\n",
    "    plt.legend()\n",
    "    plt.title('By labels')"
   ]
  },
  {
   "cell_type": "markdown",
   "metadata": {},
   "source": [
    "### Leave-one-subject-out evaluation"
   ]
  },
  {
   "cell_type": "code",
   "execution_count": 13,
   "metadata": {},
   "outputs": [],
   "source": [
    "balance_trials = False\n",
    "\n",
    "df_loso = pd.DataFrame({'fid': f, \n",
    "                        'tid': t, \n",
    "                        'sid': s, \n",
    "                        'label': y,\n",
    "                        'sleep_stage': ss,\n",
    "                        'elapsed_time': et})\n",
    "\n",
    "if balance_trials:\n",
    "    df_trials = df.groupby(['sid', 'tid']).label.first().reset_index()\n",
    "\n",
    "    mask = np.zeros(df_trials.shape[0])\n",
    "    for sid in df_trials.sid.drop_duplicates():\n",
    "        dfs = df_trials[df_trials.sid == sid]   \n",
    "        minority = dfs.label.value_counts().min()\n",
    "        tid_pos = set(dfs[dfs.label == 1].tid.sample(minority))\n",
    "        tid_neg = set(dfs[dfs.label == 0].tid.sample(minority))\n",
    "        tid_union = tid_pos.union(tid_neg)\n",
    "        \n",
    "        smask = (df_trials.sid == sid) & (df_trials.tid.apply(lambda t: t in tid_union))\n",
    "        mask = mask + smask.values.astype(int)\n",
    "        \n",
    "    selected_trials = df_trials[mask.astype(bool)][['sid', 'tid']]\n",
    "    selected_trials['select'] = True\n",
    "    df_loso = df_loso.merge(selected_trials, how='left', on=['sid', 'tid'])\n",
    "    selected_samples = df_loso.select.notna().astype(bool).tolist()\n",
    "    df_loso.dropna(inplace=True)\n",
    "    \n",
    "else:\n",
    "    selected_samples = df_loso.shape[0] * [True]"
   ]
  },
  {
   "cell_type": "code",
   "execution_count": 14,
   "metadata": {},
   "outputs": [
    {
     "name": "stderr",
     "output_type": "stream",
     "text": [
      "100%|██████████| 7/7 [00:35<00:00,  5.05s/it]\n"
     ]
    }
   ],
   "source": [
    "def compute_metrics(encodings, labels, subject_ids, subjects_name, verbose=False, n=10):\n",
    "    \n",
    "    np.random.seed(0)\n",
    "    \n",
    "    encodings = np.array(encodings)\n",
    "    labels = np.array(labels)\n",
    "    \n",
    "    fprs, tprs, accs, snames = [], [], [], []\n",
    "    \n",
    "    scores = np.zeros(len(labels))\n",
    "    \n",
    "    if verbose:\n",
    "        pbar = tqdm(total=len(subjects_name))\n",
    "    \n",
    "    for sid, sname in enumerate(subjects_name):\n",
    "        mask = subject_ids == sid\n",
    "        mask_id = np.arange(len(labels))[mask]\n",
    "        \n",
    "        x_train = encodings[~mask]\n",
    "        y_train = labels[~mask]\n",
    "\n",
    "        x_test = encodings[mask]\n",
    "        y_test = labels[mask]\n",
    "            \n",
    "        #clf = LogisticRegression(class_weight='balanced', max_iter=10_000)\n",
    "        clf = RandomForestClassifier(class_weight='balanced', n_estimators=1_000, max_depth=5, n_jobs=32)\n",
    "        clf.fit(x_train, y_train)\n",
    "        \n",
    "        y_score = clf.predict_proba(x_test)[:, 1]\n",
    "        scores[mask_id] = y_score\n",
    "        \n",
    "        y_pred = clf.predict(x_test)\n",
    "        \n",
    "        fpr, tpr, thresholds = roc_curve(y_test, y_score)\n",
    "        acc = sum(y_pred == y_test) / len(y_test)\n",
    "        \n",
    "        fprs.append(fpr)\n",
    "        tprs.append(tpr)\n",
    "        accs.append(acc)\n",
    "        snames.append(sname)\n",
    "        \n",
    "        if verbose:\n",
    "            pbar.update(1)\n",
    "        \n",
    "    return scores\n",
    "\n",
    "scores = compute_metrics(x[selected_samples], \n",
    "                         df_loso.label, \n",
    "                         df_loso.sid, \n",
    "                         subjects, \n",
    "                         verbose=True)\n",
    "\n",
    "df_loso['score'] = scores\n",
    "df_loso['pred'] = (scores >= 0.5).astype(int)\n",
    "\n",
    "balanced_acc = df_loso.groupby('sid').apply(lambda g: balanced_accuracy_score(g.label, g.pred))\n",
    "\n",
    "rates = df_loso.groupby('sid').apply(lambda g: roc_curve(g.label, g.score))\n",
    "rates = rates.apply(lambda r: [r[0].tolist(), r[1].tolist()])\n",
    "\n",
    "# mean area under the ROC curve\n",
    "aucs = [auc(fpr, tpr) for (fpr, tpr) in rates]"
   ]
  },
  {
   "cell_type": "code",
   "execution_count": 15,
   "metadata": {},
   "outputs": [
    {
     "name": "stdout",
     "output_type": "stream",
     "text": [
      "LOSO Balanced Acc: 58.85 +/- 3.66\n",
      "LOSO AUC-ROC: 65.92 +/- 5.67\n"
     ]
    }
   ],
   "source": [
    "print(f'LOSO Balanced Acc: {np.mean(balanced_acc) * 100 :.2f} +/- {np.std(balanced_acc) * 100:.2f}')\n",
    "print(f'LOSO AUC-ROC: {np.nanmean(aucs) * 100 :.2f} +/- {np.nanstd(aucs) * 100:.2f}')"
   ]
  },
  {
   "cell_type": "code",
   "execution_count": 17,
   "metadata": {},
   "outputs": [
    {
     "data": {
      "image/png": "[encoded data removed]",
      "text/plain": [
       "<Figure size 576x576 with 1 Axes>"
      ]
     },
     "metadata": {},
     "output_type": "display_data"
    }
   ],
   "source": [
    "fig, ax = plt.subplots(figsize=(8, 8)) \n",
    "cmap = plt.get_cmap('tab20')\n",
    "\n",
    "i = 0\n",
    "for r, sname in zip(rates, subjects):\n",
    "    fpr, tpr = r\n",
    "    if fpr is not None:\n",
    "        ax.plot(fpr, tpr, label=sname, color=cmap(i))\n",
    "    i += 1\n",
    "    \n",
    "ax.plot([0, 1], [0, 1], label='Random', linestyle='--', color='black', zorder=0)\n",
    "\n",
    "plt.legend(bbox_to_anchor=[1.35, 1])\n",
    "\n",
    "plt.xlabel('False Positive Rate')\n",
    "plt.ylabel('True Positive Rate')\n",
    "\n",
    "ax.spines['right'].set_visible(False)\n",
    "ax.spines['top'].set_visible(False)\n",
    "\n",
    "plt.savefig('img/roc.png', bbox_inches='tight')\n",
    "\n",
    "\n",
    "plt.show()\n",
    "    "
   ]
  },
  {
   "cell_type": "code",
   "execution_count": 18,
   "metadata": {},
   "outputs": [],
   "source": [
    "trial_preds = df_loso.groupby(['sid', 'tid']).pred.apply(\n",
    "    lambda p: sum(p) / len(p)\n",
    "    ).to_frame().reset_index().rename(columns={'pred': 'majority_score'})\n",
    "\n",
    "trial_preds = trial_preds.merge(\n",
    "    df_loso[['sid', 'tid', 'label', 'elapsed_time', 'sleep_stage']].drop_duplicates(['sid', 'tid']), \n",
    "    how='left', on=['sid', 'tid'])\n",
    "\n",
    "trial_preds['majority_pred'] = (trial_preds.majority_score >= 0.5).astype(int)\n",
    "trial_preds['correct'] = trial_preds.majority_pred == trial_preds.label"
   ]
  },
  {
   "cell_type": "code",
   "execution_count": 19,
   "metadata": {},
   "outputs": [
    {
     "name": "stdout",
     "output_type": "stream",
     "text": [
      "Trial majority accuracy: 66.77 +/- 8.42\n"
     ]
    }
   ],
   "source": [
    "majority_acc = trial_preds.groupby('sid').apply(lambda g: sum(g.correct) /g.shape[0])\n",
    "print(f'Trial majority accuracy: {np.mean(majority_acc) * 100 :.2f} +/- {np.std(majority_acc) * 100:.2f}')"
   ]
  },
  {
   "cell_type": "markdown",
   "metadata": {},
   "source": [
    "### Error distribution"
   ]
  },
  {
   "cell_type": "code",
   "execution_count": 18,
   "metadata": {},
   "outputs": [
    {
     "data": {
      "text/plain": [
       "2    0.608295\n",
       "3    0.391705\n",
       "Name: sleep_stage, dtype: float64"
      ]
     },
     "execution_count": 18,
     "metadata": {},
     "output_type": "execute_result"
    }
   ],
   "source": [
    "correct_trials = trial_preds[trial_preds.correct]\n",
    "correct_ss_dist = correct_trials.sleep_stage.value_counts()\n",
    "correct_ss_dist /= correct_ss_dist.sum()\n",
    "correct_ss_dist"
   ]
  },
  {
   "cell_type": "code",
   "execution_count": 19,
   "metadata": {},
   "outputs": [
    {
     "data": {
      "text/plain": [
       "2    0.503401\n",
       "3    0.496599\n",
       "Name: sleep_stage, dtype: float64"
      ]
     },
     "execution_count": 19,
     "metadata": {},
     "output_type": "execute_result"
    }
   ],
   "source": [
    "incorrect_trials = trial_preds[~trial_preds.correct]\n",
    "incorrect_ss_dist = incorrect_trials.sleep_stage.value_counts()\n",
    "incorrect_ss_dist /= incorrect_ss_dist.sum()\n",
    "incorrect_ss_dist"
   ]
  },
  {
   "cell_type": "code",
   "execution_count": 20,
   "metadata": {},
   "outputs": [
    {
     "data": {
      "image/png": "[encoded data removed]",
      "text/plain": [
       "<Figure size 432x288 with 1 Axes>"
      ]
     },
     "metadata": {},
     "output_type": "display_data"
    }
   ],
   "source": [
    "plt.hist(correct_trials.elapsed_time, bins=10);"
   ]
  },
  {
   "cell_type": "code",
   "execution_count": 21,
   "metadata": {},
   "outputs": [
    {
     "data": {
      "image/png": "[encoded data removed]",
      "text/plain": [
       "<Figure size 432x288 with 1 Axes>"
      ]
     },
     "metadata": {},
     "output_type": "display_data"
    }
   ],
   "source": [
    "plt.hist(incorrect_trials.elapsed_time, bins=10);"
   ]
  },
  {
   "cell_type": "code",
   "execution_count": 137,
   "metadata": {},
   "outputs": [
    {
     "data": {
      "text/html": [
       "<div>\n",
       "<style scoped>\n",
       "    .dataframe tbody tr th:only-of-type {\n",
       "        vertical-align: middle;\n",
       "    }\n",
       "\n",
       "    .dataframe tbody tr th {\n",
       "        vertical-align: top;\n",
       "    }\n",
       "\n",
       "    .dataframe thead th {\n",
       "        text-align: right;\n",
       "    }\n",
       "</style>\n",
       "<table border=\"1\" class=\"dataframe\">\n",
       "  <thead>\n",
       "    <tr style=\"text-align: right;\">\n",
       "      <th></th>\n",
       "      <th>sid</th>\n",
       "      <th>tid</th>\n",
       "      <th>majority_score</th>\n",
       "      <th>label</th>\n",
       "      <th>elapsed_time</th>\n",
       "      <th>sleep_stage</th>\n",
       "      <th>majority_pred</th>\n",
       "      <th>correct</th>\n",
       "      <th>score_delta</th>\n",
       "    </tr>\n",
       "  </thead>\n",
       "  <tbody>\n",
       "    <tr>\n",
       "      <th>0</th>\n",
       "      <td>0.0</td>\n",
       "      <td>0.0</td>\n",
       "      <td>0.0</td>\n",
       "      <td>1</td>\n",
       "      <td>28.0</td>\n",
       "      <td>3.0</td>\n",
       "      <td>0</td>\n",
       "      <td>False</td>\n",
       "      <td>1.0</td>\n",
       "    </tr>\n",
       "    <tr>\n",
       "      <th>245</th>\n",
       "      <td>4.0</td>\n",
       "      <td>19.0</td>\n",
       "      <td>0.0</td>\n",
       "      <td>1</td>\n",
       "      <td>329.0</td>\n",
       "      <td>2.0</td>\n",
       "      <td>0</td>\n",
       "      <td>False</td>\n",
       "      <td>1.0</td>\n",
       "    </tr>\n",
       "    <tr>\n",
       "      <th>249</th>\n",
       "      <td>4.0</td>\n",
       "      <td>23.0</td>\n",
       "      <td>0.0</td>\n",
       "      <td>1</td>\n",
       "      <td>30.0</td>\n",
       "      <td>2.0</td>\n",
       "      <td>0</td>\n",
       "      <td>False</td>\n",
       "      <td>1.0</td>\n",
       "    </tr>\n",
       "    <tr>\n",
       "      <th>251</th>\n",
       "      <td>4.0</td>\n",
       "      <td>25.0</td>\n",
       "      <td>0.0</td>\n",
       "      <td>1</td>\n",
       "      <td>94.0</td>\n",
       "      <td>2.0</td>\n",
       "      <td>0</td>\n",
       "      <td>False</td>\n",
       "      <td>1.0</td>\n",
       "    </tr>\n",
       "    <tr>\n",
       "      <th>111</th>\n",
       "      <td>1.0</td>\n",
       "      <td>17.0</td>\n",
       "      <td>0.0</td>\n",
       "      <td>1</td>\n",
       "      <td>102.0</td>\n",
       "      <td>3.0</td>\n",
       "      <td>0</td>\n",
       "      <td>False</td>\n",
       "      <td>1.0</td>\n",
       "    </tr>\n",
       "    <tr>\n",
       "      <th>...</th>\n",
       "      <td>...</td>\n",
       "      <td>...</td>\n",
       "      <td>...</td>\n",
       "      <td>...</td>\n",
       "      <td>...</td>\n",
       "      <td>...</td>\n",
       "      <td>...</td>\n",
       "      <td>...</td>\n",
       "      <td>...</td>\n",
       "    </tr>\n",
       "    <tr>\n",
       "      <th>166</th>\n",
       "      <td>2.0</td>\n",
       "      <td>24.0</td>\n",
       "      <td>1.0</td>\n",
       "      <td>1</td>\n",
       "      <td>20.0</td>\n",
       "      <td>2.0</td>\n",
       "      <td>1</td>\n",
       "      <td>True</td>\n",
       "      <td>0.0</td>\n",
       "    </tr>\n",
       "    <tr>\n",
       "      <th>265</th>\n",
       "      <td>5.0</td>\n",
       "      <td>6.0</td>\n",
       "      <td>0.0</td>\n",
       "      <td>0</td>\n",
       "      <td>40.0</td>\n",
       "      <td>3.0</td>\n",
       "      <td>0</td>\n",
       "      <td>True</td>\n",
       "      <td>0.0</td>\n",
       "    </tr>\n",
       "    <tr>\n",
       "      <th>99</th>\n",
       "      <td>1.0</td>\n",
       "      <td>5.0</td>\n",
       "      <td>1.0</td>\n",
       "      <td>1</td>\n",
       "      <td>489.0</td>\n",
       "      <td>2.0</td>\n",
       "      <td>1</td>\n",
       "      <td>True</td>\n",
       "      <td>0.0</td>\n",
       "    </tr>\n",
       "    <tr>\n",
       "      <th>267</th>\n",
       "      <td>5.0</td>\n",
       "      <td>8.0</td>\n",
       "      <td>1.0</td>\n",
       "      <td>1</td>\n",
       "      <td>193.0</td>\n",
       "      <td>3.0</td>\n",
       "      <td>1</td>\n",
       "      <td>True</td>\n",
       "      <td>0.0</td>\n",
       "    </tr>\n",
       "    <tr>\n",
       "      <th>363</th>\n",
       "      <td>6.0</td>\n",
       "      <td>57.0</td>\n",
       "      <td>0.0</td>\n",
       "      <td>0</td>\n",
       "      <td>184.0</td>\n",
       "      <td>3.0</td>\n",
       "      <td>0</td>\n",
       "      <td>True</td>\n",
       "      <td>0.0</td>\n",
       "    </tr>\n",
       "  </tbody>\n",
       "</table>\n",
       "<p>364 rows × 9 columns</p>\n",
       "</div>"
      ],
      "text/plain": [
       "     sid   tid  majority_score  label  elapsed_time  sleep_stage  \\\n",
       "0    0.0   0.0             0.0      1          28.0          3.0   \n",
       "245  4.0  19.0             0.0      1         329.0          2.0   \n",
       "249  4.0  23.0             0.0      1          30.0          2.0   \n",
       "251  4.0  25.0             0.0      1          94.0          2.0   \n",
       "111  1.0  17.0             0.0      1         102.0          3.0   \n",
       "..   ...   ...             ...    ...           ...          ...   \n",
       "166  2.0  24.0             1.0      1          20.0          2.0   \n",
       "265  5.0   6.0             0.0      0          40.0          3.0   \n",
       "99   1.0   5.0             1.0      1         489.0          2.0   \n",
       "267  5.0   8.0             1.0      1         193.0          3.0   \n",
       "363  6.0  57.0             0.0      0         184.0          3.0   \n",
       "\n",
       "     majority_pred  correct  score_delta  \n",
       "0                0    False          1.0  \n",
       "245              0    False          1.0  \n",
       "249              0    False          1.0  \n",
       "251              0    False          1.0  \n",
       "111              0    False          1.0  \n",
       "..             ...      ...          ...  \n",
       "166              1     True          0.0  \n",
       "265              0     True          0.0  \n",
       "99               1     True          0.0  \n",
       "267              1     True          0.0  \n",
       "363              0     True          0.0  \n",
       "\n",
       "[364 rows x 9 columns]"
      ]
     },
     "execution_count": 137,
     "metadata": {},
     "output_type": "execute_result"
    }
   ],
   "source": [
    "trial_preds['score_delta'] = np.abs(trial_preds.label - trial_preds.majority_score)\n",
    "trial_preds.sort_values('score_delta', ascending=False)"
   ]
  },
  {
   "cell_type": "code",
   "execution_count": 140,
   "metadata": {},
   "outputs": [
    {
     "data": {
      "image/png": "[encoded data removed]",
      "text/plain": [
       "<Figure size 432x288 with 1 Axes>"
      ]
     },
     "metadata": {},
     "output_type": "display_data"
    }
   ],
   "source": [
    "plt.hist(trial_preds.score_delta);"
   ]
  },
  {
   "cell_type": "markdown",
   "metadata": {},
   "source": [
    "### Trial splitting"
   ]
  },
  {
   "cell_type": "code",
   "execution_count": null,
   "metadata": {},
   "outputs": [],
   "source": [
    "minority_fraction = 0.3\n",
    "run_number = 100\n",
    "\n",
    "accs = []\n",
    "accs_per_subjects = []\n",
    "tprs_test = []\n",
    "fprs_test = []\n",
    "tprs_train = []\n",
    "fprs_train = []\n",
    "\n",
    "groupby_trials = pd.DataFrame({'sid': s, 'tid': t, 'label': y}).reset_index().groupby(['sid', 'tid'])\n",
    "\n",
    "minority_count = groupby_trials.label.apply(lambda s: s.iloc[0]).value_counts().min()\n",
    "test_class_support = int(minority_fraction * minority_count)\n",
    "\n",
    "trial_label = groupby_trials.label.apply(lambda s: s.iloc[0]).values\n",
    "video_idx = groupby_trials.index.apply(list).values\n",
    "df_trials = pd.DataFrame({'label': trial_label, 'video_idx': video_idx})\n",
    "\n",
    "neg_trial_idx = df_trials[df_trials.label == 0].index.values\n",
    "pos_trial_idx = df_trials[df_trials.label == 1].index.values\n",
    "\n",
    "for i in tqdm(range(run_number), ncols=70):\n",
    "\n",
    "    neg_permutation = np.random.permutation(np.arange(len(neg_trial_idx)))\n",
    "    pos_permutation = np.random.permutation(np.arange(len(pos_trial_idx)))\n",
    "\n",
    "    neg_trial_idx_test = neg_trial_idx[neg_permutation[:test_class_support]]\n",
    "    neg_trial_idx_train = neg_trial_idx[neg_permutation[test_class_support:]]\n",
    "\n",
    "    pos_trial_idx_test = pos_trial_idx[pos_permutation[:test_class_support]]\n",
    "    pos_trial_idx_train = pos_trial_idx[pos_permutation[test_class_support:]]\n",
    "\n",
    "    trial_idx_test = np.concatenate((neg_trial_idx_test, pos_trial_idx_test))\n",
    "    trial_idx_train = np.concatenate((neg_trial_idx_train, pos_trial_idx_train))\n",
    "\n",
    "    train_indices = [i for ix in df_trials.iloc[trial_idx_train].video_idx.values for i in ix]\n",
    "    test_indices = [i for ix in df_trials.iloc[trial_idx_test].video_idx.values for i in ix]\n",
    "\n",
    "    x_train = x[train_indices]\n",
    "    y_train = y[train_indices]\n",
    "    x_test = x[test_indices]\n",
    "    y_test = y[test_indices]\n",
    "\n",
    "    class_weight = 'balanced'\n",
    "    clf = LogisticRegression(C=1, max_iter=10_000, class_weight=class_weight)\n",
    "    #clf = RandomForestClassifier(n_estimators=100, max_depth=10, class_weight=class_weight)\n",
    "\n",
    "    clf.fit(x_train, y_train)\n",
    "    y_test_pred = clf.predict(x_test)\n",
    "    y_test_score = clf.predict_proba(x_test)[:, 1]\n",
    "\n",
    "    y_train_pred = clf.predict(x_train)\n",
    "    y_train_score = clf.predict_proba(x_train)[:, 1]\n",
    "\n",
    "    fpr_test, tpr_test, _ = roc_curve(y_test, y_test_score)\n",
    "    fpr_train, tpr_train, _ = roc_curve(y_train, y_train_score)\n",
    "    acc = sum(y_test_pred == y_test) / len(y_test)\n",
    "    \n",
    "    correct_ix = y_test == y_test_pred\n",
    "    correct_count = pd.DataFrame(s[test_indices][correct_ix], dtype=int).value_counts().sort_index()\n",
    "    correct_count_ix = [i[0] for i in correct_count.index.to_numpy()]\n",
    "    \n",
    "    total_count = pd.DataFrame(s[test_indices], dtype=int).value_counts().sort_index()\n",
    "    total_count_ix = [i[0] for i in total_count.index.to_numpy()]\n",
    "    \n",
    "    total_count_mapped = np.zeros(len(subjects))\n",
    "    total_count_mapped[total_count_ix] = total_count.values\n",
    "    correct_count_mapped = np.zeros(len(subjects))\n",
    "    correct_count_mapped[correct_count_ix] = correct_count.values\n",
    "    \n",
    "    with np.errstate(divide='ignore', invalid='ignore'):\n",
    "        accs_per_subjects.append((correct_count_mapped / total_count_mapped).tolist())\n",
    "    accs.append(acc)\n",
    "    tprs_test.append(tpr_test)\n",
    "    fprs_test.append(fpr_test)\n",
    "    tprs_train.append(tpr_train)\n",
    "    fprs_train.append(fpr_train)\n",
    "    \n",
    "print(f'Accuracy: {np.mean(accs) * 100 :.2f} +/- {np.std(accs) * 100:.2f}')"
   ]
  },
  {
   "cell_type": "code",
   "execution_count": null,
   "metadata": {},
   "outputs": [],
   "source": [
    "# precision, recall, f1 score\n",
    "precision_recall_fscore_support(y_test, y_test_pred, average='binary')"
   ]
  },
  {
   "cell_type": "code",
   "execution_count": null,
   "metadata": {},
   "outputs": [],
   "source": [
    "x_interp = np.linspace(0, 1, 100)\n",
    "\n",
    "test_aucs = []\n",
    "\n",
    "tprs_test_inter = []\n",
    "for fpr, tpr in zip(fprs_test, tprs_test):\n",
    "    tprs_test_inter.append(np.interp(x_interp, fpr, tpr).tolist())\n",
    "    test_aucs.append(auc(fpr, tpr))\n",
    "    \n",
    "tprs_train_inter = []\n",
    "for fpr, tpr in zip(fprs_train, tprs_train):\n",
    "    tprs_train_inter.append(np.interp(x_interp, fpr, tpr).tolist())\n",
    "\n",
    "tpr_train_mean = np.array(tprs_train_inter).mean(axis=0)\n",
    "tpr_train_std = np.array(tprs_train_inter).std(axis=0)\n",
    "\n",
    "tpr_test_mean = np.array(tprs_test_inter).mean(axis=0)\n",
    "tpr_test_std = np.array(tprs_test_inter).std(axis=0)\n",
    "\n",
    "fig, ax = plt.subplots(figsize=(5, 5))\n",
    "\n",
    "ax.plot(x_interp, tpr_train_mean, label='Train', color=cmap(0))\n",
    "ax.fill_between(x_interp, \n",
    "                tpr_train_mean - tpr_train_std, \n",
    "                tpr_train_mean + tpr_train_std, \n",
    "                color=cmap(0), alpha=0.2)\n",
    "\n",
    "ax.plot(x_interp, tpr_test_mean, label='Validation', color=cmap(3))\n",
    "ax.fill_between(x_interp, \n",
    "                tpr_test_mean - tpr_test_std, \n",
    "                tpr_test_mean + tpr_test_std, \n",
    "                color=cmap(3), alpha=0.2)\n",
    "\n",
    "ax.plot([0, 1], [0, 1], label='Random', linestyle=':', color='grey', zorder=0)\n",
    "plt.legend()\n",
    "plt.show()"
   ]
  },
  {
   "cell_type": "code",
   "execution_count": null,
   "metadata": {},
   "outputs": [],
   "source": [
    "print(f'AUC-ROC: {np.mean(test_aucs) * 100 :.2f} +/- {np.std(test_aucs) * 100:.2f}')"
   ]
  },
  {
   "cell_type": "code",
   "execution_count": null,
   "metadata": {},
   "outputs": [],
   "source": [
    "fig, ax = plt.subplots(figsize=(12, 5)) \n",
    "\n",
    "means = np.nanmean(accs_per_subjects, axis=0)\n",
    "stds = np.nanstd(accs_per_subjects, axis=0)\n",
    "pos_fraction_per_subjets = (\n",
    "    pd.Series(s[y == 1]).value_counts().sort_index().values / \n",
    "    pd.Series(s).value_counts().sort_index()).values\n",
    "\n",
    "maj_fraction_per_subjets = np.where(pos_fraction_per_subjets > 0.5, \n",
    "                                    pos_fraction_per_subjets, \n",
    "                                    1 - pos_fraction_per_subjets)\n",
    "\n",
    "sort_ix = np.argsort(means)[::-1]\n",
    "    \n",
    "ax.bar(np.arange(len(subjects)), \n",
    "        means[sort_ix], \n",
    "        yerr=stds[sort_ix], \n",
    "        error_kw={\n",
    "            'capsize': 4,\n",
    "            'ecolor': 'black',\n",
    "            'alpha': 0.3\n",
    "        },\n",
    "        color=cmap(2),\n",
    "        alpha=0.8,\n",
    "        zorder=1,\n",
    "        label='Accuracy')\n",
    "\n",
    "ax.scatter(np.arange(len(subjects)), \n",
    "            maj_fraction_per_subjets[sort_ix], \n",
    "            marker='*',\n",
    "            s=80,\n",
    "            color=cmap(0),\n",
    "            alpha=0.6,\n",
    "            zorder=2, \n",
    "            label='Majority class rate')\n",
    "\n",
    "ax.plot([0 - .5, len(subjects) - .5], [.5, .5], color='black', alpha=0.5, ls='--', label='Random', zorder=3)\n",
    "\n",
    "ax.set_xticks(np.arange(len(subjects)))\n",
    "ax.set_xticklabels(np.array(subjects)[sort_ix], rotation=45, ha='right')\n",
    "\n",
    "ax.spines['right'].set_visible(False)\n",
    "ax.spines['top'].set_visible(False) \n",
    "\n",
    "ax.set_xlim([0 - .8, len(subjects) - 1 + .8])\n",
    "\n",
    "handles, labels = plt.gca().get_legend_handles_labels()\n",
    "handles_order = [2, 0, 1]\n",
    "\n",
    "ax.legend([handles[idx] for idx in handles_order],\n",
    "          [labels[idx] for idx in handles_order],\n",
    "          frameon=False, ncol=3, loc='lower center', bbox_to_anchor=(0.45, -0.4))\n",
    "\n",
    "plt.savefig('acc_per_sub.png', bbox_inches='tight')\n",
    "plt.plot();"
   ]
  },
  {
   "cell_type": "markdown",
   "metadata": {},
   "source": [
    "### Evaluation within subjects"
   ]
  },
  {
   "cell_type": "code",
   "execution_count": null,
   "metadata": {},
   "outputs": [],
   "source": [
    "clf = LogisticRegression(class_weight='balanced', max_iter=10_000)\n",
    "\n",
    "s_accs = []\n",
    "s_accs_label = []\n",
    "for i, sname in enumerate(subjects):\n",
    "    smask = s == i\n",
    "    xs = x[smask]\n",
    "    ys = y[smask]\n",
    "    ts = t[smask]\n",
    "    trials = pd.Series(ts).drop_duplicates().tolist()\n",
    "    \n",
    "    t_accs = []\n",
    "    t_accs_label = []\n",
    "    for trial in trials:\n",
    "        tmask = ts == trial\n",
    "        x_test = xs[tmask]\n",
    "        y_test = ys[tmask]\n",
    "        x_train = xs[~tmask]\n",
    "        y_train = ys[~tmask]\n",
    "        \n",
    "        if (sum(y_train) == len(y_train)) or (sum(1 - y_train) == len(y_train)):\n",
    "            continue\n",
    "\n",
    "        clf.fit(x_train, y_train)\n",
    "        y_pred = clf.predict(x_test)\n",
    "        acc = sum(y_test == y_pred) / len(y_test)\n",
    "        t_accs.append(acc)\n",
    "        t_accs_label.append(y_test[0])\n",
    "        \n",
    "    s_accs.append(t_accs)\n",
    "    s_accs_label.append(t_accs_label)"
   ]
  },
  {
   "cell_type": "code",
   "execution_count": null,
   "metadata": {},
   "outputs": [],
   "source": [
    "fig, ax = plt.subplots(figsize=(14, 7)) \n",
    "    \n",
    "legend_ne = False\n",
    "legend_de = False\n",
    "legend_mean = False\n",
    "\n",
    "i = 0\n",
    "for t_accs, t_accs_label in zip(s_accs, s_accs_label):\n",
    "    for j, acc, t_acc_label in zip(np.arange(len(t_accs)), t_accs, t_accs_label):\n",
    "        \n",
    "        rx = (np.random.random() - 0.5) / 3 \n",
    "        ry = (np.random.random() - 0.5) / 3 / 10\n",
    "        if (t_acc_label == 0) and not legend_ne: label = 'NE Trial accuracy'; legend_ne = True\n",
    "        elif (t_acc_label == 1) and not legend_de: label = 'DE Trial accuracy'; legend_de = True\n",
    "        else: label = None\n",
    "        if t_acc_label == 0: color = cmap(4)\n",
    "        else: color = cmap(0)\n",
    "        plt.scatter(i + rx, acc+ry, color = color, marker='o', alpha=0.2, s=40, label=label)\n",
    "        \n",
    "    if len(t_accs) > 0:\n",
    "        if (not legend_mean) and i > 5: label = 'Mean accuracy'; legend_mean = True\n",
    "        else: label = None\n",
    "        ax.scatter(i, np.mean(t_accs), color = 'black', marker='x', alpha=0.7, s=120, label=label)\n",
    "    ax.plot([i, i], [-0.05, 1], color='grey', alpha=0.1, zorder=0)\n",
    "        \n",
    "    i += 1\n",
    "\n",
    "ax.plot([0 - .5, len(subjects) - .5], [.5, .5], color='black', alpha=0.5, ls='--', label='Random', zorder=0)\n",
    "\n",
    "ax.set_xticks(np.arange(len(subjects)))\n",
    "ax.set_xticklabels(subjects, rotation=45, ha='right')\n",
    "\n",
    "ax.set_ylim([-0.05, 1.05])\n",
    "ax.set_xlim([0 - .8, len(subjects) - 1 + .8])\n",
    "\n",
    "plt.legend(bbox_to_anchor=[1, .58], frameon=False)\n",
    "\n",
    "ax.spines['right'].set_visible(False)\n",
    "ax.spines['top'].set_visible(False) \n",
    "\n",
    "plt.savefig('img/within_subject_pred.pdf', bbox_inches='tight')\n",
    "\n",
    "plt.plot();"
   ]
  },
  {
   "cell_type": "code",
   "execution_count": null,
   "metadata": {},
   "outputs": [],
   "source": [
    "min_fid = np.min(f)\n",
    "max_fid = np.max(f)"
   ]
  },
  {
   "cell_type": "code",
   "execution_count": null,
   "metadata": {},
   "outputs": [],
   "source": [
    "(df.groupby(['sid', 'tid']).fid.max() == max_fid).all()"
   ]
  },
  {
   "cell_type": "code",
   "execution_count": null,
   "metadata": {},
   "outputs": [],
   "source": [
    "(df.groupby(['sid', 'tid']).fid.min() == min_fid).all()"
   ]
  },
  {
   "cell_type": "code",
   "execution_count": null,
   "metadata": {},
   "outputs": [],
   "source": [
    "step = 5\n",
    "width = int( (max_fid - min_fid) / step)\n",
    "acc_per_video_length = np.zeros(width)\n",
    "\n",
    "pbar = tqdm(ncols=70, total = width)\n",
    "for blim in range(0, width):\n",
    "    mask = f >= min_fid + blim * step\n",
    "    _, _, accs, _ = compute_metrics(x[mask], y[mask], s[mask], subjects)\n",
    "    acc_per_video_length[blim] = np.mean(accs)\n",
    "    pbar.update(1)"
   ]
  },
  {
   "cell_type": "code",
   "execution_count": null,
   "metadata": {},
   "outputs": [],
   "source": [
    "fig, ax = plt.subplots(figsize=(6, 6)) \n",
    "plt.plot(np.arange(len(acc_per_video_length)), acc_per_video_length)\n",
    "\n",
    "slide = 0.5 \n",
    "start = -120\n",
    "ticks = np.arange(width)\n",
    "labels = ticks * step * slide + start\n",
    "\n",
    "ax.set_xticks(ticks)\n",
    "ax.set_xticklabels(labels)\n",
    "\n",
    "plt.show()"
   ]
  },
  {
   "cell_type": "code",
   "execution_count": null,
   "metadata": {},
   "outputs": [],
   "source": [
    "labels"
   ]
  },
  {
   "cell_type": "code",
   "execution_count": null,
   "metadata": {},
   "outputs": [],
   "source": [
    "step = 25\n",
    "width = int( (max_fid - min_fid) / step)\n",
    "acc_per_video_length = np.zeros((width, width))\n",
    "\n",
    "pbar = tqdm(ncols=70, total = width ** 2 / 2)\n",
    "\n",
    "for blim in range(0, width):\n",
    "    for tlim in range(0, width):\n",
    "        if blim <= tlim:\n",
    "            mask = (f >= blim * step) & (f < (tlim + 1) * step)\n",
    "            \n",
    "            _, _, accs, _ = compute_metrics(x[mask], y[mask], s[mask], subjects)\n",
    "            acc_per_video_length[tlim, blim] = np.mean(accs)\n",
    "            pbar.update(1)"
   ]
  },
  {
   "cell_type": "code",
   "execution_count": null,
   "metadata": {},
   "outputs": [],
   "source": [
    "fig, ax = plt.subplots(figsize=(6, 6)) \n",
    "\n",
    "plt.imshow(acc_per_video_length, cmap='Blues', vmin=0.5)\n",
    "plt.colorbar()\n",
    "\n",
    "ticks = np.arange(width)\n",
    "labels = ticks * step\n",
    "ax.set_xticks(ticks)\n",
    "ax.set_xticklabels(labels)\n",
    "ax.set_yticks(ticks)\n",
    "ax.set_yticklabels(labels)\n",
    "\n",
    "plt.xlabel('Bottom limit')\n",
    "plt.ylabel('Top limit')\n",
    "plt.gca().invert_yaxis()\n",
    "\n",
    "fig.show()"
   ]
  },
  {
   "cell_type": "code",
   "execution_count": null,
   "metadata": {},
   "outputs": [],
   "source": []
  }
 ],
 "metadata": {
  "interpreter": {
   "hash": "e0c3161eab2e75dfcb96e4a863b884d85431a87580826b5743bc70e49f36ae89"
  },
  "kernelspec": {
   "display_name": "Python 3.8.13 64-bit ('eeg-dream-conda')",
   "language": "python",
   "name": "python3"
  },
  "language_info": {
   "codemirror_mode": {
    "name": "ipython",
    "version": 3
   },
   "file_extension": ".py",
   "mimetype": "text/x-python",
   "name": "python",
   "nbconvert_exporter": "python",
   "pygments_lexer": "ipython3",
   "version": "3.8.13"
  },
  "orig_nbformat": 4
 },
 "nbformat": 4,
 "nbformat_minor": 2
}
