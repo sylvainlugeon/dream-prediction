{
 "cells": [
  {
   "cell_type": "code",
   "execution_count": 55,
   "metadata": {},
   "outputs": [],
   "source": [
    "import pandas as pd\n",
    "import numpy as np\n",
    "import sys\n",
    "import h5py\n",
    "import yaml\n",
    "import torch\n",
    "from tqdm import tqdm\n",
    "import importlib\n",
    "import matplotlib.pyplot as plt\n",
    "\n",
    "from torch.utils.data import DataLoader, random_split\n",
    "from sklearn.ensemble import RandomForestClassifier\n",
    "from sklearn.linear_model import LogisticRegression\n",
    "from sklearn.metrics import roc_curve, auc, confusion_matrix, ConfusionMatrixDisplay\n",
    "from imblearn.under_sampling import RandomUnderSampler \n",
    "from imblearn.ensemble import BalancedRandomForestClassifier\n",
    "from sklearn.metrics import precision_recall_fscore_support\n",
    "from sklearn.metrics import balanced_accuracy_score\n",
    "\n",
    "\n",
    "sys.path.append('/home/lugeon/eeg_project/scripts')\n",
    "from training.dataset import datasets\n",
    "from training.representation import models\n",
    "\n",
    "import seaborn as sns\n",
    "sns.set_context(\"paper\")\n",
    "sns.set(font_scale = 1.6)\n",
    "sns.set_style(\"white\", {\n",
    "    \"font.family\": \"sans-serif\",\n",
    "    \"font.serif\": ['Helvetica'],\n",
    "    \"font.scale\": 2\n",
    "})\n",
    "sns.set_style(\"ticks\", {\"xtick.major.size\": 4,\n",
    "                        \"ytick.major.size\": 4})"
   ]
  },
  {
   "cell_type": "code",
   "execution_count": 56,
   "metadata": {},
   "outputs": [
    {
     "data": {
      "text/plain": [
       "<module 'training.dataset.datasets' from '/home/lugeon/eeg_project/scripts/training/dataset/datasets.py'>"
      ]
     },
     "execution_count": 56,
     "metadata": {},
     "output_type": "execute_result"
    }
   ],
   "source": [
    "importlib.reload(models)\n",
    "importlib.reload(datasets)"
   ]
  },
  {
   "cell_type": "code",
   "execution_count": 57,
   "metadata": {},
   "outputs": [
    {
     "data": {
      "image/png": "[encoded data removed]",
      "text/plain": [
       "<Figure size 432x288 with 1 Axes>"
      ]
     },
     "metadata": {},
     "output_type": "display_data"
    }
   ],
   "source": [
    "from matplotlib import colors\n",
    "palette = ['#264653', '#2A9D8F','#E9C46A', '#F4A261', '#E76F51']\n",
    "cmap = colors.ListedColormap(palette)\n",
    "\n",
    "plt.imshow(np.arange(len(palette)).reshape(1, -1), aspect='auto', cmap=cmap,origin=\"lower\")\n",
    "plt.show()"
   ]
  },
  {
   "cell_type": "code",
   "execution_count": 69,
   "metadata": {},
   "outputs": [
    {
     "data": {
      "text/plain": [
       "<training.dataset.datasets.EEG_Image_Batch_Dataset at 0x7f6814043fa0>"
      ]
     },
     "execution_count": 69,
     "metadata": {},
     "output_type": "execute_result"
    }
   ],
   "source": [
    "#hdf5_file = '/home/lugeon/eeg_project/dataset_healthy.h5'\n",
    "#hdf5_file = '/mlodata1/lugeon/dream_data/processed/healthy/dataset.h5'\n",
    "hdf5_file = '/mlodata1/lugeon/dream_data/processed/madison_20sec/dataset_nrem_binary.h5'\n",
    "\n",
    "\n",
    "dataset = datasets.EEG_Image_Batch_Dataset(hdf5_file, \n",
    "                                           window=10, \n",
    "                                           slide=5, \n",
    "                                           batch_size=128, \n",
    "                                           shuffle=True, \n",
    "                                           return_metadata=True,\n",
    "                                           exclude_subject=[0, 1, 2, 3, 4, 6],\n",
    "                                           output_type='label')\n",
    "\n",
    "with h5py.File(dataset.hdf5_file, 'r') as f:\n",
    "    subjects = [s.decode('utf-8') for s in f['subject_name'][:]]\n",
    "    \n",
    "dataset"
   ]
  },
  {
   "cell_type": "code",
   "execution_count": 77,
   "metadata": {},
   "outputs": [],
   "source": [
    "device = torch.device('cuda:0')\n",
    "\n",
    "result_dir = '/home/lugeon/eeg_project/scripts/training/representation/result'\n",
    "#model_name = 'arch_comparison/next_frame_vgg_maxpool'\n",
    "#model_name = 'arch_comparison/next_frame_baseline'\n",
    "#model_name = 'transformers/masked_auto_encoder_mask9'\n",
    "model_name = 'transformers/masked_auto_encoder_mask9_ft_test_adv'\n",
    "\n",
    "encoder_model_dir = f'{result_dir}/{model_name}'\n",
    "\n",
    "with open(f'{encoder_model_dir}/train_config.yaml') as file:\n",
    "        config = yaml.load(file, Loader=yaml.FullLoader)\n",
    "\n",
    "# get model from model name\n",
    "model_function = getattr(models, config['model']['name'])\n",
    "model = model_function(**config['model']['kwargs'])\n",
    "\n",
    "model.load_state_dict(torch.load(f'{encoder_model_dir}/checkpoint.pt'))\n",
    "\n",
    "if isinstance(model, models.MaskedAutoEncoder):\n",
    "    model.masking_ratio = 0.\n",
    "\n",
    "model.to(device)\n",
    "model.eval();"
   ]
  },
  {
   "cell_type": "markdown",
   "metadata": {},
   "source": [
    "## Dream classification"
   ]
  },
  {
   "cell_type": "code",
   "execution_count": 78,
   "metadata": {},
   "outputs": [
    {
     "name": "stderr",
     "output_type": "stream",
     "text": [
      "100%|██████████████████████████████████| 3/3 [00:00<00:00, 108.97it/s]\n"
     ]
    }
   ],
   "source": [
    "loader = DataLoader(dataset, batch_size=None, shuffle=False)\n",
    "\n",
    "encodings = []\n",
    "preds = []\n",
    "labels = []\n",
    "subject_ids = []\n",
    "trial_ids = []\n",
    "frame_ids = []\n",
    "sleep_stages = []\n",
    "elapsed_times = []\n",
    "\n",
    "with torch.no_grad():\n",
    "    for input_batch, output_batch, metadata in tqdm(loader, ncols=70):\n",
    "        \n",
    "        sid_batch, tid_batch, fid_batch, ss_batch, et_batch = metadata\n",
    "                            \n",
    "        # send to device\n",
    "        input_batch = input_batch.to(device) \n",
    "                    \n",
    "        # forward pass\n",
    "        encoding_batch = model.encode(input_batch)\n",
    "        preds_batch = model.forward(input_batch)\n",
    "        \n",
    "        if isinstance(model, models.MaskedAutoEncoder) or (\n",
    "            isinstance(model, models.FineTuner) and isinstance(model.model, models.MaskedAutoEncoder)\n",
    "        ):\n",
    "            encoding_batch = encoding_batch.mean(1) # mean across patches\n",
    "        if isinstance(model, models.FineTuner):\n",
    "            if model.adverserial:\n",
    "                preds_batch = preds_batch[0]\n",
    "        \n",
    "        encodings.append(encoding_batch.cpu().detach().numpy())\n",
    "        preds.append(preds_batch.cpu().detach().numpy())\n",
    "        labels.append(output_batch.cpu().detach().numpy())\n",
    "        subject_ids.append(sid_batch.cpu().detach().numpy())\n",
    "        trial_ids.append(tid_batch.cpu().detach().numpy())\n",
    "        frame_ids.append(fid_batch.cpu().detach().numpy())\n",
    "        sleep_stages.append(ss_batch.cpu().detach().numpy())\n",
    "        elapsed_times.append(et_batch.cpu().detach().numpy())\n",
    "        \n",
    "        del input_batch\n",
    "        del output_batch\n",
    "        del sid_batch\n",
    "        del ss_batch\n",
    "        del encoding_batch\n",
    "        del preds_batch\n",
    "        \n",
    "x = np.concatenate(encodings)\n",
    "p = np.concatenate(preds)\n",
    "y = np.concatenate(labels)\n",
    "s = np.concatenate(subject_ids)\n",
    "t = np.concatenate(trial_ids)\n",
    "f = np.concatenate(frame_ids)\n",
    "ss = np.concatenate(sleep_stages)\n",
    "et = np.concatenate(elapsed_times)"
   ]
  },
  {
   "cell_type": "code",
   "execution_count": 85,
   "metadata": {},
   "outputs": [
    {
     "data": {
      "text/plain": [
       "0.6164717348927875"
      ]
     },
     "execution_count": 85,
     "metadata": {},
     "output_type": "execute_result"
    }
   ],
   "source": [
    "balanced_accuracy_score(y, p.argmax(1))"
   ]
  },
  {
   "cell_type": "code",
   "execution_count": 87,
   "metadata": {},
   "outputs": [
    {
     "data": {
      "text/plain": [
       "[[0.0011879818048328161, 0.9988119006156921],\n",
       " [0.20396378636360168, 0.796036422252655],\n",
       " [0.0006567675736732781, 0.9993430972099304],\n",
       " [0.6782464385032654, 0.32175350189208984],\n",
       " [0.46228721737861633, 0.537712812423706],\n",
       " [0.9925439357757568, 0.007455987855792046],\n",
       " [0.003453722922131419, 0.9965462684631348],\n",
       " [0.9999905228614807, 9.435507308808155e-06],\n",
       " [0.0011323289945721626, 0.9988676309585571],\n",
       " [0.0288624819368124, 0.9711374044418335],\n",
       " [0.9130497574806213, 0.08695024251937866],\n",
       " [0.005971559789031744, 0.9940283894538879],\n",
       " [0.7956503033638, 0.20434965193271637],\n",
       " [0.0010157698998227715, 0.9989843368530273],\n",
       " [0.33393242955207825, 0.6660676002502441],\n",
       " [3.908265716745518e-05, 0.9999608993530273],\n",
       " [0.22165820002555847, 0.7783418297767639],\n",
       " [0.00989420898258686, 0.9901058077812195],\n",
       " [4.395239102450432e-06, 0.999995231628418],\n",
       " [0.1148163378238678, 0.8851836919784546],\n",
       " [0.9103321433067322, 0.0896679237484932],\n",
       " [0.0015996732981875539, 0.998400092124939],\n",
       " [0.9967917203903198, 0.003208270063623786],\n",
       " [0.9970237016677856, 0.0029761765617877245],\n",
       " [3.845428295790043e-07, 0.9999996423721313],\n",
       " [0.9647360444068909, 0.03526395559310913],\n",
       " [1.0, 1.7136693841734996e-08],\n",
       " [0.8905646800994873, 0.10943546146154404],\n",
       " [0.006941444706171751, 0.9930585622787476],\n",
       " [0.8928086757659912, 0.10719132423400879],\n",
       " [0.8627961277961731, 0.13720397651195526],\n",
       " [0.9744930863380432, 0.025506988167762756],\n",
       " [0.7564992308616638, 0.24350060522556305],\n",
       " [0.9999579787254333, 4.214292130200192e-05],\n",
       " [0.998791515827179, 0.0012086828937754035],\n",
       " [0.04896056279540062, 0.9510394334793091],\n",
       " [0.9998988509178162, 0.00010104047396453097],\n",
       " [0.024720078334212303, 0.9752799868583679],\n",
       " [0.9999725818634033, 2.737037902988959e-05],\n",
       " [0.00169576785992831, 0.9983043074607849],\n",
       " [0.04842894524335861, 0.9515708088874817],\n",
       " [0.13510985672473907, 0.8648903369903564],\n",
       " [0.9966700673103333, 0.0033299268689006567],\n",
       " [1.0, 1.839289041072334e-07],\n",
       " [0.5902495980262756, 0.40975043177604675],\n",
       " [0.018281592056155205, 0.9817183017730713],\n",
       " [0.9600809812545776, 0.03991898521780968],\n",
       " [2.7472708097775467e-05, 0.9999725818634033],\n",
       " [0.024997219443321228, 0.9750027060508728],\n",
       " [0.6074373722076416, 0.392562597990036],\n",
       " [0.001577703282237053, 0.9984224438667297],\n",
       " [0.39683467149734497, 0.6031652688980103],\n",
       " [0.9973033666610718, 0.0026966636069118977],\n",
       " [0.0014176969416439533, 0.9985818862915039],\n",
       " [0.7038830518722534, 0.2961169481277466],\n",
       " [0.004705267027020454, 0.9952946901321411],\n",
       " [0.3566085696220398, 0.6433915495872498],\n",
       " [0.32008129358291626, 0.6799187660217285],\n",
       " [0.00018189262482337654, 0.9998181462287903],\n",
       " [0.22341106832027435, 0.7765889763832092],\n",
       " [0.47460997104644775, 0.525390088558197],\n",
       " [0.46346530318260193, 0.5365347266197205],\n",
       " [0.9228531122207642, 0.07714680582284927],\n",
       " [0.024567488580942154, 0.9754325747489929],\n",
       " [0.48579126596450806, 0.5142085552215576],\n",
       " [0.0009741941466927528, 0.999025821685791],\n",
       " [0.006574403494596481, 0.9934256076812744],\n",
       " [0.032080043107271194, 0.9679200053215027],\n",
       " [0.014043716713786125, 0.9859563112258911],\n",
       " [0.0014247678918763995, 0.9985752701759338],\n",
       " [0.028684275224804878, 0.9713156819343567],\n",
       " [0.8724673390388489, 0.1275327354669571],\n",
       " [0.625694215297699, 0.37430596351623535],\n",
       " [0.001835883129388094, 0.9981641173362732],\n",
       " [0.9993910789489746, 0.0006088647060096264],\n",
       " [0.031500443816185, 0.9684996008872986],\n",
       " [0.05388561263680458, 0.9461144208908081],\n",
       " [0.9911426305770874, 0.00885738804936409],\n",
       " [0.33890873193740845, 0.6610913872718811],\n",
       " [0.779482901096344, 0.2205171138048172],\n",
       " [0.9698125720024109, 0.030187565833330154],\n",
       " [0.9840881824493408, 0.015911687165498734],\n",
       " [0.01873825117945671, 0.981261670589447],\n",
       " [6.132928683655336e-05, 0.9999390244483948],\n",
       " [3.245964035158977e-05, 0.9999675154685974],\n",
       " [0.5074325799942017, 0.4925675392150879],\n",
       " [0.9971925020217896, 0.002807448385283351],\n",
       " [0.6076842546463013, 0.3923155665397644],\n",
       " [0.13022460043430328, 0.8697754144668579],\n",
       " [0.0004886476672254503, 0.9995114207267761],\n",
       " [0.9818990230560303, 0.01810091733932495],\n",
       " [0.9919514656066895, 0.008048481307923794],\n",
       " [0.9526791572570801, 0.047320734709501266],\n",
       " [0.00012045655603287742, 0.9998795986175537],\n",
       " [0.9986612200737, 0.001338802045211196],\n",
       " [0.003284785430878401, 0.996715247631073],\n",
       " [0.002334694843739271, 0.997665286064148],\n",
       " [0.678336501121521, 0.3216635286808014],\n",
       " [0.12762019038200378, 0.8723798394203186],\n",
       " [5.928504833718762e-07, 0.9999990463256836],\n",
       " [0.41221854090690613, 0.5877813696861267],\n",
       " [0.1741567850112915, 0.8258432149887085],\n",
       " [7.321634143409028e-07, 0.9999995231628418],\n",
       " [0.07696510851383209, 0.9230349659919739],\n",
       " [0.00583097618073225, 0.9941691160202026],\n",
       " [0.9995614290237427, 0.00043844844913110137],\n",
       " [0.9996939301490784, 0.00030613801209256053],\n",
       " [5.214147677179426e-06, 0.9999947547912598],\n",
       " [0.2681063711643219, 0.7318935394287109],\n",
       " [0.9569565057754517, 0.0430433563888073],\n",
       " [0.9972553253173828, 0.0027444716542959213],\n",
       " [0.0015690575819462538, 0.9984309077262878],\n",
       " [0.0010281756985932589, 0.9989717602729797],\n",
       " [0.9999997019767761, 2.8007852392875066e-07],\n",
       " [0.0364791601896286, 0.9635208249092102],\n",
       " [0.009579439647495747, 0.9904205203056335],\n",
       " [0.1726941615343094, 0.827305793762207],\n",
       " [0.9392185211181641, 0.060781583189964294],\n",
       " [1.4728941096109338e-05, 0.9999852180480957],\n",
       " [0.992848813533783, 0.007151129189878702],\n",
       " [0.9932892322540283, 0.006710608955472708],\n",
       " [0.023226521909236908, 0.9767735600471497],\n",
       " [0.019796788692474365, 0.9802030920982361],\n",
       " [0.08521629869937897, 0.9147837162017822],\n",
       " [5.6579254305688664e-05, 0.9999434351921082],\n",
       " [2.3645672627026215e-05, 0.999976634979248],\n",
       " [0.2068876028060913, 0.7931122183799744],\n",
       " [0.00017308973474428058, 0.9998269081115723],\n",
       " [0.00041751645039767027, 0.9995824098587036],\n",
       " [0.9995903372764587, 0.00040965323569253087],\n",
       " [0.001123602269217372, 0.9988765120506287],\n",
       " [0.9999995231628418, 5.429484986052557e-07],\n",
       " [0.03411450982093811, 0.965885579586029],\n",
       " [8.460544631816447e-05, 0.9999153017997742],\n",
       " [0.0005006548599340022, 0.9994994401931763],\n",
       " [0.9999801516532898, 1.977183455892373e-05],\n",
       " [0.9660025835037231, 0.033997491002082825],\n",
       " [0.18023116886615753, 0.8197688460350037],\n",
       " [2.2757305487175472e-05, 0.9999770522117615],\n",
       " [0.0016868418315425515, 0.9983131885528564],\n",
       " [0.5487591028213501, 0.4512408971786499],\n",
       " [1.509392404841492e-05, 0.999984860420227],\n",
       " [0.0005713787395507097, 0.9994285106658936],\n",
       " [0.3327767550945282, 0.6672232747077942],\n",
       " [0.30902501940727234, 0.6909751892089844],\n",
       " [0.9953734874725342, 0.004626707639545202],\n",
       " [0.7002595663070679, 0.2997404634952545],\n",
       " [0.41684195399284363, 0.5831580758094788],\n",
       " [0.14058977365493774, 0.8594101667404175],\n",
       " [0.9863624572753906, 0.013637610711157322],\n",
       " [0.00039677301538176835, 0.9996033310890198],\n",
       " [0.015407209284603596, 0.9845926761627197],\n",
       " [0.8312888145446777, 0.16871128976345062],\n",
       " [0.005514058750122786, 0.9944857954978943],\n",
       " [0.9813967347145081, 0.018603207543492317],\n",
       " [0.9992507696151733, 0.0007489214185625315],\n",
       " [0.017278745770454407, 0.9827212691307068],\n",
       " [0.0009871118236333132, 0.99901282787323],\n",
       " [0.04909387603402138, 0.9509061574935913],\n",
       " [0.6790918111801147, 0.32090815901756287],\n",
       " [0.2824060618877411, 0.7175939679145813],\n",
       " [0.5765942335128784, 0.42340582609176636],\n",
       " [0.087759830057621, 0.9122401475906372],\n",
       " [0.016290726140141487, 0.9837093353271484],\n",
       " [0.0007900054333731532, 0.999210000038147],\n",
       " [0.0947885811328888, 0.9052113890647888],\n",
       " [0.003125829854980111, 0.9968740940093994],\n",
       " [0.999976634979248, 2.345136999792885e-05],\n",
       " [0.985129177570343, 0.014870740473270416],\n",
       " [1.18716559427412e-06, 0.9999990463256836],\n",
       " [0.9974740743637085, 0.002525817137211561],\n",
       " [0.23430584371089935, 0.7656940817832947],\n",
       " [0.02087540179491043, 0.9791246652603149],\n",
       " [0.006161473225802183, 0.9938384890556335],\n",
       " [0.9024968147277832, 0.09750302881002426],\n",
       " [0.00546139245852828, 0.9945384860038757],\n",
       " [1.3341325484361732e-06, 0.9999990463256836],\n",
       " [0.00010377588478149846, 0.999896228313446],\n",
       " [0.848138689994812, 0.151861310005188],\n",
       " [0.0023536873050034046, 0.9976462721824646],\n",
       " [3.837778785964474e-05, 0.9999618530273438],\n",
       " [0.02104528434574604, 0.9789547324180603],\n",
       " [0.9571059942245483, 0.04289396107196808],\n",
       " [0.917192280292511, 0.08280766755342484],\n",
       " [0.1609164923429489, 0.8390834331512451],\n",
       " [0.9984124898910522, 0.0015875091776251793],\n",
       " [0.9752265214920044, 0.02477341890335083],\n",
       " [0.02299925684928894, 0.9770005941390991],\n",
       " [0.9537270665168762, 0.04627303034067154],\n",
       " [0.4273291230201721, 0.5726708769798279],\n",
       " [0.003642028896138072, 0.9963579177856445],\n",
       " [0.9955368041992188, 0.004463158547878265],\n",
       " [0.13366268575191498, 0.8663371801376343],\n",
       " [0.9987354278564453, 0.0012645795941352844],\n",
       " [0.001374552259221673, 0.9986255764961243],\n",
       " [0.003227655775845051, 0.996772289276123],\n",
       " [0.9845781326293945, 0.01542190182954073],\n",
       " [0.20834079384803772, 0.7916590571403503],\n",
       " [0.15848349034786224, 0.8415164351463318],\n",
       " [0.8353603482246399, 0.1646396964788437],\n",
       " [0.016384685412049294, 0.9836152195930481],\n",
       " [0.011067084968090057, 0.988932728767395],\n",
       " [0.5019171237945557, 0.49808284640312195],\n",
       " [0.3029770851135254, 0.6970229148864746],\n",
       " [0.9991467595100403, 0.0008530313498340547],\n",
       " [0.9858903288841248, 0.01410957146435976],\n",
       " [0.0016631257021799684, 0.9983372092247009],\n",
       " [0.9988840818405151, 0.001115905586630106],\n",
       " [0.026918897405266762, 0.973081111907959],\n",
       " [0.9917747974395752, 0.008225245401263237],\n",
       " [0.15683463215827942, 0.8431652188301086],\n",
       " [0.49563324451446533, 0.5043666362762451],\n",
       " [0.9998140335083008, 0.000185812110430561],\n",
       " [0.18832802772521973, 0.811671793460846],\n",
       " [0.6867148280143738, 0.3132851719856262],\n",
       " [0.8804436326026917, 0.11955638229846954],\n",
       " [0.00025842743343673646, 0.9997414946556091],\n",
       " [0.0078422287479043, 0.9921573400497437],\n",
       " [0.9669229984283447, 0.033076975494623184],\n",
       " [0.0458882674574852, 0.9541115760803223],\n",
       " [1.0623326488712337e-05, 0.9999895095825195],\n",
       " [0.7045041918754578, 0.2954958975315094],\n",
       " [0.7747519612312317, 0.2252480387687683],\n",
       " [0.03028942458331585, 0.9697105884552002],\n",
       " [0.022272029891610146, 0.9777278304100037],\n",
       " [0.0630376860499382, 0.9369624257087708],\n",
       " [0.0024577132426202297, 0.9975422024726868],\n",
       " [0.7388911247253418, 0.2611093521118164],\n",
       " [0.9253323078155518, 0.07466790825128555],\n",
       " [0.95065838098526, 0.04934168606996536],\n",
       " [0.023810748010873795, 0.9761893153190613],\n",
       " [0.5676231980323792, 0.43237680196762085],\n",
       " [0.6928786635398865, 0.30712148547172546],\n",
       " [0.0035118418745696545, 0.9964881539344788],\n",
       " [0.0022493444848805666, 0.9977506995201111],\n",
       " [0.0015586267691105604, 0.9984413981437683],\n",
       " [0.9620939493179321, 0.037906043231487274],\n",
       " [0.2663167715072632, 0.7336832284927368],\n",
       " [0.4788393974304199, 0.5211607217788696],\n",
       " [0.009484397247433662, 0.9905155301094055],\n",
       " [0.999901294708252, 9.87160747172311e-05],\n",
       " [0.9996567368507385, 0.0003433857928030193],\n",
       " [0.00027000022237189114, 0.9997299909591675],\n",
       " [0.9999938607215881, 6.221317562449258e-06],\n",
       " [0.9999870657920837, 1.2879147107014433e-05],\n",
       " [0.8510014414787292, 0.1489984542131424],\n",
       " [0.0022372144740074873, 0.9977627992630005],\n",
       " [0.00020754869910888374, 0.9997925162315369],\n",
       " [0.8687173128128052, 0.13128246366977692],\n",
       " [0.6160332560539246, 0.3839668035507202],\n",
       " [0.972578763961792, 0.02742132730782032],\n",
       " [0.00851451326161623, 0.9914852976799011],\n",
       " [0.08095747977495193, 0.9190424680709839],\n",
       " [0.999527096748352, 0.00047305060434155166],\n",
       " [0.44357648491859436, 0.5564234852790833],\n",
       " [0.005018693394958973, 0.9949812889099121],\n",
       " [8.636723214294761e-05, 0.9999135732650757],\n",
       " [0.9999847412109375, 1.5400963093270548e-05],\n",
       " [0.023671509698033333, 0.9763286709785461],\n",
       " [0.7559624910354614, 0.244037464261055],\n",
       " [0.00017027126159518957, 0.9998297095298767],\n",
       " [0.02786785177886486, 0.97213214635849],\n",
       " [0.995276153087616, 0.004724070429801941],\n",
       " [0.9755554795265198, 0.024444587528705597],\n",
       " [0.0065446640364825726, 0.9934553503990173],\n",
       " [0.5675208568572998, 0.43247905373573303],\n",
       " [0.17393435537815094, 0.8260655999183655],\n",
       " [0.9992789626121521, 0.0007210560142993927],\n",
       " [0.022548632696270943, 0.9774513244628906],\n",
       " [0.43017977476119995, 0.5698202252388],\n",
       " [0.9945266842842102, 0.005473327357321978],\n",
       " [0.9954928159713745, 0.004506996367126703],\n",
       " [0.020370420068502426, 0.9796290397644043],\n",
       " [0.029484178870916367, 0.9705158472061157],\n",
       " [0.1047615259885788, 0.8952383399009705],\n",
       " [0.05989169329404831, 0.9401083588600159],\n",
       " [6.558543645951431e-06, 0.9999933838844299],\n",
       " [0.9990315437316895, 0.000968404405284673],\n",
       " [0.9976433515548706, 0.0023567823227494955],\n",
       " [0.0012072630925104022, 0.9987927079200745],\n",
       " [0.0011918587842956185, 0.9988081455230713],\n",
       " [0.9960654973983765, 0.0039344849064946175]]"
      ]
     },
     "execution_count": 87,
     "metadata": {},
     "output_type": "execute_result"
    }
   ],
   "source": [
    "import scipy\n",
    "scipy.special.softmax(p, axis=1).tolist()"
   ]
  },
  {
   "cell_type": "code",
   "execution_count": 73,
   "metadata": {},
   "outputs": [
    {
     "data": {
      "image/png": "[encoded data removed]",
      "text/plain": [
       "<Figure size 432x288 with 1 Axes>"
      ]
     },
     "metadata": {},
     "output_type": "display_data"
    }
   ],
   "source": [
    "plt.hist(x[:, 0, bins=50);"
   ]
  },
  {
   "cell_type": "code",
   "execution_count": 74,
   "metadata": {},
   "outputs": [
    {
     "data": {
      "text/plain": [
       "(0.423736, 0.4694828)"
      ]
     },
     "execution_count": 74,
     "metadata": {},
     "output_type": "execute_result"
    }
   ],
   "source": [
    "np.mean(x), np.std(x)"
   ]
  },
  {
   "cell_type": "code",
   "execution_count": 75,
   "metadata": {},
   "outputs": [],
   "source": [
    "add_sex_age = False\n",
    "add_time = False\n",
    "\n",
    "if add_sex_age:\n",
    "    \n",
    "    df = pd.read_csv(\n",
    "        '/mlodata1/lugeon/dream_data/chuv/metadata/sex_age_encoding.txt', \n",
    "        sep=' ', \n",
    "        dtype='str')\n",
    "    \n",
    "    map = dict(zip(\n",
    "        df.id, \n",
    "        df.apply(lambda row: [int(d) for d in row.age_encoding + row.sex_encoding], \n",
    "                 axis=1)))\n",
    "    \n",
    "    missing_subject = set(subjects).difference(set(map.keys()))\n",
    "    \n",
    "    add_features = [\n",
    "        map[subjects[int(id)]] if subjects[int(id)] not in missing_subject \n",
    "        else 4*[0] \n",
    "        for id in s]\n",
    "    \n",
    "    x = np.hstack((x, add_features))\n",
    "    \n",
    "if add_time:\n",
    "    minutes_in_a_day = 60 * 24\n",
    "    et_norm = et * 2 * np.pi / minutes_in_a_day\n",
    "    x = np.hstack((x, np.cos(et_norm)[:, np.newaxis], np.sin(et_norm)[:, np.newaxis]))"
   ]
  },
  {
   "cell_type": "code",
   "execution_count": 76,
   "metadata": {},
   "outputs": [
    {
     "name": "stderr",
     "output_type": "stream",
     "text": [
      "/home/lugeon/miniconda3/envs/eeg-dream-conda/lib/python3.8/site-packages/sklearn/manifold/_t_sne.py:780: FutureWarning: The default initialization in TSNE will change from 'random' to 'pca' in 1.2.\n",
      "  warnings.warn(\n",
      "/home/lugeon/miniconda3/envs/eeg-dream-conda/lib/python3.8/site-packages/sklearn/manifold/_t_sne.py:790: FutureWarning: The default learning rate in TSNE will change from 200.0 to 'auto' in 1.2.\n",
      "  warnings.warn(\n"
     ]
    },
    {
     "data": {
      "image/png": "[encoded data removed]",
      "text/plain": [
       "<Figure size 432x432 with 1 Axes>"
      ]
     },
     "metadata": {},
     "output_type": "display_data"
    },
    {
     "data": {
      "image/png": "[encoded data removed]",
      "text/plain": [
       "<Figure size 432x432 with 1 Axes>"
      ]
     },
     "metadata": {},
     "output_type": "display_data"
    }
   ],
   "source": [
    "from sklearn.manifold import TSNE\n",
    "\n",
    "n_samples = 1_00\n",
    "sample_ix = np.random.choice(x.shape[0], n_samples, replace=False)\n",
    "sampled_x = x[sample_ix]\n",
    "sampled_y = y[sample_ix]\n",
    "sampled_s = s[sample_ix]\n",
    "#sampled_p = p[sample_ix]\n",
    "\n",
    "reducer = TSNE(n_components=2)\n",
    "projection = reducer.fit_transform(sampled_x)\n",
    "\n",
    "fig, ax = plt.subplots(figsize=(6, 6)) \n",
    "for i, sname in enumerate(subjects):\n",
    "    mask = sampled_s == i\n",
    "    subject_projection = projection[mask]\n",
    "    \n",
    "    plt.scatter(subject_projection[:, 0], subject_projection[:, 1], s=10, alpha=0.7)\n",
    "    plt.title('By subjects')\n",
    "plt.show()\n",
    "\n",
    "fig, ax = plt.subplots(figsize=(6, 6)) \n",
    "for i in [0, 1]:\n",
    "    mask = sampled_y == i\n",
    "    label_projection = projection[mask]\n",
    "    plt.scatter(label_projection[:, 0], label_projection[:, 1], s=10, alpha=0.7, label=i)\n",
    "    plt.legend()\n",
    "    plt.title('By labels')"
   ]
  },
  {
   "cell_type": "markdown",
   "metadata": {},
   "source": [
    "### Leave-one-subject-out evaluation"
   ]
  },
  {
   "cell_type": "code",
   "execution_count": 49,
   "metadata": {},
   "outputs": [],
   "source": [
    "balance_trials = False\n",
    "\n",
    "df_loso = pd.DataFrame({'fid': f, \n",
    "                        'tid': t, \n",
    "                        'sid': s, \n",
    "                        'label': y,\n",
    "                        'sleep_stage': ss,\n",
    "                        'elapsed_time': et})\n",
    "\n",
    "if balance_trials:\n",
    "    df_trials = df.groupby(['sid', 'tid']).label.first().reset_index()\n",
    "\n",
    "    mask = np.zeros(df_trials.shape[0])\n",
    "    for sid in df_trials.sid.drop_duplicates():\n",
    "        dfs = df_trials[df_trials.sid == sid]   \n",
    "        minority = dfs.label.value_counts().min()\n",
    "        tid_pos = set(dfs[dfs.label == 1].tid.sample(minority))\n",
    "        tid_neg = set(dfs[dfs.label == 0].tid.sample(minority))\n",
    "        tid_union = tid_pos.union(tid_neg)\n",
    "        \n",
    "        smask = (df_trials.sid == sid) & (df_trials.tid.apply(lambda t: t in tid_union))\n",
    "        mask = mask + smask.values.astype(int)\n",
    "        \n",
    "    selected_trials = df_trials[mask.astype(bool)][['sid', 'tid']]\n",
    "    selected_trials['select'] = True\n",
    "    df_loso = df_loso.merge(selected_trials, how='left', on=['sid', 'tid'])\n",
    "    selected_samples = df_loso.select.notna().astype(bool).tolist()\n",
    "    df_loso.dropna(inplace=True)\n",
    "    \n",
    "else:\n",
    "    selected_samples = df_loso.shape[0] * [True]"
   ]
  },
  {
   "cell_type": "code",
   "execution_count": 50,
   "metadata": {},
   "outputs": [
    {
     "name": "stderr",
     "output_type": "stream",
     "text": [
      "100%|██████████| 7/7 [00:20<00:00,  2.95s/it]\n"
     ]
    }
   ],
   "source": [
    "def compute_metrics(encodings, labels, subject_ids, subjects_name, verbose=False, n=10):\n",
    "    \n",
    "    encodings = np.array(encodings)\n",
    "    labels = np.array(labels)\n",
    "    \n",
    "    fprs, tprs, accs, snames = [], [], [], []\n",
    "    \n",
    "    scores = np.zeros(len(labels))\n",
    "    \n",
    "    if verbose:\n",
    "        pbar = tqdm(total=len(subjects_name))\n",
    "    \n",
    "    for sid, sname in enumerate(subjects_name):\n",
    "        mask = subject_ids == sid\n",
    "        mask_id = np.arange(len(labels))[mask]\n",
    "        \n",
    "        x_train = encodings[~mask]\n",
    "        y_train = labels[~mask]\n",
    "\n",
    "        x_test = encodings[mask]\n",
    "        y_test = labels[mask]\n",
    "            \n",
    "        #clf = LogisticRegression(class_weight='balanced', max_iter=10_000)\n",
    "        clf = RandomForestClassifier(class_weight='balanced', n_estimators=1000, max_depth=5, n_jobs=32)\n",
    "        clf.fit(x_train, y_train)\n",
    "        \n",
    "        y_score = clf.predict_proba(x_test)[:, 1]\n",
    "        scores[mask_id] = y_score\n",
    "        \n",
    "        y_pred = clf.predict(x_test)\n",
    "        \n",
    "        fpr, tpr, thresholds = roc_curve(y_test, y_score)\n",
    "        acc = sum(y_pred == y_test) / len(y_test)\n",
    "        \n",
    "        fprs.append(fpr)\n",
    "        tprs.append(tpr)\n",
    "        accs.append(acc)\n",
    "        snames.append(sname)\n",
    "        \n",
    "        if verbose:\n",
    "            pbar.update(1)\n",
    "        \n",
    "    return scores\n",
    "\n",
    "scores = compute_metrics(x[selected_samples], \n",
    "                         df_loso.label, \n",
    "                         df_loso.sid, \n",
    "                         subjects, \n",
    "                         verbose=True)\n",
    "\n",
    "df_loso['score'] = scores\n",
    "df_loso['pred'] = (scores >= 0.5).astype(int)\n",
    "\n",
    "balanced_acc = df_loso.groupby('sid').apply(lambda g: balanced_accuracy_score(g.label, g.pred))\n",
    "\n",
    "rates = df_loso.groupby('sid').apply(lambda g: roc_curve(g.label, g.score))\n",
    "rates = rates.apply(lambda r: [r[0].tolist(), r[1].tolist()])\n",
    "\n",
    "# mean area under the ROC curve\n",
    "aucs = [auc(fpr, tpr) for (fpr, tpr) in rates]"
   ]
  },
  {
   "cell_type": "code",
   "execution_count": 54,
   "metadata": {},
   "outputs": [
    {
     "name": "stdout",
     "output_type": "stream",
     "text": [
      "LOSO Balanced Acc: 62.68 +/- 5.37\n",
      "LOSO AUC-ROC: 65.15 +/- 8.67\n"
     ]
    }
   ],
   "source": [
    "print(f'LOSO Balanced Acc: {np.mean(balanced_acc) * 100 :.2f} +/- {np.std(balanced_acc) * 100:.2f}')\n",
    "print(f'LOSO AUC-ROC: {np.mean(aucs) * 100 :.2f} +/- {np.std(aucs) * 100:.2f}')"
   ]
  },
  {
   "cell_type": "code",
   "execution_count": 19,
   "metadata": {},
   "outputs": [
    {
     "data": {
      "image/png": "[encoded data removed]",
      "text/plain": [
       "<Figure size 576x576 with 1 Axes>"
      ]
     },
     "metadata": {},
     "output_type": "display_data"
    }
   ],
   "source": [
    "fig, ax = plt.subplots(figsize=(8, 8)) \n",
    "cmap = plt.get_cmap('tab20')\n",
    "\n",
    "i = 0\n",
    "for r, sname in zip(rates, subjects):\n",
    "    fpr, tpr = r\n",
    "    if fpr is not None:\n",
    "        ax.plot(fpr, tpr, label=sname, color=cmap(i))\n",
    "    i += 1\n",
    "    \n",
    "ax.plot([0, 1], [0, 1], label='Random', linestyle='--', color='black', zorder=0)\n",
    "\n",
    "plt.legend(bbox_to_anchor=[1.35, 1])\n",
    "\n",
    "plt.xlabel('False Positive Rate')\n",
    "plt.ylabel('True Positive Rate')\n",
    "\n",
    "ax.spines['right'].set_visible(False)\n",
    "ax.spines['top'].set_visible(False)\n",
    "\n",
    "plt.savefig('img/roc.png', bbox_inches='tight')\n",
    "\n",
    "\n",
    "plt.show()\n",
    "    "
   ]
  },
  {
   "cell_type": "code",
   "execution_count": 20,
   "metadata": {},
   "outputs": [],
   "source": [
    "trial_preds = df_loso.groupby(['sid', 'tid']).pred.apply(\n",
    "    lambda p: sum(p) / len(p)\n",
    "    ).to_frame().reset_index().rename(columns={'pred': 'majority_score'})\n",
    "\n",
    "trial_preds = trial_preds.merge(\n",
    "    df_loso[['sid', 'tid', 'label', 'elapsed_time', 'sleep_stage']].drop_duplicates(['sid', 'tid']), \n",
    "    how='left', on=['sid', 'tid'])\n",
    "\n",
    "trial_preds['majority_pred'] = (trial_preds.majority_score >= 0.5).astype(int)\n",
    "trial_preds['correct'] = trial_preds.majority_pred == trial_preds.label"
   ]
  },
  {
   "cell_type": "code",
   "execution_count": 21,
   "metadata": {},
   "outputs": [
    {
     "name": "stdout",
     "output_type": "stream",
     "text": [
      "Trial majority accuracy: 64.03 +/- 6.28\n"
     ]
    }
   ],
   "source": [
    "majority_acc = trial_preds.groupby('sid').apply(lambda g: sum(g.correct) /g.shape[0])\n",
    "print(f'Trial majority accuracy: {np.mean(majority_acc) * 100 :.2f} +/- {np.std(majority_acc) * 100:.2f}')"
   ]
  },
  {
   "cell_type": "markdown",
   "metadata": {},
   "source": [
    "### Error distribution"
   ]
  },
  {
   "cell_type": "code",
   "execution_count": 131,
   "metadata": {},
   "outputs": [
    {
     "data": {
      "text/plain": [
       "2.0    0.597403\n",
       "3.0    0.402597\n",
       "Name: sleep_stage, dtype: float64"
      ]
     },
     "execution_count": 131,
     "metadata": {},
     "output_type": "execute_result"
    }
   ],
   "source": [
    "correct_trials = trial_preds[trial_preds.correct]\n",
    "correct_ss_dist = correct_trials.sleep_stage.value_counts()\n",
    "correct_ss_dist /= correct_ss_dist.sum()\n",
    "correct_ss_dist"
   ]
  },
  {
   "cell_type": "code",
   "execution_count": 132,
   "metadata": {},
   "outputs": [
    {
     "data": {
      "text/plain": [
       "2.0    0.511278\n",
       "3.0    0.488722\n",
       "Name: sleep_stage, dtype: float64"
      ]
     },
     "execution_count": 132,
     "metadata": {},
     "output_type": "execute_result"
    }
   ],
   "source": [
    "incorrect_trials = trial_preds[~trial_preds.correct]\n",
    "incorrect_ss_dist = incorrect_trials.sleep_stage.value_counts()\n",
    "incorrect_ss_dist /= incorrect_ss_dist.sum()\n",
    "incorrect_ss_dist"
   ]
  },
  {
   "cell_type": "code",
   "execution_count": 133,
   "metadata": {},
   "outputs": [
    {
     "data": {
      "image/png": "[encoded data removed]",
      "text/plain": [
       "<Figure size 432x288 with 1 Axes>"
      ]
     },
     "metadata": {},
     "output_type": "display_data"
    }
   ],
   "source": [
    "plt.hist(correct_trials.elapsed_time, bins=8);"
   ]
  },
  {
   "cell_type": "code",
   "execution_count": 134,
   "metadata": {},
   "outputs": [
    {
     "data": {
      "image/png": "[encoded data removed]",
      "text/plain": [
       "<Figure size 432x288 with 1 Axes>"
      ]
     },
     "metadata": {},
     "output_type": "display_data"
    }
   ],
   "source": [
    "plt.hist(incorrect_trials.elapsed_time, bins=8);"
   ]
  },
  {
   "cell_type": "code",
   "execution_count": 137,
   "metadata": {},
   "outputs": [
    {
     "data": {
      "text/html": [
       "<div>\n",
       "<style scoped>\n",
       "    .dataframe tbody tr th:only-of-type {\n",
       "        vertical-align: middle;\n",
       "    }\n",
       "\n",
       "    .dataframe tbody tr th {\n",
       "        vertical-align: top;\n",
       "    }\n",
       "\n",
       "    .dataframe thead th {\n",
       "        text-align: right;\n",
       "    }\n",
       "</style>\n",
       "<table border=\"1\" class=\"dataframe\">\n",
       "  <thead>\n",
       "    <tr style=\"text-align: right;\">\n",
       "      <th></th>\n",
       "      <th>sid</th>\n",
       "      <th>tid</th>\n",
       "      <th>majority_score</th>\n",
       "      <th>label</th>\n",
       "      <th>elapsed_time</th>\n",
       "      <th>sleep_stage</th>\n",
       "      <th>majority_pred</th>\n",
       "      <th>correct</th>\n",
       "      <th>score_delta</th>\n",
       "    </tr>\n",
       "  </thead>\n",
       "  <tbody>\n",
       "    <tr>\n",
       "      <th>0</th>\n",
       "      <td>0.0</td>\n",
       "      <td>0.0</td>\n",
       "      <td>0.0</td>\n",
       "      <td>1</td>\n",
       "      <td>28.0</td>\n",
       "      <td>3.0</td>\n",
       "      <td>0</td>\n",
       "      <td>False</td>\n",
       "      <td>1.0</td>\n",
       "    </tr>\n",
       "    <tr>\n",
       "      <th>245</th>\n",
       "      <td>4.0</td>\n",
       "      <td>19.0</td>\n",
       "      <td>0.0</td>\n",
       "      <td>1</td>\n",
       "      <td>329.0</td>\n",
       "      <td>2.0</td>\n",
       "      <td>0</td>\n",
       "      <td>False</td>\n",
       "      <td>1.0</td>\n",
       "    </tr>\n",
       "    <tr>\n",
       "      <th>249</th>\n",
       "      <td>4.0</td>\n",
       "      <td>23.0</td>\n",
       "      <td>0.0</td>\n",
       "      <td>1</td>\n",
       "      <td>30.0</td>\n",
       "      <td>2.0</td>\n",
       "      <td>0</td>\n",
       "      <td>False</td>\n",
       "      <td>1.0</td>\n",
       "    </tr>\n",
       "    <tr>\n",
       "      <th>251</th>\n",
       "      <td>4.0</td>\n",
       "      <td>25.0</td>\n",
       "      <td>0.0</td>\n",
       "      <td>1</td>\n",
       "      <td>94.0</td>\n",
       "      <td>2.0</td>\n",
       "      <td>0</td>\n",
       "      <td>False</td>\n",
       "      <td>1.0</td>\n",
       "    </tr>\n",
       "    <tr>\n",
       "      <th>111</th>\n",
       "      <td>1.0</td>\n",
       "      <td>17.0</td>\n",
       "      <td>0.0</td>\n",
       "      <td>1</td>\n",
       "      <td>102.0</td>\n",
       "      <td>3.0</td>\n",
       "      <td>0</td>\n",
       "      <td>False</td>\n",
       "      <td>1.0</td>\n",
       "    </tr>\n",
       "    <tr>\n",
       "      <th>...</th>\n",
       "      <td>...</td>\n",
       "      <td>...</td>\n",
       "      <td>...</td>\n",
       "      <td>...</td>\n",
       "      <td>...</td>\n",
       "      <td>...</td>\n",
       "      <td>...</td>\n",
       "      <td>...</td>\n",
       "      <td>...</td>\n",
       "    </tr>\n",
       "    <tr>\n",
       "      <th>166</th>\n",
       "      <td>2.0</td>\n",
       "      <td>24.0</td>\n",
       "      <td>1.0</td>\n",
       "      <td>1</td>\n",
       "      <td>20.0</td>\n",
       "      <td>2.0</td>\n",
       "      <td>1</td>\n",
       "      <td>True</td>\n",
       "      <td>0.0</td>\n",
       "    </tr>\n",
       "    <tr>\n",
       "      <th>265</th>\n",
       "      <td>5.0</td>\n",
       "      <td>6.0</td>\n",
       "      <td>0.0</td>\n",
       "      <td>0</td>\n",
       "      <td>40.0</td>\n",
       "      <td>3.0</td>\n",
       "      <td>0</td>\n",
       "      <td>True</td>\n",
       "      <td>0.0</td>\n",
       "    </tr>\n",
       "    <tr>\n",
       "      <th>99</th>\n",
       "      <td>1.0</td>\n",
       "      <td>5.0</td>\n",
       "      <td>1.0</td>\n",
       "      <td>1</td>\n",
       "      <td>489.0</td>\n",
       "      <td>2.0</td>\n",
       "      <td>1</td>\n",
       "      <td>True</td>\n",
       "      <td>0.0</td>\n",
       "    </tr>\n",
       "    <tr>\n",
       "      <th>267</th>\n",
       "      <td>5.0</td>\n",
       "      <td>8.0</td>\n",
       "      <td>1.0</td>\n",
       "      <td>1</td>\n",
       "      <td>193.0</td>\n",
       "      <td>3.0</td>\n",
       "      <td>1</td>\n",
       "      <td>True</td>\n",
       "      <td>0.0</td>\n",
       "    </tr>\n",
       "    <tr>\n",
       "      <th>363</th>\n",
       "      <td>6.0</td>\n",
       "      <td>57.0</td>\n",
       "      <td>0.0</td>\n",
       "      <td>0</td>\n",
       "      <td>184.0</td>\n",
       "      <td>3.0</td>\n",
       "      <td>0</td>\n",
       "      <td>True</td>\n",
       "      <td>0.0</td>\n",
       "    </tr>\n",
       "  </tbody>\n",
       "</table>\n",
       "<p>364 rows × 9 columns</p>\n",
       "</div>"
      ],
      "text/plain": [
       "     sid   tid  majority_score  label  elapsed_time  sleep_stage  \\\n",
       "0    0.0   0.0             0.0      1          28.0          3.0   \n",
       "245  4.0  19.0             0.0      1         329.0          2.0   \n",
       "249  4.0  23.0             0.0      1          30.0          2.0   \n",
       "251  4.0  25.0             0.0      1          94.0          2.0   \n",
       "111  1.0  17.0             0.0      1         102.0          3.0   \n",
       "..   ...   ...             ...    ...           ...          ...   \n",
       "166  2.0  24.0             1.0      1          20.0          2.0   \n",
       "265  5.0   6.0             0.0      0          40.0          3.0   \n",
       "99   1.0   5.0             1.0      1         489.0          2.0   \n",
       "267  5.0   8.0             1.0      1         193.0          3.0   \n",
       "363  6.0  57.0             0.0      0         184.0          3.0   \n",
       "\n",
       "     majority_pred  correct  score_delta  \n",
       "0                0    False          1.0  \n",
       "245              0    False          1.0  \n",
       "249              0    False          1.0  \n",
       "251              0    False          1.0  \n",
       "111              0    False          1.0  \n",
       "..             ...      ...          ...  \n",
       "166              1     True          0.0  \n",
       "265              0     True          0.0  \n",
       "99               1     True          0.0  \n",
       "267              1     True          0.0  \n",
       "363              0     True          0.0  \n",
       "\n",
       "[364 rows x 9 columns]"
      ]
     },
     "execution_count": 137,
     "metadata": {},
     "output_type": "execute_result"
    }
   ],
   "source": [
    "trial_preds['score_delta'] = np.abs(trial_preds.label - trial_preds.majority_score)\n",
    "trial_preds.sort_values('score_delta', ascending=False)"
   ]
  },
  {
   "cell_type": "code",
   "execution_count": 140,
   "metadata": {},
   "outputs": [
    {
     "data": {
      "image/png": "[encoded data removed]",
      "text/plain": [
       "<Figure size 432x288 with 1 Axes>"
      ]
     },
     "metadata": {},
     "output_type": "display_data"
    }
   ],
   "source": [
    "plt.hist(trial_preds.score_delta);"
   ]
  },
  {
   "cell_type": "markdown",
   "metadata": {},
   "source": [
    "### Trial splitting"
   ]
  },
  {
   "cell_type": "code",
   "execution_count": null,
   "metadata": {},
   "outputs": [],
   "source": [
    "minority_fraction = 0.3\n",
    "run_number = 100\n",
    "\n",
    "accs = []\n",
    "accs_per_subjects = []\n",
    "tprs_test = []\n",
    "fprs_test = []\n",
    "tprs_train = []\n",
    "fprs_train = []\n",
    "\n",
    "groupby_trials = pd.DataFrame({'sid': s, 'tid': t, 'label': y}).reset_index().groupby(['sid', 'tid'])\n",
    "\n",
    "minority_count = groupby_trials.label.apply(lambda s: s.iloc[0]).value_counts().min()\n",
    "test_class_support = int(minority_fraction * minority_count)\n",
    "\n",
    "trial_label = groupby_trials.label.apply(lambda s: s.iloc[0]).values\n",
    "video_idx = groupby_trials.index.apply(list).values\n",
    "df_trials = pd.DataFrame({'label': trial_label, 'video_idx': video_idx})\n",
    "\n",
    "neg_trial_idx = df_trials[df_trials.label == 0].index.values\n",
    "pos_trial_idx = df_trials[df_trials.label == 1].index.values\n",
    "\n",
    "for i in tqdm(range(run_number), ncols=70):\n",
    "\n",
    "    neg_permutation = np.random.permutation(np.arange(len(neg_trial_idx)))\n",
    "    pos_permutation = np.random.permutation(np.arange(len(pos_trial_idx)))\n",
    "\n",
    "    neg_trial_idx_test = neg_trial_idx[neg_permutation[:test_class_support]]\n",
    "    neg_trial_idx_train = neg_trial_idx[neg_permutation[test_class_support:]]\n",
    "\n",
    "    pos_trial_idx_test = pos_trial_idx[pos_permutation[:test_class_support]]\n",
    "    pos_trial_idx_train = pos_trial_idx[pos_permutation[test_class_support:]]\n",
    "\n",
    "    trial_idx_test = np.concatenate((neg_trial_idx_test, pos_trial_idx_test))\n",
    "    trial_idx_train = np.concatenate((neg_trial_idx_train, pos_trial_idx_train))\n",
    "\n",
    "    train_indices = [i for ix in df_trials.iloc[trial_idx_train].video_idx.values for i in ix]\n",
    "    test_indices = [i for ix in df_trials.iloc[trial_idx_test].video_idx.values for i in ix]\n",
    "\n",
    "    x_train = x[train_indices]\n",
    "    y_train = y[train_indices]\n",
    "    x_test = x[test_indices]\n",
    "    y_test = y[test_indices]\n",
    "\n",
    "    class_weight = 'balanced'\n",
    "    clf = LogisticRegression(C=1, max_iter=10_000, class_weight=class_weight)\n",
    "    #clf = RandomForestClassifier(n_estimators=100, max_depth=10, class_weight=class_weight)\n",
    "\n",
    "    clf.fit(x_train, y_train)\n",
    "    y_test_pred = clf.predict(x_test)\n",
    "    y_test_score = clf.predict_proba(x_test)[:, 1]\n",
    "\n",
    "    y_train_pred = clf.predict(x_train)\n",
    "    y_train_score = clf.predict_proba(x_train)[:, 1]\n",
    "\n",
    "    fpr_test, tpr_test, _ = roc_curve(y_test, y_test_score)\n",
    "    fpr_train, tpr_train, _ = roc_curve(y_train, y_train_score)\n",
    "    acc = sum(y_test_pred == y_test) / len(y_test)\n",
    "    \n",
    "    correct_ix = y_test == y_test_pred\n",
    "    correct_count = pd.DataFrame(s[test_indices][correct_ix], dtype=int).value_counts().sort_index()\n",
    "    correct_count_ix = [i[0] for i in correct_count.index.to_numpy()]\n",
    "    \n",
    "    total_count = pd.DataFrame(s[test_indices], dtype=int).value_counts().sort_index()\n",
    "    total_count_ix = [i[0] for i in total_count.index.to_numpy()]\n",
    "    \n",
    "    total_count_mapped = np.zeros(len(subjects))\n",
    "    total_count_mapped[total_count_ix] = total_count.values\n",
    "    correct_count_mapped = np.zeros(len(subjects))\n",
    "    correct_count_mapped[correct_count_ix] = correct_count.values\n",
    "    \n",
    "    with np.errstate(divide='ignore', invalid='ignore'):\n",
    "        accs_per_subjects.append((correct_count_mapped / total_count_mapped).tolist())\n",
    "    accs.append(acc)\n",
    "    tprs_test.append(tpr_test)\n",
    "    fprs_test.append(fpr_test)\n",
    "    tprs_train.append(tpr_train)\n",
    "    fprs_train.append(fpr_train)\n",
    "    \n",
    "print(f'Accuracy: {np.mean(accs) * 100 :.2f} +/- {np.std(accs) * 100:.2f}')"
   ]
  },
  {
   "cell_type": "code",
   "execution_count": null,
   "metadata": {},
   "outputs": [],
   "source": [
    "# precision, recall, f1 score\n",
    "precision_recall_fscore_support(y_test, y_test_pred, average='binary')"
   ]
  },
  {
   "cell_type": "code",
   "execution_count": null,
   "metadata": {},
   "outputs": [],
   "source": [
    "x_interp = np.linspace(0, 1, 100)\n",
    "\n",
    "test_aucs = []\n",
    "\n",
    "tprs_test_inter = []\n",
    "for fpr, tpr in zip(fprs_test, tprs_test):\n",
    "    tprs_test_inter.append(np.interp(x_interp, fpr, tpr).tolist())\n",
    "    test_aucs.append(auc(fpr, tpr))\n",
    "    \n",
    "tprs_train_inter = []\n",
    "for fpr, tpr in zip(fprs_train, tprs_train):\n",
    "    tprs_train_inter.append(np.interp(x_interp, fpr, tpr).tolist())\n",
    "\n",
    "tpr_train_mean = np.array(tprs_train_inter).mean(axis=0)\n",
    "tpr_train_std = np.array(tprs_train_inter).std(axis=0)\n",
    "\n",
    "tpr_test_mean = np.array(tprs_test_inter).mean(axis=0)\n",
    "tpr_test_std = np.array(tprs_test_inter).std(axis=0)\n",
    "\n",
    "fig, ax = plt.subplots(figsize=(5, 5))\n",
    "\n",
    "ax.plot(x_interp, tpr_train_mean, label='Train', color=cmap(0))\n",
    "ax.fill_between(x_interp, \n",
    "                tpr_train_mean - tpr_train_std, \n",
    "                tpr_train_mean + tpr_train_std, \n",
    "                color=cmap(0), alpha=0.2)\n",
    "\n",
    "ax.plot(x_interp, tpr_test_mean, label='Validation', color=cmap(3))\n",
    "ax.fill_between(x_interp, \n",
    "                tpr_test_mean - tpr_test_std, \n",
    "                tpr_test_mean + tpr_test_std, \n",
    "                color=cmap(3), alpha=0.2)\n",
    "\n",
    "ax.plot([0, 1], [0, 1], label='Random', linestyle=':', color='grey', zorder=0)\n",
    "plt.legend()\n",
    "plt.show()"
   ]
  },
  {
   "cell_type": "code",
   "execution_count": null,
   "metadata": {},
   "outputs": [],
   "source": [
    "print(f'AUC-ROC: {np.mean(test_aucs) * 100 :.2f} +/- {np.std(test_aucs) * 100:.2f}')"
   ]
  },
  {
   "cell_type": "code",
   "execution_count": null,
   "metadata": {},
   "outputs": [],
   "source": [
    "fig, ax = plt.subplots(figsize=(12, 5)) \n",
    "\n",
    "means = np.nanmean(accs_per_subjects, axis=0)\n",
    "stds = np.nanstd(accs_per_subjects, axis=0)\n",
    "pos_fraction_per_subjets = (\n",
    "    pd.Series(s[y == 1]).value_counts().sort_index().values / \n",
    "    pd.Series(s).value_counts().sort_index()).values\n",
    "\n",
    "maj_fraction_per_subjets = np.where(pos_fraction_per_subjets > 0.5, \n",
    "                                    pos_fraction_per_subjets, \n",
    "                                    1 - pos_fraction_per_subjets)\n",
    "\n",
    "sort_ix = np.argsort(means)[::-1]\n",
    "    \n",
    "ax.bar(np.arange(len(subjects)), \n",
    "        means[sort_ix], \n",
    "        yerr=stds[sort_ix], \n",
    "        error_kw={\n",
    "            'capsize': 4,\n",
    "            'ecolor': 'black',\n",
    "            'alpha': 0.3\n",
    "        },\n",
    "        color=cmap(2),\n",
    "        alpha=0.8,\n",
    "        zorder=1,\n",
    "        label='Accuracy')\n",
    "\n",
    "ax.scatter(np.arange(len(subjects)), \n",
    "            maj_fraction_per_subjets[sort_ix], \n",
    "            marker='*',\n",
    "            s=80,\n",
    "            color=cmap(0),\n",
    "            alpha=0.6,\n",
    "            zorder=2, \n",
    "            label='Majority class rate')\n",
    "\n",
    "ax.plot([0 - .5, len(subjects) - .5], [.5, .5], color='black', alpha=0.5, ls='--', label='Random', zorder=3)\n",
    "\n",
    "ax.set_xticks(np.arange(len(subjects)))\n",
    "ax.set_xticklabels(np.array(subjects)[sort_ix], rotation=45, ha='right')\n",
    "\n",
    "ax.spines['right'].set_visible(False)\n",
    "ax.spines['top'].set_visible(False) \n",
    "\n",
    "ax.set_xlim([0 - .8, len(subjects) - 1 + .8])\n",
    "\n",
    "handles, labels = plt.gca().get_legend_handles_labels()\n",
    "handles_order = [2, 0, 1]\n",
    "\n",
    "ax.legend([handles[idx] for idx in handles_order],\n",
    "          [labels[idx] for idx in handles_order],\n",
    "          frameon=False, ncol=3, loc='lower center', bbox_to_anchor=(0.45, -0.4))\n",
    "\n",
    "plt.savefig('acc_per_sub.png', bbox_inches='tight')\n",
    "plt.plot();"
   ]
  },
  {
   "cell_type": "markdown",
   "metadata": {},
   "source": [
    "### Evaluation within subjects"
   ]
  },
  {
   "cell_type": "code",
   "execution_count": null,
   "metadata": {},
   "outputs": [],
   "source": [
    "clf = LogisticRegression(class_weight='balanced', max_iter=10_000)\n",
    "\n",
    "s_accs = []\n",
    "s_accs_label = []\n",
    "for i, sname in enumerate(subjects):\n",
    "    smask = s == i\n",
    "    xs = x[smask]\n",
    "    ys = y[smask]\n",
    "    ts = t[smask]\n",
    "    trials = pd.Series(ts).drop_duplicates().tolist()\n",
    "    \n",
    "    t_accs = []\n",
    "    t_accs_label = []\n",
    "    for trial in trials:\n",
    "        tmask = ts == trial\n",
    "        x_test = xs[tmask]\n",
    "        y_test = ys[tmask]\n",
    "        x_train = xs[~tmask]\n",
    "        y_train = ys[~tmask]\n",
    "        \n",
    "        if (sum(y_train) == len(y_train)) or (sum(1 - y_train) == len(y_train)):\n",
    "            continue\n",
    "\n",
    "        clf.fit(x_train, y_train)\n",
    "        y_pred = clf.predict(x_test)\n",
    "        acc = sum(y_test == y_pred) / len(y_test)\n",
    "        t_accs.append(acc)\n",
    "        t_accs_label.append(y_test[0])\n",
    "        \n",
    "    s_accs.append(t_accs)\n",
    "    s_accs_label.append(t_accs_label)"
   ]
  },
  {
   "cell_type": "code",
   "execution_count": null,
   "metadata": {},
   "outputs": [],
   "source": [
    "fig, ax = plt.subplots(figsize=(14, 7)) \n",
    "    \n",
    "legend_ne = False\n",
    "legend_de = False\n",
    "legend_mean = False\n",
    "\n",
    "i = 0\n",
    "for t_accs, t_accs_label in zip(s_accs, s_accs_label):\n",
    "    for j, acc, t_acc_label in zip(np.arange(len(t_accs)), t_accs, t_accs_label):\n",
    "        \n",
    "        rx = (np.random.random() - 0.5) / 3 \n",
    "        ry = (np.random.random() - 0.5) / 3 / 10\n",
    "        if (t_acc_label == 0) and not legend_ne: label = 'NE Trial accuracy'; legend_ne = True\n",
    "        elif (t_acc_label == 1) and not legend_de: label = 'DE Trial accuracy'; legend_de = True\n",
    "        else: label = None\n",
    "        if t_acc_label == 0: color = cmap(4)\n",
    "        else: color = cmap(0)\n",
    "        plt.scatter(i + rx, acc+ry, color = color, marker='o', alpha=0.2, s=40, label=label)\n",
    "        \n",
    "    if len(t_accs) > 0:\n",
    "        if (not legend_mean) and i > 5: label = 'Mean accuracy'; legend_mean = True\n",
    "        else: label = None\n",
    "        ax.scatter(i, np.mean(t_accs), color = 'black', marker='x', alpha=0.7, s=120, label=label)\n",
    "    ax.plot([i, i], [-0.05, 1], color='grey', alpha=0.1, zorder=0)\n",
    "        \n",
    "    i += 1\n",
    "\n",
    "ax.plot([0 - .5, len(subjects) - .5], [.5, .5], color='black', alpha=0.5, ls='--', label='Random', zorder=0)\n",
    "\n",
    "ax.set_xticks(np.arange(len(subjects)))\n",
    "ax.set_xticklabels(subjects, rotation=45, ha='right')\n",
    "\n",
    "ax.set_ylim([-0.05, 1.05])\n",
    "ax.set_xlim([0 - .8, len(subjects) - 1 + .8])\n",
    "\n",
    "plt.legend(bbox_to_anchor=[1, .58], frameon=False)\n",
    "\n",
    "ax.spines['right'].set_visible(False)\n",
    "ax.spines['top'].set_visible(False) \n",
    "\n",
    "plt.savefig('img/within_subject_pred.pdf', bbox_inches='tight')\n",
    "\n",
    "plt.plot();"
   ]
  },
  {
   "cell_type": "code",
   "execution_count": null,
   "metadata": {},
   "outputs": [],
   "source": [
    "min_fid = np.min(f)\n",
    "max_fid = np.max(f)"
   ]
  },
  {
   "cell_type": "code",
   "execution_count": null,
   "metadata": {},
   "outputs": [],
   "source": [
    "(df.groupby(['sid', 'tid']).fid.max() == max_fid).all()"
   ]
  },
  {
   "cell_type": "code",
   "execution_count": null,
   "metadata": {},
   "outputs": [],
   "source": [
    "(df.groupby(['sid', 'tid']).fid.min() == min_fid).all()"
   ]
  },
  {
   "cell_type": "code",
   "execution_count": null,
   "metadata": {},
   "outputs": [],
   "source": [
    "step = 5\n",
    "width = int( (max_fid - min_fid) / step)\n",
    "acc_per_video_length = np.zeros(width)\n",
    "\n",
    "pbar = tqdm(ncols=70, total = width)\n",
    "for blim in range(0, width):\n",
    "    mask = f >= min_fid + blim * step\n",
    "    _, _, accs, _ = compute_metrics(x[mask], y[mask], s[mask], subjects)\n",
    "    acc_per_video_length[blim] = np.mean(accs)\n",
    "    pbar.update(1)"
   ]
  },
  {
   "cell_type": "code",
   "execution_count": null,
   "metadata": {},
   "outputs": [],
   "source": [
    "fig, ax = plt.subplots(figsize=(6, 6)) \n",
    "plt.plot(np.arange(len(acc_per_video_length)), acc_per_video_length)\n",
    "\n",
    "slide = 0.5 \n",
    "start = -120\n",
    "ticks = np.arange(width)\n",
    "labels = ticks * step * slide + start\n",
    "\n",
    "ax.set_xticks(ticks)\n",
    "ax.set_xticklabels(labels)\n",
    "\n",
    "plt.show()"
   ]
  },
  {
   "cell_type": "code",
   "execution_count": null,
   "metadata": {},
   "outputs": [],
   "source": [
    "labels"
   ]
  },
  {
   "cell_type": "code",
   "execution_count": null,
   "metadata": {},
   "outputs": [],
   "source": [
    "step = 25\n",
    "width = int( (max_fid - min_fid) / step)\n",
    "acc_per_video_length = np.zeros((width, width))\n",
    "\n",
    "pbar = tqdm(ncols=70, total = width ** 2 / 2)\n",
    "\n",
    "for blim in range(0, width):\n",
    "    for tlim in range(0, width):\n",
    "        if blim <= tlim:\n",
    "            mask = (f >= blim * step) & (f < (tlim + 1) * step)\n",
    "            \n",
    "            _, _, accs, _ = compute_metrics(x[mask], y[mask], s[mask], subjects)\n",
    "            acc_per_video_length[tlim, blim] = np.mean(accs)\n",
    "            pbar.update(1)"
   ]
  },
  {
   "cell_type": "code",
   "execution_count": null,
   "metadata": {},
   "outputs": [],
   "source": [
    "fig, ax = plt.subplots(figsize=(6, 6)) \n",
    "\n",
    "plt.imshow(acc_per_video_length, cmap='Blues', vmin=0.5)\n",
    "plt.colorbar()\n",
    "\n",
    "ticks = np.arange(width)\n",
    "labels = ticks * step\n",
    "ax.set_xticks(ticks)\n",
    "ax.set_xticklabels(labels)\n",
    "ax.set_yticks(ticks)\n",
    "ax.set_yticklabels(labels)\n",
    "\n",
    "plt.xlabel('Bottom limit')\n",
    "plt.ylabel('Top limit')\n",
    "plt.gca().invert_yaxis()\n",
    "\n",
    "fig.show()"
   ]
  },
  {
   "cell_type": "code",
   "execution_count": null,
   "metadata": {},
   "outputs": [],
   "source": []
  }
 ],
 "metadata": {
  "interpreter": {
   "hash": "57ad056f9be674611c76ca607e64a7703485de37232689043f87b90b104ba991"
  },
  "kernelspec": {
   "display_name": "Python 3 (ipykernel)",
   "language": "python",
   "name": "python3"
  },
  "language_info": {
   "codemirror_mode": {
    "name": "ipython",
    "version": 3
   },
   "file_extension": ".py",
   "mimetype": "text/x-python",
   "name": "python",
   "nbconvert_exporter": "python",
   "pygments_lexer": "ipython3",
   "version": "3.8.13"
  },
  "orig_nbformat": 4
 },
 "nbformat": 4,
 "nbformat_minor": 2
}
