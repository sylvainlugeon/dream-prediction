{
 "cells": [
  {
   "cell_type": "code",
   "execution_count": 1,
   "metadata": {},
   "outputs": [
    {
     "name": "stderr",
     "output_type": "stream",
     "text": [
      "/mlodata1/lugeon/miniconda3/envs/eeg-dream-conda/lib/python3.8/site-packages/tqdm/auto.py:22: TqdmWarning: IProgress not found. Please update jupyter and ipywidgets. See https://ipywidgets.readthedocs.io/en/stable/user_install.html\n",
      "  from .autonotebook import tqdm as notebook_tqdm\n"
     ]
    }
   ],
   "source": [
    "import pandas as pd\n",
    "import numpy as np\n",
    "import glob\n",
    "import matplotlib.pyplot as plt\n",
    "import matplotlib\n",
    "\n",
    "import seaborn as sns\n",
    "import sys\n",
    "import scipy.io as sio\n",
    "import h5py\n",
    "\n",
    "\n",
    "sys.path.append('/mlodata1/lugeon/eeg_project/scripts')\n",
    "from training.dataset import datasets\n",
    "\n",
    "sns.set_context(\"paper\")\n",
    "sns.set(font_scale = 1.6)\n",
    "sns.set_style(\"white\", {\n",
    "    \"font.family\": \"sans-serif\",\n",
    "    \"font.serif\": ['Helvetica'],\n",
    "    \"font.scale\": 2\n",
    "})\n",
    "sns.set_style(\"ticks\", {\"xtick.major.size\": 4,\n",
    "                        \"ytick.major.size\": 4})"
   ]
  },
  {
   "cell_type": "code",
   "execution_count": 52,
   "metadata": {},
   "outputs": [
    {
     "data": {
      "image/png": "[encoded data removed]",
      "text/plain": [
       "<Figure size 432x288 with 1 Axes>"
      ]
     },
     "metadata": {},
     "output_type": "display_data"
    }
   ],
   "source": [
    "from matplotlib import colors\n",
    "palette = ['#264653', '#2A9D8F','#E9C46A', '#F4A261', '#E76F51']\n",
    "cmap = colors.ListedColormap(palette)\n",
    "\n",
    "plt.imshow(np.arange(len(palette)).reshape(1, -1), aspect='auto', cmap=cmap,origin=\"lower\")\n",
    "plt.show()"
   ]
  },
  {
   "cell_type": "code",
   "execution_count": 2,
   "metadata": {},
   "outputs": [
    {
     "data": {
      "text/plain": [
       "['M001', 'M002', 'M003', 'M004', 'M005', 'M006', 'M007']"
      ]
     },
     "execution_count": 2,
     "metadata": {},
     "output_type": "execute_result"
    }
   ],
   "source": [
    "hdf5_file = '/mlodata1/lugeon/dream_data/processed/madison_nrem_binary/dataset_256e.h5'\n",
    "\n",
    "with h5py.File(hdf5_file, 'r') as f:\n",
    "    subjects = [s.decode('utf-8') for s in f['subject_name'][:]]\n",
    "    subject_id = f['subject_id'][:]\n",
    "    trial_id = f['trial_id'][:]\n",
    "    sleep_stage = f['sleep_stage'][:]\n",
    "    labels = f['labels'][:]\n",
    "    \n",
    "subjects"
   ]
  },
  {
   "cell_type": "code",
   "execution_count": 3,
   "metadata": {},
   "outputs": [
    {
     "data": {
      "text/html": [
       "<div>\n",
       "<style scoped>\n",
       "    .dataframe tbody tr th:only-of-type {\n",
       "        vertical-align: middle;\n",
       "    }\n",
       "\n",
       "    .dataframe tbody tr th {\n",
       "        vertical-align: top;\n",
       "    }\n",
       "\n",
       "    .dataframe thead th {\n",
       "        text-align: right;\n",
       "    }\n",
       "</style>\n",
       "<table border=\"1\" class=\"dataframe\">\n",
       "  <thead>\n",
       "    <tr style=\"text-align: right;\">\n",
       "      <th></th>\n",
       "      <th>sid</th>\n",
       "      <th>tid</th>\n",
       "      <th>ss</th>\n",
       "      <th>label</th>\n",
       "    </tr>\n",
       "  </thead>\n",
       "  <tbody>\n",
       "    <tr>\n",
       "      <th>0</th>\n",
       "      <td>0.0</td>\n",
       "      <td>0.0</td>\n",
       "      <td>3.0</td>\n",
       "      <td>1.0</td>\n",
       "    </tr>\n",
       "    <tr>\n",
       "      <th>1</th>\n",
       "      <td>0.0</td>\n",
       "      <td>0.0</td>\n",
       "      <td>3.0</td>\n",
       "      <td>1.0</td>\n",
       "    </tr>\n",
       "    <tr>\n",
       "      <th>2</th>\n",
       "      <td>0.0</td>\n",
       "      <td>0.0</td>\n",
       "      <td>3.0</td>\n",
       "      <td>1.0</td>\n",
       "    </tr>\n",
       "    <tr>\n",
       "      <th>3</th>\n",
       "      <td>0.0</td>\n",
       "      <td>0.0</td>\n",
       "      <td>3.0</td>\n",
       "      <td>1.0</td>\n",
       "    </tr>\n",
       "    <tr>\n",
       "      <th>4</th>\n",
       "      <td>0.0</td>\n",
       "      <td>0.0</td>\n",
       "      <td>3.0</td>\n",
       "      <td>1.0</td>\n",
       "    </tr>\n",
       "    <tr>\n",
       "      <th>...</th>\n",
       "      <td>...</td>\n",
       "      <td>...</td>\n",
       "      <td>...</td>\n",
       "      <td>...</td>\n",
       "    </tr>\n",
       "    <tr>\n",
       "      <th>13463</th>\n",
       "      <td>6.0</td>\n",
       "      <td>57.0</td>\n",
       "      <td>3.0</td>\n",
       "      <td>0.0</td>\n",
       "    </tr>\n",
       "    <tr>\n",
       "      <th>13464</th>\n",
       "      <td>6.0</td>\n",
       "      <td>57.0</td>\n",
       "      <td>3.0</td>\n",
       "      <td>0.0</td>\n",
       "    </tr>\n",
       "    <tr>\n",
       "      <th>13465</th>\n",
       "      <td>6.0</td>\n",
       "      <td>57.0</td>\n",
       "      <td>3.0</td>\n",
       "      <td>0.0</td>\n",
       "    </tr>\n",
       "    <tr>\n",
       "      <th>13466</th>\n",
       "      <td>6.0</td>\n",
       "      <td>57.0</td>\n",
       "      <td>3.0</td>\n",
       "      <td>0.0</td>\n",
       "    </tr>\n",
       "    <tr>\n",
       "      <th>13467</th>\n",
       "      <td>6.0</td>\n",
       "      <td>57.0</td>\n",
       "      <td>3.0</td>\n",
       "      <td>0.0</td>\n",
       "    </tr>\n",
       "  </tbody>\n",
       "</table>\n",
       "<p>13468 rows × 4 columns</p>\n",
       "</div>"
      ],
      "text/plain": [
       "       sid   tid   ss  label\n",
       "0      0.0   0.0  3.0    1.0\n",
       "1      0.0   0.0  3.0    1.0\n",
       "2      0.0   0.0  3.0    1.0\n",
       "3      0.0   0.0  3.0    1.0\n",
       "4      0.0   0.0  3.0    1.0\n",
       "...    ...   ...  ...    ...\n",
       "13463  6.0  57.0  3.0    0.0\n",
       "13464  6.0  57.0  3.0    0.0\n",
       "13465  6.0  57.0  3.0    0.0\n",
       "13466  6.0  57.0  3.0    0.0\n",
       "13467  6.0  57.0  3.0    0.0\n",
       "\n",
       "[13468 rows x 4 columns]"
      ]
     },
     "execution_count": 3,
     "metadata": {},
     "output_type": "execute_result"
    }
   ],
   "source": [
    "df = pd.DataFrame({'sid': subject_id, 'tid': trial_id, 'ss': sleep_stage, 'label': labels})\n",
    "df"
   ]
  },
  {
   "cell_type": "code",
   "execution_count": 14,
   "metadata": {},
   "outputs": [],
   "source": [
    "pos_rate = df.groupby(['sid', 'tid']).label.first().groupby('sid').mean().sort_values()"
   ]
  },
  {
   "cell_type": "code",
   "execution_count": 22,
   "metadata": {},
   "outputs": [],
   "source": [
    "precisions = np.array([83.33, 62.18, 69.57, 89.19, 89.73, 43.88, 14.73])\n",
    "recalls = np.array([50.93, 67.36, 36.78, 52.38, 80.86, 44.79, 78.57])"
   ]
  },
  {
   "cell_type": "code",
   "execution_count": 33,
   "metadata": {},
   "outputs": [],
   "source": [
    "pos_rate_argsort = pos_rate.index.values.astype(int)"
   ]
  },
  {
   "cell_type": "code",
   "execution_count": 105,
   "metadata": {},
   "outputs": [
    {
     "data": {
      "image/png": "[encoded data removed]",
      "text/plain": [
       "<Figure size 720x360 with 1 Axes>"
      ]
     },
     "metadata": {},
     "output_type": "display_data"
    }
   ],
   "source": [
    "width = 0.25\n",
    "x = np.arange(len(subjects))\n",
    "labels = np.array(subjects)[pos_rate_argsort]\n",
    "#labels = [f'{m}\\n({100*p:.0f}%)' for m, p in zip(labels, pos_rate.values)]\n",
    "\n",
    "\n",
    "fig, ax = plt.subplots(figsize=(10, 5))\n",
    "\n",
    "ax.bar(x - width/2, precisions[pos_rate_argsort], width, color=cmap(0), alpha=0.8, label='Precision')\n",
    "ax.bar(x + width/2, recalls[pos_rate_argsort], width, color=cmap(1), alpha=0.8, label='Recall')\n",
    "\n",
    "ax.plot(x, pos_rate * 100, '*--', c=cmap(3), label='Positive rate', ms=10)\n",
    "\n",
    "ax.set_xticks(x)\n",
    "ax.set_xticklabels(labels)\n",
    "\n",
    "ax.spines['right'].set_visible(False)\n",
    "ax.spines['top'].set_visible(False) \n",
    "\n",
    "ax.set_ylim([0, 100])\n",
    "\n",
    "for tick in ax.get_yticks():\n",
    "    ax.axhline(y=tick, color='black', lw=1, zorder=0, alpha=0.1)\n",
    "    \n",
    "ax.legend(frameon=False, ncol=3, loc='upper center', bbox_to_anchor=(0.5, 1.08))\n",
    "\n",
    "plt.savefig('img/posrate_vs_precision_recall.pdf', bbox_inches='tight')\n",
    "\n",
    "plt.show()"
   ]
  },
  {
   "cell_type": "code",
   "execution_count": 103,
   "metadata": {},
   "outputs": [
    {
     "data": {
      "text/plain": [
       "sid\n",
       "6.0    0.120690\n",
       "5.0    0.340426\n",
       "1.0    0.500000\n",
       "3.0    0.552632\n",
       "2.0    0.630435\n",
       "0.0    0.765957\n",
       "4.0    0.818182\n",
       "Name: label, dtype: float32"
      ]
     },
     "execution_count": 103,
     "metadata": {},
     "output_type": "execute_result"
    }
   ],
   "source": [
    "pos_rate"
   ]
  }
 ],
 "metadata": {
  "kernelspec": {
   "display_name": "Python 3.8.13 64-bit ('eeg-dream-conda')",
   "language": "python",
   "name": "python3"
  },
  "language_info": {
   "codemirror_mode": {
    "name": "ipython",
    "version": 3
   },
   "file_extension": ".py",
   "mimetype": "text/x-python",
   "name": "python",
   "nbconvert_exporter": "python",
   "pygments_lexer": "ipython3",
   "version": "3.8.13"
  },
  "orig_nbformat": 4,
  "vscode": {
   "interpreter": {
    "hash": "e0c3161eab2e75dfcb96e4a863b884d85431a87580826b5743bc70e49f36ae89"
   }
  }
 },
 "nbformat": 4,
 "nbformat_minor": 2
}
