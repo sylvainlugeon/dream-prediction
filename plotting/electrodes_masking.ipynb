{
 "cells": [
  {
   "cell_type": "code",
   "execution_count": 3,
   "metadata": {},
   "outputs": [
    {
     "name": "stderr",
     "output_type": "stream",
     "text": [
      "/mlodata1/lugeon/miniconda3/envs/eeg-dream-conda/lib/python3.8/site-packages/tqdm/auto.py:22: TqdmWarning: IProgress not found. Please update jupyter and ipywidgets. See https://ipywidgets.readthedocs.io/en/stable/user_install.html\n",
      "  from .autonotebook import tqdm as notebook_tqdm\n"
     ]
    }
   ],
   "source": [
    "import pandas as pd\n",
    "import numpy as np\n",
    "import glob\n",
    "import matplotlib.pyplot as plt\n",
    "import matplotlib\n",
    "\n",
    "import seaborn as sns\n",
    "import sys\n",
    "import scipy.io as sio\n",
    "import h5py\n",
    "\n",
    "\n",
    "sys.path.append('/mlodata1/lugeon/eeg_dream/scripts')\n",
    "from training.dataset import datasets\n",
    "\n",
    "sns.set_context(\"paper\")\n",
    "sns.set(font_scale = 1.6)\n",
    "sns.set_style(\"white\", {\n",
    "    \"font.family\": \"sans-serif\",\n",
    "    \"font.serif\": ['Helvetica'],\n",
    "    \"font.scale\": 2\n",
    "})\n",
    "sns.set_style(\"ticks\", {\"xtick.major.size\": 4,\n",
    "                        \"ytick.major.size\": 4})"
   ]
  },
  {
   "cell_type": "code",
   "execution_count": 9,
   "metadata": {},
   "outputs": [],
   "source": [
    "def get_sample(hdf5_file, batch_ix, sample_ix):\n",
    "\n",
    "    dataset = datasets.EEG_Image_Batch_Dataset(hdf5_file, \n",
    "                                               window=10, \n",
    "                                               slide=5, \n",
    "                                               batch_size=128, \n",
    "                                               shuffle=False, \n",
    "                                               return_metadata=False,\n",
    "                                               exclude_subject=[],\n",
    "                                               output_type='none')\n",
    "\n",
    "    batch = dataset.__getitem__(batch_ix)[0]\n",
    "    sample = batch[9, :]\n",
    "    \n",
    "    return sample"
   ]
  },
  {
   "cell_type": "code",
   "execution_count": 25,
   "metadata": {},
   "outputs": [],
   "source": [
    "n_electrodes = [256, 133, 87, 36, 14, 2]\n",
    "\n",
    "sample_ix = 9\n",
    "batch_ix = 0\n",
    "\n",
    "samples = []\n",
    "for e in n_electrodes:\n",
    "    hdf5_file = f'/mlodata1/lugeon/dream_data/processed/madison_nrem_binary/dataset_{e}e.h5'\n",
    "    samples.append(get_sample(hdf5_file, batch_ix, sample_ix))"
   ]
  },
  {
   "cell_type": "code",
   "execution_count": 26,
   "metadata": {},
   "outputs": [
    {
     "data": {
      "text/plain": [
       "(10, 5, 32, 32)"
      ]
     },
     "execution_count": 26,
     "metadata": {},
     "output_type": "execute_result"
    }
   ],
   "source": [
    "samples[0].shape"
   ]
  },
  {
   "cell_type": "code",
   "execution_count": 43,
   "metadata": {},
   "outputs": [
    {
     "data": {
      "image/png": "[encoded data removed]",
      "text/plain": [
       "<Figure size 1152x216 with 6 Axes>"
      ]
     },
     "metadata": {},
     "output_type": "display_data"
    }
   ],
   "source": [
    "channel = 4\n",
    "time = 5\n",
    "\n",
    "fig, axes = plt.subplots(1, 6, figsize=(16, 3))\n",
    "\n",
    "for i, sample in enumerate(samples):\n",
    "    axes[i].imshow(sample[time, channel, :, :],  cmap='RdBu', vmin=-2, vmax=2)\n",
    "    axes[i].set_xticks([])\n",
    "    axes[i].set_yticks([])\n",
    "    axes[i].set_xlabel(n_electrodes[i])\n",
    "    \n",
    "fig.suptitle('Number of electrodes')\n",
    "        \n",
    "plt.savefig('img/masked_electrodes_signal.pdf', bbox_inches='tight')\n",
    "plt.show()"
   ]
  },
  {
   "cell_type": "code",
   "execution_count": null,
   "metadata": {},
   "outputs": [],
   "source": []
  }
 ],
 "metadata": {
  "kernelspec": {
   "display_name": "Python 3.8.13 64-bit ('eeg-dream-conda')",
   "language": "python",
   "name": "python3"
  },
  "language_info": {
   "codemirror_mode": {
    "name": "ipython",
    "version": 3
   },
   "file_extension": ".py",
   "mimetype": "text/x-python",
   "name": "python",
   "nbconvert_exporter": "python",
   "pygments_lexer": "ipython3",
   "version": "3.8.13"
  },
  "orig_nbformat": 4,
  "vscode": {
   "interpreter": {
    "hash": "e0c3161eab2e75dfcb96e4a863b884d85431a87580826b5743bc70e49f36ae89"
   }
  }
 },
 "nbformat": 4,
 "nbformat_minor": 2
}
